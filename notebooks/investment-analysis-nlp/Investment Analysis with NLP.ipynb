{
 "cells": [
  {
   "cell_type": "code",
   "execution_count": 1,
   "metadata": {
    "pycharm": {
     "name": "#%%\n"
    }
   },
   "outputs": [],
   "source": [
    "import pandas as pd\n",
    "import matplotlib.pyplot as plt\n",
    "import seaborn as sns\n",
    "sns.set()\n",
    "import os\n",
    "import numpy as np\n",
    "from scipy import stats\n",
    "import numpy as np\n",
    "import nltk\n",
    "from nltk.corpus import stopwords\n",
    "from nltk.corpus import opinion_lexicon # Positive and negative sentiment lexicon"
   ]
  },
  {
   "cell_type": "markdown",
   "metadata": {
    "pycharm": {
     "name": "#%% md\n"
    }
   },
   "source": [
    "# Hypothesis\n",
    "### H0: Returns of companies with stronger net positive tone are statistically equal to the returns of companies with weaker net positive tone\n",
    "### H1: Returns of companies with stronger net positive tone are statistically greater than the returns of companies with weaker net positive tone"
   ]
  },
  {
   "cell_type": "markdown",
   "metadata": {},
   "source": [
    "## Data preprocessing"
   ]
  },
  {
   "cell_type": "code",
   "execution_count": 2,
   "metadata": {
    "pycharm": {
     "name": "#%%\n"
    }
   },
   "outputs": [
    {
     "data": {
      "text/plain": [
       "(320661, 3)"
      ]
     },
     "execution_count": 2,
     "metadata": {},
     "output_type": "execute_result"
    }
   ],
   "source": [
    "df_stocks = pd.read_csv('data/investment_analysis_nlp/stock_prices.csv')\n",
    "df_stocks.shape"
   ]
  },
  {
   "cell_type": "code",
   "execution_count": 3,
   "metadata": {
    "pycharm": {
     "name": "#%%\n"
    }
   },
   "outputs": [
    {
     "data": {
      "text/html": [
       "<div>\n",
       "<style scoped>\n",
       "    .dataframe tbody tr th:only-of-type {\n",
       "        vertical-align: middle;\n",
       "    }\n",
       "\n",
       "    .dataframe tbody tr th {\n",
       "        vertical-align: top;\n",
       "    }\n",
       "\n",
       "    .dataframe thead th {\n",
       "        text-align: right;\n",
       "    }\n",
       "</style>\n",
       "<table border=\"1\" class=\"dataframe\">\n",
       "  <thead>\n",
       "    <tr style=\"text-align: right;\">\n",
       "      <th></th>\n",
       "      <th>ticker</th>\n",
       "      <th>date</th>\n",
       "      <th>price</th>\n",
       "    </tr>\n",
       "  </thead>\n",
       "  <tbody>\n",
       "    <tr>\n",
       "      <th>0</th>\n",
       "      <td>CNP</td>\n",
       "      <td>2005-01-03</td>\n",
       "      <td>8.4000</td>\n",
       "    </tr>\n",
       "    <tr>\n",
       "      <th>1</th>\n",
       "      <td>CNP</td>\n",
       "      <td>2005-01-04</td>\n",
       "      <td>8.3168</td>\n",
       "    </tr>\n",
       "    <tr>\n",
       "      <th>2</th>\n",
       "      <td>CNP</td>\n",
       "      <td>2005-01-05</td>\n",
       "      <td>8.1662</td>\n",
       "    </tr>\n",
       "    <tr>\n",
       "      <th>3</th>\n",
       "      <td>CNP</td>\n",
       "      <td>2005-01-06</td>\n",
       "      <td>8.1730</td>\n",
       "    </tr>\n",
       "    <tr>\n",
       "      <th>4</th>\n",
       "      <td>CNP</td>\n",
       "      <td>2005-01-07</td>\n",
       "      <td>8.1277</td>\n",
       "    </tr>\n",
       "  </tbody>\n",
       "</table>\n",
       "</div>"
      ],
      "text/plain": [
       "  ticker        date   price\n",
       "0    CNP  2005-01-03  8.4000\n",
       "1    CNP  2005-01-04  8.3168\n",
       "2    CNP  2005-01-05  8.1662\n",
       "3    CNP  2005-01-06  8.1730\n",
       "4    CNP  2005-01-07  8.1277"
      ]
     },
     "execution_count": 3,
     "metadata": {},
     "output_type": "execute_result"
    }
   ],
   "source": [
    "df_stocks.head()"
   ]
  },
  {
   "cell_type": "code",
   "execution_count": 4,
   "metadata": {
    "pycharm": {
     "name": "#%%\n"
    }
   },
   "outputs": [
    {
     "data": {
      "text/html": [
       "<div>\n",
       "<style scoped>\n",
       "    .dataframe tbody tr th:only-of-type {\n",
       "        vertical-align: middle;\n",
       "    }\n",
       "\n",
       "    .dataframe tbody tr th {\n",
       "        vertical-align: top;\n",
       "    }\n",
       "\n",
       "    .dataframe thead th {\n",
       "        text-align: right;\n",
       "    }\n",
       "</style>\n",
       "<table border=\"1\" class=\"dataframe\">\n",
       "  <thead>\n",
       "    <tr style=\"text-align: right;\">\n",
       "      <th></th>\n",
       "      <th>ticker</th>\n",
       "      <th>date</th>\n",
       "      <th>price</th>\n",
       "    </tr>\n",
       "  </thead>\n",
       "  <tbody>\n",
       "    <tr>\n",
       "      <th>320656</th>\n",
       "      <td>HPQ</td>\n",
       "      <td>2017-11-06</td>\n",
       "      <td>21.44</td>\n",
       "    </tr>\n",
       "    <tr>\n",
       "      <th>320657</th>\n",
       "      <td>HPQ</td>\n",
       "      <td>2017-11-07</td>\n",
       "      <td>21.38</td>\n",
       "    </tr>\n",
       "    <tr>\n",
       "      <th>320658</th>\n",
       "      <td>HPQ</td>\n",
       "      <td>2017-11-08</td>\n",
       "      <td>21.42</td>\n",
       "    </tr>\n",
       "    <tr>\n",
       "      <th>320659</th>\n",
       "      <td>HPQ</td>\n",
       "      <td>2017-11-09</td>\n",
       "      <td>21.34</td>\n",
       "    </tr>\n",
       "    <tr>\n",
       "      <th>320660</th>\n",
       "      <td>HPQ</td>\n",
       "      <td>2017-11-10</td>\n",
       "      <td>21.23</td>\n",
       "    </tr>\n",
       "  </tbody>\n",
       "</table>\n",
       "</div>"
      ],
      "text/plain": [
       "       ticker        date  price\n",
       "320656    HPQ  2017-11-06  21.44\n",
       "320657    HPQ  2017-11-07  21.38\n",
       "320658    HPQ  2017-11-08  21.42\n",
       "320659    HPQ  2017-11-09  21.34\n",
       "320660    HPQ  2017-11-10  21.23"
      ]
     },
     "execution_count": 4,
     "metadata": {},
     "output_type": "execute_result"
    }
   ],
   "source": [
    "df_stocks.tail()"
   ]
  },
  {
   "cell_type": "code",
   "execution_count": 5,
   "metadata": {
    "pycharm": {
     "name": "#%%\n"
    }
   },
   "outputs": [
    {
     "data": {
      "text/plain": [
       "99"
      ]
     },
     "execution_count": 5,
     "metadata": {},
     "output_type": "execute_result"
    }
   ],
   "source": [
    "df_stocks['ticker'].nunique()"
   ]
  },
  {
   "cell_type": "code",
   "execution_count": 6,
   "metadata": {
    "pycharm": {
     "name": "#%%\n"
    }
   },
   "outputs": [
    {
     "data": {
      "text/plain": [
       "Timestamp('2005-01-03 00:00:00')"
      ]
     },
     "execution_count": 6,
     "metadata": {},
     "output_type": "execute_result"
    }
   ],
   "source": [
    "# Clean the date format from string to Timestamp\n",
    "type(df_stocks['date'][0])\n",
    "df_stocks['date'] = pd.to_datetime(df_stocks['date'], format='%Y-%m-%d')\n",
    "df_stocks['date'][0]"
   ]
  },
  {
   "cell_type": "code",
   "execution_count": 7,
   "metadata": {
    "pycharm": {
     "name": "#%%\n"
    }
   },
   "outputs": [
    {
     "data": {
      "text/plain": [
       "count                  320661\n",
       "unique                   3239\n",
       "top       2009-05-29 00:00:00\n",
       "freq                       99\n",
       "first     2005-01-03 00:00:00\n",
       "last      2017-11-10 00:00:00\n",
       "Name: date, dtype: object"
      ]
     },
     "execution_count": 7,
     "metadata": {},
     "output_type": "execute_result"
    }
   ],
   "source": [
    "df_stocks['date'].describe()"
   ]
  },
  {
   "cell_type": "code",
   "execution_count": 8,
   "metadata": {
    "pycharm": {
     "name": "#%%\n"
    }
   },
   "outputs": [],
   "source": [
    "df_stocks['returns'] = df_stocks.groupby('ticker')['price'].pct_change(1)"
   ]
  },
  {
   "cell_type": "code",
   "execution_count": 9,
   "metadata": {
    "pycharm": {
     "name": "#%%\n"
    }
   },
   "outputs": [
    {
     "data": {
      "text/plain": [
       "320661"
      ]
     },
     "execution_count": 9,
     "metadata": {},
     "output_type": "execute_result"
    }
   ],
   "source": [
    "df_stocks['returns'].isna().count()"
   ]
  },
  {
   "cell_type": "code",
   "execution_count": 10,
   "metadata": {},
   "outputs": [],
   "source": [
    "df_stocks.dropna(subset=['returns'], inplace=True)"
   ]
  },
  {
   "cell_type": "code",
   "execution_count": 11,
   "metadata": {},
   "outputs": [
    {
     "data": {
      "text/plain": [
       "302596"
      ]
     },
     "execution_count": 11,
     "metadata": {},
     "output_type": "execute_result"
    }
   ],
   "source": [
    "df_stocks['returns'].isna().count()"
   ]
  },
  {
   "cell_type": "code",
   "execution_count": 12,
   "metadata": {},
   "outputs": [
    {
     "data": {
      "text/html": [
       "<div>\n",
       "<style scoped>\n",
       "    .dataframe tbody tr th:only-of-type {\n",
       "        vertical-align: middle;\n",
       "    }\n",
       "\n",
       "    .dataframe tbody tr th {\n",
       "        vertical-align: top;\n",
       "    }\n",
       "\n",
       "    .dataframe thead th {\n",
       "        text-align: right;\n",
       "    }\n",
       "</style>\n",
       "<table border=\"1\" class=\"dataframe\">\n",
       "  <thead>\n",
       "    <tr style=\"text-align: right;\">\n",
       "      <th></th>\n",
       "      <th>ticker</th>\n",
       "      <th>date</th>\n",
       "      <th>price</th>\n",
       "      <th>returns</th>\n",
       "    </tr>\n",
       "  </thead>\n",
       "  <tbody>\n",
       "    <tr>\n",
       "      <th>1</th>\n",
       "      <td>CNP</td>\n",
       "      <td>2005-01-04</td>\n",
       "      <td>8.3168</td>\n",
       "      <td>-0.009905</td>\n",
       "    </tr>\n",
       "    <tr>\n",
       "      <th>2</th>\n",
       "      <td>CNP</td>\n",
       "      <td>2005-01-05</td>\n",
       "      <td>8.1662</td>\n",
       "      <td>-0.018108</td>\n",
       "    </tr>\n",
       "    <tr>\n",
       "      <th>3</th>\n",
       "      <td>CNP</td>\n",
       "      <td>2005-01-06</td>\n",
       "      <td>8.1730</td>\n",
       "      <td>0.000833</td>\n",
       "    </tr>\n",
       "    <tr>\n",
       "      <th>4</th>\n",
       "      <td>CNP</td>\n",
       "      <td>2005-01-07</td>\n",
       "      <td>8.1277</td>\n",
       "      <td>-0.005543</td>\n",
       "    </tr>\n",
       "    <tr>\n",
       "      <th>5</th>\n",
       "      <td>CNP</td>\n",
       "      <td>2005-01-10</td>\n",
       "      <td>8.1277</td>\n",
       "      <td>0.000000</td>\n",
       "    </tr>\n",
       "  </tbody>\n",
       "</table>\n",
       "</div>"
      ],
      "text/plain": [
       "  ticker       date   price   returns\n",
       "1    CNP 2005-01-04  8.3168 -0.009905\n",
       "2    CNP 2005-01-05  8.1662 -0.018108\n",
       "3    CNP 2005-01-06  8.1730  0.000833\n",
       "4    CNP 2005-01-07  8.1277 -0.005543\n",
       "5    CNP 2005-01-10  8.1277  0.000000"
      ]
     },
     "execution_count": 12,
     "metadata": {},
     "output_type": "execute_result"
    }
   ],
   "source": [
    "df_stocks.head()"
   ]
  },
  {
   "cell_type": "code",
   "execution_count": 13,
   "metadata": {
    "pycharm": {
     "name": "#%%\n"
    }
   },
   "outputs": [
    {
     "data": {
      "text/html": [
       "<div>\n",
       "<style scoped>\n",
       "    .dataframe tbody tr th:only-of-type {\n",
       "        vertical-align: middle;\n",
       "    }\n",
       "\n",
       "    .dataframe tbody tr th {\n",
       "        vertical-align: top;\n",
       "    }\n",
       "\n",
       "    .dataframe thead th {\n",
       "        text-align: right;\n",
       "    }\n",
       "</style>\n",
       "<table border=\"1\" class=\"dataframe\">\n",
       "  <thead>\n",
       "    <tr style=\"text-align: right;\">\n",
       "      <th></th>\n",
       "      <th>count</th>\n",
       "      <th>mean</th>\n",
       "      <th>std</th>\n",
       "      <th>min</th>\n",
       "      <th>25%</th>\n",
       "      <th>50%</th>\n",
       "      <th>75%</th>\n",
       "      <th>max</th>\n",
       "    </tr>\n",
       "    <tr>\n",
       "      <th>ticker</th>\n",
       "      <th></th>\n",
       "      <th></th>\n",
       "      <th></th>\n",
       "      <th></th>\n",
       "      <th></th>\n",
       "      <th></th>\n",
       "      <th></th>\n",
       "      <th></th>\n",
       "    </tr>\n",
       "  </thead>\n",
       "  <tbody>\n",
       "    <tr>\n",
       "      <th>A</th>\n",
       "      <td>3238.0</td>\n",
       "      <td>0.000636</td>\n",
       "      <td>0.019859</td>\n",
       "      <td>-0.110166</td>\n",
       "      <td>-0.008437</td>\n",
       "      <td>0.000763</td>\n",
       "      <td>0.010311</td>\n",
       "      <td>0.148435</td>\n",
       "    </tr>\n",
       "    <tr>\n",
       "      <th>ADBE</th>\n",
       "      <td>3238.0</td>\n",
       "      <td>0.000763</td>\n",
       "      <td>0.020776</td>\n",
       "      <td>-0.190346</td>\n",
       "      <td>-0.008654</td>\n",
       "      <td>0.000676</td>\n",
       "      <td>0.010372</td>\n",
       "      <td>0.143581</td>\n",
       "    </tr>\n",
       "    <tr>\n",
       "      <th>AES</th>\n",
       "      <td>3238.0</td>\n",
       "      <td>0.000228</td>\n",
       "      <td>0.023373</td>\n",
       "      <td>-0.157206</td>\n",
       "      <td>-0.010418</td>\n",
       "      <td>0.000477</td>\n",
       "      <td>0.010958</td>\n",
       "      <td>0.282877</td>\n",
       "    </tr>\n",
       "    <tr>\n",
       "      <th>AKAM</th>\n",
       "      <td>3201.0</td>\n",
       "      <td>0.000918</td>\n",
       "      <td>0.029074</td>\n",
       "      <td>-0.253120</td>\n",
       "      <td>-0.011140</td>\n",
       "      <td>0.000463</td>\n",
       "      <td>0.013407</td>\n",
       "      <td>0.240354</td>\n",
       "    </tr>\n",
       "    <tr>\n",
       "      <th>ALK</th>\n",
       "      <td>3201.0</td>\n",
       "      <td>0.001077</td>\n",
       "      <td>0.028163</td>\n",
       "      <td>-0.185932</td>\n",
       "      <td>-0.012498</td>\n",
       "      <td>0.000849</td>\n",
       "      <td>0.014608</td>\n",
       "      <td>0.312808</td>\n",
       "    </tr>\n",
       "    <tr>\n",
       "      <th>...</th>\n",
       "      <td>...</td>\n",
       "      <td>...</td>\n",
       "      <td>...</td>\n",
       "      <td>...</td>\n",
       "      <td>...</td>\n",
       "      <td>...</td>\n",
       "      <td>...</td>\n",
       "      <td>...</td>\n",
       "    </tr>\n",
       "    <tr>\n",
       "      <th>VIAB</th>\n",
       "      <td>1494.0</td>\n",
       "      <td>-0.000082</td>\n",
       "      <td>0.018713</td>\n",
       "      <td>-0.214829</td>\n",
       "      <td>-0.008356</td>\n",
       "      <td>0.000521</td>\n",
       "      <td>0.009426</td>\n",
       "      <td>0.138521</td>\n",
       "    </tr>\n",
       "    <tr>\n",
       "      <th>VZ</th>\n",
       "      <td>3238.0</td>\n",
       "      <td>0.000215</td>\n",
       "      <td>0.013150</td>\n",
       "      <td>-0.080788</td>\n",
       "      <td>-0.006447</td>\n",
       "      <td>0.000290</td>\n",
       "      <td>0.006883</td>\n",
       "      <td>0.146435</td>\n",
       "    </tr>\n",
       "    <tr>\n",
       "      <th>WCG</th>\n",
       "      <td>3201.0</td>\n",
       "      <td>0.001231</td>\n",
       "      <td>0.033712</td>\n",
       "      <td>-0.629504</td>\n",
       "      <td>-0.011004</td>\n",
       "      <td>0.001294</td>\n",
       "      <td>0.014254</td>\n",
       "      <td>0.240164</td>\n",
       "    </tr>\n",
       "    <tr>\n",
       "      <th>WFC</th>\n",
       "      <td>3238.0</td>\n",
       "      <td>0.000588</td>\n",
       "      <td>0.027199</td>\n",
       "      <td>-0.238233</td>\n",
       "      <td>-0.008001</td>\n",
       "      <td>0.000000</td>\n",
       "      <td>0.008076</td>\n",
       "      <td>0.327508</td>\n",
       "    </tr>\n",
       "    <tr>\n",
       "      <th>ZTS</th>\n",
       "      <td>1204.0</td>\n",
       "      <td>0.000800</td>\n",
       "      <td>0.014358</td>\n",
       "      <td>-0.122060</td>\n",
       "      <td>-0.006467</td>\n",
       "      <td>0.000442</td>\n",
       "      <td>0.007434</td>\n",
       "      <td>0.114041</td>\n",
       "    </tr>\n",
       "  </tbody>\n",
       "</table>\n",
       "<p>99 rows × 8 columns</p>\n",
       "</div>"
      ],
      "text/plain": [
       "         count      mean       std       min       25%       50%       75%  \\\n",
       "ticker                                                                       \n",
       "A       3238.0  0.000636  0.019859 -0.110166 -0.008437  0.000763  0.010311   \n",
       "ADBE    3238.0  0.000763  0.020776 -0.190346 -0.008654  0.000676  0.010372   \n",
       "AES     3238.0  0.000228  0.023373 -0.157206 -0.010418  0.000477  0.010958   \n",
       "AKAM    3201.0  0.000918  0.029074 -0.253120 -0.011140  0.000463  0.013407   \n",
       "ALK     3201.0  0.001077  0.028163 -0.185932 -0.012498  0.000849  0.014608   \n",
       "...        ...       ...       ...       ...       ...       ...       ...   \n",
       "VIAB    1494.0 -0.000082  0.018713 -0.214829 -0.008356  0.000521  0.009426   \n",
       "VZ      3238.0  0.000215  0.013150 -0.080788 -0.006447  0.000290  0.006883   \n",
       "WCG     3201.0  0.001231  0.033712 -0.629504 -0.011004  0.001294  0.014254   \n",
       "WFC     3238.0  0.000588  0.027199 -0.238233 -0.008001  0.000000  0.008076   \n",
       "ZTS     1204.0  0.000800  0.014358 -0.122060 -0.006467  0.000442  0.007434   \n",
       "\n",
       "             max  \n",
       "ticker            \n",
       "A       0.148435  \n",
       "ADBE    0.143581  \n",
       "AES     0.282877  \n",
       "AKAM    0.240354  \n",
       "ALK     0.312808  \n",
       "...          ...  \n",
       "VIAB    0.138521  \n",
       "VZ      0.146435  \n",
       "WCG     0.240164  \n",
       "WFC     0.327508  \n",
       "ZTS     0.114041  \n",
       "\n",
       "[99 rows x 8 columns]"
      ]
     },
     "execution_count": 13,
     "metadata": {},
     "output_type": "execute_result"
    }
   ],
   "source": [
    "df_stocks.groupby('ticker')['returns'].describe()"
   ]
  },
  {
   "cell_type": "code",
   "execution_count": 14,
   "metadata": {
    "pycharm": {
     "name": "#%%\n"
    }
   },
   "outputs": [
    {
     "data": {
      "text/plain": [
       "99.3053865224251"
      ]
     },
     "execution_count": 14,
     "metadata": {},
     "output_type": "execute_result"
    }
   ],
   "source": [
    "#Chech for outliers\n",
    "df_stocks.groupby('ticker')['returns'].max().max()"
   ]
  },
  {
   "cell_type": "code",
   "execution_count": 15,
   "metadata": {
    "pycharm": {
     "name": "#%%\n"
    }
   },
   "outputs": [
    {
     "data": {
      "text/plain": [
       "<matplotlib.axes._subplots.AxesSubplot at 0x7fa83e3c7f50>"
      ]
     },
     "execution_count": 15,
     "metadata": {},
     "output_type": "execute_result"
    },
    {
     "data": {
      "image/png": "[encoded data removed]",
      "text/plain": [
       "<Figure size 864x576 with 1 Axes>"
      ]
     },
     "metadata": {},
     "output_type": "display_data"
    }
   ],
   "source": [
    "# Returns of induvidual stocks are random\n",
    "df_stocks[df_stocks['ticker'] == 'CNP']['returns'].plot(figsize=(12,8))\n"
   ]
  },
  {
   "cell_type": "code",
   "execution_count": 16,
   "metadata": {
    "pycharm": {
     "name": "#%%\n"
    }
   },
   "outputs": [
    {
     "data": {
      "text/plain": [
       "<matplotlib.axes._subplots.AxesSubplot at 0x7fa8388092d0>"
      ]
     },
     "execution_count": 16,
     "metadata": {},
     "output_type": "execute_result"
    },
    {
     "data": {
      "image/png": "[encoded data removed]",
      "text/plain": [
       "<Figure size 864x576 with 1 Axes>"
      ]
     },
     "metadata": {},
     "output_type": "display_data"
    }
   ],
   "source": [
    "df_stocks[df_stocks['ticker'] == 'AKAM']['returns'].plot(figsize=(12,8))"
   ]
  },
  {
   "cell_type": "markdown",
   "metadata": {},
   "source": [
    "## MDA"
   ]
  },
  {
   "cell_type": "code",
   "execution_count": 17,
   "metadata": {
    "pycharm": {
     "name": "#%%\n"
    }
   },
   "outputs": [],
   "source": [
    "# Management and discussion and analysis\n",
    "MDA_FILES = os.listdir('data/investment_analysis_nlp/mda/')\n",
    "df_mda = pd.DataFrame(data=MDA_FILES)\n",
    "df_mda.columns=['file_name']"
   ]
  },
  {
   "cell_type": "code",
   "execution_count": 18,
   "metadata": {
    "pycharm": {
     "name": "#%%\n"
    }
   },
   "outputs": [
    {
     "data": {
      "text/html": [
       "<div>\n",
       "<style scoped>\n",
       "    .dataframe tbody tr th:only-of-type {\n",
       "        vertical-align: middle;\n",
       "    }\n",
       "\n",
       "    .dataframe tbody tr th {\n",
       "        vertical-align: top;\n",
       "    }\n",
       "\n",
       "    .dataframe thead th {\n",
       "        text-align: right;\n",
       "    }\n",
       "</style>\n",
       "<table border=\"1\" class=\"dataframe\">\n",
       "  <thead>\n",
       "    <tr style=\"text-align: right;\">\n",
       "      <th></th>\n",
       "      <th>file_name</th>\n",
       "      <th>cik</th>\n",
       "      <th>filing_date</th>\n",
       "    </tr>\n",
       "  </thead>\n",
       "  <tbody>\n",
       "    <tr>\n",
       "      <th>0</th>\n",
       "      <td>858877_MDA_2010-09-21.txt</td>\n",
       "      <td>858877</td>\n",
       "      <td>2010-09-21</td>\n",
       "    </tr>\n",
       "    <tr>\n",
       "      <th>1</th>\n",
       "      <td>1037540_MDA_2017-02-28.txt</td>\n",
       "      <td>1037540</td>\n",
       "      <td>2017-02-28</td>\n",
       "    </tr>\n",
       "    <tr>\n",
       "      <th>2</th>\n",
       "      <td>26172_MDA_2007-02-27.txt</td>\n",
       "      <td>26172</td>\n",
       "      <td>2007-02-27</td>\n",
       "    </tr>\n",
       "    <tr>\n",
       "      <th>3</th>\n",
       "      <td>87347_MDA_2015-01-29.txt</td>\n",
       "      <td>87347</td>\n",
       "      <td>2015-01-29</td>\n",
       "    </tr>\n",
       "    <tr>\n",
       "      <th>4</th>\n",
       "      <td>1087423_MDA_2009-04-29.txt</td>\n",
       "      <td>1087423</td>\n",
       "      <td>2009-04-29</td>\n",
       "    </tr>\n",
       "  </tbody>\n",
       "</table>\n",
       "</div>"
      ],
      "text/plain": [
       "                    file_name      cik filing_date\n",
       "0   858877_MDA_2010-09-21.txt   858877  2010-09-21\n",
       "1  1037540_MDA_2017-02-28.txt  1037540  2017-02-28\n",
       "2    26172_MDA_2007-02-27.txt    26172  2007-02-27\n",
       "3    87347_MDA_2015-01-29.txt    87347  2015-01-29\n",
       "4  1087423_MDA_2009-04-29.txt  1087423  2009-04-29"
      ]
     },
     "execution_count": 18,
     "metadata": {},
     "output_type": "execute_result"
    }
   ],
   "source": [
    "#Extract cik, date\n",
    "df_mda['cik'] = df_mda['file_name'].apply(lambda x: x.split('_')[0])\n",
    "df_mda['filing_date'] = df_mda['file_name'].apply(lambda x: x.split('_')[2].split('.')[0])\n",
    "df_mda['filing_date'] = pd.to_datetime(df_mda['filing_date'], format='%Y-%m-%d')\n",
    "df_mda['cik'] = pd.to_numeric(df_mda['cik'])\n",
    "df_mda.head()"
   ]
  },
  {
   "cell_type": "code",
   "execution_count": 19,
   "metadata": {
    "pycharm": {
     "name": "#%%\n"
    }
   },
   "outputs": [
    {
     "data": {
      "text/html": [
       "<div>\n",
       "<style scoped>\n",
       "    .dataframe tbody tr th:only-of-type {\n",
       "        vertical-align: middle;\n",
       "    }\n",
       "\n",
       "    .dataframe tbody tr th {\n",
       "        vertical-align: top;\n",
       "    }\n",
       "\n",
       "    .dataframe thead th {\n",
       "        text-align: right;\n",
       "    }\n",
       "</style>\n",
       "<table border=\"1\" class=\"dataframe\">\n",
       "  <thead>\n",
       "    <tr style=\"text-align: right;\">\n",
       "      <th></th>\n",
       "      <th>cik</th>\n",
       "    </tr>\n",
       "  </thead>\n",
       "  <tbody>\n",
       "    <tr>\n",
       "      <th>count</th>\n",
       "      <td>1.364000e+03</td>\n",
       "    </tr>\n",
       "    <tr>\n",
       "      <th>mean</th>\n",
       "      <td>6.445568e+05</td>\n",
       "    </tr>\n",
       "    <tr>\n",
       "      <th>std</th>\n",
       "      <td>5.086819e+05</td>\n",
       "    </tr>\n",
       "    <tr>\n",
       "      <th>min</th>\n",
       "      <td>2.969000e+03</td>\n",
       "    </tr>\n",
       "    <tr>\n",
       "      <th>25%</th>\n",
       "      <td>6.949900e+04</td>\n",
       "    </tr>\n",
       "    <tr>\n",
       "      <th>50%</th>\n",
       "      <td>7.963430e+05</td>\n",
       "    </tr>\n",
       "    <tr>\n",
       "      <th>75%</th>\n",
       "      <td>1.047862e+06</td>\n",
       "    </tr>\n",
       "    <tr>\n",
       "      <th>max</th>\n",
       "      <td>1.681459e+06</td>\n",
       "    </tr>\n",
       "  </tbody>\n",
       "</table>\n",
       "</div>"
      ],
      "text/plain": [
       "                cik\n",
       "count  1.364000e+03\n",
       "mean   6.445568e+05\n",
       "std    5.086819e+05\n",
       "min    2.969000e+03\n",
       "25%    6.949900e+04\n",
       "50%    7.963430e+05\n",
       "75%    1.047862e+06\n",
       "max    1.681459e+06"
      ]
     },
     "execution_count": 19,
     "metadata": {},
     "output_type": "execute_result"
    }
   ],
   "source": [
    "df_mda.describe()"
   ]
  },
  {
   "cell_type": "code",
   "execution_count": 20,
   "metadata": {
    "pycharm": {
     "name": "#%%\n"
    }
   },
   "outputs": [
    {
     "data": {
      "text/plain": [
       "<matplotlib.axes._subplots.AxesSubplot at 0x7fa8387a69d0>"
      ]
     },
     "execution_count": 20,
     "metadata": {},
     "output_type": "execute_result"
    },
    {
     "data": {
      "image/png": "[encoded data removed]",
      "text/plain": [
       "<Figure size 864x576 with 1 Axes>"
      ]
     },
     "metadata": {},
     "output_type": "display_data"
    }
   ],
   "source": [
    "df_mda.groupby(df_mda['filing_date'].dt.year)['file_name'].count().plot(kind='bar', figsize=(12,8))"
   ]
  },
  {
   "cell_type": "code",
   "execution_count": 21,
   "metadata": {
    "pycharm": {
     "name": "#%%\n"
    }
   },
   "outputs": [
    {
     "data": {
      "text/plain": [
       "count    99.000000\n",
       "mean     13.777778\n",
       "std       2.659429\n",
       "min       2.000000\n",
       "25%      14.000000\n",
       "50%      15.000000\n",
       "75%      15.000000\n",
       "max      16.000000\n",
       "Name: file_name, dtype: float64"
      ]
     },
     "execution_count": 21,
     "metadata": {},
     "output_type": "execute_result"
    }
   ],
   "source": [
    "df_mda.groupby('cik')['file_name'].count().describe()"
   ]
  },
  {
   "cell_type": "code",
   "execution_count": 22,
   "metadata": {
    "pycharm": {
     "name": "#%%\n"
    }
   },
   "outputs": [
    {
     "data": {
      "text/html": [
       "<div>\n",
       "<style scoped>\n",
       "    .dataframe tbody tr th:only-of-type {\n",
       "        vertical-align: middle;\n",
       "    }\n",
       "\n",
       "    .dataframe tbody tr th {\n",
       "        vertical-align: top;\n",
       "    }\n",
       "\n",
       "    .dataframe thead th {\n",
       "        text-align: right;\n",
       "    }\n",
       "</style>\n",
       "<table border=\"1\" class=\"dataframe\">\n",
       "  <thead>\n",
       "    <tr style=\"text-align: right;\">\n",
       "      <th>filing_date</th>\n",
       "      <th>2005</th>\n",
       "      <th>2006</th>\n",
       "      <th>2007</th>\n",
       "      <th>2008</th>\n",
       "      <th>2009</th>\n",
       "      <th>2010</th>\n",
       "      <th>2011</th>\n",
       "      <th>2012</th>\n",
       "      <th>2013</th>\n",
       "      <th>2014</th>\n",
       "      <th>2015</th>\n",
       "      <th>2016</th>\n",
       "      <th>2017</th>\n",
       "      <th>2018</th>\n",
       "      <th>2019</th>\n",
       "    </tr>\n",
       "  </thead>\n",
       "  <tbody>\n",
       "    <tr>\n",
       "      <th>count</th>\n",
       "      <td>80.000000</td>\n",
       "      <td>84.000000</td>\n",
       "      <td>87.0</td>\n",
       "      <td>88.0</td>\n",
       "      <td>90.000000</td>\n",
       "      <td>92.0</td>\n",
       "      <td>92.0</td>\n",
       "      <td>94.0</td>\n",
       "      <td>96.0</td>\n",
       "      <td>96.0</td>\n",
       "      <td>95.0</td>\n",
       "      <td>95.0</td>\n",
       "      <td>94.0</td>\n",
       "      <td>94.0</td>\n",
       "      <td>82.0</td>\n",
       "    </tr>\n",
       "    <tr>\n",
       "      <th>mean</th>\n",
       "      <td>1.012500</td>\n",
       "      <td>1.035714</td>\n",
       "      <td>1.0</td>\n",
       "      <td>1.0</td>\n",
       "      <td>1.011111</td>\n",
       "      <td>1.0</td>\n",
       "      <td>1.0</td>\n",
       "      <td>1.0</td>\n",
       "      <td>1.0</td>\n",
       "      <td>1.0</td>\n",
       "      <td>1.0</td>\n",
       "      <td>1.0</td>\n",
       "      <td>1.0</td>\n",
       "      <td>1.0</td>\n",
       "      <td>1.0</td>\n",
       "    </tr>\n",
       "    <tr>\n",
       "      <th>std</th>\n",
       "      <td>0.111803</td>\n",
       "      <td>0.186691</td>\n",
       "      <td>0.0</td>\n",
       "      <td>0.0</td>\n",
       "      <td>0.105409</td>\n",
       "      <td>0.0</td>\n",
       "      <td>0.0</td>\n",
       "      <td>0.0</td>\n",
       "      <td>0.0</td>\n",
       "      <td>0.0</td>\n",
       "      <td>0.0</td>\n",
       "      <td>0.0</td>\n",
       "      <td>0.0</td>\n",
       "      <td>0.0</td>\n",
       "      <td>0.0</td>\n",
       "    </tr>\n",
       "    <tr>\n",
       "      <th>min</th>\n",
       "      <td>1.000000</td>\n",
       "      <td>1.000000</td>\n",
       "      <td>1.0</td>\n",
       "      <td>1.0</td>\n",
       "      <td>1.000000</td>\n",
       "      <td>1.0</td>\n",
       "      <td>1.0</td>\n",
       "      <td>1.0</td>\n",
       "      <td>1.0</td>\n",
       "      <td>1.0</td>\n",
       "      <td>1.0</td>\n",
       "      <td>1.0</td>\n",
       "      <td>1.0</td>\n",
       "      <td>1.0</td>\n",
       "      <td>1.0</td>\n",
       "    </tr>\n",
       "    <tr>\n",
       "      <th>25%</th>\n",
       "      <td>1.000000</td>\n",
       "      <td>1.000000</td>\n",
       "      <td>1.0</td>\n",
       "      <td>1.0</td>\n",
       "      <td>1.000000</td>\n",
       "      <td>1.0</td>\n",
       "      <td>1.0</td>\n",
       "      <td>1.0</td>\n",
       "      <td>1.0</td>\n",
       "      <td>1.0</td>\n",
       "      <td>1.0</td>\n",
       "      <td>1.0</td>\n",
       "      <td>1.0</td>\n",
       "      <td>1.0</td>\n",
       "      <td>1.0</td>\n",
       "    </tr>\n",
       "    <tr>\n",
       "      <th>50%</th>\n",
       "      <td>1.000000</td>\n",
       "      <td>1.000000</td>\n",
       "      <td>1.0</td>\n",
       "      <td>1.0</td>\n",
       "      <td>1.000000</td>\n",
       "      <td>1.0</td>\n",
       "      <td>1.0</td>\n",
       "      <td>1.0</td>\n",
       "      <td>1.0</td>\n",
       "      <td>1.0</td>\n",
       "      <td>1.0</td>\n",
       "      <td>1.0</td>\n",
       "      <td>1.0</td>\n",
       "      <td>1.0</td>\n",
       "      <td>1.0</td>\n",
       "    </tr>\n",
       "    <tr>\n",
       "      <th>75%</th>\n",
       "      <td>1.000000</td>\n",
       "      <td>1.000000</td>\n",
       "      <td>1.0</td>\n",
       "      <td>1.0</td>\n",
       "      <td>1.000000</td>\n",
       "      <td>1.0</td>\n",
       "      <td>1.0</td>\n",
       "      <td>1.0</td>\n",
       "      <td>1.0</td>\n",
       "      <td>1.0</td>\n",
       "      <td>1.0</td>\n",
       "      <td>1.0</td>\n",
       "      <td>1.0</td>\n",
       "      <td>1.0</td>\n",
       "      <td>1.0</td>\n",
       "    </tr>\n",
       "    <tr>\n",
       "      <th>max</th>\n",
       "      <td>2.000000</td>\n",
       "      <td>2.000000</td>\n",
       "      <td>1.0</td>\n",
       "      <td>1.0</td>\n",
       "      <td>2.000000</td>\n",
       "      <td>1.0</td>\n",
       "      <td>1.0</td>\n",
       "      <td>1.0</td>\n",
       "      <td>1.0</td>\n",
       "      <td>1.0</td>\n",
       "      <td>1.0</td>\n",
       "      <td>1.0</td>\n",
       "      <td>1.0</td>\n",
       "      <td>1.0</td>\n",
       "      <td>1.0</td>\n",
       "    </tr>\n",
       "  </tbody>\n",
       "</table>\n",
       "</div>"
      ],
      "text/plain": [
       "filing_date       2005       2006  2007  2008       2009  2010  2011  2012  \\\n",
       "count        80.000000  84.000000  87.0  88.0  90.000000  92.0  92.0  94.0   \n",
       "mean          1.012500   1.035714   1.0   1.0   1.011111   1.0   1.0   1.0   \n",
       "std           0.111803   0.186691   0.0   0.0   0.105409   0.0   0.0   0.0   \n",
       "min           1.000000   1.000000   1.0   1.0   1.000000   1.0   1.0   1.0   \n",
       "25%           1.000000   1.000000   1.0   1.0   1.000000   1.0   1.0   1.0   \n",
       "50%           1.000000   1.000000   1.0   1.0   1.000000   1.0   1.0   1.0   \n",
       "75%           1.000000   1.000000   1.0   1.0   1.000000   1.0   1.0   1.0   \n",
       "max           2.000000   2.000000   1.0   1.0   2.000000   1.0   1.0   1.0   \n",
       "\n",
       "filing_date  2013  2014  2015  2016  2017  2018  2019  \n",
       "count        96.0  96.0  95.0  95.0  94.0  94.0  82.0  \n",
       "mean          1.0   1.0   1.0   1.0   1.0   1.0   1.0  \n",
       "std           0.0   0.0   0.0   0.0   0.0   0.0   0.0  \n",
       "min           1.0   1.0   1.0   1.0   1.0   1.0   1.0  \n",
       "25%           1.0   1.0   1.0   1.0   1.0   1.0   1.0  \n",
       "50%           1.0   1.0   1.0   1.0   1.0   1.0   1.0  \n",
       "75%           1.0   1.0   1.0   1.0   1.0   1.0   1.0  \n",
       "max           1.0   1.0   1.0   1.0   1.0   1.0   1.0  "
      ]
     },
     "execution_count": 22,
     "metadata": {},
     "output_type": "execute_result"
    }
   ],
   "source": [
    "df_mda.groupby(['cik',df_mda['filing_date'].dt.year])['file_name'].count().unstack().describe()"
   ]
  },
  {
   "cell_type": "markdown",
   "metadata": {},
   "source": [
    "# Cleaning the MDA text data"
   ]
  },
  {
   "cell_type": "code",
   "execution_count": 23,
   "metadata": {
    "pycharm": {
     "name": "#%%\n"
    }
   },
   "outputs": [],
   "source": [
    "def clean_my_text(path):\n",
    "    with open(path) as file:\n",
    "        mda_text = file.read()\n",
    "        \n",
    "    words = mda_text.split()\n",
    "    \n",
    "    cleaned_words = [word.lower() for word in words if word.isalpha()]\n",
    "    \n",
    "    stopwords_nltk = set(stopwords.words(\"english\"))\n",
    "    stopwords_custom = {\"management\", \"firm\", \"business\", \"company\",\"property\"}\n",
    "    \n",
    "    stopwords_combined = stopwords_nltk.union(stopwords_custom)\n",
    "    \n",
    "    cleaned_words = [word for word in cleaned_words if word not in stopwords_combined]\n",
    "        \n",
    "    return cleaned_words"
   ]
  },
  {
   "cell_type": "markdown",
   "metadata": {
    "pycharm": {
     "name": "#%%\n"
    }
   },
   "source": [
    "# Estimating sentiment for all files that have more than 100 words\n"
   ]
  },
  {
   "cell_type": "code",
   "execution_count": 24,
   "metadata": {},
   "outputs": [],
   "source": [
    "positive_lexicon = set(opinion_lexicon.positive())\n",
    "negative_lexicon = set(opinion_lexicon.negative())"
   ]
  },
  {
   "cell_type": "code",
   "execution_count": 25,
   "metadata": {},
   "outputs": [],
   "source": [
    "sentiment_scores = {}\n",
    "for file in MDA_FILES:\n",
    "    \n",
    "    cleaned_words = clean_my_text(f'data/investment_analysis_nlp/mda/{file}')\n",
    "    positive_sentiment = 0\n",
    "    negative_sentiment = 0\n",
    "    \n",
    "    if len(cleaned_words) >= 100:\n",
    "        for word in cleaned_words:\n",
    "            if word in positive_lexicon:\n",
    "                positive_sentiment += 1\n",
    "            elif word in negative_lexicon:\n",
    "                negative_sentiment += 1\n",
    "\n",
    "        phi_pos = positive_sentiment / len(cleaned_words)\n",
    "        phi_neg = negative_sentiment / len(cleaned_words)\n",
    "        phi_npt = (phi_pos - phi_neg) / (phi_pos + phi_neg)\n",
    "\n",
    "\n",
    "        sentiment_scores[file] = [phi_pos, phi_neg, phi_npt, len(cleaned_words)]\n",
    "    else:\n",
    "        pass"
   ]
  },
  {
   "cell_type": "code",
   "execution_count": 26,
   "metadata": {},
   "outputs": [],
   "source": [
    "df_scores = pd.DataFrame(sentiment_scores).T\n",
    "df_scores.reset_index(inplace=True)\n",
    "df_scores.columns=['file_name', 'phi_pos', 'phi_neg', 'phi_npt', 'num of cleaned words']"
   ]
  },
  {
   "cell_type": "code",
   "execution_count": 27,
   "metadata": {},
   "outputs": [
    {
     "data": {
      "text/html": [
       "<div>\n",
       "<style scoped>\n",
       "    .dataframe tbody tr th:only-of-type {\n",
       "        vertical-align: middle;\n",
       "    }\n",
       "\n",
       "    .dataframe tbody tr th {\n",
       "        vertical-align: top;\n",
       "    }\n",
       "\n",
       "    .dataframe thead th {\n",
       "        text-align: right;\n",
       "    }\n",
       "</style>\n",
       "<table border=\"1\" class=\"dataframe\">\n",
       "  <thead>\n",
       "    <tr style=\"text-align: right;\">\n",
       "      <th></th>\n",
       "      <th>file_name</th>\n",
       "      <th>phi_pos</th>\n",
       "      <th>phi_neg</th>\n",
       "      <th>phi_npt</th>\n",
       "      <th>num of cleaned words</th>\n",
       "    </tr>\n",
       "  </thead>\n",
       "  <tbody>\n",
       "    <tr>\n",
       "      <th>0</th>\n",
       "      <td>1037540_MDA_2017-02-28.txt</td>\n",
       "      <td>0.037175</td>\n",
       "      <td>0.040892</td>\n",
       "      <td>-0.047619</td>\n",
       "      <td>269.0</td>\n",
       "    </tr>\n",
       "    <tr>\n",
       "      <th>1</th>\n",
       "      <td>26172_MDA_2007-02-27.txt</td>\n",
       "      <td>0.036800</td>\n",
       "      <td>0.017818</td>\n",
       "      <td>0.347548</td>\n",
       "      <td>8587.0</td>\n",
       "    </tr>\n",
       "    <tr>\n",
       "      <th>2</th>\n",
       "      <td>87347_MDA_2015-01-29.txt</td>\n",
       "      <td>0.045881</td>\n",
       "      <td>0.022680</td>\n",
       "      <td>0.338403</td>\n",
       "      <td>3836.0</td>\n",
       "    </tr>\n",
       "    <tr>\n",
       "      <th>3</th>\n",
       "      <td>1087423_MDA_2009-04-29.txt</td>\n",
       "      <td>0.035489</td>\n",
       "      <td>0.016364</td>\n",
       "      <td>0.368821</td>\n",
       "      <td>5072.0</td>\n",
       "    </tr>\n",
       "    <tr>\n",
       "      <th>4</th>\n",
       "      <td>72741_MDA_2009-02-27.txt</td>\n",
       "      <td>0.039797</td>\n",
       "      <td>0.016354</td>\n",
       "      <td>0.417512</td>\n",
       "      <td>19323.0</td>\n",
       "    </tr>\n",
       "  </tbody>\n",
       "</table>\n",
       "</div>"
      ],
      "text/plain": [
       "                    file_name   phi_pos   phi_neg   phi_npt  \\\n",
       "0  1037540_MDA_2017-02-28.txt  0.037175  0.040892 -0.047619   \n",
       "1    26172_MDA_2007-02-27.txt  0.036800  0.017818  0.347548   \n",
       "2    87347_MDA_2015-01-29.txt  0.045881  0.022680  0.338403   \n",
       "3  1087423_MDA_2009-04-29.txt  0.035489  0.016364  0.368821   \n",
       "4    72741_MDA_2009-02-27.txt  0.039797  0.016354  0.417512   \n",
       "\n",
       "   num of cleaned words  \n",
       "0                 269.0  \n",
       "1                8587.0  \n",
       "2                3836.0  \n",
       "3                5072.0  \n",
       "4               19323.0  "
      ]
     },
     "execution_count": 27,
     "metadata": {},
     "output_type": "execute_result"
    }
   ],
   "source": [
    "df_scores.head()"
   ]
  },
  {
   "cell_type": "code",
   "execution_count": 28,
   "metadata": {
    "pycharm": {
     "name": "#%%\n"
    }
   },
   "outputs": [
    {
     "data": {
      "text/html": [
       "<div>\n",
       "<style scoped>\n",
       "    .dataframe tbody tr th:only-of-type {\n",
       "        vertical-align: middle;\n",
       "    }\n",
       "\n",
       "    .dataframe tbody tr th {\n",
       "        vertical-align: top;\n",
       "    }\n",
       "\n",
       "    .dataframe thead th {\n",
       "        text-align: right;\n",
       "    }\n",
       "</style>\n",
       "<table border=\"1\" class=\"dataframe\">\n",
       "  <thead>\n",
       "    <tr style=\"text-align: right;\">\n",
       "      <th></th>\n",
       "      <th>file_name</th>\n",
       "      <th>phi_pos</th>\n",
       "      <th>phi_neg</th>\n",
       "      <th>phi_npt</th>\n",
       "      <th>num of cleaned words</th>\n",
       "      <th>cik</th>\n",
       "      <th>filing_date</th>\n",
       "    </tr>\n",
       "  </thead>\n",
       "  <tbody>\n",
       "    <tr>\n",
       "      <th>0</th>\n",
       "      <td>1037540_MDA_2017-02-28.txt</td>\n",
       "      <td>0.037175</td>\n",
       "      <td>0.040892</td>\n",
       "      <td>-0.047619</td>\n",
       "      <td>269.0</td>\n",
       "      <td>1037540</td>\n",
       "      <td>2017-02-28</td>\n",
       "    </tr>\n",
       "    <tr>\n",
       "      <th>1</th>\n",
       "      <td>26172_MDA_2007-02-27.txt</td>\n",
       "      <td>0.036800</td>\n",
       "      <td>0.017818</td>\n",
       "      <td>0.347548</td>\n",
       "      <td>8587.0</td>\n",
       "      <td>26172</td>\n",
       "      <td>2007-02-27</td>\n",
       "    </tr>\n",
       "    <tr>\n",
       "      <th>2</th>\n",
       "      <td>87347_MDA_2015-01-29.txt</td>\n",
       "      <td>0.045881</td>\n",
       "      <td>0.022680</td>\n",
       "      <td>0.338403</td>\n",
       "      <td>3836.0</td>\n",
       "      <td>87347</td>\n",
       "      <td>2015-01-29</td>\n",
       "    </tr>\n",
       "    <tr>\n",
       "      <th>3</th>\n",
       "      <td>1087423_MDA_2009-04-29.txt</td>\n",
       "      <td>0.035489</td>\n",
       "      <td>0.016364</td>\n",
       "      <td>0.368821</td>\n",
       "      <td>5072.0</td>\n",
       "      <td>1087423</td>\n",
       "      <td>2009-04-29</td>\n",
       "    </tr>\n",
       "    <tr>\n",
       "      <th>4</th>\n",
       "      <td>72741_MDA_2009-02-27.txt</td>\n",
       "      <td>0.039797</td>\n",
       "      <td>0.016354</td>\n",
       "      <td>0.417512</td>\n",
       "      <td>19323.0</td>\n",
       "      <td>72741</td>\n",
       "      <td>2009-02-27</td>\n",
       "    </tr>\n",
       "  </tbody>\n",
       "</table>\n",
       "</div>"
      ],
      "text/plain": [
       "                    file_name   phi_pos   phi_neg   phi_npt  \\\n",
       "0  1037540_MDA_2017-02-28.txt  0.037175  0.040892 -0.047619   \n",
       "1    26172_MDA_2007-02-27.txt  0.036800  0.017818  0.347548   \n",
       "2    87347_MDA_2015-01-29.txt  0.045881  0.022680  0.338403   \n",
       "3  1087423_MDA_2009-04-29.txt  0.035489  0.016364  0.368821   \n",
       "4    72741_MDA_2009-02-27.txt  0.039797  0.016354  0.417512   \n",
       "\n",
       "   num of cleaned words      cik filing_date  \n",
       "0                 269.0  1037540  2017-02-28  \n",
       "1                8587.0    26172  2007-02-27  \n",
       "2                3836.0    87347  2015-01-29  \n",
       "3                5072.0  1087423  2009-04-29  \n",
       "4               19323.0    72741  2009-02-27  "
      ]
     },
     "execution_count": 28,
     "metadata": {},
     "output_type": "execute_result"
    }
   ],
   "source": [
    "# Merge with df_scores with df_mda by file_name\n",
    "df_scores = df_scores.merge(df_mda, on='file_name', how='inner')\n",
    "df_scores.head()"
   ]
  },
  {
   "cell_type": "code",
   "execution_count": 29,
   "metadata": {},
   "outputs": [
    {
     "data": {
      "text/plain": [
       "<matplotlib.axes._subplots.AxesSubplot at 0x7fa83dd7d450>"
      ]
     },
     "execution_count": 29,
     "metadata": {},
     "output_type": "execute_result"
    },
    {
     "data": {
      "image/png": "[encoded data removed]",
      "text/plain": [
       "<Figure size 864x576 with 1 Axes>"
      ]
     },
     "metadata": {},
     "output_type": "display_data"
    }
   ],
   "source": [
    "df_scores['phi_npt'].hist(figsize=(12,8), bins=100)"
   ]
  },
  {
   "cell_type": "markdown",
   "metadata": {},
   "source": [
    "# Merging Stock and MDA data"
   ]
  },
  {
   "cell_type": "code",
   "execution_count": 30,
   "metadata": {},
   "outputs": [],
   "source": [
    "# No common firm identifier\n",
    "# Use crosswalk of Ticker and CIK (similar to creating a temporary table in SQL)\n",
    "# Once we merge one of two datasets with the crosswalk table then we can merge Stock and MDA"
   ]
  },
  {
   "cell_type": "code",
   "execution_count": 31,
   "metadata": {},
   "outputs": [],
   "source": [
    "# Load csv for SP500 companies from: https://en.wikipedia.org/wiki/List_of_S%26P_500_companies\n",
    "df_crosswalk = pd.read_csv('data/investment_analysis_nlp/sp500_constituents.csv')"
   ]
  },
  {
   "cell_type": "code",
   "execution_count": 32,
   "metadata": {},
   "outputs": [
    {
     "data": {
      "text/html": [
       "<div>\n",
       "<style scoped>\n",
       "    .dataframe tbody tr th:only-of-type {\n",
       "        vertical-align: middle;\n",
       "    }\n",
       "\n",
       "    .dataframe tbody tr th {\n",
       "        vertical-align: top;\n",
       "    }\n",
       "\n",
       "    .dataframe thead th {\n",
       "        text-align: right;\n",
       "    }\n",
       "</style>\n",
       "<table border=\"1\" class=\"dataframe\">\n",
       "  <thead>\n",
       "    <tr style=\"text-align: right;\">\n",
       "      <th></th>\n",
       "      <th>Security</th>\n",
       "      <th>Symbol</th>\n",
       "      <th>SEC filings</th>\n",
       "      <th>GICS Sector</th>\n",
       "      <th>GICS Sub Industry</th>\n",
       "      <th>Headquarters Location</th>\n",
       "      <th>Date first added</th>\n",
       "      <th>CIK</th>\n",
       "      <th>Founded</th>\n",
       "    </tr>\n",
       "  </thead>\n",
       "  <tbody>\n",
       "    <tr>\n",
       "      <th>0</th>\n",
       "      <td>3M Company</td>\n",
       "      <td>MMM</td>\n",
       "      <td>reports</td>\n",
       "      <td>Industrials</td>\n",
       "      <td>Industrial Conglomerates</td>\n",
       "      <td>St. Paul, Minnesota</td>\n",
       "      <td>NaN</td>\n",
       "      <td>66740</td>\n",
       "      <td>1902</td>\n",
       "    </tr>\n",
       "    <tr>\n",
       "      <th>1</th>\n",
       "      <td>Abbott Laboratories</td>\n",
       "      <td>ABT</td>\n",
       "      <td>reports</td>\n",
       "      <td>Health Care</td>\n",
       "      <td>Health Care Equipment</td>\n",
       "      <td>North Chicago, Illinois</td>\n",
       "      <td>31/03/1964</td>\n",
       "      <td>1800</td>\n",
       "      <td>1888</td>\n",
       "    </tr>\n",
       "    <tr>\n",
       "      <th>2</th>\n",
       "      <td>AbbVie Inc.</td>\n",
       "      <td>ABBV</td>\n",
       "      <td>reports</td>\n",
       "      <td>Health Care</td>\n",
       "      <td>Pharmaceuticals</td>\n",
       "      <td>North Chicago, Illinois</td>\n",
       "      <td>31/12/2012</td>\n",
       "      <td>1551152</td>\n",
       "      <td>2013 (1888)</td>\n",
       "    </tr>\n",
       "    <tr>\n",
       "      <th>3</th>\n",
       "      <td>ABIOMED Inc</td>\n",
       "      <td>ABMD</td>\n",
       "      <td>reports</td>\n",
       "      <td>Health Care</td>\n",
       "      <td>Health Care Equipment</td>\n",
       "      <td>Danvers, Massachusetts</td>\n",
       "      <td>31/05/2018</td>\n",
       "      <td>815094</td>\n",
       "      <td>1981</td>\n",
       "    </tr>\n",
       "    <tr>\n",
       "      <th>4</th>\n",
       "      <td>Accenture plc</td>\n",
       "      <td>ACN</td>\n",
       "      <td>reports</td>\n",
       "      <td>Information Technology</td>\n",
       "      <td>IT Consulting &amp; Other Services</td>\n",
       "      <td>Dublin, Ireland</td>\n",
       "      <td>06/07/2011</td>\n",
       "      <td>1467373</td>\n",
       "      <td>1989</td>\n",
       "    </tr>\n",
       "  </tbody>\n",
       "</table>\n",
       "</div>"
      ],
      "text/plain": [
       "              Security Symbol SEC filings             GICS Sector  \\\n",
       "0           3M Company    MMM     reports             Industrials   \n",
       "1  Abbott Laboratories    ABT     reports             Health Care   \n",
       "2          AbbVie Inc.   ABBV     reports             Health Care   \n",
       "3          ABIOMED Inc   ABMD     reports             Health Care   \n",
       "4        Accenture plc    ACN     reports  Information Technology   \n",
       "\n",
       "                GICS Sub Industry    Headquarters Location Date first added  \\\n",
       "0        Industrial Conglomerates      St. Paul, Minnesota              NaN   \n",
       "1           Health Care Equipment  North Chicago, Illinois       31/03/1964   \n",
       "2                 Pharmaceuticals  North Chicago, Illinois       31/12/2012   \n",
       "3           Health Care Equipment   Danvers, Massachusetts       31/05/2018   \n",
       "4  IT Consulting & Other Services          Dublin, Ireland       06/07/2011   \n",
       "\n",
       "       CIK      Founded  \n",
       "0    66740         1902  \n",
       "1     1800         1888  \n",
       "2  1551152  2013 (1888)  \n",
       "3   815094         1981  \n",
       "4  1467373         1989  "
      ]
     },
     "execution_count": 32,
     "metadata": {},
     "output_type": "execute_result"
    }
   ],
   "source": [
    "df_crosswalk.head()"
   ]
  },
  {
   "cell_type": "code",
   "execution_count": 33,
   "metadata": {},
   "outputs": [
    {
     "data": {
      "text/html": [
       "<div>\n",
       "<style scoped>\n",
       "    .dataframe tbody tr th:only-of-type {\n",
       "        vertical-align: middle;\n",
       "    }\n",
       "\n",
       "    .dataframe tbody tr th {\n",
       "        vertical-align: top;\n",
       "    }\n",
       "\n",
       "    .dataframe thead th {\n",
       "        text-align: right;\n",
       "    }\n",
       "</style>\n",
       "<table border=\"1\" class=\"dataframe\">\n",
       "  <thead>\n",
       "    <tr style=\"text-align: right;\">\n",
       "      <th></th>\n",
       "      <th>Symbol</th>\n",
       "      <th>CIK</th>\n",
       "    </tr>\n",
       "  </thead>\n",
       "  <tbody>\n",
       "    <tr>\n",
       "      <th>0</th>\n",
       "      <td>MMM</td>\n",
       "      <td>66740</td>\n",
       "    </tr>\n",
       "    <tr>\n",
       "      <th>1</th>\n",
       "      <td>ABT</td>\n",
       "      <td>1800</td>\n",
       "    </tr>\n",
       "    <tr>\n",
       "      <th>2</th>\n",
       "      <td>ABBV</td>\n",
       "      <td>1551152</td>\n",
       "    </tr>\n",
       "    <tr>\n",
       "      <th>3</th>\n",
       "      <td>ABMD</td>\n",
       "      <td>815094</td>\n",
       "    </tr>\n",
       "    <tr>\n",
       "      <th>4</th>\n",
       "      <td>ACN</td>\n",
       "      <td>1467373</td>\n",
       "    </tr>\n",
       "  </tbody>\n",
       "</table>\n",
       "</div>"
      ],
      "text/plain": [
       "  Symbol      CIK\n",
       "0    MMM    66740\n",
       "1    ABT     1800\n",
       "2   ABBV  1551152\n",
       "3   ABMD   815094\n",
       "4    ACN  1467373"
      ]
     },
     "execution_count": 33,
     "metadata": {},
     "output_type": "execute_result"
    }
   ],
   "source": [
    "df_crosswalk = df_crosswalk[['Symbol', 'CIK']]\n",
    "df_crosswalk.head()"
   ]
  },
  {
   "cell_type": "code",
   "execution_count": 34,
   "metadata": {},
   "outputs": [
    {
     "data": {
      "text/html": [
       "<div>\n",
       "<style scoped>\n",
       "    .dataframe tbody tr th:only-of-type {\n",
       "        vertical-align: middle;\n",
       "    }\n",
       "\n",
       "    .dataframe tbody tr th {\n",
       "        vertical-align: top;\n",
       "    }\n",
       "\n",
       "    .dataframe thead th {\n",
       "        text-align: right;\n",
       "    }\n",
       "</style>\n",
       "<table border=\"1\" class=\"dataframe\">\n",
       "  <thead>\n",
       "    <tr style=\"text-align: right;\">\n",
       "      <th></th>\n",
       "      <th>ticker</th>\n",
       "      <th>date</th>\n",
       "      <th>price</th>\n",
       "      <th>returns</th>\n",
       "    </tr>\n",
       "  </thead>\n",
       "  <tbody>\n",
       "    <tr>\n",
       "      <th>1</th>\n",
       "      <td>CNP</td>\n",
       "      <td>2005-01-04</td>\n",
       "      <td>8.3168</td>\n",
       "      <td>-0.009905</td>\n",
       "    </tr>\n",
       "    <tr>\n",
       "      <th>2</th>\n",
       "      <td>CNP</td>\n",
       "      <td>2005-01-05</td>\n",
       "      <td>8.1662</td>\n",
       "      <td>-0.018108</td>\n",
       "    </tr>\n",
       "    <tr>\n",
       "      <th>3</th>\n",
       "      <td>CNP</td>\n",
       "      <td>2005-01-06</td>\n",
       "      <td>8.1730</td>\n",
       "      <td>0.000833</td>\n",
       "    </tr>\n",
       "    <tr>\n",
       "      <th>4</th>\n",
       "      <td>CNP</td>\n",
       "      <td>2005-01-07</td>\n",
       "      <td>8.1277</td>\n",
       "      <td>-0.005543</td>\n",
       "    </tr>\n",
       "    <tr>\n",
       "      <th>5</th>\n",
       "      <td>CNP</td>\n",
       "      <td>2005-01-10</td>\n",
       "      <td>8.1277</td>\n",
       "      <td>0.000000</td>\n",
       "    </tr>\n",
       "  </tbody>\n",
       "</table>\n",
       "</div>"
      ],
      "text/plain": [
       "  ticker       date   price   returns\n",
       "1    CNP 2005-01-04  8.3168 -0.009905\n",
       "2    CNP 2005-01-05  8.1662 -0.018108\n",
       "3    CNP 2005-01-06  8.1730  0.000833\n",
       "4    CNP 2005-01-07  8.1277 -0.005543\n",
       "5    CNP 2005-01-10  8.1277  0.000000"
      ]
     },
     "execution_count": 34,
     "metadata": {},
     "output_type": "execute_result"
    }
   ],
   "source": [
    "df_stocks.head()"
   ]
  },
  {
   "cell_type": "code",
   "execution_count": 35,
   "metadata": {},
   "outputs": [],
   "source": [
    "# Rename as in Stock and MDA dataframes\n",
    "df_crosswalk.columns = ['ticker', 'cik']"
   ]
  },
  {
   "cell_type": "code",
   "execution_count": 36,
   "metadata": {},
   "outputs": [],
   "source": [
    "# Merge the Stock dataset with crosswalk\n",
    "df_stocks = df_stocks.merge(df_crosswalk, on='ticker', how='inner')"
   ]
  },
  {
   "cell_type": "code",
   "execution_count": 37,
   "metadata": {},
   "outputs": [
    {
     "data": {
      "text/html": [
       "<div>\n",
       "<style scoped>\n",
       "    .dataframe tbody tr th:only-of-type {\n",
       "        vertical-align: middle;\n",
       "    }\n",
       "\n",
       "    .dataframe tbody tr th {\n",
       "        vertical-align: top;\n",
       "    }\n",
       "\n",
       "    .dataframe thead th {\n",
       "        text-align: right;\n",
       "    }\n",
       "</style>\n",
       "<table border=\"1\" class=\"dataframe\">\n",
       "  <thead>\n",
       "    <tr style=\"text-align: right;\">\n",
       "      <th></th>\n",
       "      <th>ticker</th>\n",
       "      <th>date</th>\n",
       "      <th>price</th>\n",
       "      <th>returns</th>\n",
       "      <th>cik</th>\n",
       "    </tr>\n",
       "  </thead>\n",
       "  <tbody>\n",
       "    <tr>\n",
       "      <th>0</th>\n",
       "      <td>CNP</td>\n",
       "      <td>2005-01-04</td>\n",
       "      <td>8.3168</td>\n",
       "      <td>-0.009905</td>\n",
       "      <td>1130310</td>\n",
       "    </tr>\n",
       "    <tr>\n",
       "      <th>1</th>\n",
       "      <td>CNP</td>\n",
       "      <td>2005-01-05</td>\n",
       "      <td>8.1662</td>\n",
       "      <td>-0.018108</td>\n",
       "      <td>1130310</td>\n",
       "    </tr>\n",
       "    <tr>\n",
       "      <th>2</th>\n",
       "      <td>CNP</td>\n",
       "      <td>2005-01-06</td>\n",
       "      <td>8.1730</td>\n",
       "      <td>0.000833</td>\n",
       "      <td>1130310</td>\n",
       "    </tr>\n",
       "    <tr>\n",
       "      <th>3</th>\n",
       "      <td>CNP</td>\n",
       "      <td>2005-01-07</td>\n",
       "      <td>8.1277</td>\n",
       "      <td>-0.005543</td>\n",
       "      <td>1130310</td>\n",
       "    </tr>\n",
       "    <tr>\n",
       "      <th>4</th>\n",
       "      <td>CNP</td>\n",
       "      <td>2005-01-10</td>\n",
       "      <td>8.1277</td>\n",
       "      <td>0.000000</td>\n",
       "      <td>1130310</td>\n",
       "    </tr>\n",
       "  </tbody>\n",
       "</table>\n",
       "</div>"
      ],
      "text/plain": [
       "  ticker       date   price   returns      cik\n",
       "0    CNP 2005-01-04  8.3168 -0.009905  1130310\n",
       "1    CNP 2005-01-05  8.1662 -0.018108  1130310\n",
       "2    CNP 2005-01-06  8.1730  0.000833  1130310\n",
       "3    CNP 2005-01-07  8.1277 -0.005543  1130310\n",
       "4    CNP 2005-01-10  8.1277  0.000000  1130310"
      ]
     },
     "execution_count": 37,
     "metadata": {},
     "output_type": "execute_result"
    }
   ],
   "source": [
    "df_stocks.head()"
   ]
  },
  {
   "cell_type": "code",
   "execution_count": 38,
   "metadata": {},
   "outputs": [
    {
     "data": {
      "text/html": [
       "<div>\n",
       "<style scoped>\n",
       "    .dataframe tbody tr th:only-of-type {\n",
       "        vertical-align: middle;\n",
       "    }\n",
       "\n",
       "    .dataframe tbody tr th {\n",
       "        vertical-align: top;\n",
       "    }\n",
       "\n",
       "    .dataframe thead th {\n",
       "        text-align: right;\n",
       "    }\n",
       "</style>\n",
       "<table border=\"1\" class=\"dataframe\">\n",
       "  <thead>\n",
       "    <tr style=\"text-align: right;\">\n",
       "      <th></th>\n",
       "      <th>file_name</th>\n",
       "      <th>phi_pos</th>\n",
       "      <th>phi_neg</th>\n",
       "      <th>phi_npt</th>\n",
       "      <th>num of cleaned words</th>\n",
       "      <th>cik</th>\n",
       "      <th>filing_date</th>\n",
       "    </tr>\n",
       "  </thead>\n",
       "  <tbody>\n",
       "    <tr>\n",
       "      <th>0</th>\n",
       "      <td>1037540_MDA_2017-02-28.txt</td>\n",
       "      <td>0.037175</td>\n",
       "      <td>0.040892</td>\n",
       "      <td>-0.047619</td>\n",
       "      <td>269.0</td>\n",
       "      <td>1037540</td>\n",
       "      <td>2017-02-28</td>\n",
       "    </tr>\n",
       "    <tr>\n",
       "      <th>1</th>\n",
       "      <td>26172_MDA_2007-02-27.txt</td>\n",
       "      <td>0.036800</td>\n",
       "      <td>0.017818</td>\n",
       "      <td>0.347548</td>\n",
       "      <td>8587.0</td>\n",
       "      <td>26172</td>\n",
       "      <td>2007-02-27</td>\n",
       "    </tr>\n",
       "    <tr>\n",
       "      <th>2</th>\n",
       "      <td>87347_MDA_2015-01-29.txt</td>\n",
       "      <td>0.045881</td>\n",
       "      <td>0.022680</td>\n",
       "      <td>0.338403</td>\n",
       "      <td>3836.0</td>\n",
       "      <td>87347</td>\n",
       "      <td>2015-01-29</td>\n",
       "    </tr>\n",
       "    <tr>\n",
       "      <th>3</th>\n",
       "      <td>1087423_MDA_2009-04-29.txt</td>\n",
       "      <td>0.035489</td>\n",
       "      <td>0.016364</td>\n",
       "      <td>0.368821</td>\n",
       "      <td>5072.0</td>\n",
       "      <td>1087423</td>\n",
       "      <td>2009-04-29</td>\n",
       "    </tr>\n",
       "    <tr>\n",
       "      <th>4</th>\n",
       "      <td>72741_MDA_2009-02-27.txt</td>\n",
       "      <td>0.039797</td>\n",
       "      <td>0.016354</td>\n",
       "      <td>0.417512</td>\n",
       "      <td>19323.0</td>\n",
       "      <td>72741</td>\n",
       "      <td>2009-02-27</td>\n",
       "    </tr>\n",
       "  </tbody>\n",
       "</table>\n",
       "</div>"
      ],
      "text/plain": [
       "                    file_name   phi_pos   phi_neg   phi_npt  \\\n",
       "0  1037540_MDA_2017-02-28.txt  0.037175  0.040892 -0.047619   \n",
       "1    26172_MDA_2007-02-27.txt  0.036800  0.017818  0.347548   \n",
       "2    87347_MDA_2015-01-29.txt  0.045881  0.022680  0.338403   \n",
       "3  1087423_MDA_2009-04-29.txt  0.035489  0.016364  0.368821   \n",
       "4    72741_MDA_2009-02-27.txt  0.039797  0.016354  0.417512   \n",
       "\n",
       "   num of cleaned words      cik filing_date  \n",
       "0                 269.0  1037540  2017-02-28  \n",
       "1                8587.0    26172  2007-02-27  \n",
       "2                3836.0    87347  2015-01-29  \n",
       "3                5072.0  1087423  2009-04-29  \n",
       "4               19323.0    72741  2009-02-27  "
      ]
     },
     "execution_count": 38,
     "metadata": {},
     "output_type": "execute_result"
    }
   ],
   "source": [
    "df_scores.head()"
   ]
  },
  {
   "cell_type": "code",
   "execution_count": 39,
   "metadata": {},
   "outputs": [],
   "source": [
    "df_master = df_stocks.merge(df_scores, left_on=['cik', 'date'], right_on=['cik', 'filing_date'], how='left')"
   ]
  },
  {
   "cell_type": "code",
   "execution_count": 40,
   "metadata": {},
   "outputs": [
    {
     "data": {
      "text/html": [
       "<div>\n",
       "<style scoped>\n",
       "    .dataframe tbody tr th:only-of-type {\n",
       "        vertical-align: middle;\n",
       "    }\n",
       "\n",
       "    .dataframe tbody tr th {\n",
       "        vertical-align: top;\n",
       "    }\n",
       "\n",
       "    .dataframe thead th {\n",
       "        text-align: right;\n",
       "    }\n",
       "</style>\n",
       "<table border=\"1\" class=\"dataframe\">\n",
       "  <thead>\n",
       "    <tr style=\"text-align: right;\">\n",
       "      <th></th>\n",
       "      <th>ticker</th>\n",
       "      <th>date</th>\n",
       "      <th>price</th>\n",
       "      <th>returns</th>\n",
       "      <th>cik</th>\n",
       "      <th>file_name</th>\n",
       "      <th>phi_pos</th>\n",
       "      <th>phi_neg</th>\n",
       "      <th>phi_npt</th>\n",
       "      <th>num of cleaned words</th>\n",
       "      <th>filing_date</th>\n",
       "    </tr>\n",
       "  </thead>\n",
       "  <tbody>\n",
       "    <tr>\n",
       "      <th>49</th>\n",
       "      <td>CNP</td>\n",
       "      <td>2005-03-16</td>\n",
       "      <td>9.2306</td>\n",
       "      <td>-0.013551</td>\n",
       "      <td>1130310</td>\n",
       "      <td>1130310_MDA_2005-03-16.txt</td>\n",
       "      <td>0.031779</td>\n",
       "      <td>0.029420</td>\n",
       "      <td>0.038549</td>\n",
       "      <td>7206.0</td>\n",
       "      <td>2005-03-16</td>\n",
       "    </tr>\n",
       "    <tr>\n",
       "      <th>301</th>\n",
       "      <td>CNP</td>\n",
       "      <td>2006-03-16</td>\n",
       "      <td>9.6470</td>\n",
       "      <td>-0.007714</td>\n",
       "      <td>1130310</td>\n",
       "      <td>1130310_MDA_2006-03-16.txt</td>\n",
       "      <td>0.034276</td>\n",
       "      <td>0.023056</td>\n",
       "      <td>0.195710</td>\n",
       "      <td>6506.0</td>\n",
       "      <td>2006-03-16</td>\n",
       "    </tr>\n",
       "    <tr>\n",
       "      <th>540</th>\n",
       "      <td>CNP</td>\n",
       "      <td>2007-02-28</td>\n",
       "      <td>13.5440</td>\n",
       "      <td>-0.001106</td>\n",
       "      <td>1130310</td>\n",
       "      <td>1130310_MDA_2007-02-28.txt</td>\n",
       "      <td>0.031512</td>\n",
       "      <td>0.022261</td>\n",
       "      <td>0.172043</td>\n",
       "      <td>6918.0</td>\n",
       "      <td>2007-02-28</td>\n",
       "    </tr>\n",
       "    <tr>\n",
       "      <th>792</th>\n",
       "      <td>CNP</td>\n",
       "      <td>2008-02-28</td>\n",
       "      <td>11.5980</td>\n",
       "      <td>0.001814</td>\n",
       "      <td>1130310</td>\n",
       "      <td>1130310_MDA_2008-02-28.txt</td>\n",
       "      <td>0.034323</td>\n",
       "      <td>0.022303</td>\n",
       "      <td>0.212276</td>\n",
       "      <td>6905.0</td>\n",
       "      <td>2008-02-28</td>\n",
       "    </tr>\n",
       "    <tr>\n",
       "      <th>1042</th>\n",
       "      <td>CNP</td>\n",
       "      <td>2009-02-25</td>\n",
       "      <td>7.9907</td>\n",
       "      <td>-0.114447</td>\n",
       "      <td>1130310</td>\n",
       "      <td>1130310_MDA_2009-02-25.txt</td>\n",
       "      <td>0.034932</td>\n",
       "      <td>0.023986</td>\n",
       "      <td>0.185792</td>\n",
       "      <td>6212.0</td>\n",
       "      <td>2009-02-25</td>\n",
       "    </tr>\n",
       "    <tr>\n",
       "      <th>...</th>\n",
       "      <td>...</td>\n",
       "      <td>...</td>\n",
       "      <td>...</td>\n",
       "      <td>...</td>\n",
       "      <td>...</td>\n",
       "      <td>...</td>\n",
       "      <td>...</td>\n",
       "      <td>...</td>\n",
       "      <td>...</td>\n",
       "      <td>...</td>\n",
       "      <td>...</td>\n",
       "    </tr>\n",
       "    <tr>\n",
       "      <th>301367</th>\n",
       "      <td>HPQ</td>\n",
       "      <td>2012-12-27</td>\n",
       "      <td>5.6096</td>\n",
       "      <td>-0.005778</td>\n",
       "      <td>47217</td>\n",
       "      <td>47217_MDA_2012-12-27.txt</td>\n",
       "      <td>0.037659</td>\n",
       "      <td>0.028565</td>\n",
       "      <td>0.137324</td>\n",
       "      <td>8577.0</td>\n",
       "      <td>2012-12-27</td>\n",
       "    </tr>\n",
       "    <tr>\n",
       "      <th>301620</th>\n",
       "      <td>HPQ</td>\n",
       "      <td>2013-12-30</td>\n",
       "      <td>11.4870</td>\n",
       "      <td>-0.004334</td>\n",
       "      <td>47217</td>\n",
       "      <td>47217_MDA_2013-12-30.txt</td>\n",
       "      <td>0.039578</td>\n",
       "      <td>0.036825</td>\n",
       "      <td>0.036036</td>\n",
       "      <td>8717.0</td>\n",
       "      <td>2013-12-30</td>\n",
       "    </tr>\n",
       "    <tr>\n",
       "      <th>301865</th>\n",
       "      <td>HPQ</td>\n",
       "      <td>2014-12-18</td>\n",
       "      <td>16.5910</td>\n",
       "      <td>0.030369</td>\n",
       "      <td>47217</td>\n",
       "      <td>47217_MDA_2014-12-18.txt</td>\n",
       "      <td>0.041076</td>\n",
       "      <td>0.033019</td>\n",
       "      <td>0.108729</td>\n",
       "      <td>8813.0</td>\n",
       "      <td>2014-12-18</td>\n",
       "    </tr>\n",
       "    <tr>\n",
       "      <th>302115</th>\n",
       "      <td>HPQ</td>\n",
       "      <td>2015-12-16</td>\n",
       "      <td>11.5520</td>\n",
       "      <td>0.004172</td>\n",
       "      <td>47217</td>\n",
       "      <td>47217_MDA_2015-12-16.txt</td>\n",
       "      <td>0.039996</td>\n",
       "      <td>0.032687</td>\n",
       "      <td>0.100559</td>\n",
       "      <td>9851.0</td>\n",
       "      <td>2015-12-16</td>\n",
       "    </tr>\n",
       "    <tr>\n",
       "      <th>302367</th>\n",
       "      <td>HPQ</td>\n",
       "      <td>2016-12-15</td>\n",
       "      <td>15.1730</td>\n",
       "      <td>-0.006548</td>\n",
       "      <td>47217</td>\n",
       "      <td>47217_MDA_2016-12-15.txt</td>\n",
       "      <td>0.042439</td>\n",
       "      <td>0.034085</td>\n",
       "      <td>0.109170</td>\n",
       "      <td>5985.0</td>\n",
       "      <td>2016-12-15</td>\n",
       "    </tr>\n",
       "  </tbody>\n",
       "</table>\n",
       "<p>920 rows × 11 columns</p>\n",
       "</div>"
      ],
      "text/plain": [
       "       ticker       date    price   returns      cik  \\\n",
       "49        CNP 2005-03-16   9.2306 -0.013551  1130310   \n",
       "301       CNP 2006-03-16   9.6470 -0.007714  1130310   \n",
       "540       CNP 2007-02-28  13.5440 -0.001106  1130310   \n",
       "792       CNP 2008-02-28  11.5980  0.001814  1130310   \n",
       "1042      CNP 2009-02-25   7.9907 -0.114447  1130310   \n",
       "...       ...        ...      ...       ...      ...   \n",
       "301367    HPQ 2012-12-27   5.6096 -0.005778    47217   \n",
       "301620    HPQ 2013-12-30  11.4870 -0.004334    47217   \n",
       "301865    HPQ 2014-12-18  16.5910  0.030369    47217   \n",
       "302115    HPQ 2015-12-16  11.5520  0.004172    47217   \n",
       "302367    HPQ 2016-12-15  15.1730 -0.006548    47217   \n",
       "\n",
       "                         file_name   phi_pos   phi_neg   phi_npt  \\\n",
       "49      1130310_MDA_2005-03-16.txt  0.031779  0.029420  0.038549   \n",
       "301     1130310_MDA_2006-03-16.txt  0.034276  0.023056  0.195710   \n",
       "540     1130310_MDA_2007-02-28.txt  0.031512  0.022261  0.172043   \n",
       "792     1130310_MDA_2008-02-28.txt  0.034323  0.022303  0.212276   \n",
       "1042    1130310_MDA_2009-02-25.txt  0.034932  0.023986  0.185792   \n",
       "...                            ...       ...       ...       ...   \n",
       "301367    47217_MDA_2012-12-27.txt  0.037659  0.028565  0.137324   \n",
       "301620    47217_MDA_2013-12-30.txt  0.039578  0.036825  0.036036   \n",
       "301865    47217_MDA_2014-12-18.txt  0.041076  0.033019  0.108729   \n",
       "302115    47217_MDA_2015-12-16.txt  0.039996  0.032687  0.100559   \n",
       "302367    47217_MDA_2016-12-15.txt  0.042439  0.034085  0.109170   \n",
       "\n",
       "        num of cleaned words filing_date  \n",
       "49                    7206.0  2005-03-16  \n",
       "301                   6506.0  2006-03-16  \n",
       "540                   6918.0  2007-02-28  \n",
       "792                   6905.0  2008-02-28  \n",
       "1042                  6212.0  2009-02-25  \n",
       "...                      ...         ...  \n",
       "301367                8577.0  2012-12-27  \n",
       "301620                8717.0  2013-12-30  \n",
       "301865                8813.0  2014-12-18  \n",
       "302115                9851.0  2015-12-16  \n",
       "302367                5985.0  2016-12-15  \n",
       "\n",
       "[920 rows x 11 columns]"
      ]
     },
     "execution_count": 40,
     "metadata": {},
     "output_type": "execute_result"
    }
   ],
   "source": [
    "df_master[df_master['phi_npt'].notnull()]"
   ]
  },
  {
   "cell_type": "code",
   "execution_count": 41,
   "metadata": {},
   "outputs": [],
   "source": [
    "# Convert anual tone data to daily data will produce many NaN values\n",
    "# To avoid look ahead bias we won't use interpolated conversion of missing values\n",
    "# Instead we will use constant conversion because tone does not change across all days in a given year"
   ]
  },
  {
   "cell_type": "code",
   "execution_count": 42,
   "metadata": {},
   "outputs": [],
   "source": [
    "df_master = df_master.groupby('ticker').ffill()"
   ]
  },
  {
   "cell_type": "code",
   "execution_count": 43,
   "metadata": {},
   "outputs": [
    {
     "data": {
      "text/html": [
       "<div>\n",
       "<style scoped>\n",
       "    .dataframe tbody tr th:only-of-type {\n",
       "        vertical-align: middle;\n",
       "    }\n",
       "\n",
       "    .dataframe tbody tr th {\n",
       "        vertical-align: top;\n",
       "    }\n",
       "\n",
       "    .dataframe thead th {\n",
       "        text-align: right;\n",
       "    }\n",
       "</style>\n",
       "<table border=\"1\" class=\"dataframe\">\n",
       "  <thead>\n",
       "    <tr style=\"text-align: right;\">\n",
       "      <th></th>\n",
       "      <th>date</th>\n",
       "      <th>price</th>\n",
       "      <th>returns</th>\n",
       "      <th>cik</th>\n",
       "      <th>file_name</th>\n",
       "      <th>phi_pos</th>\n",
       "      <th>phi_neg</th>\n",
       "      <th>phi_npt</th>\n",
       "      <th>num of cleaned words</th>\n",
       "      <th>filing_date</th>\n",
       "    </tr>\n",
       "  </thead>\n",
       "  <tbody>\n",
       "    <tr>\n",
       "      <th>298</th>\n",
       "      <td>2006-03-13</td>\n",
       "      <td>9.6100</td>\n",
       "      <td>-0.006924</td>\n",
       "      <td>1130310</td>\n",
       "      <td>1130310_MDA_2005-03-16.txt</td>\n",
       "      <td>0.031779</td>\n",
       "      <td>0.029420</td>\n",
       "      <td>0.038549</td>\n",
       "      <td>7206.0</td>\n",
       "      <td>2005-03-16</td>\n",
       "    </tr>\n",
       "    <tr>\n",
       "      <th>299</th>\n",
       "      <td>2006-03-14</td>\n",
       "      <td>9.7530</td>\n",
       "      <td>0.014880</td>\n",
       "      <td>1130310</td>\n",
       "      <td>1130310_MDA_2005-03-16.txt</td>\n",
       "      <td>0.031779</td>\n",
       "      <td>0.029420</td>\n",
       "      <td>0.038549</td>\n",
       "      <td>7206.0</td>\n",
       "      <td>2005-03-16</td>\n",
       "    </tr>\n",
       "    <tr>\n",
       "      <th>300</th>\n",
       "      <td>2006-03-15</td>\n",
       "      <td>9.7220</td>\n",
       "      <td>-0.003179</td>\n",
       "      <td>1130310</td>\n",
       "      <td>1130310_MDA_2005-03-16.txt</td>\n",
       "      <td>0.031779</td>\n",
       "      <td>0.029420</td>\n",
       "      <td>0.038549</td>\n",
       "      <td>7206.0</td>\n",
       "      <td>2005-03-16</td>\n",
       "    </tr>\n",
       "    <tr>\n",
       "      <th>301</th>\n",
       "      <td>2006-03-16</td>\n",
       "      <td>9.6470</td>\n",
       "      <td>-0.007714</td>\n",
       "      <td>1130310</td>\n",
       "      <td>1130310_MDA_2006-03-16.txt</td>\n",
       "      <td>0.034276</td>\n",
       "      <td>0.023056</td>\n",
       "      <td>0.195710</td>\n",
       "      <td>6506.0</td>\n",
       "      <td>2006-03-16</td>\n",
       "    </tr>\n",
       "    <tr>\n",
       "      <th>302</th>\n",
       "      <td>2006-03-17</td>\n",
       "      <td>9.5020</td>\n",
       "      <td>-0.015031</td>\n",
       "      <td>1130310</td>\n",
       "      <td>1130310_MDA_2006-03-16.txt</td>\n",
       "      <td>0.034276</td>\n",
       "      <td>0.023056</td>\n",
       "      <td>0.195710</td>\n",
       "      <td>6506.0</td>\n",
       "      <td>2006-03-16</td>\n",
       "    </tr>\n",
       "    <tr>\n",
       "      <th>303</th>\n",
       "      <td>2006-03-20</td>\n",
       "      <td>9.2656</td>\n",
       "      <td>-0.024879</td>\n",
       "      <td>1130310</td>\n",
       "      <td>1130310_MDA_2006-03-16.txt</td>\n",
       "      <td>0.034276</td>\n",
       "      <td>0.023056</td>\n",
       "      <td>0.195710</td>\n",
       "      <td>6506.0</td>\n",
       "      <td>2006-03-16</td>\n",
       "    </tr>\n",
       "    <tr>\n",
       "      <th>304</th>\n",
       "      <td>2006-03-21</td>\n",
       "      <td>9.2306</td>\n",
       "      <td>-0.003777</td>\n",
       "      <td>1130310</td>\n",
       "      <td>1130310_MDA_2006-03-16.txt</td>\n",
       "      <td>0.034276</td>\n",
       "      <td>0.023056</td>\n",
       "      <td>0.195710</td>\n",
       "      <td>6506.0</td>\n",
       "      <td>2006-03-16</td>\n",
       "    </tr>\n",
       "  </tbody>\n",
       "</table>\n",
       "</div>"
      ],
      "text/plain": [
       "          date   price   returns      cik                   file_name  \\\n",
       "298 2006-03-13  9.6100 -0.006924  1130310  1130310_MDA_2005-03-16.txt   \n",
       "299 2006-03-14  9.7530  0.014880  1130310  1130310_MDA_2005-03-16.txt   \n",
       "300 2006-03-15  9.7220 -0.003179  1130310  1130310_MDA_2005-03-16.txt   \n",
       "301 2006-03-16  9.6470 -0.007714  1130310  1130310_MDA_2006-03-16.txt   \n",
       "302 2006-03-17  9.5020 -0.015031  1130310  1130310_MDA_2006-03-16.txt   \n",
       "303 2006-03-20  9.2656 -0.024879  1130310  1130310_MDA_2006-03-16.txt   \n",
       "304 2006-03-21  9.2306 -0.003777  1130310  1130310_MDA_2006-03-16.txt   \n",
       "\n",
       "      phi_pos   phi_neg   phi_npt  num of cleaned words filing_date  \n",
       "298  0.031779  0.029420  0.038549                7206.0  2005-03-16  \n",
       "299  0.031779  0.029420  0.038549                7206.0  2005-03-16  \n",
       "300  0.031779  0.029420  0.038549                7206.0  2005-03-16  \n",
       "301  0.034276  0.023056  0.195710                6506.0  2006-03-16  \n",
       "302  0.034276  0.023056  0.195710                6506.0  2006-03-16  \n",
       "303  0.034276  0.023056  0.195710                6506.0  2006-03-16  \n",
       "304  0.034276  0.023056  0.195710                6506.0  2006-03-16  "
      ]
     },
     "execution_count": 43,
     "metadata": {},
     "output_type": "execute_result"
    }
   ],
   "source": [
    "df_master.iloc[298:305]"
   ]
  },
  {
   "cell_type": "code",
   "execution_count": 44,
   "metadata": {
    "pycharm": {
     "name": "#%%\n"
    }
   },
   "outputs": [],
   "source": [
    "# Drop the preceding rows of valid tone\n",
    "df_master.dropna(inplace=True)"
   ]
  },
  {
   "cell_type": "code",
   "execution_count": 45,
   "metadata": {
    "pycharm": {
     "name": "#%%\n"
    }
   },
   "outputs": [
    {
     "data": {
      "text/html": [
       "<div>\n",
       "<style scoped>\n",
       "    .dataframe tbody tr th:only-of-type {\n",
       "        vertical-align: middle;\n",
       "    }\n",
       "\n",
       "    .dataframe tbody tr th {\n",
       "        vertical-align: top;\n",
       "    }\n",
       "\n",
       "    .dataframe thead th {\n",
       "        text-align: right;\n",
       "    }\n",
       "</style>\n",
       "<table border=\"1\" class=\"dataframe\">\n",
       "  <thead>\n",
       "    <tr style=\"text-align: right;\">\n",
       "      <th></th>\n",
       "      <th>date</th>\n",
       "      <th>price</th>\n",
       "      <th>returns</th>\n",
       "      <th>cik</th>\n",
       "      <th>file_name</th>\n",
       "      <th>phi_pos</th>\n",
       "      <th>phi_neg</th>\n",
       "      <th>phi_npt</th>\n",
       "      <th>num of cleaned words</th>\n",
       "      <th>filing_date</th>\n",
       "      <th>ticker</th>\n",
       "    </tr>\n",
       "  </thead>\n",
       "  <tbody>\n",
       "    <tr>\n",
       "      <th>0</th>\n",
       "      <td>2005-03-16</td>\n",
       "      <td>9.2306</td>\n",
       "      <td>-0.013551</td>\n",
       "      <td>1130310</td>\n",
       "      <td>1130310_MDA_2005-03-16.txt</td>\n",
       "      <td>0.031779</td>\n",
       "      <td>0.02942</td>\n",
       "      <td>0.038549</td>\n",
       "      <td>7206.0</td>\n",
       "      <td>2005-03-16</td>\n",
       "      <td>CNP</td>\n",
       "    </tr>\n",
       "    <tr>\n",
       "      <th>1</th>\n",
       "      <td>2005-03-17</td>\n",
       "      <td>9.2976</td>\n",
       "      <td>0.007258</td>\n",
       "      <td>1130310</td>\n",
       "      <td>1130310_MDA_2005-03-16.txt</td>\n",
       "      <td>0.031779</td>\n",
       "      <td>0.02942</td>\n",
       "      <td>0.038549</td>\n",
       "      <td>7206.0</td>\n",
       "      <td>2005-03-16</td>\n",
       "      <td>CNP</td>\n",
       "    </tr>\n",
       "    <tr>\n",
       "      <th>2</th>\n",
       "      <td>2005-03-18</td>\n",
       "      <td>9.3221</td>\n",
       "      <td>0.002635</td>\n",
       "      <td>1130310</td>\n",
       "      <td>1130310_MDA_2005-03-16.txt</td>\n",
       "      <td>0.031779</td>\n",
       "      <td>0.02942</td>\n",
       "      <td>0.038549</td>\n",
       "      <td>7206.0</td>\n",
       "      <td>2005-03-16</td>\n",
       "      <td>CNP</td>\n",
       "    </tr>\n",
       "    <tr>\n",
       "      <th>3</th>\n",
       "      <td>2005-03-21</td>\n",
       "      <td>9.2529</td>\n",
       "      <td>-0.007423</td>\n",
       "      <td>1130310</td>\n",
       "      <td>1130310_MDA_2005-03-16.txt</td>\n",
       "      <td>0.031779</td>\n",
       "      <td>0.02942</td>\n",
       "      <td>0.038549</td>\n",
       "      <td>7206.0</td>\n",
       "      <td>2005-03-16</td>\n",
       "      <td>CNP</td>\n",
       "    </tr>\n",
       "    <tr>\n",
       "      <th>4</th>\n",
       "      <td>2005-03-22</td>\n",
       "      <td>8.9938</td>\n",
       "      <td>-0.028002</td>\n",
       "      <td>1130310</td>\n",
       "      <td>1130310_MDA_2005-03-16.txt</td>\n",
       "      <td>0.031779</td>\n",
       "      <td>0.02942</td>\n",
       "      <td>0.038549</td>\n",
       "      <td>7206.0</td>\n",
       "      <td>2005-03-16</td>\n",
       "      <td>CNP</td>\n",
       "    </tr>\n",
       "  </tbody>\n",
       "</table>\n",
       "</div>"
      ],
      "text/plain": [
       "        date   price   returns      cik                   file_name   phi_pos  \\\n",
       "0 2005-03-16  9.2306 -0.013551  1130310  1130310_MDA_2005-03-16.txt  0.031779   \n",
       "1 2005-03-17  9.2976  0.007258  1130310  1130310_MDA_2005-03-16.txt  0.031779   \n",
       "2 2005-03-18  9.3221  0.002635  1130310  1130310_MDA_2005-03-16.txt  0.031779   \n",
       "3 2005-03-21  9.2529 -0.007423  1130310  1130310_MDA_2005-03-16.txt  0.031779   \n",
       "4 2005-03-22  8.9938 -0.028002  1130310  1130310_MDA_2005-03-16.txt  0.031779   \n",
       "\n",
       "   phi_neg   phi_npt  num of cleaned words filing_date ticker  \n",
       "0  0.02942  0.038549                7206.0  2005-03-16    CNP  \n",
       "1  0.02942  0.038549                7206.0  2005-03-16    CNP  \n",
       "2  0.02942  0.038549                7206.0  2005-03-16    CNP  \n",
       "3  0.02942  0.038549                7206.0  2005-03-16    CNP  \n",
       "4  0.02942  0.038549                7206.0  2005-03-16    CNP  "
      ]
     },
     "execution_count": 45,
     "metadata": {},
     "output_type": "execute_result"
    }
   ],
   "source": [
    "# Add the 'ticker' column\n",
    "df_master = df_master.merge(df_crosswalk, on='cik', how='inner')\n",
    "df_master.head()"
   ]
  },
  {
   "cell_type": "markdown",
   "metadata": {
    "pycharm": {
     "name": "#%% md\n"
    }
   },
   "source": [
    "# Estimating sentiment portfolio returns"
   ]
  },
  {
   "cell_type": "code",
   "execution_count": 46,
   "metadata": {
    "pycharm": {
     "name": "#%%\n"
    }
   },
   "outputs": [
    {
     "data": {
      "text/plain": [
       "date                    datetime64[ns]\n",
       "price                          float64\n",
       "returns                        float64\n",
       "cik                              int64\n",
       "file_name                       object\n",
       "phi_pos                        float64\n",
       "phi_neg                        float64\n",
       "phi_npt                        float64\n",
       "num of cleaned words           float64\n",
       "filing_date             datetime64[ns]\n",
       "ticker                          object\n",
       "dtype: object"
      ]
     },
     "execution_count": 46,
     "metadata": {},
     "output_type": "execute_result"
    }
   ],
   "source": [
    "df_master.dtypes"
   ]
  },
  {
   "cell_type": "code",
   "execution_count": 47,
   "metadata": {
    "pycharm": {
     "name": "#%%\n"
    }
   },
   "outputs": [
    {
     "data": {
      "text/plain": [
       "count    239519.000000\n",
       "mean          0.001495\n",
       "std           0.286846\n",
       "min          -0.990096\n",
       "25%          -0.008155\n",
       "50%           0.000576\n",
       "75%           0.009434\n",
       "max          99.305387\n",
       "Name: returns, dtype: float64"
      ]
     },
     "execution_count": 47,
     "metadata": {},
     "output_type": "execute_result"
    }
   ],
   "source": [
    "# Check for outliers\n",
    "df_master['returns'].describe()"
   ]
  },
  {
   "cell_type": "code",
   "execution_count": 48,
   "metadata": {
    "pycharm": {
     "name": "#%%\n"
    }
   },
   "outputs": [
    {
     "data": {
      "text/plain": [
       "count    239512.000000\n",
       "mean          0.000640\n",
       "std           0.021554\n",
       "min          -0.629504\n",
       "25%          -0.008154\n",
       "50%           0.000576\n",
       "75%           0.009434\n",
       "max           0.577278\n",
       "Name: returns, dtype: float64"
      ]
     },
     "execution_count": 48,
     "metadata": {},
     "output_type": "execute_result"
    }
   ],
   "source": [
    "# Remove any return observation that is grater than (3 * std)\n",
    "df_master = df_master[abs(df_master['returns']) <= (df_master['returns'].std() * 3)]\n",
    "df_master['returns'].describe()"
   ]
  },
  {
   "cell_type": "code",
   "execution_count": 49,
   "metadata": {
    "pycharm": {
     "name": "#%%\n"
    }
   },
   "outputs": [],
   "source": [
    "# Split the sample into quintiles\n",
    "# 1 -> worst tone\n",
    "# 5 -> best tone\n",
    "quintile_labels = ['quintile_' + str(i) for i in range(1,6)]\n",
    "\n",
    "df_master['quintile_tone_rank'] = df_master.groupby('date')['phi_npt'].transform(\n",
    "    lambda x: pd.qcut(x=x, q=5, labels=quintile_labels ))"
   ]
  },
  {
   "cell_type": "code",
   "execution_count": 50,
   "metadata": {},
   "outputs": [
    {
     "data": {
      "text/html": [
       "<div>\n",
       "<style scoped>\n",
       "    .dataframe tbody tr th:only-of-type {\n",
       "        vertical-align: middle;\n",
       "    }\n",
       "\n",
       "    .dataframe tbody tr th {\n",
       "        vertical-align: top;\n",
       "    }\n",
       "\n",
       "    .dataframe thead th {\n",
       "        text-align: right;\n",
       "    }\n",
       "</style>\n",
       "<table border=\"1\" class=\"dataframe\">\n",
       "  <thead>\n",
       "    <tr style=\"text-align: right;\">\n",
       "      <th></th>\n",
       "      <th>date</th>\n",
       "      <th>price</th>\n",
       "      <th>returns</th>\n",
       "      <th>cik</th>\n",
       "      <th>file_name</th>\n",
       "      <th>phi_pos</th>\n",
       "      <th>phi_neg</th>\n",
       "      <th>phi_npt</th>\n",
       "      <th>num of cleaned words</th>\n",
       "      <th>filing_date</th>\n",
       "      <th>ticker</th>\n",
       "      <th>quintile_tone_rank</th>\n",
       "    </tr>\n",
       "  </thead>\n",
       "  <tbody>\n",
       "    <tr>\n",
       "      <th>0</th>\n",
       "      <td>2005-03-16</td>\n",
       "      <td>9.2306</td>\n",
       "      <td>-0.013551</td>\n",
       "      <td>1130310</td>\n",
       "      <td>1130310_MDA_2005-03-16.txt</td>\n",
       "      <td>0.031779</td>\n",
       "      <td>0.02942</td>\n",
       "      <td>0.038549</td>\n",
       "      <td>7206.0</td>\n",
       "      <td>2005-03-16</td>\n",
       "      <td>CNP</td>\n",
       "      <td>quintile_1</td>\n",
       "    </tr>\n",
       "    <tr>\n",
       "      <th>1</th>\n",
       "      <td>2005-03-17</td>\n",
       "      <td>9.2976</td>\n",
       "      <td>0.007258</td>\n",
       "      <td>1130310</td>\n",
       "      <td>1130310_MDA_2005-03-16.txt</td>\n",
       "      <td>0.031779</td>\n",
       "      <td>0.02942</td>\n",
       "      <td>0.038549</td>\n",
       "      <td>7206.0</td>\n",
       "      <td>2005-03-16</td>\n",
       "      <td>CNP</td>\n",
       "      <td>quintile_1</td>\n",
       "    </tr>\n",
       "    <tr>\n",
       "      <th>2</th>\n",
       "      <td>2005-03-18</td>\n",
       "      <td>9.3221</td>\n",
       "      <td>0.002635</td>\n",
       "      <td>1130310</td>\n",
       "      <td>1130310_MDA_2005-03-16.txt</td>\n",
       "      <td>0.031779</td>\n",
       "      <td>0.02942</td>\n",
       "      <td>0.038549</td>\n",
       "      <td>7206.0</td>\n",
       "      <td>2005-03-16</td>\n",
       "      <td>CNP</td>\n",
       "      <td>quintile_1</td>\n",
       "    </tr>\n",
       "    <tr>\n",
       "      <th>3</th>\n",
       "      <td>2005-03-21</td>\n",
       "      <td>9.2529</td>\n",
       "      <td>-0.007423</td>\n",
       "      <td>1130310</td>\n",
       "      <td>1130310_MDA_2005-03-16.txt</td>\n",
       "      <td>0.031779</td>\n",
       "      <td>0.02942</td>\n",
       "      <td>0.038549</td>\n",
       "      <td>7206.0</td>\n",
       "      <td>2005-03-16</td>\n",
       "      <td>CNP</td>\n",
       "      <td>quintile_1</td>\n",
       "    </tr>\n",
       "    <tr>\n",
       "      <th>4</th>\n",
       "      <td>2005-03-22</td>\n",
       "      <td>8.9938</td>\n",
       "      <td>-0.028002</td>\n",
       "      <td>1130310</td>\n",
       "      <td>1130310_MDA_2005-03-16.txt</td>\n",
       "      <td>0.031779</td>\n",
       "      <td>0.02942</td>\n",
       "      <td>0.038549</td>\n",
       "      <td>7206.0</td>\n",
       "      <td>2005-03-16</td>\n",
       "      <td>CNP</td>\n",
       "      <td>quintile_1</td>\n",
       "    </tr>\n",
       "  </tbody>\n",
       "</table>\n",
       "</div>"
      ],
      "text/plain": [
       "        date   price   returns      cik                   file_name   phi_pos  \\\n",
       "0 2005-03-16  9.2306 -0.013551  1130310  1130310_MDA_2005-03-16.txt  0.031779   \n",
       "1 2005-03-17  9.2976  0.007258  1130310  1130310_MDA_2005-03-16.txt  0.031779   \n",
       "2 2005-03-18  9.3221  0.002635  1130310  1130310_MDA_2005-03-16.txt  0.031779   \n",
       "3 2005-03-21  9.2529 -0.007423  1130310  1130310_MDA_2005-03-16.txt  0.031779   \n",
       "4 2005-03-22  8.9938 -0.028002  1130310  1130310_MDA_2005-03-16.txt  0.031779   \n",
       "\n",
       "   phi_neg   phi_npt  num of cleaned words filing_date ticker  \\\n",
       "0  0.02942  0.038549                7206.0  2005-03-16    CNP   \n",
       "1  0.02942  0.038549                7206.0  2005-03-16    CNP   \n",
       "2  0.02942  0.038549                7206.0  2005-03-16    CNP   \n",
       "3  0.02942  0.038549                7206.0  2005-03-16    CNP   \n",
       "4  0.02942  0.038549                7206.0  2005-03-16    CNP   \n",
       "\n",
       "  quintile_tone_rank  \n",
       "0         quintile_1  \n",
       "1         quintile_1  \n",
       "2         quintile_1  \n",
       "3         quintile_1  \n",
       "4         quintile_1  "
      ]
     },
     "execution_count": 50,
     "metadata": {},
     "output_type": "execute_result"
    }
   ],
   "source": [
    "df_master.head()"
   ]
  },
  {
   "cell_type": "code",
   "execution_count": 51,
   "metadata": {},
   "outputs": [
    {
     "data": {
      "text/plain": [
       "quintile_2    1520\n",
       "quintile_3    1274\n",
       "quintile_1     395\n",
       "quintile_5       0\n",
       "quintile_4       0\n",
       "Name: quintile_tone_rank, dtype: int64"
      ]
     },
     "execution_count": 51,
     "metadata": {},
     "output_type": "execute_result"
    }
   ],
   "source": [
    "df_master[df_master['ticker'] == 'CNP']['quintile_tone_rank'].value_counts()"
   ]
  },
  {
   "cell_type": "code",
   "execution_count": 52,
   "metadata": {
    "pycharm": {
     "name": "#%%\n"
    }
   },
   "outputs": [
    {
     "data": {
      "text/html": [
       "<div>\n",
       "<style scoped>\n",
       "    .dataframe tbody tr th:only-of-type {\n",
       "        vertical-align: middle;\n",
       "    }\n",
       "\n",
       "    .dataframe tbody tr th {\n",
       "        vertical-align: top;\n",
       "    }\n",
       "\n",
       "    .dataframe thead th {\n",
       "        text-align: right;\n",
       "    }\n",
       "</style>\n",
       "<table border=\"1\" class=\"dataframe\">\n",
       "  <thead>\n",
       "    <tr style=\"text-align: right;\">\n",
       "      <th>ticker</th>\n",
       "      <th>A</th>\n",
       "      <th>ADBE</th>\n",
       "      <th>AES</th>\n",
       "      <th>AKAM</th>\n",
       "      <th>ALK</th>\n",
       "      <th>ALL</th>\n",
       "      <th>AMGN</th>\n",
       "      <th>APC</th>\n",
       "      <th>APD</th>\n",
       "      <th>ARE</th>\n",
       "      <th>...</th>\n",
       "      <th>TRIP</th>\n",
       "      <th>TROW</th>\n",
       "      <th>TSCO</th>\n",
       "      <th>ULTA</th>\n",
       "      <th>UNM</th>\n",
       "      <th>V</th>\n",
       "      <th>VAR</th>\n",
       "      <th>VIAB</th>\n",
       "      <th>WCG</th>\n",
       "      <th>ZTS</th>\n",
       "    </tr>\n",
       "    <tr>\n",
       "      <th>quintile_tone_rank</th>\n",
       "      <th></th>\n",
       "      <th></th>\n",
       "      <th></th>\n",
       "      <th></th>\n",
       "      <th></th>\n",
       "      <th></th>\n",
       "      <th></th>\n",
       "      <th></th>\n",
       "      <th></th>\n",
       "      <th></th>\n",
       "      <th></th>\n",
       "      <th></th>\n",
       "      <th></th>\n",
       "      <th></th>\n",
       "      <th></th>\n",
       "      <th></th>\n",
       "      <th></th>\n",
       "      <th></th>\n",
       "      <th></th>\n",
       "      <th></th>\n",
       "      <th></th>\n",
       "    </tr>\n",
       "  </thead>\n",
       "  <tbody>\n",
       "    <tr>\n",
       "      <th>quintile_1</th>\n",
       "      <td>NaN</td>\n",
       "      <td>NaN</td>\n",
       "      <td>2732.0</td>\n",
       "      <td>NaN</td>\n",
       "      <td>240.0</td>\n",
       "      <td>3203.0</td>\n",
       "      <td>254.0</td>\n",
       "      <td>224.0</td>\n",
       "      <td>250.0</td>\n",
       "      <td>497.0</td>\n",
       "      <td>...</td>\n",
       "      <td>NaN</td>\n",
       "      <td>251.0</td>\n",
       "      <td>NaN</td>\n",
       "      <td>NaN</td>\n",
       "      <td>504.0</td>\n",
       "      <td>NaN</td>\n",
       "      <td>893.0</td>\n",
       "      <td>NaN</td>\n",
       "      <td>NaN</td>\n",
       "      <td>NaN</td>\n",
       "    </tr>\n",
       "    <tr>\n",
       "      <th>quintile_2</th>\n",
       "      <td>746.0</td>\n",
       "      <td>NaN</td>\n",
       "      <td>445.0</td>\n",
       "      <td>252.0</td>\n",
       "      <td>209.0</td>\n",
       "      <td>NaN</td>\n",
       "      <td>1771.0</td>\n",
       "      <td>2713.0</td>\n",
       "      <td>250.0</td>\n",
       "      <td>1891.0</td>\n",
       "      <td>...</td>\n",
       "      <td>NaN</td>\n",
       "      <td>NaN</td>\n",
       "      <td>NaN</td>\n",
       "      <td>NaN</td>\n",
       "      <td>1791.0</td>\n",
       "      <td>NaN</td>\n",
       "      <td>1573.0</td>\n",
       "      <td>NaN</td>\n",
       "      <td>NaN</td>\n",
       "      <td>NaN</td>\n",
       "    </tr>\n",
       "    <tr>\n",
       "      <th>quintile_3</th>\n",
       "      <td>964.0</td>\n",
       "      <td>NaN</td>\n",
       "      <td>3.0</td>\n",
       "      <td>773.0</td>\n",
       "      <td>1359.0</td>\n",
       "      <td>NaN</td>\n",
       "      <td>926.0</td>\n",
       "      <td>253.0</td>\n",
       "      <td>897.0</td>\n",
       "      <td>801.0</td>\n",
       "      <td>...</td>\n",
       "      <td>NaN</td>\n",
       "      <td>NaN</td>\n",
       "      <td>137.0</td>\n",
       "      <td>NaN</td>\n",
       "      <td>896.0</td>\n",
       "      <td>1005.0</td>\n",
       "      <td>474.0</td>\n",
       "      <td>1007.0</td>\n",
       "      <td>249.0</td>\n",
       "      <td>NaN</td>\n",
       "    </tr>\n",
       "    <tr>\n",
       "      <th>quintile_4</th>\n",
       "      <td>764.0</td>\n",
       "      <td>938.0</td>\n",
       "      <td>NaN</td>\n",
       "      <td>978.0</td>\n",
       "      <td>1147.0</td>\n",
       "      <td>NaN</td>\n",
       "      <td>243.0</td>\n",
       "      <td>NaN</td>\n",
       "      <td>608.0</td>\n",
       "      <td>NaN</td>\n",
       "      <td>...</td>\n",
       "      <td>NaN</td>\n",
       "      <td>842.0</td>\n",
       "      <td>1310.0</td>\n",
       "      <td>343.0</td>\n",
       "      <td>NaN</td>\n",
       "      <td>251.0</td>\n",
       "      <td>60.0</td>\n",
       "      <td>250.0</td>\n",
       "      <td>1486.0</td>\n",
       "      <td>669.0</td>\n",
       "    </tr>\n",
       "    <tr>\n",
       "      <th>quintile_5</th>\n",
       "      <td>504.0</td>\n",
       "      <td>1776.0</td>\n",
       "      <td>NaN</td>\n",
       "      <td>1186.0</td>\n",
       "      <td>NaN</td>\n",
       "      <td>NaN</td>\n",
       "      <td>NaN</td>\n",
       "      <td>NaN</td>\n",
       "      <td>NaN</td>\n",
       "      <td>NaN</td>\n",
       "      <td>...</td>\n",
       "      <td>1426.0</td>\n",
       "      <td>2107.0</td>\n",
       "      <td>1746.0</td>\n",
       "      <td>2070.0</td>\n",
       "      <td>NaN</td>\n",
       "      <td>NaN</td>\n",
       "      <td>NaN</td>\n",
       "      <td>NaN</td>\n",
       "      <td>1223.0</td>\n",
       "      <td>498.0</td>\n",
       "    </tr>\n",
       "  </tbody>\n",
       "</table>\n",
       "<p>5 rows × 91 columns</p>\n",
       "</div>"
      ],
      "text/plain": [
       "ticker                  A    ADBE     AES    AKAM     ALK     ALL    AMGN  \\\n",
       "quintile_tone_rank                                                          \n",
       "quintile_1            NaN     NaN  2732.0     NaN   240.0  3203.0   254.0   \n",
       "quintile_2          746.0     NaN   445.0   252.0   209.0     NaN  1771.0   \n",
       "quintile_3          964.0     NaN     3.0   773.0  1359.0     NaN   926.0   \n",
       "quintile_4          764.0   938.0     NaN   978.0  1147.0     NaN   243.0   \n",
       "quintile_5          504.0  1776.0     NaN  1186.0     NaN     NaN     NaN   \n",
       "\n",
       "ticker                 APC    APD     ARE  ...    TRIP    TROW    TSCO  \\\n",
       "quintile_tone_rank                         ...                           \n",
       "quintile_1           224.0  250.0   497.0  ...     NaN   251.0     NaN   \n",
       "quintile_2          2713.0  250.0  1891.0  ...     NaN     NaN     NaN   \n",
       "quintile_3           253.0  897.0   801.0  ...     NaN     NaN   137.0   \n",
       "quintile_4             NaN  608.0     NaN  ...     NaN   842.0  1310.0   \n",
       "quintile_5             NaN    NaN     NaN  ...  1426.0  2107.0  1746.0   \n",
       "\n",
       "ticker                ULTA     UNM       V     VAR    VIAB     WCG    ZTS  \n",
       "quintile_tone_rank                                                         \n",
       "quintile_1             NaN   504.0     NaN   893.0     NaN     NaN    NaN  \n",
       "quintile_2             NaN  1791.0     NaN  1573.0     NaN     NaN    NaN  \n",
       "quintile_3             NaN   896.0  1005.0   474.0  1007.0   249.0    NaN  \n",
       "quintile_4           343.0     NaN   251.0    60.0   250.0  1486.0  669.0  \n",
       "quintile_5          2070.0     NaN     NaN     NaN     NaN  1223.0  498.0  \n",
       "\n",
       "[5 rows x 91 columns]"
      ]
     },
     "execution_count": 52,
     "metadata": {},
     "output_type": "execute_result"
    }
   ],
   "source": [
    "df_master.groupby('quintile_tone_rank')['ticker'].value_counts().unstack()"
   ]
  },
  {
   "cell_type": "code",
   "execution_count": 53,
   "metadata": {
    "pycharm": {
     "name": "#%%\n"
    }
   },
   "outputs": [],
   "source": [
    "# Take returns of all of the firms in each quintiles and calculate the mean\n",
    "# We take the mean to calculate the return on an equaly weighted portfolio\n",
    "sentiment_returns = df_master.groupby(['date', 'quintile_tone_rank'])['returns'].mean().unstack()"
   ]
  },
  {
   "cell_type": "code",
   "execution_count": 54,
   "metadata": {
    "pycharm": {
     "name": "#%%\n"
    }
   },
   "outputs": [
    {
     "data": {
      "text/html": [
       "<div>\n",
       "<style scoped>\n",
       "    .dataframe tbody tr th:only-of-type {\n",
       "        vertical-align: middle;\n",
       "    }\n",
       "\n",
       "    .dataframe tbody tr th {\n",
       "        vertical-align: top;\n",
       "    }\n",
       "\n",
       "    .dataframe thead th {\n",
       "        text-align: right;\n",
       "    }\n",
       "</style>\n",
       "<table border=\"1\" class=\"dataframe\">\n",
       "  <thead>\n",
       "    <tr style=\"text-align: right;\">\n",
       "      <th>quintile_tone_rank</th>\n",
       "      <th>quintile_1</th>\n",
       "      <th>quintile_2</th>\n",
       "      <th>quintile_3</th>\n",
       "      <th>quintile_4</th>\n",
       "      <th>quintile_5</th>\n",
       "    </tr>\n",
       "    <tr>\n",
       "      <th>date</th>\n",
       "      <th></th>\n",
       "      <th></th>\n",
       "      <th></th>\n",
       "      <th></th>\n",
       "      <th></th>\n",
       "    </tr>\n",
       "  </thead>\n",
       "  <tbody>\n",
       "    <tr>\n",
       "      <th>2005-02-24</th>\n",
       "      <td>0.020009</td>\n",
       "      <td>NaN</td>\n",
       "      <td>NaN</td>\n",
       "      <td>NaN</td>\n",
       "      <td>0.029873</td>\n",
       "    </tr>\n",
       "    <tr>\n",
       "      <th>2005-02-25</th>\n",
       "      <td>0.006221</td>\n",
       "      <td>NaN</td>\n",
       "      <td>NaN</td>\n",
       "      <td>NaN</td>\n",
       "      <td>0.017834</td>\n",
       "    </tr>\n",
       "    <tr>\n",
       "      <th>2005-02-28</th>\n",
       "      <td>-0.006721</td>\n",
       "      <td>0.002292</td>\n",
       "      <td>-0.009611</td>\n",
       "      <td>-0.006633</td>\n",
       "      <td>-0.009890</td>\n",
       "    </tr>\n",
       "    <tr>\n",
       "      <th>2005-03-01</th>\n",
       "      <td>0.007352</td>\n",
       "      <td>0.004593</td>\n",
       "      <td>0.024596</td>\n",
       "      <td>0.001139</td>\n",
       "      <td>0.012133</td>\n",
       "    </tr>\n",
       "    <tr>\n",
       "      <th>2005-03-02</th>\n",
       "      <td>-0.003139</td>\n",
       "      <td>-0.007467</td>\n",
       "      <td>0.000705</td>\n",
       "      <td>0.005407</td>\n",
       "      <td>0.001424</td>\n",
       "    </tr>\n",
       "    <tr>\n",
       "      <th>...</th>\n",
       "      <td>...</td>\n",
       "      <td>...</td>\n",
       "      <td>...</td>\n",
       "      <td>...</td>\n",
       "      <td>...</td>\n",
       "    </tr>\n",
       "    <tr>\n",
       "      <th>2017-11-06</th>\n",
       "      <td>0.002359</td>\n",
       "      <td>0.012776</td>\n",
       "      <td>0.002051</td>\n",
       "      <td>-0.003245</td>\n",
       "      <td>0.012480</td>\n",
       "    </tr>\n",
       "    <tr>\n",
       "      <th>2017-11-07</th>\n",
       "      <td>-0.001136</td>\n",
       "      <td>-0.001934</td>\n",
       "      <td>0.000910</td>\n",
       "      <td>0.000246</td>\n",
       "      <td>-0.013540</td>\n",
       "    </tr>\n",
       "    <tr>\n",
       "      <th>2017-11-08</th>\n",
       "      <td>-0.001741</td>\n",
       "      <td>0.001377</td>\n",
       "      <td>0.004139</td>\n",
       "      <td>0.004504</td>\n",
       "      <td>0.008362</td>\n",
       "    </tr>\n",
       "    <tr>\n",
       "      <th>2017-11-09</th>\n",
       "      <td>-0.002614</td>\n",
       "      <td>-0.000862</td>\n",
       "      <td>-0.002473</td>\n",
       "      <td>-0.005798</td>\n",
       "      <td>-0.002347</td>\n",
       "    </tr>\n",
       "    <tr>\n",
       "      <th>2017-11-10</th>\n",
       "      <td>0.001179</td>\n",
       "      <td>-0.001130</td>\n",
       "      <td>-0.000011</td>\n",
       "      <td>-0.001108</td>\n",
       "      <td>0.003293</td>\n",
       "    </tr>\n",
       "  </tbody>\n",
       "</table>\n",
       "<p>3203 rows × 5 columns</p>\n",
       "</div>"
      ],
      "text/plain": [
       "quintile_tone_rank  quintile_1  quintile_2  quintile_3  quintile_4  quintile_5\n",
       "date                                                                          \n",
       "2005-02-24            0.020009         NaN         NaN         NaN    0.029873\n",
       "2005-02-25            0.006221         NaN         NaN         NaN    0.017834\n",
       "2005-02-28           -0.006721    0.002292   -0.009611   -0.006633   -0.009890\n",
       "2005-03-01            0.007352    0.004593    0.024596    0.001139    0.012133\n",
       "2005-03-02           -0.003139   -0.007467    0.000705    0.005407    0.001424\n",
       "...                        ...         ...         ...         ...         ...\n",
       "2017-11-06            0.002359    0.012776    0.002051   -0.003245    0.012480\n",
       "2017-11-07           -0.001136   -0.001934    0.000910    0.000246   -0.013540\n",
       "2017-11-08           -0.001741    0.001377    0.004139    0.004504    0.008362\n",
       "2017-11-09           -0.002614   -0.000862   -0.002473   -0.005798   -0.002347\n",
       "2017-11-10            0.001179   -0.001130   -0.000011   -0.001108    0.003293\n",
       "\n",
       "[3203 rows x 5 columns]"
      ]
     },
     "execution_count": 54,
     "metadata": {},
     "output_type": "execute_result"
    }
   ],
   "source": [
    "sentiment_returns"
   ]
  },
  {
   "cell_type": "code",
   "execution_count": 55,
   "metadata": {
    "pycharm": {
     "name": "#%%\n"
    }
   },
   "outputs": [],
   "source": [
    "sentiment_returns.dropna(inplace=True)"
   ]
  },
  {
   "cell_type": "code",
   "execution_count": 56,
   "metadata": {
    "pycharm": {
     "name": "#%%\n"
    }
   },
   "outputs": [
    {
     "data": {
      "text/plain": [
       "<matplotlib.axes._subplots.AxesSubplot at 0x7fa83f3250d0>"
      ]
     },
     "execution_count": 56,
     "metadata": {},
     "output_type": "execute_result"
    },
    {
     "data": {
      "image/png": "[encoded data removed]",
      "text/plain": [
       "<Figure size 864x576 with 1 Axes>"
      ]
     },
     "metadata": {},
     "output_type": "display_data"
    }
   ],
   "source": [
    "(1 + sentiment_returns.cumsum()).plot(figsize=(12,8))"
   ]
  },
  {
   "cell_type": "markdown",
   "metadata": {
    "pycharm": {
     "name": "#%% md\n"
    }
   },
   "source": [
    "### Out hypothesis H1 states that companies with stronger net tone have greater returns that companies with weaker net tone\n",
    "### From the graph we can see that our hypothesis will not hold since Quintile_4 has the biggest returns"
   ]
  },
  {
   "cell_type": "markdown",
   "metadata": {
    "pycharm": {
     "name": "#%% md\n"
    }
   },
   "source": [
    "# Testing the Hypothesis\n",
    "### We can test the null hypothesis by statistically comparing the mean return of both portfolios with the use of a t-test (Student's t-test)\n",
    "### H0 of a t-test: Means of two groups are identical\n",
    "### H1 of a t-test: Means of two groups are not identical\n",
    "#### We will use a t-test because the t-test core hypothesis match our hypothesis"
   ]
  },
  {
   "cell_type": "code",
   "execution_count": 57,
   "metadata": {},
   "outputs": [
    {
     "data": {
      "text/html": [
       "<div>\n",
       "<style scoped>\n",
       "    .dataframe tbody tr th:only-of-type {\n",
       "        vertical-align: middle;\n",
       "    }\n",
       "\n",
       "    .dataframe tbody tr th {\n",
       "        vertical-align: top;\n",
       "    }\n",
       "\n",
       "    .dataframe thead th {\n",
       "        text-align: right;\n",
       "    }\n",
       "</style>\n",
       "<table border=\"1\" class=\"dataframe\">\n",
       "  <thead>\n",
       "    <tr style=\"text-align: right;\">\n",
       "      <th>quintile_tone_rank</th>\n",
       "      <th>quintile_1</th>\n",
       "      <th>quintile_2</th>\n",
       "      <th>quintile_3</th>\n",
       "      <th>quintile_4</th>\n",
       "      <th>quintile_5</th>\n",
       "    </tr>\n",
       "    <tr>\n",
       "      <th>date</th>\n",
       "      <th></th>\n",
       "      <th></th>\n",
       "      <th></th>\n",
       "      <th></th>\n",
       "      <th></th>\n",
       "    </tr>\n",
       "  </thead>\n",
       "  <tbody>\n",
       "    <tr>\n",
       "      <th>2005-02-28</th>\n",
       "      <td>-0.006721</td>\n",
       "      <td>0.002292</td>\n",
       "      <td>-0.009611</td>\n",
       "      <td>-0.006633</td>\n",
       "      <td>-0.009890</td>\n",
       "    </tr>\n",
       "    <tr>\n",
       "      <th>2005-03-01</th>\n",
       "      <td>0.007352</td>\n",
       "      <td>0.004593</td>\n",
       "      <td>0.024596</td>\n",
       "      <td>0.001139</td>\n",
       "      <td>0.012133</td>\n",
       "    </tr>\n",
       "    <tr>\n",
       "      <th>2005-03-02</th>\n",
       "      <td>-0.003139</td>\n",
       "      <td>-0.007467</td>\n",
       "      <td>0.000705</td>\n",
       "      <td>0.005407</td>\n",
       "      <td>0.001424</td>\n",
       "    </tr>\n",
       "    <tr>\n",
       "      <th>2005-03-03</th>\n",
       "      <td>-0.002653</td>\n",
       "      <td>0.000331</td>\n",
       "      <td>0.004094</td>\n",
       "      <td>-0.005462</td>\n",
       "      <td>-0.004653</td>\n",
       "    </tr>\n",
       "    <tr>\n",
       "      <th>2005-03-04</th>\n",
       "      <td>0.008558</td>\n",
       "      <td>0.020013</td>\n",
       "      <td>0.007742</td>\n",
       "      <td>0.008317</td>\n",
       "      <td>0.008014</td>\n",
       "    </tr>\n",
       "  </tbody>\n",
       "</table>\n",
       "</div>"
      ],
      "text/plain": [
       "quintile_tone_rank  quintile_1  quintile_2  quintile_3  quintile_4  quintile_5\n",
       "date                                                                          \n",
       "2005-02-28           -0.006721    0.002292   -0.009611   -0.006633   -0.009890\n",
       "2005-03-01            0.007352    0.004593    0.024596    0.001139    0.012133\n",
       "2005-03-02           -0.003139   -0.007467    0.000705    0.005407    0.001424\n",
       "2005-03-03           -0.002653    0.000331    0.004094   -0.005462   -0.004653\n",
       "2005-03-04            0.008558    0.020013    0.007742    0.008317    0.008014"
      ]
     },
     "execution_count": 57,
     "metadata": {},
     "output_type": "execute_result"
    }
   ],
   "source": [
    "sentiment_returns.head()"
   ]
  },
  {
   "cell_type": "code",
   "execution_count": 58,
   "metadata": {
    "pycharm": {
     "name": "#%%\n"
    }
   },
   "outputs": [],
   "source": [
    "# tStat\n",
    "mean_diff = (sentiment_returns['quintile_5'] - sentiment_returns['quintile_1']).mean()\n",
    "std_diff = (sentiment_returns['quintile_5'] - sentiment_returns['quintile_1']).std()"
   ]
  },
  {
   "cell_type": "code",
   "execution_count": 59,
   "metadata": {
    "pycharm": {
     "name": "#%%\n"
    }
   },
   "outputs": [
    {
     "data": {
      "text/plain": [
       "0.7499692856260776"
      ]
     },
     "execution_count": 59,
     "metadata": {},
     "output_type": "execute_result"
    }
   ],
   "source": [
    "t_stat = mean_diff / (std_diff / np.sqrt(len(sentiment_returns)))\n",
    "t_stat"
   ]
  },
  {
   "cell_type": "markdown",
   "metadata": {},
   "source": [
    "Let's use a scipy t-test\n"
   ]
  },
  {
   "cell_type": "code",
   "execution_count": 60,
   "metadata": {},
   "outputs": [
    {
     "data": {
      "text/plain": [
       "Ttest_relResult(statistic=0.7499692856260779, pvalue=0.453328337315666)"
      ]
     },
     "execution_count": 60,
     "metadata": {},
     "output_type": "execute_result"
    }
   ],
   "source": [
    "result = stats.ttest_rel(sentiment_returns['quintile_5'], sentiment_returns['quintile_1'])\n",
    "result"
   ]
  },
  {
   "cell_type": "markdown",
   "metadata": {
    "pycharm": {
     "name": "#%% md\n"
    }
   },
   "source": [
    "#### As we can see 0.750 is far from ideal value of 2 and p-value is greater than 0.05 so we **cannot reject the null hypothesis**. That means that returns of companies with stronger net positive tone are statistically equal to the returns of companies with weaker net positive tone"
   ]
  },
  {
   "cell_type": "markdown",
   "metadata": {},
   "source": [
    "Nevertheless let's do some Data-mining in order to find if our hypothesis holds under different conditions. "
   ]
  },
  {
   "cell_type": "markdown",
   "metadata": {},
   "source": [
    "Rather than considering all the data as a whole we will test our hypothesis in every single year."
   ]
  },
  {
   "cell_type": "code",
   "execution_count": 61,
   "metadata": {},
   "outputs": [
    {
     "data": {
      "text/html": [
       "<div>\n",
       "<style scoped>\n",
       "    .dataframe tbody tr th:only-of-type {\n",
       "        vertical-align: middle;\n",
       "    }\n",
       "\n",
       "    .dataframe tbody tr th {\n",
       "        vertical-align: top;\n",
       "    }\n",
       "\n",
       "    .dataframe thead th {\n",
       "        text-align: right;\n",
       "    }\n",
       "</style>\n",
       "<table border=\"1\" class=\"dataframe\">\n",
       "  <thead>\n",
       "    <tr style=\"text-align: right;\">\n",
       "      <th>quintile_tone_rank</th>\n",
       "      <th>quintile_1</th>\n",
       "      <th>quintile_2</th>\n",
       "      <th>quintile_3</th>\n",
       "      <th>quintile_4</th>\n",
       "      <th>quintile_5</th>\n",
       "    </tr>\n",
       "    <tr>\n",
       "      <th>date</th>\n",
       "      <th></th>\n",
       "      <th></th>\n",
       "      <th></th>\n",
       "      <th></th>\n",
       "      <th></th>\n",
       "    </tr>\n",
       "  </thead>\n",
       "  <tbody>\n",
       "    <tr>\n",
       "      <th>2005-02-28</th>\n",
       "      <td>-0.006721</td>\n",
       "      <td>0.002292</td>\n",
       "      <td>-0.009611</td>\n",
       "      <td>-0.006633</td>\n",
       "      <td>-0.009890</td>\n",
       "    </tr>\n",
       "    <tr>\n",
       "      <th>2005-03-01</th>\n",
       "      <td>0.007352</td>\n",
       "      <td>0.004593</td>\n",
       "      <td>0.024596</td>\n",
       "      <td>0.001139</td>\n",
       "      <td>0.012133</td>\n",
       "    </tr>\n",
       "    <tr>\n",
       "      <th>2005-03-02</th>\n",
       "      <td>-0.003139</td>\n",
       "      <td>-0.007467</td>\n",
       "      <td>0.000705</td>\n",
       "      <td>0.005407</td>\n",
       "      <td>0.001424</td>\n",
       "    </tr>\n",
       "    <tr>\n",
       "      <th>2005-03-03</th>\n",
       "      <td>-0.002653</td>\n",
       "      <td>0.000331</td>\n",
       "      <td>0.004094</td>\n",
       "      <td>-0.005462</td>\n",
       "      <td>-0.004653</td>\n",
       "    </tr>\n",
       "    <tr>\n",
       "      <th>2005-03-04</th>\n",
       "      <td>0.008558</td>\n",
       "      <td>0.020013</td>\n",
       "      <td>0.007742</td>\n",
       "      <td>0.008317</td>\n",
       "      <td>0.008014</td>\n",
       "    </tr>\n",
       "  </tbody>\n",
       "</table>\n",
       "</div>"
      ],
      "text/plain": [
       "quintile_tone_rank  quintile_1  quintile_2  quintile_3  quintile_4  quintile_5\n",
       "date                                                                          \n",
       "2005-02-28           -0.006721    0.002292   -0.009611   -0.006633   -0.009890\n",
       "2005-03-01            0.007352    0.004593    0.024596    0.001139    0.012133\n",
       "2005-03-02           -0.003139   -0.007467    0.000705    0.005407    0.001424\n",
       "2005-03-03           -0.002653    0.000331    0.004094   -0.005462   -0.004653\n",
       "2005-03-04            0.008558    0.020013    0.007742    0.008317    0.008014"
      ]
     },
     "execution_count": 61,
     "metadata": {},
     "output_type": "execute_result"
    }
   ],
   "source": [
    "sentiment_returns.head()"
   ]
  },
  {
   "cell_type": "code",
   "execution_count": 62,
   "metadata": {},
   "outputs": [
    {
     "data": {
      "text/plain": [
       "['2005',\n",
       " '2006',\n",
       " '2007',\n",
       " '2008',\n",
       " '2009',\n",
       " '2010',\n",
       " '2011',\n",
       " '2012',\n",
       " '2013',\n",
       " '2014',\n",
       " '2015',\n",
       " '2016',\n",
       " '2017']"
      ]
     },
     "execution_count": 62,
     "metadata": {},
     "output_type": "execute_result"
    }
   ],
   "source": [
    "years = sentiment_returns.index.year.unique()\n",
    "years = [str(year) for year in years]\n",
    "years"
   ]
  },
  {
   "cell_type": "code",
   "execution_count": 63,
   "metadata": {},
   "outputs": [],
   "source": [
    "yearly_results = {}\n",
    "for year in years:\n",
    "    df = sentiment_returns[year]\n",
    "    result = stats.ttest_rel(df['quintile_5'], df['quintile_1'])\n",
    "    yearly_results[year] = result"
   ]
  },
  {
   "cell_type": "code",
   "execution_count": 64,
   "metadata": {},
   "outputs": [
    {
     "data": {
      "text/html": [
       "<div>\n",
       "<style scoped>\n",
       "    .dataframe tbody tr th:only-of-type {\n",
       "        vertical-align: middle;\n",
       "    }\n",
       "\n",
       "    .dataframe tbody tr th {\n",
       "        vertical-align: top;\n",
       "    }\n",
       "\n",
       "    .dataframe thead th {\n",
       "        text-align: right;\n",
       "    }\n",
       "</style>\n",
       "<table border=\"1\" class=\"dataframe\">\n",
       "  <thead>\n",
       "    <tr style=\"text-align: right;\">\n",
       "      <th></th>\n",
       "      <th>2005</th>\n",
       "      <th>2006</th>\n",
       "      <th>2007</th>\n",
       "      <th>2008</th>\n",
       "      <th>2009</th>\n",
       "      <th>2010</th>\n",
       "      <th>2011</th>\n",
       "      <th>2012</th>\n",
       "      <th>2013</th>\n",
       "      <th>2014</th>\n",
       "      <th>2015</th>\n",
       "      <th>2016</th>\n",
       "      <th>2017</th>\n",
       "    </tr>\n",
       "  </thead>\n",
       "  <tbody>\n",
       "    <tr>\n",
       "      <th>t_stat</th>\n",
       "      <td>-0.558151</td>\n",
       "      <td>0.891684</td>\n",
       "      <td>3.313743</td>\n",
       "      <td>0.680002</td>\n",
       "      <td>-0.427253</td>\n",
       "      <td>1.114934</td>\n",
       "      <td>0.594959</td>\n",
       "      <td>-0.610218</td>\n",
       "      <td>-0.99365</td>\n",
       "      <td>-1.593904</td>\n",
       "      <td>-0.00217</td>\n",
       "      <td>0.052875</td>\n",
       "      <td>-1.260401</td>\n",
       "    </tr>\n",
       "    <tr>\n",
       "      <th>pval</th>\n",
       "      <td>0.577327</td>\n",
       "      <td>0.373420</td>\n",
       "      <td>0.001057</td>\n",
       "      <td>0.497127</td>\n",
       "      <td>0.669561</td>\n",
       "      <td>0.265945</td>\n",
       "      <td>0.552407</td>\n",
       "      <td>0.542274</td>\n",
       "      <td>0.32135</td>\n",
       "      <td>0.112216</td>\n",
       "      <td>0.99827</td>\n",
       "      <td>0.957873</td>\n",
       "      <td>0.208878</td>\n",
       "    </tr>\n",
       "  </tbody>\n",
       "</table>\n",
       "</div>"
      ],
      "text/plain": [
       "            2005      2006      2007      2008      2009      2010      2011  \\\n",
       "t_stat -0.558151  0.891684  3.313743  0.680002 -0.427253  1.114934  0.594959   \n",
       "pval    0.577327  0.373420  0.001057  0.497127  0.669561  0.265945  0.552407   \n",
       "\n",
       "            2012     2013      2014     2015      2016      2017  \n",
       "t_stat -0.610218 -0.99365 -1.593904 -0.00217  0.052875 -1.260401  \n",
       "pval    0.542274  0.32135  0.112216  0.99827  0.957873  0.208878  "
      ]
     },
     "execution_count": 64,
     "metadata": {},
     "output_type": "execute_result"
    }
   ],
   "source": [
    "pd.DataFrame(yearly_results, index=['t_stat', 'pval'])"
   ]
  },
  {
   "cell_type": "markdown",
   "metadata": {},
   "source": [
    "In the year 2007 we can se that t_stat = 3.314 and p_value=0.001. That means that for the year 2007 we can reject the null in favor of the alternative with the 99%."
   ]
  },
  {
   "cell_type": "markdown",
   "metadata": {},
   "source": [
    "## Why 2007?"
   ]
  },
  {
   "cell_type": "markdown",
   "metadata": {},
   "source": [
    "The year 2007 was the year of the great recession. That means that our hypothesis does not hold in general but it appears to hold in times of crisis."
   ]
  },
  {
   "cell_type": "code",
   "execution_count": 65,
   "metadata": {},
   "outputs": [
    {
     "data": {
      "text/html": [
       "<div>\n",
       "<style scoped>\n",
       "    .dataframe tbody tr th:only-of-type {\n",
       "        vertical-align: middle;\n",
       "    }\n",
       "\n",
       "    .dataframe tbody tr th {\n",
       "        vertical-align: top;\n",
       "    }\n",
       "\n",
       "    .dataframe thead th {\n",
       "        text-align: right;\n",
       "    }\n",
       "</style>\n",
       "<table border=\"1\" class=\"dataframe\">\n",
       "  <thead>\n",
       "    <tr style=\"text-align: right;\">\n",
       "      <th>quintile_tone_rank</th>\n",
       "      <th>quintile_1</th>\n",
       "      <th>quintile_2</th>\n",
       "      <th>quintile_3</th>\n",
       "      <th>quintile_4</th>\n",
       "      <th>quintile_5</th>\n",
       "    </tr>\n",
       "    <tr>\n",
       "      <th>date</th>\n",
       "      <th></th>\n",
       "      <th></th>\n",
       "      <th></th>\n",
       "      <th></th>\n",
       "      <th></th>\n",
       "    </tr>\n",
       "  </thead>\n",
       "  <tbody>\n",
       "    <tr>\n",
       "      <th>2005-02-28</th>\n",
       "      <td>-0.006721</td>\n",
       "      <td>0.002292</td>\n",
       "      <td>-0.009611</td>\n",
       "      <td>-0.006633</td>\n",
       "      <td>-0.009890</td>\n",
       "    </tr>\n",
       "    <tr>\n",
       "      <th>2005-03-01</th>\n",
       "      <td>0.007352</td>\n",
       "      <td>0.004593</td>\n",
       "      <td>0.024596</td>\n",
       "      <td>0.001139</td>\n",
       "      <td>0.012133</td>\n",
       "    </tr>\n",
       "    <tr>\n",
       "      <th>2005-03-02</th>\n",
       "      <td>-0.003139</td>\n",
       "      <td>-0.007467</td>\n",
       "      <td>0.000705</td>\n",
       "      <td>0.005407</td>\n",
       "      <td>0.001424</td>\n",
       "    </tr>\n",
       "    <tr>\n",
       "      <th>2005-03-03</th>\n",
       "      <td>-0.002653</td>\n",
       "      <td>0.000331</td>\n",
       "      <td>0.004094</td>\n",
       "      <td>-0.005462</td>\n",
       "      <td>-0.004653</td>\n",
       "    </tr>\n",
       "    <tr>\n",
       "      <th>2005-03-04</th>\n",
       "      <td>0.008558</td>\n",
       "      <td>0.020013</td>\n",
       "      <td>0.007742</td>\n",
       "      <td>0.008317</td>\n",
       "      <td>0.008014</td>\n",
       "    </tr>\n",
       "    <tr>\n",
       "      <th>...</th>\n",
       "      <td>...</td>\n",
       "      <td>...</td>\n",
       "      <td>...</td>\n",
       "      <td>...</td>\n",
       "      <td>...</td>\n",
       "    </tr>\n",
       "    <tr>\n",
       "      <th>2008-12-24</th>\n",
       "      <td>0.006393</td>\n",
       "      <td>-0.002409</td>\n",
       "      <td>0.006793</td>\n",
       "      <td>0.007120</td>\n",
       "      <td>0.010467</td>\n",
       "    </tr>\n",
       "    <tr>\n",
       "      <th>2008-12-26</th>\n",
       "      <td>0.009797</td>\n",
       "      <td>0.004723</td>\n",
       "      <td>0.010894</td>\n",
       "      <td>0.015131</td>\n",
       "      <td>0.010001</td>\n",
       "    </tr>\n",
       "    <tr>\n",
       "      <th>2008-12-29</th>\n",
       "      <td>-0.014796</td>\n",
       "      <td>-0.005507</td>\n",
       "      <td>-0.007463</td>\n",
       "      <td>-0.010712</td>\n",
       "      <td>-0.019247</td>\n",
       "    </tr>\n",
       "    <tr>\n",
       "      <th>2008-12-30</th>\n",
       "      <td>0.037046</td>\n",
       "      <td>0.024793</td>\n",
       "      <td>0.029922</td>\n",
       "      <td>0.037468</td>\n",
       "      <td>0.030600</td>\n",
       "    </tr>\n",
       "    <tr>\n",
       "      <th>2008-12-31</th>\n",
       "      <td>0.017309</td>\n",
       "      <td>0.020535</td>\n",
       "      <td>0.020097</td>\n",
       "      <td>0.022357</td>\n",
       "      <td>0.022347</td>\n",
       "    </tr>\n",
       "  </tbody>\n",
       "</table>\n",
       "<p>969 rows × 5 columns</p>\n",
       "</div>"
      ],
      "text/plain": [
       "quintile_tone_rank  quintile_1  quintile_2  quintile_3  quintile_4  quintile_5\n",
       "date                                                                          \n",
       "2005-02-28           -0.006721    0.002292   -0.009611   -0.006633   -0.009890\n",
       "2005-03-01            0.007352    0.004593    0.024596    0.001139    0.012133\n",
       "2005-03-02           -0.003139   -0.007467    0.000705    0.005407    0.001424\n",
       "2005-03-03           -0.002653    0.000331    0.004094   -0.005462   -0.004653\n",
       "2005-03-04            0.008558    0.020013    0.007742    0.008317    0.008014\n",
       "...                        ...         ...         ...         ...         ...\n",
       "2008-12-24            0.006393   -0.002409    0.006793    0.007120    0.010467\n",
       "2008-12-26            0.009797    0.004723    0.010894    0.015131    0.010001\n",
       "2008-12-29           -0.014796   -0.005507   -0.007463   -0.010712   -0.019247\n",
       "2008-12-30            0.037046    0.024793    0.029922    0.037468    0.030600\n",
       "2008-12-31            0.017309    0.020535    0.020097    0.022357    0.022347\n",
       "\n",
       "[969 rows x 5 columns]"
      ]
     },
     "execution_count": 65,
     "metadata": {},
     "output_type": "execute_result"
    }
   ],
   "source": [
    "recession_subsample = sentiment_returns['2005':'2008']\n",
    "recession_subsample"
   ]
  },
  {
   "cell_type": "code",
   "execution_count": 66,
   "metadata": {},
   "outputs": [
    {
     "data": {
      "text/plain": [
       "Ttest_relResult(statistic=1.9563443820353983, pvalue=0.05071183373592766)"
      ]
     },
     "execution_count": 66,
     "metadata": {},
     "output_type": "execute_result"
    }
   ],
   "source": [
    "stats.ttest_rel(recession_subsample['quintile_5'], recession_subsample['quintile_1'])"
   ]
  },
  {
   "cell_type": "code",
   "execution_count": 67,
   "metadata": {},
   "outputs": [
    {
     "data": {
      "text/plain": [
       "<matplotlib.axes._subplots.AxesSubplot at 0x7fa828b6a910>"
      ]
     },
     "execution_count": 67,
     "metadata": {},
     "output_type": "execute_result"
    },
    {
     "data": {
      "image/png": "[encoded data removed]",
      "text/plain": [
       "<Figure size 864x576 with 1 Axes>"
      ]
     },
     "metadata": {},
     "output_type": "display_data"
    }
   ],
   "source": [
    "(1 + recession_subsample.cumsum()).plot(figsize=(12,8))"
   ]
  },
  {
   "cell_type": "markdown",
   "metadata": {},
   "source": [
    "As we can see in the graph above the returns of companies in quintile_5 overtook returns of companies in quintile_1 by a great magnitude in the year 2007. Ever since gap remains as we can see in the graph below. "
   ]
  },
  {
   "cell_type": "code",
   "execution_count": 68,
   "metadata": {},
   "outputs": [
    {
     "data": {
      "text/plain": [
       "<matplotlib.axes._subplots.AxesSubplot at 0x7fa83f320f90>"
      ]
     },
     "execution_count": 68,
     "metadata": {},
     "output_type": "execute_result"
    },
    {
     "data": {
      "image/png": "[encoded data removed]",
      "text/plain": [
       "<Figure size 864x576 with 1 Axes>"
      ]
     },
     "metadata": {},
     "output_type": "display_data"
    }
   ],
   "source": [
    "(1 + sentiment_returns.cumsum()).plot(figsize=(12,8))"
   ]
  },
  {
   "cell_type": "markdown",
   "metadata": {},
   "source": [
    "## It appears that returns of companies with stronger net positive tone are infact statistically greater than returns of companies with weaker net postive tone durring the time of crisis."
   ]
  }
 ],
 "metadata": {
  "kernelspec": {
   "display_name": "Python 3",
   "language": "python",
   "name": "python3"
  },
  "language_info": {
   "codemirror_mode": {
    "name": "ipython",
    "version": 3
   },
   "file_extension": ".py",
   "mimetype": "text/x-python",
   "name": "python",
   "nbconvert_exporter": "python",
   "pygments_lexer": "ipython3",
   "version": "3.7.4"
  }
 },
 "nbformat": 4,
 "nbformat_minor": 1
}