{
 "cells": [
  {
   "cell_type": "markdown",
   "metadata": {},
   "source": [
    "<div class=\"row\">\n",
    "  <div class=\"column\" style=\"float:left;\">\n",
    "    <img src=\"https://upload.wikimedia.org/wikipedia/commons/thumb/0/05/Scikit_learn_logo_small.svg/1200px-Scikit_learn_logo_small.svg.png\" width=200 height=200 />\n",
    "  </div>\n",
    "  <div class=\"column\" style=\"float:left; padding:10px\">\n",
    "<img src=\"https://miro.medium.com/max/2436/1*Uowkdl_riYAj4ZGtV0EZ1Q.png\" width=200 height=300 />\n",
    "  </div>\n",
    "  <div class=\"column\" style=\"float:right;\">\n",
    "      <p>Author: Marko Mlakar</p>\n",
    "      <a href=\"https://www.linkedin.com/in/marko-mlakar-b37483172/\">\n",
    "        <img border=\"0\" alt=\"LinkedIn\" src=\"https://image.flaticon.com/icons/png/512/174/174857.png\" width=\"20\" height=\"20\">\n",
    "      </a>\n",
    "      <a href=\"https://github.com/MarkoMlakar/\">\n",
    "        <img border=\"0\" alt=\"GiutHub\" src=\"https://cdn2.iconfinder.com/data/icons/font-awesome/1792/github-square-512.png\" width=\"20\" height=\"20\">\n",
    "      </a>\n",
    "  </div>\n",
    "</div>\n",
    "\n",
    "# Solving classification problems with Scikit-learn compatible Neuroevolution and Weight Agnostic Neural Networks\n",
    "For the past couple of months, I've been doing a lot of research about neuroevolution. The idea is that instead of relying on a fixed topology of a neural network the topology and parameters are evolved through evolution. Typically when creating a neural network one must select the structure and hyperparameters that will work best for a given task. This can sometimes be frustrating because you are not sure that your solution is the best (optimal) one.\n",
    "#### NeuroEvolution of Augmenting Topologies (NEAT)\n",
    "We used a genetic algorithm called NeuroEvolution of Augmenting Topologies (NEAT) which was developed by Kenneth O. Stanley and Risto Miikkulainen in 2002. The algorithm alters the weight parameters and the topology of a neural network to find the balance between fitness and diversity. NEAT shows how it's possible for evolution to both optimize and complexify the solutions simultaneously over generations. If you want to get a deeper understanding of the NEAT algorithm I suggest reading the original papper: http://nn.cs.utexas.edu/downloads/papers/stanley.ec02.pdf\n",
    "#### Weight Agnostic Neural Networks (WANN)\n",
    "Weight Agnostic Neural Networks (WANNs) is a method developed by Adam Gaier and David Ha in 2019. The algorithm is inspired by NEAT and focuses on evolving only the topology of the neural network without evolving the weights. It is a search method for topologies that can perform a task without explicit weight training. The end result is a minimal neural network topology where with a single shared weight parameter. The algorithm for developing WANNs can be summarized in the image below:\n",
    "<img src=\"https://storage.googleapis.com/quickdraw-models/sketchRNN/wann/png/schematic.png\" width=500 height=700 />\n",
    "If you want to know more about Weight Agnostic Neural Networks I suggest reading the original paper: https://weightagnostic.github.io/\n",
    "#### Scikit-learn compatible estimator\n",
    "Since NEAT and WANNs can be used to solve supervised learning problems I decided to make them Scikit-learn compatible. I followed the scikit-learn estimator guidelines and implemented neat-python to be compatible with the open-source ML library. Since the original code for WANNs (https://github.com/google/brain-tokyo-workshop/tree/master/WANNRelease) is created very minimal rather than general I decided to upgrade neat-python source code (more readable code) with the WANN algorithm. If you want to know more about how I upgraded neat-python code to produce weight agnostic neural networks check out my GitHub repository: https://github.com/MarkoMlakar/machine-learning/tree/master/wann-python\n",
    "Back to the scikit-learn estimator. For the sake of convenience, I uploaded my code as a pip package: https://pypi.org/project/neuro-evolution/. For the latest updates check my GitHub repository: https://github.com/MarkoMlakar/sklearn-neuro-evolution.\n",
    "I don't know if this project is going to become an actual estimator in the scikit-learn library but it was fun to explore and make it compatible :). Now on to the experiment!\n",
    "\n",
    "#### Experiment description \n",
    "\n",
    "I want to compare the performance between the scikit-learn compatible NEAT and WANN classifiers. I also want to find out how they compare to handmade neural networks using Tensorflow in terms of accuracy and topology. I will be using pretty simple benchmark datasets from binary to the multivariate classification which will be described later on. In the beginning, I will do some data preprocessing and data analysis. Later on, I will create classification models for NEAT, WANN, and TensorFlow and compare the results.\n",
    "\n",
    "#### Iris flower dataset\n",
    "The Iris dataset or Fisher's Iris dataset (Fisher, 1936) is probably the best-known dataset to be found in the pattern recognition world. It is interesting that there are three distinct species of the iris flower but look very similar. With the help of our scikit-learn compatible estimator, we will build a classification model that will be able to classify iris flowers into the correct species. The dataset can be found on the  UCI Machine Learning Repository: https://archive.ics.uci.edu/ml/datasets/iris.\n",
    "\n",
    "The Iris genus entails about 300 species, but our program will only classify the following three:\n",
    "\n",
    "* Iris setosa\n",
    "\n",
    "* Iris virginica\n",
    "\n",
    "* Iris versicolor\n",
    "\n",
    "#### Wine dataset\n",
    "These data are the results of a chemical analysis of wines grown in the same region in Italy but derived from three different cultivars. The analysis determined the quantities of 13 constituents found in each of the three types of wines. \n",
    "The dataset can be found on the UCI Machine Learning Repository: https://archive.ics.uci.edu/ml/datasets/wine\n",
    "\n",
    "#### Breast Cancer Wisconsin (Diagnostic) dataset\n",
    "Features are computed from a digitized image of a fine needle aspirate (FNA) of a breast mass. They describe characteristics of the cell nuclei present in the image.\n",
    "The dataset can be found on the UCI Machine Learning Repository: https://archive.ics.uci.edu/ml/datasets/Breast+Cancer+Wisconsin+%28Diagnostic%29"
   ]
  },
  {
   "cell_type": "markdown",
   "metadata": {},
   "source": [
    "### Data preprocessing"
   ]
  },
  {
   "cell_type": "code",
   "execution_count": 3,
   "metadata": {},
   "outputs": [],
   "source": [
    "# Import pandas for data analysis\n",
    "import pandas as pd"
   ]
  },
  {
   "cell_type": "markdown",
   "metadata": {},
   "source": [
    "#### Retrieve the data from UCI Machine Learning Repository \n",
    "We will load the data into a pandas dataframe and explicitly name every column (attribute) which will help us have a clear overview of the data later on"
   ]
  },
  {
   "cell_type": "code",
   "execution_count": 406,
   "metadata": {
    "pycharm": {
     "is_executing": true
    }
   },
   "outputs": [],
   "source": [
    "# Load Iris flower dataset\n",
    "iris_url = 'https://archive.ics.uci.edu/ml/machine-learning-databases/iris/iris.data'\n",
    "iris_names = ['sepal-length', 'sepal-width', 'petal-length', 'petal-width', 'class']\n",
    "iris_df = pd.read_csv(iris_url, names=iris_names)"
   ]
  },
  {
   "cell_type": "code",
   "execution_count": 407,
   "metadata": {
    "pycharm": {
     "is_executing": true
    }
   },
   "outputs": [],
   "source": [
    "# Load Wine dataset\n",
    "wine_url = 'https://archive.ics.uci.edu/ml/machine-learning-databases/wine/wine.data'\n",
    "wine_names = ['class', 'alcohol', 'malic-acid', 'ash', 'alcalinity-of-ash', 'magnesium', 'total-phenols',\n",
    "              'flavanoids', 'nonflavanoid-phenols', 'proanthocyanins', 'color-intensity',\n",
    "              'hue', 'OD280/OD315-of-diluted-wines', 'proline']\n",
    "wine_df = pd.read_csv(wine_url, names=wine_names)"
   ]
  },
  {
   "cell_type": "code",
   "execution_count": 408,
   "metadata": {
    "pycharm": {
     "is_executing": true
    }
   },
   "outputs": [],
   "source": [
    "# Load breast cancer dataset\n",
    "cancer_url = 'https://archive.ics.uci.edu/ml/machine-learning-databases/breast-cancer-wisconsin/breast-cancer-wisconsin.data'\n",
    "cancer_names = ['sample-code-number', 'clump-thickness', 'uniformity-of-cell-size', 'uniformity-of-cell-shape',\n",
    "               'marginal-adhesion', 'single-epithelial-cell-size', 'bare-nuclei', 'bland-chromatin', 'normal-nucleoli',\n",
    "               'mitoses', 'class']\n",
    "cancer_df = pd.read_csv(cancer_url, names=cancer_names)"
   ]
  },
  {
   "cell_type": "markdown",
   "metadata": {},
   "source": [
    "#### General information about the datasets\n",
    "Let's get some idea about the type of data we are going to work with"
   ]
  },
  {
   "cell_type": "markdown",
   "metadata": {},
   "source": [
    "##### Shape "
   ]
  },
  {
   "cell_type": "code",
   "execution_count": 409,
   "metadata": {
    "pycharm": {
     "is_executing": true
    }
   },
   "outputs": [
    {
     "name": "stdout",
     "output_type": "stream",
     "text": [
      "Iris dataset shape:  (150, 5)\n",
      "Wine dataset shape:  (178, 14)\n",
      "Breast cancer dataset shape:  (699, 11)\n"
     ]
    }
   ],
   "source": [
    "print(\"Iris dataset shape: \", iris_df.shape)\n",
    "print(\"Wine dataset shape: \", wine_df.shape)\n",
    "print(\"Breast cancer dataset shape: \", cancer_df.shape)"
   ]
  },
  {
   "cell_type": "markdown",
   "metadata": {},
   "source": [
    "##### Head"
   ]
  },
  {
   "cell_type": "code",
   "execution_count": 410,
   "metadata": {
    "pycharm": {
     "is_executing": true
    }
   },
   "outputs": [
    {
     "data": {
      "text/html": [
       "<div>\n",
       "<style scoped>\n",
       "    .dataframe tbody tr th:only-of-type {\n",
       "        vertical-align: middle;\n",
       "    }\n",
       "\n",
       "    .dataframe tbody tr th {\n",
       "        vertical-align: top;\n",
       "    }\n",
       "\n",
       "    .dataframe thead th {\n",
       "        text-align: right;\n",
       "    }\n",
       "</style>\n",
       "<table border=\"1\" class=\"dataframe\">\n",
       "  <thead>\n",
       "    <tr style=\"text-align: right;\">\n",
       "      <th></th>\n",
       "      <th>sepal-length</th>\n",
       "      <th>sepal-width</th>\n",
       "      <th>petal-length</th>\n",
       "      <th>petal-width</th>\n",
       "      <th>class</th>\n",
       "    </tr>\n",
       "  </thead>\n",
       "  <tbody>\n",
       "    <tr>\n",
       "      <th>0</th>\n",
       "      <td>5.1</td>\n",
       "      <td>3.5</td>\n",
       "      <td>1.4</td>\n",
       "      <td>0.2</td>\n",
       "      <td>Iris-setosa</td>\n",
       "    </tr>\n",
       "    <tr>\n",
       "      <th>1</th>\n",
       "      <td>4.9</td>\n",
       "      <td>3.0</td>\n",
       "      <td>1.4</td>\n",
       "      <td>0.2</td>\n",
       "      <td>Iris-setosa</td>\n",
       "    </tr>\n",
       "    <tr>\n",
       "      <th>2</th>\n",
       "      <td>4.7</td>\n",
       "      <td>3.2</td>\n",
       "      <td>1.3</td>\n",
       "      <td>0.2</td>\n",
       "      <td>Iris-setosa</td>\n",
       "    </tr>\n",
       "    <tr>\n",
       "      <th>3</th>\n",
       "      <td>4.6</td>\n",
       "      <td>3.1</td>\n",
       "      <td>1.5</td>\n",
       "      <td>0.2</td>\n",
       "      <td>Iris-setosa</td>\n",
       "    </tr>\n",
       "    <tr>\n",
       "      <th>4</th>\n",
       "      <td>5.0</td>\n",
       "      <td>3.6</td>\n",
       "      <td>1.4</td>\n",
       "      <td>0.2</td>\n",
       "      <td>Iris-setosa</td>\n",
       "    </tr>\n",
       "    <tr>\n",
       "      <th>5</th>\n",
       "      <td>5.4</td>\n",
       "      <td>3.9</td>\n",
       "      <td>1.7</td>\n",
       "      <td>0.4</td>\n",
       "      <td>Iris-setosa</td>\n",
       "    </tr>\n",
       "    <tr>\n",
       "      <th>6</th>\n",
       "      <td>4.6</td>\n",
       "      <td>3.4</td>\n",
       "      <td>1.4</td>\n",
       "      <td>0.3</td>\n",
       "      <td>Iris-setosa</td>\n",
       "    </tr>\n",
       "    <tr>\n",
       "      <th>7</th>\n",
       "      <td>5.0</td>\n",
       "      <td>3.4</td>\n",
       "      <td>1.5</td>\n",
       "      <td>0.2</td>\n",
       "      <td>Iris-setosa</td>\n",
       "    </tr>\n",
       "    <tr>\n",
       "      <th>8</th>\n",
       "      <td>4.4</td>\n",
       "      <td>2.9</td>\n",
       "      <td>1.4</td>\n",
       "      <td>0.2</td>\n",
       "      <td>Iris-setosa</td>\n",
       "    </tr>\n",
       "    <tr>\n",
       "      <th>9</th>\n",
       "      <td>4.9</td>\n",
       "      <td>3.1</td>\n",
       "      <td>1.5</td>\n",
       "      <td>0.1</td>\n",
       "      <td>Iris-setosa</td>\n",
       "    </tr>\n",
       "  </tbody>\n",
       "</table>\n",
       "</div>"
      ],
      "text/plain": [
       "   sepal-length  sepal-width  petal-length  petal-width        class\n",
       "0           5.1          3.5           1.4          0.2  Iris-setosa\n",
       "1           4.9          3.0           1.4          0.2  Iris-setosa\n",
       "2           4.7          3.2           1.3          0.2  Iris-setosa\n",
       "3           4.6          3.1           1.5          0.2  Iris-setosa\n",
       "4           5.0          3.6           1.4          0.2  Iris-setosa\n",
       "5           5.4          3.9           1.7          0.4  Iris-setosa\n",
       "6           4.6          3.4           1.4          0.3  Iris-setosa\n",
       "7           5.0          3.4           1.5          0.2  Iris-setosa\n",
       "8           4.4          2.9           1.4          0.2  Iris-setosa\n",
       "9           4.9          3.1           1.5          0.1  Iris-setosa"
      ]
     },
     "execution_count": 410,
     "metadata": {},
     "output_type": "execute_result"
    }
   ],
   "source": [
    "iris_df.head(n=10)"
   ]
  },
  {
   "cell_type": "code",
   "execution_count": 411,
   "metadata": {
    "pycharm": {
     "is_executing": true
    }
   },
   "outputs": [
    {
     "data": {
      "text/html": [
       "<div>\n",
       "<style scoped>\n",
       "    .dataframe tbody tr th:only-of-type {\n",
       "        vertical-align: middle;\n",
       "    }\n",
       "\n",
       "    .dataframe tbody tr th {\n",
       "        vertical-align: top;\n",
       "    }\n",
       "\n",
       "    .dataframe thead th {\n",
       "        text-align: right;\n",
       "    }\n",
       "</style>\n",
       "<table border=\"1\" class=\"dataframe\">\n",
       "  <thead>\n",
       "    <tr style=\"text-align: right;\">\n",
       "      <th></th>\n",
       "      <th>class</th>\n",
       "      <th>alcohol</th>\n",
       "      <th>malic-acid</th>\n",
       "      <th>ash</th>\n",
       "      <th>alcalinity-of-ash</th>\n",
       "      <th>magnesium</th>\n",
       "      <th>total-phenols</th>\n",
       "      <th>flavanoids</th>\n",
       "      <th>nonflavanoid-phenols</th>\n",
       "      <th>proanthocyanins</th>\n",
       "      <th>color-intensity</th>\n",
       "      <th>hue</th>\n",
       "      <th>OD280/OD315-of-diluted-wines</th>\n",
       "      <th>proline</th>\n",
       "    </tr>\n",
       "  </thead>\n",
       "  <tbody>\n",
       "    <tr>\n",
       "      <th>0</th>\n",
       "      <td>1</td>\n",
       "      <td>14.23</td>\n",
       "      <td>1.71</td>\n",
       "      <td>2.43</td>\n",
       "      <td>15.6</td>\n",
       "      <td>127</td>\n",
       "      <td>2.80</td>\n",
       "      <td>3.06</td>\n",
       "      <td>0.28</td>\n",
       "      <td>2.29</td>\n",
       "      <td>5.64</td>\n",
       "      <td>1.04</td>\n",
       "      <td>3.92</td>\n",
       "      <td>1065</td>\n",
       "    </tr>\n",
       "    <tr>\n",
       "      <th>1</th>\n",
       "      <td>1</td>\n",
       "      <td>13.20</td>\n",
       "      <td>1.78</td>\n",
       "      <td>2.14</td>\n",
       "      <td>11.2</td>\n",
       "      <td>100</td>\n",
       "      <td>2.65</td>\n",
       "      <td>2.76</td>\n",
       "      <td>0.26</td>\n",
       "      <td>1.28</td>\n",
       "      <td>4.38</td>\n",
       "      <td>1.05</td>\n",
       "      <td>3.40</td>\n",
       "      <td>1050</td>\n",
       "    </tr>\n",
       "    <tr>\n",
       "      <th>2</th>\n",
       "      <td>1</td>\n",
       "      <td>13.16</td>\n",
       "      <td>2.36</td>\n",
       "      <td>2.67</td>\n",
       "      <td>18.6</td>\n",
       "      <td>101</td>\n",
       "      <td>2.80</td>\n",
       "      <td>3.24</td>\n",
       "      <td>0.30</td>\n",
       "      <td>2.81</td>\n",
       "      <td>5.68</td>\n",
       "      <td>1.03</td>\n",
       "      <td>3.17</td>\n",
       "      <td>1185</td>\n",
       "    </tr>\n",
       "    <tr>\n",
       "      <th>3</th>\n",
       "      <td>1</td>\n",
       "      <td>14.37</td>\n",
       "      <td>1.95</td>\n",
       "      <td>2.50</td>\n",
       "      <td>16.8</td>\n",
       "      <td>113</td>\n",
       "      <td>3.85</td>\n",
       "      <td>3.49</td>\n",
       "      <td>0.24</td>\n",
       "      <td>2.18</td>\n",
       "      <td>7.80</td>\n",
       "      <td>0.86</td>\n",
       "      <td>3.45</td>\n",
       "      <td>1480</td>\n",
       "    </tr>\n",
       "    <tr>\n",
       "      <th>4</th>\n",
       "      <td>1</td>\n",
       "      <td>13.24</td>\n",
       "      <td>2.59</td>\n",
       "      <td>2.87</td>\n",
       "      <td>21.0</td>\n",
       "      <td>118</td>\n",
       "      <td>2.80</td>\n",
       "      <td>2.69</td>\n",
       "      <td>0.39</td>\n",
       "      <td>1.82</td>\n",
       "      <td>4.32</td>\n",
       "      <td>1.04</td>\n",
       "      <td>2.93</td>\n",
       "      <td>735</td>\n",
       "    </tr>\n",
       "    <tr>\n",
       "      <th>5</th>\n",
       "      <td>1</td>\n",
       "      <td>14.20</td>\n",
       "      <td>1.76</td>\n",
       "      <td>2.45</td>\n",
       "      <td>15.2</td>\n",
       "      <td>112</td>\n",
       "      <td>3.27</td>\n",
       "      <td>3.39</td>\n",
       "      <td>0.34</td>\n",
       "      <td>1.97</td>\n",
       "      <td>6.75</td>\n",
       "      <td>1.05</td>\n",
       "      <td>2.85</td>\n",
       "      <td>1450</td>\n",
       "    </tr>\n",
       "    <tr>\n",
       "      <th>6</th>\n",
       "      <td>1</td>\n",
       "      <td>14.39</td>\n",
       "      <td>1.87</td>\n",
       "      <td>2.45</td>\n",
       "      <td>14.6</td>\n",
       "      <td>96</td>\n",
       "      <td>2.50</td>\n",
       "      <td>2.52</td>\n",
       "      <td>0.30</td>\n",
       "      <td>1.98</td>\n",
       "      <td>5.25</td>\n",
       "      <td>1.02</td>\n",
       "      <td>3.58</td>\n",
       "      <td>1290</td>\n",
       "    </tr>\n",
       "    <tr>\n",
       "      <th>7</th>\n",
       "      <td>1</td>\n",
       "      <td>14.06</td>\n",
       "      <td>2.15</td>\n",
       "      <td>2.61</td>\n",
       "      <td>17.6</td>\n",
       "      <td>121</td>\n",
       "      <td>2.60</td>\n",
       "      <td>2.51</td>\n",
       "      <td>0.31</td>\n",
       "      <td>1.25</td>\n",
       "      <td>5.05</td>\n",
       "      <td>1.06</td>\n",
       "      <td>3.58</td>\n",
       "      <td>1295</td>\n",
       "    </tr>\n",
       "    <tr>\n",
       "      <th>8</th>\n",
       "      <td>1</td>\n",
       "      <td>14.83</td>\n",
       "      <td>1.64</td>\n",
       "      <td>2.17</td>\n",
       "      <td>14.0</td>\n",
       "      <td>97</td>\n",
       "      <td>2.80</td>\n",
       "      <td>2.98</td>\n",
       "      <td>0.29</td>\n",
       "      <td>1.98</td>\n",
       "      <td>5.20</td>\n",
       "      <td>1.08</td>\n",
       "      <td>2.85</td>\n",
       "      <td>1045</td>\n",
       "    </tr>\n",
       "    <tr>\n",
       "      <th>9</th>\n",
       "      <td>1</td>\n",
       "      <td>13.86</td>\n",
       "      <td>1.35</td>\n",
       "      <td>2.27</td>\n",
       "      <td>16.0</td>\n",
       "      <td>98</td>\n",
       "      <td>2.98</td>\n",
       "      <td>3.15</td>\n",
       "      <td>0.22</td>\n",
       "      <td>1.85</td>\n",
       "      <td>7.22</td>\n",
       "      <td>1.01</td>\n",
       "      <td>3.55</td>\n",
       "      <td>1045</td>\n",
       "    </tr>\n",
       "  </tbody>\n",
       "</table>\n",
       "</div>"
      ],
      "text/plain": [
       "   class  alcohol  malic-acid   ash  alcalinity-of-ash  magnesium  \\\n",
       "0      1    14.23        1.71  2.43               15.6        127   \n",
       "1      1    13.20        1.78  2.14               11.2        100   \n",
       "2      1    13.16        2.36  2.67               18.6        101   \n",
       "3      1    14.37        1.95  2.50               16.8        113   \n",
       "4      1    13.24        2.59  2.87               21.0        118   \n",
       "5      1    14.20        1.76  2.45               15.2        112   \n",
       "6      1    14.39        1.87  2.45               14.6         96   \n",
       "7      1    14.06        2.15  2.61               17.6        121   \n",
       "8      1    14.83        1.64  2.17               14.0         97   \n",
       "9      1    13.86        1.35  2.27               16.0         98   \n",
       "\n",
       "   total-phenols  flavanoids  nonflavanoid-phenols  proanthocyanins  \\\n",
       "0           2.80        3.06                  0.28             2.29   \n",
       "1           2.65        2.76                  0.26             1.28   \n",
       "2           2.80        3.24                  0.30             2.81   \n",
       "3           3.85        3.49                  0.24             2.18   \n",
       "4           2.80        2.69                  0.39             1.82   \n",
       "5           3.27        3.39                  0.34             1.97   \n",
       "6           2.50        2.52                  0.30             1.98   \n",
       "7           2.60        2.51                  0.31             1.25   \n",
       "8           2.80        2.98                  0.29             1.98   \n",
       "9           2.98        3.15                  0.22             1.85   \n",
       "\n",
       "   color-intensity   hue  OD280/OD315-of-diluted-wines  proline  \n",
       "0             5.64  1.04                          3.92     1065  \n",
       "1             4.38  1.05                          3.40     1050  \n",
       "2             5.68  1.03                          3.17     1185  \n",
       "3             7.80  0.86                          3.45     1480  \n",
       "4             4.32  1.04                          2.93      735  \n",
       "5             6.75  1.05                          2.85     1450  \n",
       "6             5.25  1.02                          3.58     1290  \n",
       "7             5.05  1.06                          3.58     1295  \n",
       "8             5.20  1.08                          2.85     1045  \n",
       "9             7.22  1.01                          3.55     1045  "
      ]
     },
     "execution_count": 411,
     "metadata": {},
     "output_type": "execute_result"
    }
   ],
   "source": [
    "wine_df.head(n=10)"
   ]
  },
  {
   "cell_type": "code",
   "execution_count": 412,
   "metadata": {
    "pycharm": {
     "is_executing": true
    }
   },
   "outputs": [
    {
     "data": {
      "text/html": [
       "<div>\n",
       "<style scoped>\n",
       "    .dataframe tbody tr th:only-of-type {\n",
       "        vertical-align: middle;\n",
       "    }\n",
       "\n",
       "    .dataframe tbody tr th {\n",
       "        vertical-align: top;\n",
       "    }\n",
       "\n",
       "    .dataframe thead th {\n",
       "        text-align: right;\n",
       "    }\n",
       "</style>\n",
       "<table border=\"1\" class=\"dataframe\">\n",
       "  <thead>\n",
       "    <tr style=\"text-align: right;\">\n",
       "      <th></th>\n",
       "      <th>sample-code-number</th>\n",
       "      <th>clump-thickness</th>\n",
       "      <th>uniformity-of-cell-size</th>\n",
       "      <th>uniformity-of-cell-shape</th>\n",
       "      <th>marginal-adhesion</th>\n",
       "      <th>single-epithelial-cell-size</th>\n",
       "      <th>bare-nuclei</th>\n",
       "      <th>bland-chromatin</th>\n",
       "      <th>normal-nucleoli</th>\n",
       "      <th>mitoses</th>\n",
       "      <th>class</th>\n",
       "    </tr>\n",
       "  </thead>\n",
       "  <tbody>\n",
       "    <tr>\n",
       "      <th>0</th>\n",
       "      <td>1000025</td>\n",
       "      <td>5</td>\n",
       "      <td>1</td>\n",
       "      <td>1</td>\n",
       "      <td>1</td>\n",
       "      <td>2</td>\n",
       "      <td>1</td>\n",
       "      <td>3</td>\n",
       "      <td>1</td>\n",
       "      <td>1</td>\n",
       "      <td>2</td>\n",
       "    </tr>\n",
       "    <tr>\n",
       "      <th>1</th>\n",
       "      <td>1002945</td>\n",
       "      <td>5</td>\n",
       "      <td>4</td>\n",
       "      <td>4</td>\n",
       "      <td>5</td>\n",
       "      <td>7</td>\n",
       "      <td>10</td>\n",
       "      <td>3</td>\n",
       "      <td>2</td>\n",
       "      <td>1</td>\n",
       "      <td>2</td>\n",
       "    </tr>\n",
       "    <tr>\n",
       "      <th>2</th>\n",
       "      <td>1015425</td>\n",
       "      <td>3</td>\n",
       "      <td>1</td>\n",
       "      <td>1</td>\n",
       "      <td>1</td>\n",
       "      <td>2</td>\n",
       "      <td>2</td>\n",
       "      <td>3</td>\n",
       "      <td>1</td>\n",
       "      <td>1</td>\n",
       "      <td>2</td>\n",
       "    </tr>\n",
       "    <tr>\n",
       "      <th>3</th>\n",
       "      <td>1016277</td>\n",
       "      <td>6</td>\n",
       "      <td>8</td>\n",
       "      <td>8</td>\n",
       "      <td>1</td>\n",
       "      <td>3</td>\n",
       "      <td>4</td>\n",
       "      <td>3</td>\n",
       "      <td>7</td>\n",
       "      <td>1</td>\n",
       "      <td>2</td>\n",
       "    </tr>\n",
       "    <tr>\n",
       "      <th>4</th>\n",
       "      <td>1017023</td>\n",
       "      <td>4</td>\n",
       "      <td>1</td>\n",
       "      <td>1</td>\n",
       "      <td>3</td>\n",
       "      <td>2</td>\n",
       "      <td>1</td>\n",
       "      <td>3</td>\n",
       "      <td>1</td>\n",
       "      <td>1</td>\n",
       "      <td>2</td>\n",
       "    </tr>\n",
       "    <tr>\n",
       "      <th>5</th>\n",
       "      <td>1017122</td>\n",
       "      <td>8</td>\n",
       "      <td>10</td>\n",
       "      <td>10</td>\n",
       "      <td>8</td>\n",
       "      <td>7</td>\n",
       "      <td>10</td>\n",
       "      <td>9</td>\n",
       "      <td>7</td>\n",
       "      <td>1</td>\n",
       "      <td>4</td>\n",
       "    </tr>\n",
       "    <tr>\n",
       "      <th>6</th>\n",
       "      <td>1018099</td>\n",
       "      <td>1</td>\n",
       "      <td>1</td>\n",
       "      <td>1</td>\n",
       "      <td>1</td>\n",
       "      <td>2</td>\n",
       "      <td>10</td>\n",
       "      <td>3</td>\n",
       "      <td>1</td>\n",
       "      <td>1</td>\n",
       "      <td>2</td>\n",
       "    </tr>\n",
       "    <tr>\n",
       "      <th>7</th>\n",
       "      <td>1018561</td>\n",
       "      <td>2</td>\n",
       "      <td>1</td>\n",
       "      <td>2</td>\n",
       "      <td>1</td>\n",
       "      <td>2</td>\n",
       "      <td>1</td>\n",
       "      <td>3</td>\n",
       "      <td>1</td>\n",
       "      <td>1</td>\n",
       "      <td>2</td>\n",
       "    </tr>\n",
       "    <tr>\n",
       "      <th>8</th>\n",
       "      <td>1033078</td>\n",
       "      <td>2</td>\n",
       "      <td>1</td>\n",
       "      <td>1</td>\n",
       "      <td>1</td>\n",
       "      <td>2</td>\n",
       "      <td>1</td>\n",
       "      <td>1</td>\n",
       "      <td>1</td>\n",
       "      <td>5</td>\n",
       "      <td>2</td>\n",
       "    </tr>\n",
       "    <tr>\n",
       "      <th>9</th>\n",
       "      <td>1033078</td>\n",
       "      <td>4</td>\n",
       "      <td>2</td>\n",
       "      <td>1</td>\n",
       "      <td>1</td>\n",
       "      <td>2</td>\n",
       "      <td>1</td>\n",
       "      <td>2</td>\n",
       "      <td>1</td>\n",
       "      <td>1</td>\n",
       "      <td>2</td>\n",
       "    </tr>\n",
       "  </tbody>\n",
       "</table>\n",
       "</div>"
      ],
      "text/plain": [
       "   sample-code-number  clump-thickness  uniformity-of-cell-size  \\\n",
       "0             1000025                5                        1   \n",
       "1             1002945                5                        4   \n",
       "2             1015425                3                        1   \n",
       "3             1016277                6                        8   \n",
       "4             1017023                4                        1   \n",
       "5             1017122                8                       10   \n",
       "6             1018099                1                        1   \n",
       "7             1018561                2                        1   \n",
       "8             1033078                2                        1   \n",
       "9             1033078                4                        2   \n",
       "\n",
       "   uniformity-of-cell-shape  marginal-adhesion  single-epithelial-cell-size  \\\n",
       "0                         1                  1                            2   \n",
       "1                         4                  5                            7   \n",
       "2                         1                  1                            2   \n",
       "3                         8                  1                            3   \n",
       "4                         1                  3                            2   \n",
       "5                        10                  8                            7   \n",
       "6                         1                  1                            2   \n",
       "7                         2                  1                            2   \n",
       "8                         1                  1                            2   \n",
       "9                         1                  1                            2   \n",
       "\n",
       "  bare-nuclei  bland-chromatin  normal-nucleoli  mitoses  class  \n",
       "0           1                3                1        1      2  \n",
       "1          10                3                2        1      2  \n",
       "2           2                3                1        1      2  \n",
       "3           4                3                7        1      2  \n",
       "4           1                3                1        1      2  \n",
       "5          10                9                7        1      4  \n",
       "6          10                3                1        1      2  \n",
       "7           1                3                1        1      2  \n",
       "8           1                1                1        5      2  \n",
       "9           1                2                1        1      2  "
      ]
     },
     "execution_count": 412,
     "metadata": {},
     "output_type": "execute_result"
    }
   ],
   "source": [
    "cancer_df.head(n=10)"
   ]
  },
  {
   "cell_type": "markdown",
   "metadata": {},
   "source": [
    "##### Description\n",
    "Before we start doing various analysis on the datasets it is a good practice to check every attribute description. That way we can detect if there are any outliners in our data. In the case of numerical data we will check the min, max, mean and std value."
   ]
  },
  {
   "cell_type": "code",
   "execution_count": 413,
   "metadata": {
    "pycharm": {
     "is_executing": true
    }
   },
   "outputs": [
    {
     "data": {
      "text/html": [
       "<div>\n",
       "<style scoped>\n",
       "    .dataframe tbody tr th:only-of-type {\n",
       "        vertical-align: middle;\n",
       "    }\n",
       "\n",
       "    .dataframe tbody tr th {\n",
       "        vertical-align: top;\n",
       "    }\n",
       "\n",
       "    .dataframe thead th {\n",
       "        text-align: right;\n",
       "    }\n",
       "</style>\n",
       "<table border=\"1\" class=\"dataframe\">\n",
       "  <thead>\n",
       "    <tr style=\"text-align: right;\">\n",
       "      <th></th>\n",
       "      <th>sepal-length</th>\n",
       "      <th>sepal-width</th>\n",
       "      <th>petal-length</th>\n",
       "      <th>petal-width</th>\n",
       "    </tr>\n",
       "  </thead>\n",
       "  <tbody>\n",
       "    <tr>\n",
       "      <th>count</th>\n",
       "      <td>150.000000</td>\n",
       "      <td>150.000000</td>\n",
       "      <td>150.000000</td>\n",
       "      <td>150.000000</td>\n",
       "    </tr>\n",
       "    <tr>\n",
       "      <th>mean</th>\n",
       "      <td>5.843333</td>\n",
       "      <td>3.054000</td>\n",
       "      <td>3.758667</td>\n",
       "      <td>1.198667</td>\n",
       "    </tr>\n",
       "    <tr>\n",
       "      <th>std</th>\n",
       "      <td>0.828066</td>\n",
       "      <td>0.433594</td>\n",
       "      <td>1.764420</td>\n",
       "      <td>0.763161</td>\n",
       "    </tr>\n",
       "    <tr>\n",
       "      <th>min</th>\n",
       "      <td>4.300000</td>\n",
       "      <td>2.000000</td>\n",
       "      <td>1.000000</td>\n",
       "      <td>0.100000</td>\n",
       "    </tr>\n",
       "    <tr>\n",
       "      <th>25%</th>\n",
       "      <td>5.100000</td>\n",
       "      <td>2.800000</td>\n",
       "      <td>1.600000</td>\n",
       "      <td>0.300000</td>\n",
       "    </tr>\n",
       "    <tr>\n",
       "      <th>50%</th>\n",
       "      <td>5.800000</td>\n",
       "      <td>3.000000</td>\n",
       "      <td>4.350000</td>\n",
       "      <td>1.300000</td>\n",
       "    </tr>\n",
       "    <tr>\n",
       "      <th>75%</th>\n",
       "      <td>6.400000</td>\n",
       "      <td>3.300000</td>\n",
       "      <td>5.100000</td>\n",
       "      <td>1.800000</td>\n",
       "    </tr>\n",
       "    <tr>\n",
       "      <th>max</th>\n",
       "      <td>7.900000</td>\n",
       "      <td>4.400000</td>\n",
       "      <td>6.900000</td>\n",
       "      <td>2.500000</td>\n",
       "    </tr>\n",
       "  </tbody>\n",
       "</table>\n",
       "</div>"
      ],
      "text/plain": [
       "       sepal-length  sepal-width  petal-length  petal-width\n",
       "count    150.000000   150.000000    150.000000   150.000000\n",
       "mean       5.843333     3.054000      3.758667     1.198667\n",
       "std        0.828066     0.433594      1.764420     0.763161\n",
       "min        4.300000     2.000000      1.000000     0.100000\n",
       "25%        5.100000     2.800000      1.600000     0.300000\n",
       "50%        5.800000     3.000000      4.350000     1.300000\n",
       "75%        6.400000     3.300000      5.100000     1.800000\n",
       "max        7.900000     4.400000      6.900000     2.500000"
      ]
     },
     "execution_count": 413,
     "metadata": {},
     "output_type": "execute_result"
    }
   ],
   "source": [
    "iris_df.describe()"
   ]
  },
  {
   "cell_type": "code",
   "execution_count": 414,
   "metadata": {
    "pycharm": {
     "is_executing": true
    }
   },
   "outputs": [
    {
     "data": {
      "text/html": [
       "<div>\n",
       "<style scoped>\n",
       "    .dataframe tbody tr th:only-of-type {\n",
       "        vertical-align: middle;\n",
       "    }\n",
       "\n",
       "    .dataframe tbody tr th {\n",
       "        vertical-align: top;\n",
       "    }\n",
       "\n",
       "    .dataframe thead th {\n",
       "        text-align: right;\n",
       "    }\n",
       "</style>\n",
       "<table border=\"1\" class=\"dataframe\">\n",
       "  <thead>\n",
       "    <tr style=\"text-align: right;\">\n",
       "      <th></th>\n",
       "      <th>class</th>\n",
       "      <th>alcohol</th>\n",
       "      <th>malic-acid</th>\n",
       "      <th>ash</th>\n",
       "      <th>alcalinity-of-ash</th>\n",
       "      <th>magnesium</th>\n",
       "      <th>total-phenols</th>\n",
       "      <th>flavanoids</th>\n",
       "      <th>nonflavanoid-phenols</th>\n",
       "      <th>proanthocyanins</th>\n",
       "      <th>color-intensity</th>\n",
       "      <th>hue</th>\n",
       "      <th>OD280/OD315-of-diluted-wines</th>\n",
       "      <th>proline</th>\n",
       "    </tr>\n",
       "  </thead>\n",
       "  <tbody>\n",
       "    <tr>\n",
       "      <th>count</th>\n",
       "      <td>178.000000</td>\n",
       "      <td>178.000000</td>\n",
       "      <td>178.000000</td>\n",
       "      <td>178.000000</td>\n",
       "      <td>178.000000</td>\n",
       "      <td>178.000000</td>\n",
       "      <td>178.000000</td>\n",
       "      <td>178.000000</td>\n",
       "      <td>178.000000</td>\n",
       "      <td>178.000000</td>\n",
       "      <td>178.000000</td>\n",
       "      <td>178.000000</td>\n",
       "      <td>178.000000</td>\n",
       "      <td>178.000000</td>\n",
       "    </tr>\n",
       "    <tr>\n",
       "      <th>mean</th>\n",
       "      <td>1.938202</td>\n",
       "      <td>13.000618</td>\n",
       "      <td>2.336348</td>\n",
       "      <td>2.366517</td>\n",
       "      <td>19.494944</td>\n",
       "      <td>99.741573</td>\n",
       "      <td>2.295112</td>\n",
       "      <td>2.029270</td>\n",
       "      <td>0.361854</td>\n",
       "      <td>1.590899</td>\n",
       "      <td>5.058090</td>\n",
       "      <td>0.957449</td>\n",
       "      <td>2.611685</td>\n",
       "      <td>746.893258</td>\n",
       "    </tr>\n",
       "    <tr>\n",
       "      <th>std</th>\n",
       "      <td>0.775035</td>\n",
       "      <td>0.811827</td>\n",
       "      <td>1.117146</td>\n",
       "      <td>0.274344</td>\n",
       "      <td>3.339564</td>\n",
       "      <td>14.282484</td>\n",
       "      <td>0.625851</td>\n",
       "      <td>0.998859</td>\n",
       "      <td>0.124453</td>\n",
       "      <td>0.572359</td>\n",
       "      <td>2.318286</td>\n",
       "      <td>0.228572</td>\n",
       "      <td>0.709990</td>\n",
       "      <td>314.907474</td>\n",
       "    </tr>\n",
       "    <tr>\n",
       "      <th>min</th>\n",
       "      <td>1.000000</td>\n",
       "      <td>11.030000</td>\n",
       "      <td>0.740000</td>\n",
       "      <td>1.360000</td>\n",
       "      <td>10.600000</td>\n",
       "      <td>70.000000</td>\n",
       "      <td>0.980000</td>\n",
       "      <td>0.340000</td>\n",
       "      <td>0.130000</td>\n",
       "      <td>0.410000</td>\n",
       "      <td>1.280000</td>\n",
       "      <td>0.480000</td>\n",
       "      <td>1.270000</td>\n",
       "      <td>278.000000</td>\n",
       "    </tr>\n",
       "    <tr>\n",
       "      <th>25%</th>\n",
       "      <td>1.000000</td>\n",
       "      <td>12.362500</td>\n",
       "      <td>1.602500</td>\n",
       "      <td>2.210000</td>\n",
       "      <td>17.200000</td>\n",
       "      <td>88.000000</td>\n",
       "      <td>1.742500</td>\n",
       "      <td>1.205000</td>\n",
       "      <td>0.270000</td>\n",
       "      <td>1.250000</td>\n",
       "      <td>3.220000</td>\n",
       "      <td>0.782500</td>\n",
       "      <td>1.937500</td>\n",
       "      <td>500.500000</td>\n",
       "    </tr>\n",
       "    <tr>\n",
       "      <th>50%</th>\n",
       "      <td>2.000000</td>\n",
       "      <td>13.050000</td>\n",
       "      <td>1.865000</td>\n",
       "      <td>2.360000</td>\n",
       "      <td>19.500000</td>\n",
       "      <td>98.000000</td>\n",
       "      <td>2.355000</td>\n",
       "      <td>2.135000</td>\n",
       "      <td>0.340000</td>\n",
       "      <td>1.555000</td>\n",
       "      <td>4.690000</td>\n",
       "      <td>0.965000</td>\n",
       "      <td>2.780000</td>\n",
       "      <td>673.500000</td>\n",
       "    </tr>\n",
       "    <tr>\n",
       "      <th>75%</th>\n",
       "      <td>3.000000</td>\n",
       "      <td>13.677500</td>\n",
       "      <td>3.082500</td>\n",
       "      <td>2.557500</td>\n",
       "      <td>21.500000</td>\n",
       "      <td>107.000000</td>\n",
       "      <td>2.800000</td>\n",
       "      <td>2.875000</td>\n",
       "      <td>0.437500</td>\n",
       "      <td>1.950000</td>\n",
       "      <td>6.200000</td>\n",
       "      <td>1.120000</td>\n",
       "      <td>3.170000</td>\n",
       "      <td>985.000000</td>\n",
       "    </tr>\n",
       "    <tr>\n",
       "      <th>max</th>\n",
       "      <td>3.000000</td>\n",
       "      <td>14.830000</td>\n",
       "      <td>5.800000</td>\n",
       "      <td>3.230000</td>\n",
       "      <td>30.000000</td>\n",
       "      <td>162.000000</td>\n",
       "      <td>3.880000</td>\n",
       "      <td>5.080000</td>\n",
       "      <td>0.660000</td>\n",
       "      <td>3.580000</td>\n",
       "      <td>13.000000</td>\n",
       "      <td>1.710000</td>\n",
       "      <td>4.000000</td>\n",
       "      <td>1680.000000</td>\n",
       "    </tr>\n",
       "  </tbody>\n",
       "</table>\n",
       "</div>"
      ],
      "text/plain": [
       "            class     alcohol  malic-acid         ash  alcalinity-of-ash  \\\n",
       "count  178.000000  178.000000  178.000000  178.000000         178.000000   \n",
       "mean     1.938202   13.000618    2.336348    2.366517          19.494944   \n",
       "std      0.775035    0.811827    1.117146    0.274344           3.339564   \n",
       "min      1.000000   11.030000    0.740000    1.360000          10.600000   \n",
       "25%      1.000000   12.362500    1.602500    2.210000          17.200000   \n",
       "50%      2.000000   13.050000    1.865000    2.360000          19.500000   \n",
       "75%      3.000000   13.677500    3.082500    2.557500          21.500000   \n",
       "max      3.000000   14.830000    5.800000    3.230000          30.000000   \n",
       "\n",
       "        magnesium  total-phenols  flavanoids  nonflavanoid-phenols  \\\n",
       "count  178.000000     178.000000  178.000000            178.000000   \n",
       "mean    99.741573       2.295112    2.029270              0.361854   \n",
       "std     14.282484       0.625851    0.998859              0.124453   \n",
       "min     70.000000       0.980000    0.340000              0.130000   \n",
       "25%     88.000000       1.742500    1.205000              0.270000   \n",
       "50%     98.000000       2.355000    2.135000              0.340000   \n",
       "75%    107.000000       2.800000    2.875000              0.437500   \n",
       "max    162.000000       3.880000    5.080000              0.660000   \n",
       "\n",
       "       proanthocyanins  color-intensity         hue  \\\n",
       "count       178.000000       178.000000  178.000000   \n",
       "mean          1.590899         5.058090    0.957449   \n",
       "std           0.572359         2.318286    0.228572   \n",
       "min           0.410000         1.280000    0.480000   \n",
       "25%           1.250000         3.220000    0.782500   \n",
       "50%           1.555000         4.690000    0.965000   \n",
       "75%           1.950000         6.200000    1.120000   \n",
       "max           3.580000        13.000000    1.710000   \n",
       "\n",
       "       OD280/OD315-of-diluted-wines      proline  \n",
       "count                    178.000000   178.000000  \n",
       "mean                       2.611685   746.893258  \n",
       "std                        0.709990   314.907474  \n",
       "min                        1.270000   278.000000  \n",
       "25%                        1.937500   500.500000  \n",
       "50%                        2.780000   673.500000  \n",
       "75%                        3.170000   985.000000  \n",
       "max                        4.000000  1680.000000  "
      ]
     },
     "execution_count": 414,
     "metadata": {},
     "output_type": "execute_result"
    }
   ],
   "source": [
    "wine_df.describe()"
   ]
  },
  {
   "cell_type": "code",
   "execution_count": 415,
   "metadata": {
    "pycharm": {
     "is_executing": true
    }
   },
   "outputs": [
    {
     "data": {
      "text/html": [
       "<div>\n",
       "<style scoped>\n",
       "    .dataframe tbody tr th:only-of-type {\n",
       "        vertical-align: middle;\n",
       "    }\n",
       "\n",
       "    .dataframe tbody tr th {\n",
       "        vertical-align: top;\n",
       "    }\n",
       "\n",
       "    .dataframe thead th {\n",
       "        text-align: right;\n",
       "    }\n",
       "</style>\n",
       "<table border=\"1\" class=\"dataframe\">\n",
       "  <thead>\n",
       "    <tr style=\"text-align: right;\">\n",
       "      <th></th>\n",
       "      <th>sample-code-number</th>\n",
       "      <th>clump-thickness</th>\n",
       "      <th>uniformity-of-cell-size</th>\n",
       "      <th>uniformity-of-cell-shape</th>\n",
       "      <th>marginal-adhesion</th>\n",
       "      <th>single-epithelial-cell-size</th>\n",
       "      <th>bland-chromatin</th>\n",
       "      <th>normal-nucleoli</th>\n",
       "      <th>mitoses</th>\n",
       "      <th>class</th>\n",
       "    </tr>\n",
       "  </thead>\n",
       "  <tbody>\n",
       "    <tr>\n",
       "      <th>count</th>\n",
       "      <td>6.990000e+02</td>\n",
       "      <td>699.000000</td>\n",
       "      <td>699.000000</td>\n",
       "      <td>699.000000</td>\n",
       "      <td>699.000000</td>\n",
       "      <td>699.000000</td>\n",
       "      <td>699.000000</td>\n",
       "      <td>699.000000</td>\n",
       "      <td>699.000000</td>\n",
       "      <td>699.000000</td>\n",
       "    </tr>\n",
       "    <tr>\n",
       "      <th>mean</th>\n",
       "      <td>1.071704e+06</td>\n",
       "      <td>4.417740</td>\n",
       "      <td>3.134478</td>\n",
       "      <td>3.207439</td>\n",
       "      <td>2.806867</td>\n",
       "      <td>3.216023</td>\n",
       "      <td>3.437768</td>\n",
       "      <td>2.866953</td>\n",
       "      <td>1.589413</td>\n",
       "      <td>2.689557</td>\n",
       "    </tr>\n",
       "    <tr>\n",
       "      <th>std</th>\n",
       "      <td>6.170957e+05</td>\n",
       "      <td>2.815741</td>\n",
       "      <td>3.051459</td>\n",
       "      <td>2.971913</td>\n",
       "      <td>2.855379</td>\n",
       "      <td>2.214300</td>\n",
       "      <td>2.438364</td>\n",
       "      <td>3.053634</td>\n",
       "      <td>1.715078</td>\n",
       "      <td>0.951273</td>\n",
       "    </tr>\n",
       "    <tr>\n",
       "      <th>min</th>\n",
       "      <td>6.163400e+04</td>\n",
       "      <td>1.000000</td>\n",
       "      <td>1.000000</td>\n",
       "      <td>1.000000</td>\n",
       "      <td>1.000000</td>\n",
       "      <td>1.000000</td>\n",
       "      <td>1.000000</td>\n",
       "      <td>1.000000</td>\n",
       "      <td>1.000000</td>\n",
       "      <td>2.000000</td>\n",
       "    </tr>\n",
       "    <tr>\n",
       "      <th>25%</th>\n",
       "      <td>8.706885e+05</td>\n",
       "      <td>2.000000</td>\n",
       "      <td>1.000000</td>\n",
       "      <td>1.000000</td>\n",
       "      <td>1.000000</td>\n",
       "      <td>2.000000</td>\n",
       "      <td>2.000000</td>\n",
       "      <td>1.000000</td>\n",
       "      <td>1.000000</td>\n",
       "      <td>2.000000</td>\n",
       "    </tr>\n",
       "    <tr>\n",
       "      <th>50%</th>\n",
       "      <td>1.171710e+06</td>\n",
       "      <td>4.000000</td>\n",
       "      <td>1.000000</td>\n",
       "      <td>1.000000</td>\n",
       "      <td>1.000000</td>\n",
       "      <td>2.000000</td>\n",
       "      <td>3.000000</td>\n",
       "      <td>1.000000</td>\n",
       "      <td>1.000000</td>\n",
       "      <td>2.000000</td>\n",
       "    </tr>\n",
       "    <tr>\n",
       "      <th>75%</th>\n",
       "      <td>1.238298e+06</td>\n",
       "      <td>6.000000</td>\n",
       "      <td>5.000000</td>\n",
       "      <td>5.000000</td>\n",
       "      <td>4.000000</td>\n",
       "      <td>4.000000</td>\n",
       "      <td>5.000000</td>\n",
       "      <td>4.000000</td>\n",
       "      <td>1.000000</td>\n",
       "      <td>4.000000</td>\n",
       "    </tr>\n",
       "    <tr>\n",
       "      <th>max</th>\n",
       "      <td>1.345435e+07</td>\n",
       "      <td>10.000000</td>\n",
       "      <td>10.000000</td>\n",
       "      <td>10.000000</td>\n",
       "      <td>10.000000</td>\n",
       "      <td>10.000000</td>\n",
       "      <td>10.000000</td>\n",
       "      <td>10.000000</td>\n",
       "      <td>10.000000</td>\n",
       "      <td>4.000000</td>\n",
       "    </tr>\n",
       "  </tbody>\n",
       "</table>\n",
       "</div>"
      ],
      "text/plain": [
       "       sample-code-number  clump-thickness  uniformity-of-cell-size  \\\n",
       "count        6.990000e+02       699.000000               699.000000   \n",
       "mean         1.071704e+06         4.417740                 3.134478   \n",
       "std          6.170957e+05         2.815741                 3.051459   \n",
       "min          6.163400e+04         1.000000                 1.000000   \n",
       "25%          8.706885e+05         2.000000                 1.000000   \n",
       "50%          1.171710e+06         4.000000                 1.000000   \n",
       "75%          1.238298e+06         6.000000                 5.000000   \n",
       "max          1.345435e+07        10.000000                10.000000   \n",
       "\n",
       "       uniformity-of-cell-shape  marginal-adhesion  \\\n",
       "count                699.000000         699.000000   \n",
       "mean                   3.207439           2.806867   \n",
       "std                    2.971913           2.855379   \n",
       "min                    1.000000           1.000000   \n",
       "25%                    1.000000           1.000000   \n",
       "50%                    1.000000           1.000000   \n",
       "75%                    5.000000           4.000000   \n",
       "max                   10.000000          10.000000   \n",
       "\n",
       "       single-epithelial-cell-size  bland-chromatin  normal-nucleoli  \\\n",
       "count                   699.000000       699.000000       699.000000   \n",
       "mean                      3.216023         3.437768         2.866953   \n",
       "std                       2.214300         2.438364         3.053634   \n",
       "min                       1.000000         1.000000         1.000000   \n",
       "25%                       2.000000         2.000000         1.000000   \n",
       "50%                       2.000000         3.000000         1.000000   \n",
       "75%                       4.000000         5.000000         4.000000   \n",
       "max                      10.000000        10.000000        10.000000   \n",
       "\n",
       "          mitoses       class  \n",
       "count  699.000000  699.000000  \n",
       "mean     1.589413    2.689557  \n",
       "std      1.715078    0.951273  \n",
       "min      1.000000    2.000000  \n",
       "25%      1.000000    2.000000  \n",
       "50%      1.000000    2.000000  \n",
       "75%      1.000000    4.000000  \n",
       "max     10.000000    4.000000  "
      ]
     },
     "execution_count": 415,
     "metadata": {},
     "output_type": "execute_result"
    }
   ],
   "source": [
    "cancer_df.describe()"
   ]
  },
  {
   "cell_type": "markdown",
   "metadata": {},
   "source": [
    "##### Class distribution"
   ]
  },
  {
   "cell_type": "code",
   "execution_count": 416,
   "metadata": {
    "pycharm": {
     "is_executing": true
    }
   },
   "outputs": [
    {
     "data": {
      "text/plain": [
       "class\n",
       "Iris-setosa        50\n",
       "Iris-versicolor    50\n",
       "Iris-virginica     50\n",
       "dtype: int64"
      ]
     },
     "execution_count": 416,
     "metadata": {},
     "output_type": "execute_result"
    }
   ],
   "source": [
    "iris_df.groupby('class').size()"
   ]
  },
  {
   "cell_type": "code",
   "execution_count": 417,
   "metadata": {
    "pycharm": {
     "is_executing": true
    }
   },
   "outputs": [
    {
     "data": {
      "text/plain": [
       "class\n",
       "1    59\n",
       "2    71\n",
       "3    48\n",
       "dtype: int64"
      ]
     },
     "execution_count": 417,
     "metadata": {},
     "output_type": "execute_result"
    }
   ],
   "source": [
    "wine_df.groupby('class').size()"
   ]
  },
  {
   "cell_type": "code",
   "execution_count": 418,
   "metadata": {
    "pycharm": {
     "is_executing": true
    }
   },
   "outputs": [
    {
     "data": {
      "text/plain": [
       "class\n",
       "2    458\n",
       "4    241\n",
       "dtype: int64"
      ]
     },
     "execution_count": 418,
     "metadata": {},
     "output_type": "execute_result"
    }
   ],
   "source": [
    "cancer_df.groupby('class').size()"
   ]
  },
  {
   "cell_type": "markdown",
   "metadata": {},
   "source": [
    "#### Missing data\n",
    "Let's check the datasets for any missing values in every column"
   ]
  },
  {
   "cell_type": "code",
   "execution_count": 419,
   "metadata": {
    "pycharm": {
     "is_executing": true
    }
   },
   "outputs": [
    {
     "data": {
      "text/plain": [
       "sepal-length    0\n",
       "sepal-width     0\n",
       "petal-length    0\n",
       "petal-width     0\n",
       "class           0\n",
       "dtype: int64"
      ]
     },
     "execution_count": 419,
     "metadata": {},
     "output_type": "execute_result"
    }
   ],
   "source": [
    "iris_df.isnull().sum()"
   ]
  },
  {
   "cell_type": "code",
   "execution_count": 420,
   "metadata": {
    "pycharm": {
     "is_executing": true
    }
   },
   "outputs": [
    {
     "data": {
      "text/plain": [
       "class                           0\n",
       "alcohol                         0\n",
       "malic-acid                      0\n",
       "ash                             0\n",
       "alcalinity-of-ash               0\n",
       "magnesium                       0\n",
       "total-phenols                   0\n",
       "flavanoids                      0\n",
       "nonflavanoid-phenols            0\n",
       "proanthocyanins                 0\n",
       "color-intensity                 0\n",
       "hue                             0\n",
       "OD280/OD315-of-diluted-wines    0\n",
       "proline                         0\n",
       "dtype: int64"
      ]
     },
     "execution_count": 420,
     "metadata": {},
     "output_type": "execute_result"
    }
   ],
   "source": [
    "wine_df.isnull().sum()"
   ]
  },
  {
   "cell_type": "code",
   "execution_count": 421,
   "metadata": {
    "pycharm": {
     "is_executing": true
    }
   },
   "outputs": [
    {
     "data": {
      "text/plain": [
       "sample-code-number             0\n",
       "clump-thickness                0\n",
       "uniformity-of-cell-size        0\n",
       "uniformity-of-cell-shape       0\n",
       "marginal-adhesion              0\n",
       "single-epithelial-cell-size    0\n",
       "bare-nuclei                    0\n",
       "bland-chromatin                0\n",
       "normal-nucleoli                0\n",
       "mitoses                        0\n",
       "class                          0\n",
       "dtype: int64"
      ]
     },
     "execution_count": 421,
     "metadata": {},
     "output_type": "execute_result"
    }
   ],
   "source": [
    "cancer_df.isnull().sum()"
   ]
  },
  {
   "cell_type": "markdown",
   "metadata": {},
   "source": [
    "#### Visualization of the data"
   ]
  },
  {
   "cell_type": "code",
   "execution_count": 5,
   "metadata": {
    "pycharm": {
     "is_executing": true
    }
   },
   "outputs": [],
   "source": [
    "# Import the data visualization library (it is based on matplotlib)\n",
    "import seaborn as sns"
   ]
  },
  {
   "cell_type": "markdown",
   "metadata": {},
   "source": [
    "Let's use a box and whisker plot and a  to see more clearly how the data is distributed."
   ]
  },
  {
   "cell_type": "code",
   "execution_count": 423,
   "metadata": {
    "pycharm": {
     "is_executing": true
    }
   },
   "outputs": [
    {
     "data": {
      "text/plain": [
       "array([[<AxesSubplot:title={'center':'sepal-length'}>,\n",
       "        <AxesSubplot:title={'center':'sepal-width'}>],\n",
       "       [<AxesSubplot:title={'center':'petal-length'}>,\n",
       "        <AxesSubplot:title={'center':'petal-width'}>]], dtype=object)"
      ]
     },
     "execution_count": 423,
     "metadata": {},
     "output_type": "execute_result"
    },
    {
     "data": {
      "image/png": "[encoded data removed]",
      "text/plain": [
       "<Figure size 432x288 with 1 Axes>"
      ]
     },
     "metadata": {},
     "output_type": "display_data"
    },
    {
     "data": {
      "image/png": "[encoded data removed]",
      "text/plain": [
       "<Figure size 720x432 with 4 Axes>"
      ]
     },
     "metadata": {},
     "output_type": "display_data"
    }
   ],
   "source": [
    "ax = sns.boxplot(data=iris_df)\n",
    "ax.set_xticklabels(ax.get_xticklabels(),rotation=80)\n",
    "iris_df.hist(figsize=(10,6))"
   ]
  },
  {
   "cell_type": "code",
   "execution_count": 424,
   "metadata": {
    "pycharm": {
     "is_executing": true
    }
   },
   "outputs": [
    {
     "data": {
      "text/plain": [
       "array([[<AxesSubplot:title={'center':'class'}>,\n",
       "        <AxesSubplot:title={'center':'alcohol'}>,\n",
       "        <AxesSubplot:title={'center':'malic-acid'}>,\n",
       "        <AxesSubplot:title={'center':'ash'}>],\n",
       "       [<AxesSubplot:title={'center':'alcalinity-of-ash'}>,\n",
       "        <AxesSubplot:title={'center':'magnesium'}>,\n",
       "        <AxesSubplot:title={'center':'total-phenols'}>,\n",
       "        <AxesSubplot:title={'center':'flavanoids'}>],\n",
       "       [<AxesSubplot:title={'center':'nonflavanoid-phenols'}>,\n",
       "        <AxesSubplot:title={'center':'proanthocyanins'}>,\n",
       "        <AxesSubplot:title={'center':'color-intensity'}>,\n",
       "        <AxesSubplot:title={'center':'hue'}>],\n",
       "       [<AxesSubplot:title={'center':'OD280/OD315-of-diluted-wines'}>,\n",
       "        <AxesSubplot:title={'center':'proline'}>, <AxesSubplot:>,\n",
       "        <AxesSubplot:>]], dtype=object)"
      ]
     },
     "execution_count": 424,
     "metadata": {},
     "output_type": "execute_result"
    },
    {
     "data": {
      "image/png": "[encoded data removed]",
      "text/plain": [
       "<Figure size 432x288 with 1 Axes>"
      ]
     },
     "metadata": {},
     "output_type": "display_data"
    },
    {
     "data": {
      "image/png": "[encoded data removed]",
      "text/plain": [
       "<Figure size 1440x720 with 16 Axes>"
      ]
     },
     "metadata": {},
     "output_type": "display_data"
    }
   ],
   "source": [
    "ax = sns.boxplot(data=wine_df)\n",
    "ax.set_xticklabels(ax.get_xticklabels(),rotation=80)\n",
    "wine_df.hist(figsize=(20,10))"
   ]
  },
  {
   "cell_type": "code",
   "execution_count": 425,
   "metadata": {
    "pycharm": {
     "is_executing": true
    }
   },
   "outputs": [
    {
     "data": {
      "text/plain": [
       "array([[<AxesSubplot:title={'center':'sample-code-number'}>,\n",
       "        <AxesSubplot:title={'center':'clump-thickness'}>,\n",
       "        <AxesSubplot:title={'center':'uniformity-of-cell-size'}>],\n",
       "       [<AxesSubplot:title={'center':'uniformity-of-cell-shape'}>,\n",
       "        <AxesSubplot:title={'center':'marginal-adhesion'}>,\n",
       "        <AxesSubplot:title={'center':'single-epithelial-cell-size'}>],\n",
       "       [<AxesSubplot:title={'center':'bland-chromatin'}>,\n",
       "        <AxesSubplot:title={'center':'normal-nucleoli'}>,\n",
       "        <AxesSubplot:title={'center':'mitoses'}>],\n",
       "       [<AxesSubplot:title={'center':'class'}>, <AxesSubplot:>,\n",
       "        <AxesSubplot:>]], dtype=object)"
      ]
     },
     "execution_count": 425,
     "metadata": {},
     "output_type": "execute_result"
    },
    {
     "data": {
      "image/png": "[encoded data removed]",
      "text/plain": [
       "<Figure size 432x288 with 1 Axes>"
      ]
     },
     "metadata": {},
     "output_type": "display_data"
    },
    {
     "data": {
      "image/png": "[encoded data removed]",
      "text/plain": [
       "<Figure size 1440x720 with 12 Axes>"
      ]
     },
     "metadata": {},
     "output_type": "display_data"
    }
   ],
   "source": [
    "ax = sns.boxplot(data=cancer_df)\n",
    "ax.set_xticklabels(ax.get_xticklabels(),rotation=80)\n",
    "cancer_df.hist(figsize=(20,10))"
   ]
  },
  {
   "cell_type": "markdown",
   "metadata": {},
   "source": [
    "#### Categorical data\n",
    "Check datasets for catagorical data"
   ]
  },
  {
   "cell_type": "code",
   "execution_count": 426,
   "metadata": {
    "pycharm": {
     "is_executing": true
    }
   },
   "outputs": [
    {
     "data": {
      "text/plain": [
       "sepal-length    float64\n",
       "sepal-width     float64\n",
       "petal-length    float64\n",
       "petal-width     float64\n",
       "class            object\n",
       "dtype: object"
      ]
     },
     "execution_count": 426,
     "metadata": {},
     "output_type": "execute_result"
    }
   ],
   "source": [
    "iris_df.dtypes"
   ]
  },
  {
   "cell_type": "code",
   "execution_count": 428,
   "metadata": {
    "pycharm": {
     "is_executing": true
    }
   },
   "outputs": [
    {
     "data": {
      "text/plain": [
       "class                             int64\n",
       "alcohol                         float64\n",
       "malic-acid                      float64\n",
       "ash                             float64\n",
       "alcalinity-of-ash               float64\n",
       "magnesium                         int64\n",
       "total-phenols                   float64\n",
       "flavanoids                      float64\n",
       "nonflavanoid-phenols            float64\n",
       "proanthocyanins                 float64\n",
       "color-intensity                 float64\n",
       "hue                             float64\n",
       "OD280/OD315-of-diluted-wines    float64\n",
       "proline                           int64\n",
       "dtype: object"
      ]
     },
     "execution_count": 428,
     "metadata": {},
     "output_type": "execute_result"
    }
   ],
   "source": [
    "wine_df.dtypes"
   ]
  },
  {
   "cell_type": "code",
   "execution_count": 429,
   "metadata": {
    "pycharm": {
     "is_executing": true
    }
   },
   "outputs": [
    {
     "data": {
      "text/plain": [
       "sample-code-number              int64\n",
       "clump-thickness                 int64\n",
       "uniformity-of-cell-size         int64\n",
       "uniformity-of-cell-shape        int64\n",
       "marginal-adhesion               int64\n",
       "single-epithelial-cell-size     int64\n",
       "bare-nuclei                    object\n",
       "bland-chromatin                 int64\n",
       "normal-nucleoli                 int64\n",
       "mitoses                         int64\n",
       "class                           int64\n",
       "dtype: object"
      ]
     },
     "execution_count": 429,
     "metadata": {},
     "output_type": "execute_result"
    }
   ],
   "source": [
    "cancer_df.dtypes"
   ]
  },
  {
   "cell_type": "markdown",
   "metadata": {},
   "source": [
    "Because bare-nuclei column contains catagorical data we need to convert them into dummy/indicator variables."
   ]
  },
  {
   "cell_type": "code",
   "execution_count": 430,
   "metadata": {
    "pycharm": {
     "is_executing": true
    }
   },
   "outputs": [
    {
     "data": {
      "text/html": [
       "<div>\n",
       "<style scoped>\n",
       "    .dataframe tbody tr th:only-of-type {\n",
       "        vertical-align: middle;\n",
       "    }\n",
       "\n",
       "    .dataframe tbody tr th {\n",
       "        vertical-align: top;\n",
       "    }\n",
       "\n",
       "    .dataframe thead th {\n",
       "        text-align: right;\n",
       "    }\n",
       "</style>\n",
       "<table border=\"1\" class=\"dataframe\">\n",
       "  <thead>\n",
       "    <tr style=\"text-align: right;\">\n",
       "      <th></th>\n",
       "      <th>sample-code-number</th>\n",
       "      <th>clump-thickness</th>\n",
       "      <th>uniformity-of-cell-size</th>\n",
       "      <th>uniformity-of-cell-shape</th>\n",
       "      <th>marginal-adhesion</th>\n",
       "      <th>single-epithelial-cell-size</th>\n",
       "      <th>bland-chromatin</th>\n",
       "      <th>normal-nucleoli</th>\n",
       "      <th>mitoses</th>\n",
       "      <th>class</th>\n",
       "      <th>...</th>\n",
       "      <th>bare-nuclei_10</th>\n",
       "      <th>bare-nuclei_2</th>\n",
       "      <th>bare-nuclei_3</th>\n",
       "      <th>bare-nuclei_4</th>\n",
       "      <th>bare-nuclei_5</th>\n",
       "      <th>bare-nuclei_6</th>\n",
       "      <th>bare-nuclei_7</th>\n",
       "      <th>bare-nuclei_8</th>\n",
       "      <th>bare-nuclei_9</th>\n",
       "      <th>bare-nuclei_?</th>\n",
       "    </tr>\n",
       "  </thead>\n",
       "  <tbody>\n",
       "    <tr>\n",
       "      <th>0</th>\n",
       "      <td>1000025</td>\n",
       "      <td>5</td>\n",
       "      <td>1</td>\n",
       "      <td>1</td>\n",
       "      <td>1</td>\n",
       "      <td>2</td>\n",
       "      <td>3</td>\n",
       "      <td>1</td>\n",
       "      <td>1</td>\n",
       "      <td>2</td>\n",
       "      <td>...</td>\n",
       "      <td>0</td>\n",
       "      <td>0</td>\n",
       "      <td>0</td>\n",
       "      <td>0</td>\n",
       "      <td>0</td>\n",
       "      <td>0</td>\n",
       "      <td>0</td>\n",
       "      <td>0</td>\n",
       "      <td>0</td>\n",
       "      <td>0</td>\n",
       "    </tr>\n",
       "    <tr>\n",
       "      <th>1</th>\n",
       "      <td>1002945</td>\n",
       "      <td>5</td>\n",
       "      <td>4</td>\n",
       "      <td>4</td>\n",
       "      <td>5</td>\n",
       "      <td>7</td>\n",
       "      <td>3</td>\n",
       "      <td>2</td>\n",
       "      <td>1</td>\n",
       "      <td>2</td>\n",
       "      <td>...</td>\n",
       "      <td>1</td>\n",
       "      <td>0</td>\n",
       "      <td>0</td>\n",
       "      <td>0</td>\n",
       "      <td>0</td>\n",
       "      <td>0</td>\n",
       "      <td>0</td>\n",
       "      <td>0</td>\n",
       "      <td>0</td>\n",
       "      <td>0</td>\n",
       "    </tr>\n",
       "    <tr>\n",
       "      <th>2</th>\n",
       "      <td>1015425</td>\n",
       "      <td>3</td>\n",
       "      <td>1</td>\n",
       "      <td>1</td>\n",
       "      <td>1</td>\n",
       "      <td>2</td>\n",
       "      <td>3</td>\n",
       "      <td>1</td>\n",
       "      <td>1</td>\n",
       "      <td>2</td>\n",
       "      <td>...</td>\n",
       "      <td>0</td>\n",
       "      <td>1</td>\n",
       "      <td>0</td>\n",
       "      <td>0</td>\n",
       "      <td>0</td>\n",
       "      <td>0</td>\n",
       "      <td>0</td>\n",
       "      <td>0</td>\n",
       "      <td>0</td>\n",
       "      <td>0</td>\n",
       "    </tr>\n",
       "    <tr>\n",
       "      <th>3</th>\n",
       "      <td>1016277</td>\n",
       "      <td>6</td>\n",
       "      <td>8</td>\n",
       "      <td>8</td>\n",
       "      <td>1</td>\n",
       "      <td>3</td>\n",
       "      <td>3</td>\n",
       "      <td>7</td>\n",
       "      <td>1</td>\n",
       "      <td>2</td>\n",
       "      <td>...</td>\n",
       "      <td>0</td>\n",
       "      <td>0</td>\n",
       "      <td>0</td>\n",
       "      <td>1</td>\n",
       "      <td>0</td>\n",
       "      <td>0</td>\n",
       "      <td>0</td>\n",
       "      <td>0</td>\n",
       "      <td>0</td>\n",
       "      <td>0</td>\n",
       "    </tr>\n",
       "    <tr>\n",
       "      <th>4</th>\n",
       "      <td>1017023</td>\n",
       "      <td>4</td>\n",
       "      <td>1</td>\n",
       "      <td>1</td>\n",
       "      <td>3</td>\n",
       "      <td>2</td>\n",
       "      <td>3</td>\n",
       "      <td>1</td>\n",
       "      <td>1</td>\n",
       "      <td>2</td>\n",
       "      <td>...</td>\n",
       "      <td>0</td>\n",
       "      <td>0</td>\n",
       "      <td>0</td>\n",
       "      <td>0</td>\n",
       "      <td>0</td>\n",
       "      <td>0</td>\n",
       "      <td>0</td>\n",
       "      <td>0</td>\n",
       "      <td>0</td>\n",
       "      <td>0</td>\n",
       "    </tr>\n",
       "    <tr>\n",
       "      <th>...</th>\n",
       "      <td>...</td>\n",
       "      <td>...</td>\n",
       "      <td>...</td>\n",
       "      <td>...</td>\n",
       "      <td>...</td>\n",
       "      <td>...</td>\n",
       "      <td>...</td>\n",
       "      <td>...</td>\n",
       "      <td>...</td>\n",
       "      <td>...</td>\n",
       "      <td>...</td>\n",
       "      <td>...</td>\n",
       "      <td>...</td>\n",
       "      <td>...</td>\n",
       "      <td>...</td>\n",
       "      <td>...</td>\n",
       "      <td>...</td>\n",
       "      <td>...</td>\n",
       "      <td>...</td>\n",
       "      <td>...</td>\n",
       "      <td>...</td>\n",
       "    </tr>\n",
       "    <tr>\n",
       "      <th>694</th>\n",
       "      <td>776715</td>\n",
       "      <td>3</td>\n",
       "      <td>1</td>\n",
       "      <td>1</td>\n",
       "      <td>1</td>\n",
       "      <td>3</td>\n",
       "      <td>1</td>\n",
       "      <td>1</td>\n",
       "      <td>1</td>\n",
       "      <td>2</td>\n",
       "      <td>...</td>\n",
       "      <td>0</td>\n",
       "      <td>1</td>\n",
       "      <td>0</td>\n",
       "      <td>0</td>\n",
       "      <td>0</td>\n",
       "      <td>0</td>\n",
       "      <td>0</td>\n",
       "      <td>0</td>\n",
       "      <td>0</td>\n",
       "      <td>0</td>\n",
       "    </tr>\n",
       "    <tr>\n",
       "      <th>695</th>\n",
       "      <td>841769</td>\n",
       "      <td>2</td>\n",
       "      <td>1</td>\n",
       "      <td>1</td>\n",
       "      <td>1</td>\n",
       "      <td>2</td>\n",
       "      <td>1</td>\n",
       "      <td>1</td>\n",
       "      <td>1</td>\n",
       "      <td>2</td>\n",
       "      <td>...</td>\n",
       "      <td>0</td>\n",
       "      <td>0</td>\n",
       "      <td>0</td>\n",
       "      <td>0</td>\n",
       "      <td>0</td>\n",
       "      <td>0</td>\n",
       "      <td>0</td>\n",
       "      <td>0</td>\n",
       "      <td>0</td>\n",
       "      <td>0</td>\n",
       "    </tr>\n",
       "    <tr>\n",
       "      <th>696</th>\n",
       "      <td>888820</td>\n",
       "      <td>5</td>\n",
       "      <td>10</td>\n",
       "      <td>10</td>\n",
       "      <td>3</td>\n",
       "      <td>7</td>\n",
       "      <td>8</td>\n",
       "      <td>10</td>\n",
       "      <td>2</td>\n",
       "      <td>4</td>\n",
       "      <td>...</td>\n",
       "      <td>0</td>\n",
       "      <td>0</td>\n",
       "      <td>1</td>\n",
       "      <td>0</td>\n",
       "      <td>0</td>\n",
       "      <td>0</td>\n",
       "      <td>0</td>\n",
       "      <td>0</td>\n",
       "      <td>0</td>\n",
       "      <td>0</td>\n",
       "    </tr>\n",
       "    <tr>\n",
       "      <th>697</th>\n",
       "      <td>897471</td>\n",
       "      <td>4</td>\n",
       "      <td>8</td>\n",
       "      <td>6</td>\n",
       "      <td>4</td>\n",
       "      <td>3</td>\n",
       "      <td>10</td>\n",
       "      <td>6</td>\n",
       "      <td>1</td>\n",
       "      <td>4</td>\n",
       "      <td>...</td>\n",
       "      <td>0</td>\n",
       "      <td>0</td>\n",
       "      <td>0</td>\n",
       "      <td>1</td>\n",
       "      <td>0</td>\n",
       "      <td>0</td>\n",
       "      <td>0</td>\n",
       "      <td>0</td>\n",
       "      <td>0</td>\n",
       "      <td>0</td>\n",
       "    </tr>\n",
       "    <tr>\n",
       "      <th>698</th>\n",
       "      <td>897471</td>\n",
       "      <td>4</td>\n",
       "      <td>8</td>\n",
       "      <td>8</td>\n",
       "      <td>5</td>\n",
       "      <td>4</td>\n",
       "      <td>10</td>\n",
       "      <td>4</td>\n",
       "      <td>1</td>\n",
       "      <td>4</td>\n",
       "      <td>...</td>\n",
       "      <td>0</td>\n",
       "      <td>0</td>\n",
       "      <td>0</td>\n",
       "      <td>0</td>\n",
       "      <td>1</td>\n",
       "      <td>0</td>\n",
       "      <td>0</td>\n",
       "      <td>0</td>\n",
       "      <td>0</td>\n",
       "      <td>0</td>\n",
       "    </tr>\n",
       "  </tbody>\n",
       "</table>\n",
       "<p>699 rows × 21 columns</p>\n",
       "</div>"
      ],
      "text/plain": [
       "     sample-code-number  clump-thickness  uniformity-of-cell-size  \\\n",
       "0               1000025                5                        1   \n",
       "1               1002945                5                        4   \n",
       "2               1015425                3                        1   \n",
       "3               1016277                6                        8   \n",
       "4               1017023                4                        1   \n",
       "..                  ...              ...                      ...   \n",
       "694              776715                3                        1   \n",
       "695              841769                2                        1   \n",
       "696              888820                5                       10   \n",
       "697              897471                4                        8   \n",
       "698              897471                4                        8   \n",
       "\n",
       "     uniformity-of-cell-shape  marginal-adhesion  single-epithelial-cell-size  \\\n",
       "0                           1                  1                            2   \n",
       "1                           4                  5                            7   \n",
       "2                           1                  1                            2   \n",
       "3                           8                  1                            3   \n",
       "4                           1                  3                            2   \n",
       "..                        ...                ...                          ...   \n",
       "694                         1                  1                            3   \n",
       "695                         1                  1                            2   \n",
       "696                        10                  3                            7   \n",
       "697                         6                  4                            3   \n",
       "698                         8                  5                            4   \n",
       "\n",
       "     bland-chromatin  normal-nucleoli  mitoses  class  ...  bare-nuclei_10  \\\n",
       "0                  3                1        1      2  ...               0   \n",
       "1                  3                2        1      2  ...               1   \n",
       "2                  3                1        1      2  ...               0   \n",
       "3                  3                7        1      2  ...               0   \n",
       "4                  3                1        1      2  ...               0   \n",
       "..               ...              ...      ...    ...  ...             ...   \n",
       "694                1                1        1      2  ...               0   \n",
       "695                1                1        1      2  ...               0   \n",
       "696                8               10        2      4  ...               0   \n",
       "697               10                6        1      4  ...               0   \n",
       "698               10                4        1      4  ...               0   \n",
       "\n",
       "     bare-nuclei_2  bare-nuclei_3  bare-nuclei_4  bare-nuclei_5  \\\n",
       "0                0              0              0              0   \n",
       "1                0              0              0              0   \n",
       "2                1              0              0              0   \n",
       "3                0              0              1              0   \n",
       "4                0              0              0              0   \n",
       "..             ...            ...            ...            ...   \n",
       "694              1              0              0              0   \n",
       "695              0              0              0              0   \n",
       "696              0              1              0              0   \n",
       "697              0              0              1              0   \n",
       "698              0              0              0              1   \n",
       "\n",
       "     bare-nuclei_6  bare-nuclei_7  bare-nuclei_8  bare-nuclei_9  bare-nuclei_?  \n",
       "0                0              0              0              0              0  \n",
       "1                0              0              0              0              0  \n",
       "2                0              0              0              0              0  \n",
       "3                0              0              0              0              0  \n",
       "4                0              0              0              0              0  \n",
       "..             ...            ...            ...            ...            ...  \n",
       "694              0              0              0              0              0  \n",
       "695              0              0              0              0              0  \n",
       "696              0              0              0              0              0  \n",
       "697              0              0              0              0              0  \n",
       "698              0              0              0              0              0  \n",
       "\n",
       "[699 rows x 21 columns]"
      ]
     },
     "execution_count": 430,
     "metadata": {},
     "output_type": "execute_result"
    }
   ],
   "source": [
    "cancer_df2 = pd.get_dummies(cancer_df,columns=['bare-nuclei'])\n",
    "cancer_df2"
   ]
  },
  {
   "cell_type": "markdown",
   "metadata": {},
   "source": [
    "### Methodology\n",
    "We wanted to find out which algorithms will find the best neural network for our datasets. In order to use\n",
    "the algorithms we need to split our dataset into test and train set and standarize the data."
   ]
  },
  {
   "cell_type": "markdown",
   "metadata": {},
   "source": [
    "#### Seperate the inputs from outputs "
   ]
  },
  {
   "cell_type": "code",
   "execution_count": 431,
   "metadata": {
    "pycharm": {
     "is_executing": true
    }
   },
   "outputs": [],
   "source": [
    "iris_inputs = iris_df.iloc[:, iris_df.columns != 'class'].columns\n",
    "iris_output = 'class'"
   ]
  },
  {
   "cell_type": "code",
   "execution_count": 432,
   "metadata": {
    "pycharm": {
     "is_executing": true
    }
   },
   "outputs": [],
   "source": [
    "wine_inputs = wine_df.iloc[:, wine_df.columns != 'class'].columns\n",
    "wine_output = 'class'"
   ]
  },
  {
   "cell_type": "code",
   "execution_count": 433,
   "metadata": {
    "pycharm": {
     "is_executing": true
    }
   },
   "outputs": [],
   "source": [
    "cancer_inputs = cancer_df2.iloc[:, cancer_df2.columns != 'class'].columns\n",
    "cancer_output = 'class'"
   ]
  },
  {
   "cell_type": "code",
   "execution_count": 434,
   "metadata": {
    "pycharm": {
     "is_executing": true
    }
   },
   "outputs": [],
   "source": [
    "# Import scikit-learn library that will perform the split of our data into training and testing sets\n",
    "from sklearn.model_selection import train_test_split"
   ]
  },
  {
   "cell_type": "code",
   "execution_count": 435,
   "metadata": {
    "pycharm": {
     "is_executing": true
    }
   },
   "outputs": [],
   "source": [
    "test_size = 0.30\n",
    "seed = 0 "
   ]
  },
  {
   "cell_type": "markdown",
   "metadata": {},
   "source": [
    "#### Split the Iris dataset "
   ]
  },
  {
   "cell_type": "code",
   "execution_count": 436,
   "metadata": {
    "pycharm": {
     "is_executing": true
    }
   },
   "outputs": [],
   "source": [
    "x_train_iris, x_test_iris, y_train_iris, y_test_iris = train_test_split(iris_df[iris_inputs], iris_df[iris_output], test_size=test_size, random_state=seed)"
   ]
  },
  {
   "cell_type": "markdown",
   "metadata": {},
   "source": [
    "#### Split the wine dataset "
   ]
  },
  {
   "cell_type": "code",
   "execution_count": 437,
   "metadata": {
    "pycharm": {
     "is_executing": true
    }
   },
   "outputs": [],
   "source": [
    "x_train_wine, x_test_wine, y_train_wine, y_test_wine = train_test_split(wine_df[wine_inputs], wine_df[wine_output], test_size=test_size, random_state=seed)"
   ]
  },
  {
   "cell_type": "markdown",
   "metadata": {},
   "source": [
    "#### Split the breast cancer dataset"
   ]
  },
  {
   "cell_type": "code",
   "execution_count": 438,
   "metadata": {
    "pycharm": {
     "is_executing": true
    }
   },
   "outputs": [],
   "source": [
    "x_train_cancer, x_test_cancer, y_train_cancer, y_test_cancer = train_test_split(cancer_df2[cancer_inputs], cancer_df2[cancer_output], test_size=test_size, random_state=seed)"
   ]
  },
  {
   "cell_type": "markdown",
   "metadata": {},
   "source": [
    "#### Data standardization\n",
    "Since all our input data is numeric we can apply data standardization. This means that the mean value after standardization is going to be 0 and the standard deviation will be 1. Standardization across instances should be done after splitting the data between training and test set, using only the data from the training set.\n",
    "This is to avoid any data leakage."
   ]
  },
  {
   "cell_type": "code",
   "execution_count": 439,
   "metadata": {
    "pycharm": {
     "is_executing": true
    }
   },
   "outputs": [],
   "source": [
    "# Import scikit-learn standardization library\n",
    "from sklearn.preprocessing import StandardScaler"
   ]
  },
  {
   "cell_type": "code",
   "execution_count": 440,
   "metadata": {
    "pycharm": {
     "is_executing": true
    }
   },
   "outputs": [],
   "source": [
    "x_train_iris[iris_inputs] = StandardScaler().fit_transform(x_train_iris[iris_inputs])\n",
    "x_test_iris[iris_inputs] = StandardScaler().fit_transform(x_test_iris[iris_inputs])"
   ]
  },
  {
   "cell_type": "code",
   "execution_count": 441,
   "metadata": {
    "pycharm": {
     "is_executing": true
    }
   },
   "outputs": [],
   "source": [
    "x_train_wine[wine_inputs] = StandardScaler().fit_transform(x_train_wine[wine_inputs])\n",
    "x_test_wine[wine_inputs] = StandardScaler().fit_transform(x_test_wine[wine_inputs])"
   ]
  },
  {
   "cell_type": "code",
   "execution_count": 442,
   "metadata": {
    "pycharm": {
     "is_executing": true
    }
   },
   "outputs": [],
   "source": [
    "x_train_cancer[cancer_inputs] = StandardScaler().fit_transform(x_train_cancer[cancer_inputs])\n",
    "x_test_cancer[cancer_inputs] = StandardScaler().fit_transform(x_test_cancer[cancer_inputs])"
   ]
  },
  {
   "cell_type": "markdown",
   "metadata": {},
   "source": [
    "## Installing scikit-learn compatible neuroevolution package"
   ]
  },
  {
   "cell_type": "markdown",
   "metadata": {},
   "source": [
    "neuro-evolution is a package we created for the sake of simplicity.\n",
    "\n",
    "This package contains:\n",
    "\n",
    "    * NEATClassifier()\n",
    "    * NEATRegressor()\n",
    "    * WANNClassifier()\n",
    "    * WANNRegressor()\n",
    "    \n",
    "In this notebook we will focus only on the two classifiers"
   ]
  },
  {
   "cell_type": "code",
   "execution_count": 6,
   "metadata": {
    "pycharm": {
     "is_executing": true
    }
   },
   "outputs": [
    {
     "name": "stdout",
     "output_type": "stream",
     "text": [
      "Processing /Users/markomlakar/Library/Caches/pip/wheels/03/2e/d5/5049bd6ed70c8f6345e7fffbd2127ae307e5a1dc7d6a86e554/neuro_evolution-1.1.2-py3-none-any.whl\n",
      "Collecting neat-python\n",
      "  Using cached neat_python-0.92-py3-none-any.whl (44 kB)\n",
      "Requirement already satisfied: numpy in ./lib/python3.7/site-packages (from neuro-evolution) (1.19.1)\n",
      "Collecting scikit-learn\n",
      "  Downloading scikit_learn-0.23.2-cp37-cp37m-macosx_10_9_x86_64.whl (7.2 MB)\n",
      "\u001B[K     |████████████████████████████████| 7.2 MB 4.0 MB/s eta 0:00:01\n",
      "\u001B[?25hRequirement already satisfied: pandas in ./lib/python3.7/site-packages (from neuro-evolution) (1.1.0)\n",
      "Requirement already satisfied: scipy in ./lib/python3.7/site-packages (from neuro-evolution) (1.5.2)\n",
      "Collecting joblib>=0.11\n",
      "  Using cached joblib-0.16.0-py3-none-any.whl (300 kB)\n",
      "Collecting threadpoolctl>=2.0.0\n",
      "  Using cached threadpoolctl-2.1.0-py3-none-any.whl (12 kB)\n",
      "Requirement already satisfied: pytz>=2017.2 in ./lib/python3.7/site-packages (from pandas->neuro-evolution) (2020.1)\n",
      "Requirement already satisfied: python-dateutil>=2.7.3 in ./lib/python3.7/site-packages (from pandas->neuro-evolution) (2.8.1)\n",
      "Requirement already satisfied: six>=1.5 in ./lib/python3.7/site-packages (from python-dateutil>=2.7.3->pandas->neuro-evolution) (1.15.0)\n",
      "Installing collected packages: neat-python, joblib, threadpoolctl, scikit-learn, neuro-evolution\n",
      "Successfully installed joblib-0.16.0 neat-python-0.92 neuro-evolution-1.1.2 scikit-learn-0.23.2 threadpoolctl-2.1.0\n",
      "\u001B[33mWARNING: You are using pip version 20.0.2; however, version 20.2.2 is available.\n",
      "You should consider upgrading via the '/Users/markomlakar/data-science/notebooks/sklearn-neuro-evolution/bin/python -m pip install --upgrade pip' command.\u001B[0m\n"
     ]
    }
   ],
   "source": [
    "!pip install neuro-evolution"
   ]
  },
  {
   "cell_type": "markdown",
   "metadata": {
    "pycharm": {
     "is_executing": true
    }
   },
   "source": [
    "# Training the scikit-learn NEAT classifier\n",
    "For the sake of keeping this notebook relativly clean statistic_reporter is disabled. If you wish to see progress for every generation set statistic_reporter=1 in the NEAT and WANN classifier constructor.\n",
    "\n",
    "Note: Optimizing the algorithms can be done with setting the NEAT and WANN parameters!"
   ]
  },
  {
   "cell_type": "code",
   "execution_count": 9,
   "metadata": {
    "pycharm": {
     "is_executing": true
    }
   },
   "outputs": [],
   "source": [
    "# Import the NEAT and WANN classifier from neuro-evolution package we installed eariler.\n",
    "# Visualization contains methods for ploting the fitness progress and drawing the final neural network\n",
    "from neuro_evolution import WANNClassifier, NEATClassifier, visualization\n",
    "from sklearn.metrics import classification_report, accuracy_score\n",
    "import matplotlib.pyplot as plt"
   ]
  },
  {
   "cell_type": "markdown",
   "metadata": {},
   "source": [
    "### Iris dataset"
   ]
  },
  {
   "cell_type": "code",
   "execution_count": 153,
   "metadata": {},
   "outputs": [
    {
     "name": "stdout",
     "output_type": "stream",
     "text": [
      "Key: 6241\n",
      "Fitness: 0.9904761904761905\n",
      "Nodes:\n",
      "\t0 DefaultNodeGene(key=0, bias=-2.094082405099861, response=1.0, activation=tanh, aggregation=sum)\n",
      "\t1 DefaultNodeGene(key=1, bias=1.4332214868036364, response=1.0, activation=sigmoid, aggregation=sum)\n",
      "\t2 DefaultNodeGene(key=2, bias=-2.0019420262197967, response=1.0, activation=relu, aggregation=sum)\n",
      "\t1365 DefaultNodeGene(key=1365, bias=-1.4571876237335675, response=1.0, activation=sigmoid, aggregation=sum)\n",
      "Connections:\n",
      "\tDefaultConnectionGene(key=(-4, 0), weight=-10.38761955742186, enabled=True)\n",
      "\tDefaultConnectionGene(key=(-4, 1), weight=-0.14870593557418396, enabled=True)\n",
      "\tDefaultConnectionGene(key=(-4, 2), weight=2.495965016572927, enabled=True)\n",
      "\tDefaultConnectionGene(key=(-3, 0), weight=0.04369609122297534, enabled=False)\n",
      "\tDefaultConnectionGene(key=(-3, 1), weight=0.2884069642217823, enabled=False)\n",
      "\tDefaultConnectionGene(key=(-3, 2), weight=2.1707402643401372, enabled=True)\n",
      "\tDefaultConnectionGene(key=(-3, 1365), weight=-0.4056239116525324, enabled=True)\n",
      "\tDefaultConnectionGene(key=(-2, 0), weight=3.8848762350826873, enabled=False)\n",
      "\tDefaultConnectionGene(key=(-2, 1), weight=-1.6101414170324113, enabled=True)\n",
      "\tDefaultConnectionGene(key=(-2, 2), weight=-0.6443296530167626, enabled=True)\n",
      "\tDefaultConnectionGene(key=(-1, 1), weight=-0.09518850323720351, enabled=True)\n",
      "\tDefaultConnectionGene(key=(1365, 0), weight=-1.7791505002616366, enabled=True)\n"
     ]
    }
   ],
   "source": [
    "# Create NEATClassifier model\n",
    "neat_clf_iris = NEATClassifier(fitness_threshold=0.99, statistic_reporter=0 ,activation_mutate_rate=0.25,\n",
    "                 activation_options='sigmoid relu tanh gauss')\n",
    "\n",
    "# Train the algorithm\n",
    "neat_clf_iris.fit(x_train_iris, y_train_iris)"
   ]
  },
  {
   "cell_type": "code",
   "execution_count": null,
   "metadata": {},
   "outputs": [],
   "source": [
    "# Make predictions on unseen data\n",
    "neat_result_iris = neat_clf_iris.predict(x_test_iris)"
   ]
  },
  {
   "cell_type": "markdown",
   "metadata": {},
   "source": [
    "##### Visualize evolution\n",
    "Visualize the fitness (accuracy) progress over generations"
   ]
  },
  {
   "cell_type": "code",
   "execution_count": 164,
   "metadata": {},
   "outputs": [
    {
     "data": {
      "image/png": "[encoded data removed]",
      "text/plain": [
       "<Figure size 432x288 with 1 Axes>"
      ]
     },
     "metadata": {
      "needs_background": "light"
     },
     "output_type": "display_data"
    }
   ],
   "source": [
    "visualization.plot_stats(neat_clf_iris.stats_, ylog=False, view=True, xlabel='Generation', ylabel='Accuracy')"
   ]
  },
  {
   "cell_type": "markdown",
   "metadata": {},
   "source": [
    "##### Visualize the evolved neural network\n",
    "* Negative numbers - inputs\n",
    "* Blue circles - outputs\n",
    "* White circles - hidden nodes\n",
    "* Green (solid) connection - active connection with positive weight value\n",
    "* Red (solid) connection - active connection negative weight value\n",
    "* Dotted connection - disconnected connection"
   ]
  },
  {
   "cell_type": "code",
   "execution_count": 165,
   "metadata": {},
   "outputs": [
    {
     "data": {
      "image/svg+xml": [
       "<?xml version=\"1.0\" encoding=\"UTF-8\" standalone=\"no\"?>\n",
       "<!DOCTYPE svg PUBLIC \"-//W3C//DTD SVG 1.1//EN\"\n",
       " \"http://www.w3.org/Graphics/SVG/1.1/DTD/svg11.dtd\">\n",
       "<!-- Generated by graphviz version 2.43.0 (0)\n",
       " -->\n",
       "<!-- Title: %3 Pages: 1 -->\n",
       "<svg width=\"223pt\" height=\"174pt\"\n",
       " viewBox=\"0.00 0.00 222.79 174.07\" xmlns=\"http://www.w3.org/2000/svg\" xmlns:xlink=\"http://www.w3.org/1999/xlink\">\n",
       "<g id=\"graph0\" class=\"graph\" transform=\"scale(1 1) rotate(0) translate(4 170.07)\">\n",
       "<title>%3</title>\n",
       "<polygon fill=\"white\" stroke=\"transparent\" points=\"-4,4 -4,-170.07 218.79,-170.07 218.79,4 -4,4\"/>\n",
       "<!-- &#45;1 -->\n",
       "<g id=\"node1\" class=\"node\">\n",
       "<title>&#45;1</title>\n",
       "<polygon fill=\"lightgray\" stroke=\"black\" points=\"130.04,-166.07 106.04,-166.07 106.04,-149.07 130.04,-149.07 130.04,-166.07\"/>\n",
       "<text text-anchor=\"middle\" x=\"118.04\" y=\"-154.87\" font-family=\"Times,serif\" font-size=\"9.00\">&#45;1</text>\n",
       "</g>\n",
       "<!-- 1 -->\n",
       "<g id=\"node6\" class=\"node\">\n",
       "<title>1</title>\n",
       "<ellipse fill=\"lightblue\" stroke=\"black\" cx=\"118.04\" cy=\"-89.03\" rx=\"14.49\" ry=\"14.49\"/>\n",
       "<text text-anchor=\"middle\" x=\"118.04\" y=\"-86.33\" font-family=\"Times,serif\" font-size=\"9.00\">1</text>\n",
       "</g>\n",
       "<!-- &#45;1&#45;&gt;1 -->\n",
       "<g id=\"edge1\" class=\"edge\">\n",
       "<title>&#45;1&#45;&gt;1</title>\n",
       "<path fill=\"none\" stroke=\"red\" stroke-width=\"0.12\" d=\"M118.04,-148.94C118.04,-140.39 118.04,-126.09 118.04,-113.73\"/>\n",
       "<polygon fill=\"red\" stroke=\"red\" stroke-width=\"0.12\" points=\"121.54,-113.55 118.04,-103.55 114.54,-113.55 121.54,-113.55\"/>\n",
       "</g>\n",
       "<!-- &#45;2 -->\n",
       "<g id=\"node2\" class=\"node\">\n",
       "<title>&#45;2</title>\n",
       "<polygon fill=\"lightgray\" stroke=\"black\" points=\"215.04,-166.07 191.04,-166.07 191.04,-149.07 215.04,-149.07 215.04,-166.07\"/>\n",
       "<text text-anchor=\"middle\" x=\"203.04\" y=\"-154.87\" font-family=\"Times,serif\" font-size=\"9.00\">&#45;2</text>\n",
       "</g>\n",
       "<!-- 0 -->\n",
       "<g id=\"node5\" class=\"node\">\n",
       "<title>0</title>\n",
       "<ellipse fill=\"lightblue\" stroke=\"black\" cx=\"141.04\" cy=\"-14.5\" rx=\"14.49\" ry=\"14.49\"/>\n",
       "<text text-anchor=\"middle\" x=\"141.04\" y=\"-11.8\" font-family=\"Times,serif\" font-size=\"9.00\">0</text>\n",
       "</g>\n",
       "<!-- &#45;2&#45;&gt;0 -->\n",
       "<g id=\"edge2\" class=\"edge\">\n",
       "<title>&#45;2&#45;&gt;0</title>\n",
       "<path fill=\"none\" stroke=\"green\" stroke-width=\"0.88\" stroke-dasharray=\"1,5\" d=\"M205.29,-148.96C209.68,-132.61 217.8,-93.31 204.04,-64.99 195.56,-47.55 177.63,-34.42 163.05,-26.08\"/>\n",
       "<polygon fill=\"green\" stroke=\"green\" stroke-width=\"0.88\" points=\"164.56,-22.92 154.09,-21.3 161.27,-29.1 164.56,-22.92\"/>\n",
       "</g>\n",
       "<!-- &#45;2&#45;&gt;1 -->\n",
       "<g id=\"edge3\" class=\"edge\">\n",
       "<title>&#45;2&#45;&gt;1</title>\n",
       "<path fill=\"none\" stroke=\"red\" stroke-width=\"0.42\" d=\"M191.43,-149.03C178.88,-140.71 158.46,-126.69 142.04,-113.07 139.94,-111.33 137.8,-109.45 135.7,-107.53\"/>\n",
       "<polygon fill=\"red\" stroke=\"red\" stroke-width=\"0.42\" points=\"137.68,-104.59 128.02,-100.24 132.86,-109.66 137.68,-104.59\"/>\n",
       "</g>\n",
       "<!-- 2 -->\n",
       "<g id=\"node7\" class=\"node\">\n",
       "<title>2</title>\n",
       "<ellipse fill=\"lightblue\" stroke=\"black\" cx=\"165.04\" cy=\"-89.03\" rx=\"14.49\" ry=\"14.49\"/>\n",
       "<text text-anchor=\"middle\" x=\"165.04\" y=\"-86.33\" font-family=\"Times,serif\" font-size=\"9.00\">2</text>\n",
       "</g>\n",
       "<!-- &#45;2&#45;&gt;2 -->\n",
       "<g id=\"edge4\" class=\"edge\">\n",
       "<title>&#45;2&#45;&gt;2</title>\n",
       "<path fill=\"none\" stroke=\"red\" stroke-width=\"0.23\" d=\"M198.68,-148.94C193.41,-139.71 184.33,-123.8 176.93,-110.84\"/>\n",
       "<polygon fill=\"red\" stroke=\"red\" stroke-width=\"0.23\" points=\"179.91,-109.01 171.91,-102.06 173.83,-112.48 179.91,-109.01\"/>\n",
       "</g>\n",
       "<!-- &#45;3 -->\n",
       "<g id=\"node3\" class=\"node\">\n",
       "<title>&#45;3</title>\n",
       "<polygon fill=\"lightgray\" stroke=\"black\" points=\"89.04,-166.07 65.04,-166.07 65.04,-149.07 89.04,-149.07 89.04,-166.07\"/>\n",
       "<text text-anchor=\"middle\" x=\"77.04\" y=\"-154.87\" font-family=\"Times,serif\" font-size=\"9.00\">&#45;3</text>\n",
       "</g>\n",
       "<!-- &#45;3&#45;&gt;0 -->\n",
       "<g id=\"edge5\" class=\"edge\">\n",
       "<title>&#45;3&#45;&gt;0</title>\n",
       "<path fill=\"none\" stroke=\"green\" stroke-width=\"0.11\" stroke-dasharray=\"1,5\" d=\"M77.15,-149C77.67,-132.73 80.47,-93.58 95.04,-64.99 101.7,-51.93 112.82,-39.82 122.46,-30.85\"/>\n",
       "<polygon fill=\"green\" stroke=\"green\" stroke-width=\"0.11\" points=\"124.92,-33.35 130.08,-24.1 120.28,-28.11 124.92,-33.35\"/>\n",
       "</g>\n",
       "<!-- &#45;3&#45;&gt;1 -->\n",
       "<g id=\"edge10\" class=\"edge\">\n",
       "<title>&#45;3&#45;&gt;1</title>\n",
       "<path fill=\"none\" stroke=\"green\" stroke-width=\"0.16\" stroke-dasharray=\"1,5\" d=\"M81.74,-148.94C87.43,-139.71 97.23,-123.8 105.22,-110.84\"/>\n",
       "<polygon fill=\"green\" stroke=\"green\" stroke-width=\"0.16\" points=\"108.36,-112.41 110.63,-102.06 102.4,-108.74 108.36,-112.41\"/>\n",
       "</g>\n",
       "<!-- &#45;3&#45;&gt;2 -->\n",
       "<g id=\"edge6\" class=\"edge\">\n",
       "<title>&#45;3&#45;&gt;2</title>\n",
       "<path fill=\"none\" stroke=\"green\" stroke-width=\"0.53\" d=\"M89.27,-149.13C102.47,-140.9 123.92,-126.95 141.04,-113.07 143.16,-111.36 145.32,-109.49 147.42,-107.58\"/>\n",
       "<polygon fill=\"green\" stroke=\"green\" stroke-width=\"0.53\" points=\"150.26,-109.71 155.11,-100.29 145.45,-104.63 150.26,-109.71\"/>\n",
       "</g>\n",
       "<!-- 1365 -->\n",
       "<g id=\"node8\" class=\"node\">\n",
       "<title>1365</title>\n",
       "<ellipse fill=\"white\" stroke=\"black\" cx=\"24.04\" cy=\"-89.03\" rx=\"24.08\" ry=\"24.08\"/>\n",
       "<text text-anchor=\"middle\" x=\"24.04\" y=\"-86.33\" font-family=\"Times,serif\" font-size=\"9.00\">1365</text>\n",
       "</g>\n",
       "<!-- &#45;3&#45;&gt;1365 -->\n",
       "<g id=\"edge11\" class=\"edge\">\n",
       "<title>&#45;3&#45;&gt;1365</title>\n",
       "<path fill=\"none\" stroke=\"red\" stroke-width=\"0.18\" d=\"M70.96,-148.94C64.6,-140.95 54.25,-127.96 44.89,-116.21\"/>\n",
       "<polygon fill=\"red\" stroke=\"red\" stroke-width=\"0.18\" points=\"47.6,-113.99 38.63,-108.35 42.12,-118.35 47.6,-113.99\"/>\n",
       "</g>\n",
       "<!-- &#45;4 -->\n",
       "<g id=\"node4\" class=\"node\">\n",
       "<title>&#45;4</title>\n",
       "<polygon fill=\"lightgray\" stroke=\"black\" points=\"174.04,-166.07 150.04,-166.07 150.04,-149.07 174.04,-149.07 174.04,-166.07\"/>\n",
       "<text text-anchor=\"middle\" x=\"162.04\" y=\"-154.87\" font-family=\"Times,serif\" font-size=\"9.00\">&#45;4</text>\n",
       "</g>\n",
       "<!-- &#45;4&#45;&gt;0 -->\n",
       "<g id=\"edge7\" class=\"edge\">\n",
       "<title>&#45;4&#45;&gt;0</title>\n",
       "<path fill=\"none\" stroke=\"red\" stroke-width=\"2.18\" d=\"M168.45,-148.84C174.84,-140.58 184.25,-126.81 188.04,-113.07 193.73,-92.47 195.96,-84.84 188.04,-64.99 182.43,-50.92 170.7,-38.56 160.37,-29.71\"/>\n",
       "<polygon fill=\"red\" stroke=\"red\" stroke-width=\"2.18\" points=\"162.51,-26.94 152.52,-23.4 158.12,-32.4 162.51,-26.94\"/>\n",
       "</g>\n",
       "<!-- &#45;4&#45;&gt;1 -->\n",
       "<g id=\"edge8\" class=\"edge\">\n",
       "<title>&#45;4&#45;&gt;1</title>\n",
       "<path fill=\"none\" stroke=\"red\" stroke-width=\"0.13\" d=\"M156.99,-148.94C150.76,-139.51 139.91,-123.11 131.25,-110\"/>\n",
       "<polygon fill=\"red\" stroke=\"red\" stroke-width=\"0.13\" points=\"134.11,-107.99 125.68,-101.58 128.27,-111.85 134.11,-107.99\"/>\n",
       "</g>\n",
       "<!-- &#45;4&#45;&gt;2 -->\n",
       "<g id=\"edge9\" class=\"edge\">\n",
       "<title>&#45;4&#45;&gt;2</title>\n",
       "<path fill=\"none\" stroke=\"green\" stroke-width=\"0.6\" d=\"M162.39,-148.94C162.77,-140.39 163.42,-126.09 163.97,-113.73\"/>\n",
       "<polygon fill=\"green\" stroke=\"green\" stroke-width=\"0.6\" points=\"167.48,-113.7 164.43,-103.55 160.49,-113.39 167.48,-113.7\"/>\n",
       "</g>\n",
       "<!-- 1365&#45;&gt;0 -->\n",
       "<g id=\"edge12\" class=\"edge\">\n",
       "<title>1365&#45;&gt;0</title>\n",
       "<path fill=\"none\" stroke=\"red\" stroke-width=\"0.46\" d=\"M44.15,-75.56C65.44,-62.37 98.87,-41.64 120.36,-28.32\"/>\n",
       "<polygon fill=\"red\" stroke=\"red\" stroke-width=\"0.46\" points=\"122.39,-31.18 129.05,-22.93 118.7,-25.23 122.39,-31.18\"/>\n",
       "</g>\n",
       "</g>\n",
       "</svg>\n"
      ],
      "text/plain": [
       "<graphviz.dot.Digraph at 0x7f87df628190>"
      ]
     },
     "execution_count": 165,
     "metadata": {},
     "output_type": "execute_result"
    }
   ],
   "source": [
    "visualization.draw_net(neat_clf_iris.config_, neat_clf_iris.winner_genome_, True)"
   ]
  },
  {
   "cell_type": "code",
   "execution_count": 171,
   "metadata": {},
   "outputs": [
    {
     "name": "stdout",
     "output_type": "stream",
     "text": [
      "                 precision    recall  f1-score   support\n",
      "\n",
      "    Iris-setosa       1.00      1.00      1.00        16\n",
      "Iris-versicolor       1.00      0.89      0.94        18\n",
      " Iris-virginica       0.85      1.00      0.92        11\n",
      "\n",
      "       accuracy                           0.96        45\n",
      "      macro avg       0.95      0.96      0.95        45\n",
      "   weighted avg       0.96      0.96      0.96        45\n",
      "\n"
     ]
    }
   ],
   "source": [
    "# Evaluate the model\n",
    "print(classification_report(y_test_iris, neat_result_iris))"
   ]
  },
  {
   "cell_type": "markdown",
   "metadata": {},
   "source": [
    "### Breast cancer dataset \n"
   ]
  },
  {
   "cell_type": "code",
   "execution_count": 156,
   "metadata": {
    "scrolled": true
   },
   "outputs": [
    {
     "name": "stdout",
     "output_type": "stream",
     "text": [
      "Key: 1420\n",
      "Fitness: 0.9815950920245399\n",
      "Nodes:\n",
      "\t0 DefaultNodeGene(key=0, bias=-1.0919713685233647, response=1.0, activation=sigmoid, aggregation=sum)\n",
      "\t1 DefaultNodeGene(key=1, bias=-0.46975085383735504, response=1.0, activation=sigmoid, aggregation=sum)\n",
      "\t167 DefaultNodeGene(key=167, bias=-2.7411787025063745, response=1.0, activation=sigmoid, aggregation=sum)\n",
      "\t270 DefaultNodeGene(key=270, bias=-0.026944169233321255, response=1.0, activation=sigmoid, aggregation=sum)\n",
      "Connections:\n",
      "\tDefaultConnectionGene(key=(-20, 0), weight=0.38095228365133227, enabled=True)\n",
      "\tDefaultConnectionGene(key=(-19, 0), weight=-1.4000126767968313, enabled=False)\n",
      "\tDefaultConnectionGene(key=(-19, 1), weight=1.1441467956102316, enabled=True)\n",
      "\tDefaultConnectionGene(key=(-18, 0), weight=-0.4059995579648378, enabled=True)\n",
      "\tDefaultConnectionGene(key=(-18, 1), weight=1.3185317045199492, enabled=True)\n",
      "\tDefaultConnectionGene(key=(-17, 0), weight=1.553112141845658, enabled=False)\n",
      "\tDefaultConnectionGene(key=(-17, 1), weight=2.62806210162578, enabled=True)\n",
      "\tDefaultConnectionGene(key=(-16, 0), weight=-0.23614575245711575, enabled=True)\n",
      "\tDefaultConnectionGene(key=(-16, 1), weight=1.0528254140643045, enabled=True)\n",
      "\tDefaultConnectionGene(key=(-15, 0), weight=0.9485002029420769, enabled=False)\n",
      "\tDefaultConnectionGene(key=(-15, 1), weight=0.4642300183602512, enabled=True)\n",
      "\tDefaultConnectionGene(key=(-15, 167), weight=1.1738401554035236, enabled=True)\n",
      "\tDefaultConnectionGene(key=(-14, 0), weight=-0.05862677566536112, enabled=True)\n",
      "\tDefaultConnectionGene(key=(-14, 1), weight=1.363514270071538, enabled=False)\n",
      "\tDefaultConnectionGene(key=(-13, 0), weight=-0.11066272675170885, enabled=True)\n",
      "\tDefaultConnectionGene(key=(-13, 1), weight=0.7160159431615593, enabled=True)\n",
      "\tDefaultConnectionGene(key=(-12, 0), weight=-1.2457922975601985, enabled=False)\n",
      "\tDefaultConnectionGene(key=(-12, 1), weight=-0.45938124431637056, enabled=True)\n",
      "\tDefaultConnectionGene(key=(-12, 270), weight=1.0357358696794048, enabled=True)\n",
      "\tDefaultConnectionGene(key=(-11, 1), weight=2.295878290568141, enabled=True)\n",
      "\tDefaultConnectionGene(key=(-10, 0), weight=0.4649763362313248, enabled=True)\n",
      "\tDefaultConnectionGene(key=(-10, 1), weight=-0.5452494444742862, enabled=True)\n",
      "\tDefaultConnectionGene(key=(-9, 0), weight=-0.4733914727972514, enabled=True)\n",
      "\tDefaultConnectionGene(key=(-9, 1), weight=1.0151230732636631, enabled=True)\n",
      "\tDefaultConnectionGene(key=(-8, 0), weight=-2.21244237885962, enabled=True)\n",
      "\tDefaultConnectionGene(key=(-8, 1), weight=1.6670297287867037, enabled=True)\n",
      "\tDefaultConnectionGene(key=(-7, 0), weight=-3.0204555678478866, enabled=True)\n",
      "\tDefaultConnectionGene(key=(-7, 1), weight=-0.3512905495496938, enabled=True)\n",
      "\tDefaultConnectionGene(key=(-6, 0), weight=-1.1740332759236998, enabled=True)\n",
      "\tDefaultConnectionGene(key=(-6, 1), weight=-0.24045268193116107, enabled=True)\n",
      "\tDefaultConnectionGene(key=(-5, 0), weight=-1.831430323623263, enabled=True)\n",
      "\tDefaultConnectionGene(key=(-5, 1), weight=1.2836343471197278, enabled=True)\n",
      "\tDefaultConnectionGene(key=(-4, 0), weight=-1.5282423126297857, enabled=True)\n",
      "\tDefaultConnectionGene(key=(-4, 1), weight=4.815707787498429, enabled=True)\n",
      "\tDefaultConnectionGene(key=(-3, 0), weight=-1.818418625724732, enabled=True)\n",
      "\tDefaultConnectionGene(key=(-3, 1), weight=-0.32813772200981345, enabled=True)\n",
      "\tDefaultConnectionGene(key=(-2, 0), weight=-0.6981631675042783, enabled=True)\n",
      "\tDefaultConnectionGene(key=(-2, 1), weight=1.0997070209173905, enabled=True)\n",
      "\tDefaultConnectionGene(key=(-1, 1), weight=-1.2208100336477203, enabled=True)\n",
      "\tDefaultConnectionGene(key=(167, 0), weight=-1.74353069461012, enabled=True)\n",
      "\tDefaultConnectionGene(key=(270, 0), weight=-1.343288043370127, enabled=True)\n"
     ]
    }
   ],
   "source": [
    "# Create NEATClassifier model\n",
    "neat_clf_cancer = NEATClassifier(fitness_threshold=0.98, statistic_reporter=0)\n",
    "\n",
    "# Train the algorithm\n",
    "neat_clf_cancer.fit(x_train_cancer, y_train_cancer)"
   ]
  },
  {
   "cell_type": "code",
   "execution_count": 183,
   "metadata": {},
   "outputs": [],
   "source": [
    "# Make predictions on unseen data\n",
    "neat_result_cancer = neat_clf_cancer.predict(x_test_cancer)"
   ]
  },
  {
   "cell_type": "code",
   "execution_count": 178,
   "metadata": {},
   "outputs": [
    {
     "data": {
      "image/png": "[encoded data removed]",
      "text/plain": [
       "<Figure size 432x288 with 1 Axes>"
      ]
     },
     "metadata": {
      "needs_background": "light"
     },
     "output_type": "display_data"
    },
    {
     "data": {
      "image/svg+xml": [
       "<?xml version=\"1.0\" encoding=\"UTF-8\" standalone=\"no\"?>\n",
       "<!DOCTYPE svg PUBLIC \"-//W3C//DTD SVG 1.1//EN\"\n",
       " \"http://www.w3.org/Graphics/SVG/1.1/DTD/svg11.dtd\">\n",
       "<!-- Generated by graphviz version 2.43.0 (0)\n",
       " -->\n",
       "<!-- Title: %3 Pages: 1 -->\n",
       "<svg width=\"1028pt\" height=\"168pt\"\n",
       " viewBox=\"0.00 0.00 1028.25 167.71\" xmlns=\"http://www.w3.org/2000/svg\" xmlns:xlink=\"http://www.w3.org/1999/xlink\">\n",
       "<g id=\"graph0\" class=\"graph\" transform=\"scale(1 1) rotate(0) translate(4 163.71)\">\n",
       "<title>%3</title>\n",
       "<polygon fill=\"white\" stroke=\"transparent\" points=\"-4,4 -4,-163.71 1024.25,-163.71 1024.25,4 -4,4\"/>\n",
       "<!-- &#45;1 -->\n",
       "<g id=\"node1\" class=\"node\">\n",
       "<title>&#45;1</title>\n",
       "<polygon fill=\"lightgray\" stroke=\"black\" points=\"42.39,-94.35 18.39,-94.35 18.39,-77.35 42.39,-77.35 42.39,-94.35\"/>\n",
       "<text text-anchor=\"middle\" x=\"30.39\" y=\"-83.15\" font-family=\"Times,serif\" font-size=\"9.00\">&#45;1</text>\n",
       "</g>\n",
       "<!-- 1 -->\n",
       "<g id=\"node22\" class=\"node\">\n",
       "<title>1</title>\n",
       "<ellipse fill=\"lightblue\" stroke=\"black\" cx=\"369.39\" cy=\"-14.5\" rx=\"14.49\" ry=\"14.49\"/>\n",
       "<text text-anchor=\"middle\" x=\"369.39\" y=\"-11.8\" font-family=\"Times,serif\" font-size=\"9.00\">1</text>\n",
       "</g>\n",
       "<!-- &#45;1&#45;&gt;1 -->\n",
       "<g id=\"edge1\" class=\"edge\">\n",
       "<title>&#45;1&#45;&gt;1</title>\n",
       "<path fill=\"none\" stroke=\"red\" stroke-width=\"0.34\" d=\"M36.56,-77.04C40.37,-72.78 45.62,-67.82 51.39,-64.99 103.31,-39.53 279.22,-22.88 344.63,-17.44\"/>\n",
       "<polygon fill=\"red\" stroke=\"red\" stroke-width=\"0.34\" points=\"345.14,-20.91 354.82,-16.61 344.57,-13.93 345.14,-20.91\"/>\n",
       "</g>\n",
       "<!-- &#45;2 -->\n",
       "<g id=\"node2\" class=\"node\">\n",
       "<title>&#45;2</title>\n",
       "<polygon fill=\"lightgray\" stroke=\"black\" points=\"655.39,-94.35 631.39,-94.35 631.39,-77.35 655.39,-77.35 655.39,-94.35\"/>\n",
       "<text text-anchor=\"middle\" x=\"643.39\" y=\"-83.15\" font-family=\"Times,serif\" font-size=\"9.00\">&#45;2</text>\n",
       "</g>\n",
       "<!-- 0 -->\n",
       "<g id=\"node21\" class=\"node\">\n",
       "<title>0</title>\n",
       "<ellipse fill=\"lightblue\" stroke=\"black\" cx=\"576.39\" cy=\"-14.5\" rx=\"14.49\" ry=\"14.49\"/>\n",
       "<text text-anchor=\"middle\" x=\"576.39\" y=\"-11.8\" font-family=\"Times,serif\" font-size=\"9.00\">0</text>\n",
       "</g>\n",
       "<!-- &#45;2&#45;&gt;0 -->\n",
       "<g id=\"edge2\" class=\"edge\">\n",
       "<title>&#45;2&#45;&gt;0</title>\n",
       "<path fill=\"none\" stroke=\"red\" stroke-width=\"0.24\" d=\"M635.96,-77.16C625.73,-66.57 607,-47.18 593.26,-32.96\"/>\n",
       "<polygon fill=\"red\" stroke=\"red\" stroke-width=\"0.24\" points=\"595.7,-30.45 586.23,-25.69 590.66,-35.31 595.7,-30.45\"/>\n",
       "</g>\n",
       "<!-- &#45;2&#45;&gt;1 -->\n",
       "<g id=\"edge3\" class=\"edge\">\n",
       "<title>&#45;2&#45;&gt;1</title>\n",
       "<path fill=\"none\" stroke=\"green\" stroke-width=\"0.32\" d=\"M637.17,-77.13C633.35,-72.9 628.1,-67.93 622.39,-64.99 545.76,-25.55 441.26,-17.44 394.18,-15.84\"/>\n",
       "<polygon fill=\"green\" stroke=\"green\" stroke-width=\"0.32\" points=\"394.1,-12.34 384.01,-15.57 393.91,-19.34 394.1,-12.34\"/>\n",
       "</g>\n",
       "<!-- &#45;3 -->\n",
       "<g id=\"node3\" class=\"node\">\n",
       "<title>&#45;3</title>\n",
       "<polygon fill=\"lightgray\" stroke=\"black\" points=\"696.39,-94.35 672.39,-94.35 672.39,-77.35 696.39,-77.35 696.39,-94.35\"/>\n",
       "<text text-anchor=\"middle\" x=\"684.39\" y=\"-83.15\" font-family=\"Times,serif\" font-size=\"9.00\">&#45;3</text>\n",
       "</g>\n",
       "<!-- &#45;3&#45;&gt;0 -->\n",
       "<g id=\"edge4\" class=\"edge\">\n",
       "<title>&#45;3&#45;&gt;0</title>\n",
       "<path fill=\"none\" stroke=\"red\" stroke-width=\"0.46\" d=\"M677.42,-76.99C673.76,-73.12 669.07,-68.53 664.39,-64.99 643.41,-49.14 616.79,-34.86 598.35,-25.77\"/>\n",
       "<polygon fill=\"red\" stroke=\"red\" stroke-width=\"0.46\" points=\"599.81,-22.58 589.28,-21.38 596.76,-28.89 599.81,-22.58\"/>\n",
       "</g>\n",
       "<!-- &#45;3&#45;&gt;1 -->\n",
       "<g id=\"edge5\" class=\"edge\">\n",
       "<title>&#45;3&#45;&gt;1</title>\n",
       "<path fill=\"none\" stroke=\"red\" stroke-width=\"0.17\" d=\"M678.57,-77.07C674.96,-72.82 669.96,-67.85 664.39,-64.99 616.99,-40.67 456.07,-23.54 394.04,-17.7\"/>\n",
       "<polygon fill=\"red\" stroke=\"red\" stroke-width=\"0.17\" points=\"394.27,-14.2 383.99,-16.77 393.62,-21.17 394.27,-14.2\"/>\n",
       "</g>\n",
       "<!-- &#45;4 -->\n",
       "<g id=\"node4\" class=\"node\">\n",
       "<title>&#45;4</title>\n",
       "<polygon fill=\"lightgray\" stroke=\"black\" points=\"737.39,-94.35 713.39,-94.35 713.39,-77.35 737.39,-77.35 737.39,-94.35\"/>\n",
       "<text text-anchor=\"middle\" x=\"725.39\" y=\"-83.15\" font-family=\"Times,serif\" font-size=\"9.00\">&#45;4</text>\n",
       "</g>\n",
       "<!-- &#45;4&#45;&gt;0 -->\n",
       "<g id=\"edge6\" class=\"edge\">\n",
       "<title>&#45;4&#45;&gt;0</title>\n",
       "<path fill=\"none\" stroke=\"red\" stroke-width=\"0.41\" d=\"M718.98,-77.08C715.33,-73.05 710.48,-68.29 705.39,-64.99 671.78,-43.25 627.18,-28.83 600.2,-21.41\"/>\n",
       "<polygon fill=\"red\" stroke=\"red\" stroke-width=\"0.41\" points=\"601.01,-18.01 590.45,-18.83 599.22,-24.78 601.01,-18.01\"/>\n",
       "</g>\n",
       "<!-- &#45;4&#45;&gt;1 -->\n",
       "<g id=\"edge7\" class=\"edge\">\n",
       "<title>&#45;4&#45;&gt;1</title>\n",
       "<path fill=\"none\" stroke=\"green\" stroke-width=\"1.06\" d=\"M719.59,-77.02C715.99,-72.76 710.99,-67.79 705.39,-64.99 650.45,-37.49 462.29,-21.96 394.22,-17.14\"/>\n",
       "<polygon fill=\"green\" stroke=\"green\" stroke-width=\"1.06\" points=\"394.23,-13.63 384.01,-16.43 393.75,-20.62 394.23,-13.63\"/>\n",
       "</g>\n",
       "<!-- &#45;5 -->\n",
       "<g id=\"node5\" class=\"node\">\n",
       "<title>&#45;5</title>\n",
       "<polygon fill=\"lightgray\" stroke=\"black\" points=\"778.39,-94.35 754.39,-94.35 754.39,-77.35 778.39,-77.35 778.39,-94.35\"/>\n",
       "<text text-anchor=\"middle\" x=\"766.39\" y=\"-83.15\" font-family=\"Times,serif\" font-size=\"9.00\">&#45;5</text>\n",
       "</g>\n",
       "<!-- &#45;5&#45;&gt;0 -->\n",
       "<g id=\"edge8\" class=\"edge\">\n",
       "<title>&#45;5&#45;&gt;0</title>\n",
       "<path fill=\"none\" stroke=\"red\" stroke-width=\"0.47\" d=\"M760.43,-77.31C756.78,-73.14 751.78,-68.17 746.39,-64.99 699.31,-37.25 635.65,-24.17 601.13,-18.76\"/>\n",
       "<polygon fill=\"red\" stroke=\"red\" stroke-width=\"0.47\" points=\"601.41,-15.27 591,-17.27 600.38,-22.19 601.41,-15.27\"/>\n",
       "</g>\n",
       "<!-- &#45;5&#45;&gt;1 -->\n",
       "<g id=\"edge9\" class=\"edge\">\n",
       "<title>&#45;5&#45;&gt;1</title>\n",
       "<path fill=\"none\" stroke=\"green\" stroke-width=\"0.36\" d=\"M760.6,-76.99C757.01,-72.72 752.01,-67.75 746.39,-64.99 714.69,-49.44 472.68,-25.31 394.01,-17.81\"/>\n",
       "<polygon fill=\"green\" stroke=\"green\" stroke-width=\"0.36\" points=\"394.32,-14.32 384.03,-16.86 393.66,-21.29 394.32,-14.32\"/>\n",
       "</g>\n",
       "<!-- &#45;6 -->\n",
       "<g id=\"node6\" class=\"node\">\n",
       "<title>&#45;6</title>\n",
       "<polygon fill=\"lightgray\" stroke=\"black\" points=\"168.39,-94.35 144.39,-94.35 144.39,-77.35 168.39,-77.35 168.39,-94.35\"/>\n",
       "<text text-anchor=\"middle\" x=\"156.39\" y=\"-83.15\" font-family=\"Times,serif\" font-size=\"9.00\">&#45;6</text>\n",
       "</g>\n",
       "<!-- &#45;6&#45;&gt;0 -->\n",
       "<g id=\"edge10\" class=\"edge\">\n",
       "<title>&#45;6&#45;&gt;0</title>\n",
       "<path fill=\"none\" stroke=\"red\" stroke-width=\"0.33\" d=\"M162.16,-76.98C165.75,-72.69 170.75,-67.73 176.39,-64.99 210.23,-48.54 469.63,-24.79 551.63,-17.62\"/>\n",
       "<polygon fill=\"red\" stroke=\"red\" stroke-width=\"0.33\" points=\"552.11,-21.09 561.77,-16.74 551.5,-14.12 552.11,-21.09\"/>\n",
       "</g>\n",
       "<!-- &#45;6&#45;&gt;1 -->\n",
       "<g id=\"edge11\" class=\"edge\">\n",
       "<title>&#45;6&#45;&gt;1</title>\n",
       "<path fill=\"none\" stroke=\"red\" stroke-width=\"0.15\" d=\"M162.3,-77.24C165.94,-73.05 170.94,-68.08 176.39,-64.99 231.42,-33.74 306.36,-21.88 344.65,-17.65\"/>\n",
       "<polygon fill=\"red\" stroke=\"red\" stroke-width=\"0.15\" points=\"345.27,-21.11 354.86,-16.61 344.56,-14.14 345.27,-21.11\"/>\n",
       "</g>\n",
       "<!-- &#45;7 -->\n",
       "<g id=\"node7\" class=\"node\">\n",
       "<title>&#45;7</title>\n",
       "<polygon fill=\"lightgray\" stroke=\"black\" points=\"209.39,-94.35 185.39,-94.35 185.39,-77.35 209.39,-77.35 209.39,-94.35\"/>\n",
       "<text text-anchor=\"middle\" x=\"197.39\" y=\"-83.15\" font-family=\"Times,serif\" font-size=\"9.00\">&#45;7</text>\n",
       "</g>\n",
       "<!-- &#45;7&#45;&gt;0 -->\n",
       "<g id=\"edge12\" class=\"edge\">\n",
       "<title>&#45;7&#45;&gt;0</title>\n",
       "<path fill=\"none\" stroke=\"red\" stroke-width=\"0.7\" d=\"M203.18,-77C206.77,-72.73 211.77,-67.77 217.39,-64.99 276.67,-35.66 480.73,-21.12 551.77,-16.86\"/>\n",
       "<polygon fill=\"red\" stroke=\"red\" stroke-width=\"0.7\" points=\"552.21,-20.34 561.99,-16.27 551.8,-13.36 552.21,-20.34\"/>\n",
       "</g>\n",
       "<!-- &#45;7&#45;&gt;1 -->\n",
       "<g id=\"edge13\" class=\"edge\">\n",
       "<title>&#45;7&#45;&gt;1</title>\n",
       "<path fill=\"none\" stroke=\"red\" stroke-width=\"0.17\" d=\"M203.73,-76.98C207.36,-72.91 212.21,-68.15 217.39,-64.99 258.49,-39.89 313.71,-26.07 345.03,-19.78\"/>\n",
       "<polygon fill=\"red\" stroke=\"red\" stroke-width=\"0.17\" points=\"345.88,-23.18 355.04,-17.86 344.56,-16.3 345.88,-23.18\"/>\n",
       "</g>\n",
       "<!-- &#45;8 -->\n",
       "<g id=\"node8\" class=\"node\">\n",
       "<title>&#45;8</title>\n",
       "<polygon fill=\"lightgray\" stroke=\"black\" points=\"250.39,-94.35 226.39,-94.35 226.39,-77.35 250.39,-77.35 250.39,-94.35\"/>\n",
       "<text text-anchor=\"middle\" x=\"238.39\" y=\"-83.15\" font-family=\"Times,serif\" font-size=\"9.00\">&#45;8</text>\n",
       "</g>\n",
       "<!-- &#45;8&#45;&gt;0 -->\n",
       "<g id=\"edge14\" class=\"edge\">\n",
       "<title>&#45;8&#45;&gt;0</title>\n",
       "<path fill=\"none\" stroke=\"red\" stroke-width=\"0.54\" d=\"M244.2,-77.04C247.8,-72.78 252.8,-67.82 258.39,-64.99 310,-38.89 486.1,-22.64 551.59,-17.37\"/>\n",
       "<polygon fill=\"red\" stroke=\"red\" stroke-width=\"0.54\" points=\"552.11,-20.84 561.8,-16.57 551.56,-13.86 552.11,-20.84\"/>\n",
       "</g>\n",
       "<!-- &#45;8&#45;&gt;1 -->\n",
       "<g id=\"edge15\" class=\"edge\">\n",
       "<title>&#45;8&#45;&gt;1</title>\n",
       "<path fill=\"none\" stroke=\"green\" stroke-width=\"0.43\" d=\"M244.86,-77.19C248.53,-73.19 253.38,-68.42 258.39,-64.99 286.16,-45.96 322.44,-31.43 345.82,-23.17\"/>\n",
       "<polygon fill=\"green\" stroke=\"green\" stroke-width=\"0.43\" points=\"347.26,-26.38 355.59,-19.83 344.99,-19.76 347.26,-26.38\"/>\n",
       "</g>\n",
       "<!-- &#45;9 -->\n",
       "<g id=\"node9\" class=\"node\">\n",
       "<title>&#45;9</title>\n",
       "<polygon fill=\"lightgray\" stroke=\"black\" points=\"291.39,-94.35 267.39,-94.35 267.39,-77.35 291.39,-77.35 291.39,-94.35\"/>\n",
       "<text text-anchor=\"middle\" x=\"279.39\" y=\"-83.15\" font-family=\"Times,serif\" font-size=\"9.00\">&#45;9</text>\n",
       "</g>\n",
       "<!-- &#45;9&#45;&gt;0 -->\n",
       "<g id=\"edge16\" class=\"edge\">\n",
       "<title>&#45;9&#45;&gt;0</title>\n",
       "<path fill=\"none\" stroke=\"red\" stroke-width=\"0.19\" d=\"M285.59,-77.09C289.4,-72.85 294.65,-67.89 300.39,-64.99 385.23,-22.16 501.19,-15.87 551.46,-15.3\"/>\n",
       "<polygon fill=\"red\" stroke=\"red\" stroke-width=\"0.19\" points=\"551.71,-18.8 561.7,-15.25 551.68,-11.8 551.71,-18.8\"/>\n",
       "</g>\n",
       "<!-- &#45;9&#45;&gt;1 -->\n",
       "<g id=\"edge17\" class=\"edge\">\n",
       "<title>&#45;9&#45;&gt;1</title>\n",
       "<path fill=\"none\" stroke=\"green\" stroke-width=\"0.3\" d=\"M286.94,-77.24C290.84,-73.43 295.74,-68.82 300.39,-64.99 316.06,-52.06 334.85,-38.71 348.87,-29.14\"/>\n",
       "<polygon fill=\"green\" stroke=\"green\" stroke-width=\"0.3\" points=\"350.98,-31.93 357.31,-23.43 347.06,-26.13 350.98,-31.93\"/>\n",
       "</g>\n",
       "<!-- &#45;10 -->\n",
       "<g id=\"node10\" class=\"node\">\n",
       "<title>&#45;10</title>\n",
       "<polygon fill=\"lightgray\" stroke=\"black\" points=\"337.38,-94.35 309.39,-94.35 309.39,-77.35 337.38,-77.35 337.38,-94.35\"/>\n",
       "<text text-anchor=\"middle\" x=\"323.39\" y=\"-83.15\" font-family=\"Times,serif\" font-size=\"9.00\">&#45;10</text>\n",
       "</g>\n",
       "<!-- &#45;10&#45;&gt;0 -->\n",
       "<g id=\"edge18\" class=\"edge\">\n",
       "<title>&#45;10&#45;&gt;0</title>\n",
       "<path fill=\"none\" stroke=\"green\" stroke-width=\"0.19\" d=\"M330.35,-77.18C334.59,-72.97 340.34,-68 346.39,-64.99 415.5,-30.57 507.96,-19.99 551.6,-16.82\"/>\n",
       "<polygon fill=\"green\" stroke=\"green\" stroke-width=\"0.19\" points=\"552.09,-20.29 561.84,-16.15 551.63,-13.31 552.09,-20.29\"/>\n",
       "</g>\n",
       "<!-- &#45;10&#45;&gt;1 -->\n",
       "<g id=\"edge19\" class=\"edge\">\n",
       "<title>&#45;10&#45;&gt;1</title>\n",
       "<path fill=\"none\" stroke=\"red\" stroke-width=\"0.21\" d=\"M328.49,-77.16C335.09,-67.21 346.84,-49.5 356.05,-35.6\"/>\n",
       "<polygon fill=\"red\" stroke=\"red\" stroke-width=\"0.21\" points=\"359.06,-37.41 361.67,-27.14 353.22,-33.54 359.06,-37.41\"/>\n",
       "</g>\n",
       "<!-- &#45;11 -->\n",
       "<g id=\"node11\" class=\"node\">\n",
       "<title>&#45;11</title>\n",
       "<polygon fill=\"lightgray\" stroke=\"black\" points=\"88.06,-94.35 60.72,-94.35 60.72,-77.35 88.06,-77.35 88.06,-94.35\"/>\n",
       "<text text-anchor=\"middle\" x=\"74.39\" y=\"-83.15\" font-family=\"Times,serif\" font-size=\"9.00\">&#45;11</text>\n",
       "</g>\n",
       "<!-- &#45;11&#45;&gt;1 -->\n",
       "<g id=\"edge20\" class=\"edge\">\n",
       "<title>&#45;11&#45;&gt;1</title>\n",
       "<path fill=\"none\" stroke=\"green\" stroke-width=\"0.56\" d=\"M83.12,-77.15C88.36,-72.93 95.36,-67.96 102.39,-64.99 186.58,-29.39 296.4,-19.32 344.74,-16.53\"/>\n",
       "<polygon fill=\"green\" stroke=\"green\" stroke-width=\"0.56\" points=\"345.07,-20.02 354.87,-16.01 344.7,-13.03 345.07,-20.02\"/>\n",
       "</g>\n",
       "<!-- &#45;12 -->\n",
       "<g id=\"node12\" class=\"node\">\n",
       "<title>&#45;12</title>\n",
       "<polygon fill=\"lightgray\" stroke=\"black\" points=\"831.38,-159.71 803.39,-159.71 803.39,-142.71 831.38,-142.71 831.38,-159.71\"/>\n",
       "<text text-anchor=\"middle\" x=\"817.39\" y=\"-148.51\" font-family=\"Times,serif\" font-size=\"9.00\">&#45;12</text>\n",
       "</g>\n",
       "<!-- &#45;12&#45;&gt;0 -->\n",
       "<g id=\"edge21\" class=\"edge\">\n",
       "<title>&#45;12&#45;&gt;0</title>\n",
       "<path fill=\"none\" stroke=\"red\" stroke-width=\"0.35\" stroke-dasharray=\"1,5\" d=\"M831.39,-146.81C849.43,-141.6 880.04,-129.73 893.39,-106.71 902.69,-90.67 905.45,-79.08 893.39,-64.99 855.65,-20.9 669.28,-15.79 601.28,-15.42\"/>\n",
       "<polygon fill=\"red\" stroke=\"red\" stroke-width=\"0.35\" points=\"601.08,-11.92 591.07,-15.4 601.06,-18.92 601.08,-11.92\"/>\n",
       "</g>\n",
       "<!-- &#45;12&#45;&gt;1 -->\n",
       "<g id=\"edge22\" class=\"edge\">\n",
       "<title>&#45;12&#45;&gt;1</title>\n",
       "<path fill=\"none\" stroke=\"red\" stroke-width=\"0.19\" d=\"M803.22,-150C697.72,-148.33 37.83,-136.73 9.39,-106.71 -3.37,-93.25 -2.8,-78.97 9.39,-64.99 53.26,-14.67 270.63,-13.72 344.65,-14.91\"/>\n",
       "<polygon fill=\"red\" stroke=\"red\" stroke-width=\"0.19\" points=\"344.81,-18.41 354.88,-15.1 344.94,-11.41 344.81,-18.41\"/>\n",
       "</g>\n",
       "<!-- 270 -->\n",
       "<g id=\"node23\" class=\"node\">\n",
       "<title>270</title>\n",
       "<ellipse fill=\"white\" stroke=\"black\" cx=\"817.39\" cy=\"-85.85\" rx=\"20.72\" ry=\"20.72\"/>\n",
       "<text text-anchor=\"middle\" x=\"817.39\" y=\"-83.15\" font-family=\"Times,serif\" font-size=\"9.00\">270</text>\n",
       "</g>\n",
       "<!-- &#45;12&#45;&gt;270 -->\n",
       "<g id=\"edge40\" class=\"edge\">\n",
       "<title>&#45;12&#45;&gt;270</title>\n",
       "<path fill=\"none\" stroke=\"green\" stroke-width=\"0.31\" d=\"M817.39,-142.44C817.39,-135.99 817.39,-126.36 817.39,-116.93\"/>\n",
       "<polygon fill=\"green\" stroke=\"green\" stroke-width=\"0.31\" points=\"820.89,-116.93 817.39,-106.93 813.89,-116.93 820.89,-116.93\"/>\n",
       "</g>\n",
       "<!-- &#45;13 -->\n",
       "<g id=\"node13\" class=\"node\">\n",
       "<title>&#45;13</title>\n",
       "<polygon fill=\"lightgray\" stroke=\"black\" points=\"383.38,-94.35 355.39,-94.35 355.39,-77.35 383.38,-77.35 383.38,-94.35\"/>\n",
       "<text text-anchor=\"middle\" x=\"369.39\" y=\"-83.15\" font-family=\"Times,serif\" font-size=\"9.00\">&#45;13</text>\n",
       "</g>\n",
       "<!-- &#45;13&#45;&gt;0 -->\n",
       "<g id=\"edge23\" class=\"edge\">\n",
       "<title>&#45;13&#45;&gt;0</title>\n",
       "<path fill=\"none\" stroke=\"red\" stroke-width=\"0.12\" d=\"M376.41,-77.29C380.67,-73.12 386.42,-68.15 392.39,-64.99 445.1,-37.05 514.86,-23.91 551.49,-18.59\"/>\n",
       "<polygon fill=\"red\" stroke=\"red\" stroke-width=\"0.12\" points=\"552.3,-22.01 561.73,-17.18 551.35,-15.07 552.3,-22.01\"/>\n",
       "</g>\n",
       "<!-- &#45;13&#45;&gt;1 -->\n",
       "<g id=\"edge24\" class=\"edge\">\n",
       "<title>&#45;13&#45;&gt;1</title>\n",
       "<path fill=\"none\" stroke=\"green\" stroke-width=\"0.24\" d=\"M369.39,-77.16C369.39,-68.13 369.39,-52.69 369.39,-39.52\"/>\n",
       "<polygon fill=\"green\" stroke=\"green\" stroke-width=\"0.24\" points=\"372.89,-39.18 369.39,-29.18 365.89,-39.18 372.89,-39.18\"/>\n",
       "</g>\n",
       "<!-- &#45;14 -->\n",
       "<g id=\"node14\" class=\"node\">\n",
       "<title>&#45;14</title>\n",
       "<polygon fill=\"lightgray\" stroke=\"black\" points=\"429.38,-94.35 401.39,-94.35 401.39,-77.35 429.38,-77.35 429.38,-94.35\"/>\n",
       "<text text-anchor=\"middle\" x=\"415.39\" y=\"-83.15\" font-family=\"Times,serif\" font-size=\"9.00\">&#45;14</text>\n",
       "</g>\n",
       "<!-- &#45;14&#45;&gt;0 -->\n",
       "<g id=\"edge25\" class=\"edge\">\n",
       "<title>&#45;14&#45;&gt;0</title>\n",
       "<path fill=\"none\" stroke=\"red\" stroke-width=\"0.11\" d=\"M422.92,-77.09C427.17,-73.05 432.74,-68.29 438.39,-64.99 475.62,-43.26 523.99,-28.62 552.46,-21.2\"/>\n",
       "<polygon fill=\"red\" stroke=\"red\" stroke-width=\"0.11\" points=\"553.5,-24.55 562.34,-18.71 551.78,-17.76 553.5,-24.55\"/>\n",
       "</g>\n",
       "<!-- &#45;14&#45;&gt;1 -->\n",
       "<g id=\"edge26\" class=\"edge\">\n",
       "<title>&#45;14&#45;&gt;1</title>\n",
       "<path fill=\"none\" stroke=\"green\" stroke-width=\"0.37\" stroke-dasharray=\"1,5\" d=\"M410.29,-77.16C403.69,-67.21 391.94,-49.5 382.72,-35.6\"/>\n",
       "<polygon fill=\"green\" stroke=\"green\" stroke-width=\"0.37\" points=\"385.55,-33.54 377.11,-27.14 379.72,-37.41 385.55,-33.54\"/>\n",
       "</g>\n",
       "<!-- &#45;15 -->\n",
       "<g id=\"node15\" class=\"node\">\n",
       "<title>&#45;15</title>\n",
       "<polygon fill=\"lightgray\" stroke=\"black\" points=\"964.38,-159.71 936.39,-159.71 936.39,-142.71 964.38,-142.71 964.38,-159.71\"/>\n",
       "<text text-anchor=\"middle\" x=\"950.39\" y=\"-148.51\" font-family=\"Times,serif\" font-size=\"9.00\">&#45;15</text>\n",
       "</g>\n",
       "<!-- &#45;15&#45;&gt;0 -->\n",
       "<g id=\"edge27\" class=\"edge\">\n",
       "<title>&#45;15&#45;&gt;0</title>\n",
       "<path fill=\"none\" stroke=\"green\" stroke-width=\"0.29\" stroke-dasharray=\"1,5\" d=\"M949.34,-142.57C946.58,-125.55 937.41,-84.53 911.39,-64.99 862.29,-28.12 670.3,-18.47 601.28,-16.16\"/>\n",
       "<polygon fill=\"green\" stroke=\"green\" stroke-width=\"0.29\" points=\"601.04,-12.65 590.94,-15.84 600.82,-19.65 601.04,-12.65\"/>\n",
       "</g>\n",
       "<!-- &#45;15&#45;&gt;1 -->\n",
       "<g id=\"edge28\" class=\"edge\">\n",
       "<title>&#45;15&#45;&gt;1</title>\n",
       "<path fill=\"none\" stroke=\"green\" stroke-width=\"0.19\" d=\"M936.15,-149.16C915.19,-147.64 874.78,-144.76 840.39,-142.71 801.24,-140.38 162.4,-135.14 135.39,-106.71 71.95,-39.95 272.45,-21.26 344.57,-16.77\"/>\n",
       "<polygon fill=\"green\" stroke=\"green\" stroke-width=\"0.19\" points=\"345.2,-20.23 354.98,-16.16 344.8,-13.25 345.2,-20.23\"/>\n",
       "</g>\n",
       "<!-- 167 -->\n",
       "<g id=\"node24\" class=\"node\">\n",
       "<title>167</title>\n",
       "<ellipse fill=\"white\" stroke=\"black\" cx=\"999.39\" cy=\"-85.85\" rx=\"20.72\" ry=\"20.72\"/>\n",
       "<text text-anchor=\"middle\" x=\"999.39\" y=\"-83.15\" font-family=\"Times,serif\" font-size=\"9.00\">167</text>\n",
       "</g>\n",
       "<!-- &#45;15&#45;&gt;167 -->\n",
       "<g id=\"edge38\" class=\"edge\">\n",
       "<title>&#45;15&#45;&gt;167</title>\n",
       "<path fill=\"none\" stroke=\"green\" stroke-width=\"0.33\" d=\"M956.4,-142.44C962.42,-134.65 972.02,-122.24 980.62,-111.12\"/>\n",
       "<polygon fill=\"green\" stroke=\"green\" stroke-width=\"0.33\" points=\"983.58,-113.01 986.93,-102.96 978.04,-108.73 983.58,-113.01\"/>\n",
       "</g>\n",
       "<!-- &#45;16 -->\n",
       "<g id=\"node16\" class=\"node\">\n",
       "<title>&#45;16</title>\n",
       "<polygon fill=\"lightgray\" stroke=\"black\" points=\"475.38,-94.35 447.39,-94.35 447.39,-77.35 475.38,-77.35 475.38,-94.35\"/>\n",
       "<text text-anchor=\"middle\" x=\"461.39\" y=\"-83.15\" font-family=\"Times,serif\" font-size=\"9.00\">&#45;16</text>\n",
       "</g>\n",
       "<!-- &#45;16&#45;&gt;0 -->\n",
       "<g id=\"edge29\" class=\"edge\">\n",
       "<title>&#45;16&#45;&gt;0</title>\n",
       "<path fill=\"none\" stroke=\"red\" stroke-width=\"0.15\" d=\"M469.55,-77.03C473.79,-73.17 479.17,-68.58 484.39,-64.99 507.03,-49.4 535.11,-34.92 554.26,-25.7\"/>\n",
       "<polygon fill=\"red\" stroke=\"red\" stroke-width=\"0.15\" points=\"555.84,-28.83 563.38,-21.38 552.84,-22.5 555.84,-28.83\"/>\n",
       "</g>\n",
       "<!-- &#45;16&#45;&gt;1 -->\n",
       "<g id=\"edge30\" class=\"edge\">\n",
       "<title>&#45;16&#45;&gt;1</title>\n",
       "<path fill=\"none\" stroke=\"green\" stroke-width=\"0.31\" d=\"M453.02,-77.31C448.73,-73.52 443.36,-68.91 438.39,-64.99 422.43,-52.42 403.66,-39.04 389.72,-29.36\"/>\n",
       "<polygon fill=\"green\" stroke=\"green\" stroke-width=\"0.31\" points=\"391.57,-26.38 381.35,-23.59 387.59,-32.15 391.57,-26.38\"/>\n",
       "</g>\n",
       "<!-- &#45;17 -->\n",
       "<g id=\"node17\" class=\"node\">\n",
       "<title>&#45;17</title>\n",
       "<polygon fill=\"lightgray\" stroke=\"black\" points=\"521.38,-94.35 493.39,-94.35 493.39,-77.35 521.38,-77.35 521.38,-94.35\"/>\n",
       "<text text-anchor=\"middle\" x=\"507.39\" y=\"-83.15\" font-family=\"Times,serif\" font-size=\"9.00\">&#45;17</text>\n",
       "</g>\n",
       "<!-- &#45;17&#45;&gt;0 -->\n",
       "<g id=\"edge31\" class=\"edge\">\n",
       "<title>&#45;17&#45;&gt;0</title>\n",
       "<path fill=\"none\" stroke=\"green\" stroke-width=\"0.41\" stroke-dasharray=\"1,5\" d=\"M515.04,-77.16C525.58,-66.57 544.86,-47.18 559.01,-32.96\"/>\n",
       "<polygon fill=\"green\" stroke=\"green\" stroke-width=\"0.41\" points=\"561.68,-35.24 566.25,-25.69 556.72,-30.31 561.68,-35.24\"/>\n",
       "</g>\n",
       "<!-- &#45;17&#45;&gt;1 -->\n",
       "<g id=\"edge32\" class=\"edge\">\n",
       "<title>&#45;17&#45;&gt;1</title>\n",
       "<path fill=\"none\" stroke=\"green\" stroke-width=\"0.63\" d=\"M499.77,-77.22C495.5,-73.23 489.93,-68.46 484.39,-64.99 454.7,-46.4 416.82,-31.6 392.82,-23.19\"/>\n",
       "<polygon fill=\"green\" stroke=\"green\" stroke-width=\"0.63\" points=\"393.75,-19.81 383.15,-19.88 391.48,-26.43 393.75,-19.81\"/>\n",
       "</g>\n",
       "<!-- &#45;18 -->\n",
       "<g id=\"node18\" class=\"node\">\n",
       "<title>&#45;18</title>\n",
       "<polygon fill=\"lightgray\" stroke=\"black\" points=\"567.38,-94.35 539.39,-94.35 539.39,-77.35 567.38,-77.35 567.38,-94.35\"/>\n",
       "<text text-anchor=\"middle\" x=\"553.39\" y=\"-83.15\" font-family=\"Times,serif\" font-size=\"9.00\">&#45;18</text>\n",
       "</g>\n",
       "<!-- &#45;18&#45;&gt;0 -->\n",
       "<g id=\"edge33\" class=\"edge\">\n",
       "<title>&#45;18&#45;&gt;0</title>\n",
       "<path fill=\"none\" stroke=\"red\" stroke-width=\"0.18\" d=\"M555.94,-77.16C559.05,-67.78 564.45,-51.48 568.92,-38\"/>\n",
       "<polygon fill=\"red\" stroke=\"red\" stroke-width=\"0.18\" points=\"572.28,-39 572.11,-28.4 565.64,-36.79 572.28,-39\"/>\n",
       "</g>\n",
       "<!-- &#45;18&#45;&gt;1 -->\n",
       "<g id=\"edge34\" class=\"edge\">\n",
       "<title>&#45;18&#45;&gt;1</title>\n",
       "<path fill=\"none\" stroke=\"green\" stroke-width=\"0.36\" d=\"M545.91,-76.98C541.69,-72.92 536.11,-68.16 530.39,-64.99 485.33,-40.07 426.08,-26.01 393.48,-19.67\"/>\n",
       "<polygon fill=\"green\" stroke=\"green\" stroke-width=\"0.36\" points=\"393.98,-16.2 383.51,-17.81 392.7,-23.08 393.98,-16.2\"/>\n",
       "</g>\n",
       "<!-- &#45;19 -->\n",
       "<g id=\"node19\" class=\"node\">\n",
       "<title>&#45;19</title>\n",
       "<polygon fill=\"lightgray\" stroke=\"black\" points=\"613.38,-94.35 585.39,-94.35 585.39,-77.35 613.38,-77.35 613.38,-94.35\"/>\n",
       "<text text-anchor=\"middle\" x=\"599.39\" y=\"-83.15\" font-family=\"Times,serif\" font-size=\"9.00\">&#45;19</text>\n",
       "</g>\n",
       "<!-- &#45;19&#45;&gt;0 -->\n",
       "<g id=\"edge35\" class=\"edge\">\n",
       "<title>&#45;19&#45;&gt;0</title>\n",
       "<path fill=\"none\" stroke=\"red\" stroke-width=\"0.38\" stroke-dasharray=\"1,5\" d=\"M596.84,-77.16C593.73,-67.78 588.32,-51.48 583.85,-38\"/>\n",
       "<polygon fill=\"red\" stroke=\"red\" stroke-width=\"0.38\" points=\"587.14,-36.79 580.67,-28.4 580.49,-39 587.14,-36.79\"/>\n",
       "</g>\n",
       "<!-- &#45;19&#45;&gt;1 -->\n",
       "<g id=\"edge36\" class=\"edge\">\n",
       "<title>&#45;19&#45;&gt;1</title>\n",
       "<path fill=\"none\" stroke=\"green\" stroke-width=\"0.33\" d=\"M592.4,-77.23C588.15,-73.04 582.4,-68.07 576.39,-64.99 515.37,-33.73 434.05,-21.78 393.92,-17.57\"/>\n",
       "<polygon fill=\"green\" stroke=\"green\" stroke-width=\"0.33\" points=\"394.04,-14.07 383.75,-16.58 393.36,-21.04 394.04,-14.07\"/>\n",
       "</g>\n",
       "<!-- &#45;20 -->\n",
       "<g id=\"node20\" class=\"node\">\n",
       "<title>&#45;20</title>\n",
       "<polygon fill=\"lightgray\" stroke=\"black\" points=\"884.38,-94.35 856.39,-94.35 856.39,-77.35 884.38,-77.35 884.38,-94.35\"/>\n",
       "<text text-anchor=\"middle\" x=\"870.39\" y=\"-83.15\" font-family=\"Times,serif\" font-size=\"9.00\">&#45;20</text>\n",
       "</g>\n",
       "<!-- &#45;20&#45;&gt;0 -->\n",
       "<g id=\"edge37\" class=\"edge\">\n",
       "<title>&#45;20&#45;&gt;0</title>\n",
       "<path fill=\"none\" stroke=\"green\" stroke-width=\"0.18\" d=\"M863.46,-77.11C859.23,-72.87 853.48,-67.91 847.39,-64.99 763.37,-24.77 650.33,-17.1 601.06,-15.73\"/>\n",
       "<polygon fill=\"green\" stroke=\"green\" stroke-width=\"0.18\" points=\"601.09,-12.23 591.02,-15.52 600.94,-19.23 601.09,-12.23\"/>\n",
       "</g>\n",
       "<!-- 270&#45;&gt;0 -->\n",
       "<g id=\"edge41\" class=\"edge\">\n",
       "<title>270&#45;&gt;0</title>\n",
       "<path fill=\"none\" stroke=\"red\" stroke-width=\"0.37\" d=\"M801.17,-72.61C796.86,-69.79 792.09,-67.02 787.39,-64.99 723.15,-37.26 640.91,-23.7 600.71,-18.36\"/>\n",
       "<polygon fill=\"red\" stroke=\"red\" stroke-width=\"0.37\" points=\"601.12,-14.88 590.76,-17.09 600.24,-21.82 601.12,-14.88\"/>\n",
       "</g>\n",
       "<!-- 167&#45;&gt;0 -->\n",
       "<g id=\"edge39\" class=\"edge\">\n",
       "<title>167&#45;&gt;0</title>\n",
       "<path fill=\"none\" stroke=\"red\" stroke-width=\"0.45\" d=\"M982.21,-73.34C976.72,-70.16 970.49,-67.02 964.39,-64.99 832.5,-21.07 663.44,-15.74 600.99,-15.37\"/>\n",
       "<polygon fill=\"red\" stroke=\"red\" stroke-width=\"0.45\" points=\"600.93,-11.87 590.92,-15.35 600.92,-18.87 600.93,-11.87\"/>\n",
       "</g>\n",
       "</g>\n",
       "</svg>\n"
      ],
      "text/plain": [
       "<graphviz.dot.Digraph at 0x7f87e075ee50>"
      ]
     },
     "execution_count": 178,
     "metadata": {},
     "output_type": "execute_result"
    }
   ],
   "source": [
    "visualization.plot_stats(neat_clf_cancer.stats_, ylog=False, view=True, xlabel='Generation', ylabel='Accuracy')\n",
    "visualization.draw_net(neat_clf_cancer.config_, neat_clf_cancer.winner_genome_, True)"
   ]
  },
  {
   "cell_type": "code",
   "execution_count": 172,
   "metadata": {},
   "outputs": [
    {
     "name": "stdout",
     "output_type": "stream",
     "text": [
      "              precision    recall  f1-score   support\n",
      "\n",
      "           2       0.98      0.95      0.97       135\n",
      "           4       0.91      0.97      0.94        75\n",
      "\n",
      "    accuracy                           0.96       210\n",
      "   macro avg       0.95      0.96      0.95       210\n",
      "weighted avg       0.96      0.96      0.96       210\n",
      "\n"
     ]
    }
   ],
   "source": [
    "# Evaluate the model\n",
    "print(classification_report(y_test_cancer, neat_result_cancer))"
   ]
  },
  {
   "cell_type": "markdown",
   "metadata": {},
   "source": [
    "### Wine dataset"
   ]
  },
  {
   "cell_type": "code",
   "execution_count": 161,
   "metadata": {
    "pycharm": {
     "is_executing": true
    }
   },
   "outputs": [
    {
     "name": "stdout",
     "output_type": "stream",
     "text": [
      "Key: 4124\n",
      "Fitness: 1.0\n",
      "Nodes:\n",
      "\t0 DefaultNodeGene(key=0, bias=3.118899156515013, response=1.0, activation=sigmoid, aggregation=sum)\n",
      "\t1 DefaultNodeGene(key=1, bias=0.4911810510257403, response=1.0, activation=sigmoid, aggregation=sum)\n",
      "\t2 DefaultNodeGene(key=2, bias=0.3593958301139362, response=1.0, activation=sigmoid, aggregation=sum)\n",
      "\t841 DefaultNodeGene(key=841, bias=0.3448079898416735, response=1.0, activation=sigmoid, aggregation=sum)\n",
      "Connections:\n",
      "\tDefaultConnectionGene(key=(-13, 0), weight=7.66202727715676, enabled=True)\n",
      "\tDefaultConnectionGene(key=(-13, 1), weight=-2.7087546165125844, enabled=True)\n",
      "\tDefaultConnectionGene(key=(-13, 2), weight=1.8788283652867845, enabled=True)\n",
      "\tDefaultConnectionGene(key=(-12, 0), weight=0.5610608091345304, enabled=True)\n",
      "\tDefaultConnectionGene(key=(-12, 2), weight=-0.8325719910710869, enabled=True)\n",
      "\tDefaultConnectionGene(key=(-11, 0), weight=0.22764951365197852, enabled=True)\n",
      "\tDefaultConnectionGene(key=(-11, 1), weight=5.154777994764929, enabled=True)\n",
      "\tDefaultConnectionGene(key=(-11, 2), weight=-2.5758185953619464, enabled=True)\n",
      "\tDefaultConnectionGene(key=(-10, 1), weight=-7.452110106225182, enabled=True)\n",
      "\tDefaultConnectionGene(key=(-10, 2), weight=0.5248077845132352, enabled=True)\n",
      "\tDefaultConnectionGene(key=(-9, 0), weight=0.3728580169714031, enabled=True)\n",
      "\tDefaultConnectionGene(key=(-9, 2), weight=-0.20307381485914203, enabled=True)\n",
      "\tDefaultConnectionGene(key=(-8, 1), weight=0.755976448740203, enabled=True)\n",
      "\tDefaultConnectionGene(key=(-8, 2), weight=-0.594864307265997, enabled=True)\n",
      "\tDefaultConnectionGene(key=(-7, 0), weight=4.656659302145592, enabled=True)\n",
      "\tDefaultConnectionGene(key=(-7, 2), weight=-2.3090908813788493, enabled=True)\n",
      "\tDefaultConnectionGene(key=(-6, 0), weight=3.711366428512139, enabled=True)\n",
      "\tDefaultConnectionGene(key=(-6, 2), weight=0.059520822387677016, enabled=True)\n",
      "\tDefaultConnectionGene(key=(-5, 0), weight=-1.8591504085424244, enabled=True)\n",
      "\tDefaultConnectionGene(key=(-5, 2), weight=1.9484604009548379, enabled=False)\n",
      "\tDefaultConnectionGene(key=(-4, 0), weight=-3.513155094472929, enabled=True)\n",
      "\tDefaultConnectionGene(key=(-4, 1), weight=1.4652676793327226, enabled=True)\n",
      "\tDefaultConnectionGene(key=(-3, 1), weight=-2.352854326380305, enabled=True)\n",
      "\tDefaultConnectionGene(key=(-2, 0), weight=-1.6346124049336135, enabled=False)\n",
      "\tDefaultConnectionGene(key=(-2, 1), weight=-0.2737128724624399, enabled=True)\n",
      "\tDefaultConnectionGene(key=(-2, 2), weight=0.24941799424875855, enabled=False)\n",
      "\tDefaultConnectionGene(key=(-2, 841), weight=1.5923396628039272, enabled=True)\n",
      "\tDefaultConnectionGene(key=(-1, 0), weight=4.285555363374485, enabled=True)\n",
      "\tDefaultConnectionGene(key=(-1, 1), weight=-1.90990436050473, enabled=True)\n",
      "\tDefaultConnectionGene(key=(-1, 2), weight=-0.6283176300179358, enabled=True)\n",
      "\tDefaultConnectionGene(key=(841, 0), weight=0.5004180282247989, enabled=True)\n"
     ]
    }
   ],
   "source": [
    "# Create NEATClassifier model\n",
    "neat_clf_wine = NEATClassifier(fitness_threshold=1.0, statistic_reporter=0)\n",
    "\n",
    "# Train the algorithm\n",
    "neat_clf_wine.fit(x_train_wine, y_train_wine)"
   ]
  },
  {
   "cell_type": "code",
   "execution_count": 180,
   "metadata": {},
   "outputs": [],
   "source": [
    "# Make predictions on unseen data\n",
    "neat_result_wine = neat_clf_wine.predict(x_test_wine)"
   ]
  },
  {
   "cell_type": "code",
   "execution_count": 181,
   "metadata": {
    "pycharm": {
     "is_executing": true
    }
   },
   "outputs": [
    {
     "data": {
      "image/png": "[encoded data removed]",
      "text/plain": [
       "<Figure size 432x288 with 1 Axes>"
      ]
     },
     "metadata": {
      "needs_background": "light"
     },
     "output_type": "display_data"
    },
    {
     "data": {
      "image/svg+xml": [
       "<?xml version=\"1.0\" encoding=\"UTF-8\" standalone=\"no\"?>\n",
       "<!DOCTYPE svg PUBLIC \"-//W3C//DTD SVG 1.1//EN\"\n",
       " \"http://www.w3.org/Graphics/SVG/1.1/DTD/svg11.dtd\">\n",
       "<!-- Generated by graphviz version 2.43.0 (0)\n",
       " -->\n",
       "<!-- Title: %3 Pages: 1 -->\n",
       "<svg width=\"659pt\" height=\"168pt\"\n",
       " viewBox=\"0.00 0.00 659.30 167.71\" xmlns=\"http://www.w3.org/2000/svg\" xmlns:xlink=\"http://www.w3.org/1999/xlink\">\n",
       "<g id=\"graph0\" class=\"graph\" transform=\"scale(1 1) rotate(0) translate(4 163.71)\">\n",
       "<title>%3</title>\n",
       "<polygon fill=\"white\" stroke=\"transparent\" points=\"-4,4 -4,-163.71 655.3,-163.71 655.3,4 -4,4\"/>\n",
       "<!-- &#45;1 -->\n",
       "<g id=\"node1\" class=\"node\">\n",
       "<title>&#45;1</title>\n",
       "<polygon fill=\"lightgray\" stroke=\"black\" points=\"391.55,-94.35 367.55,-94.35 367.55,-77.35 391.55,-77.35 391.55,-94.35\"/>\n",
       "<text text-anchor=\"middle\" x=\"379.55\" y=\"-83.15\" font-family=\"Times,serif\" font-size=\"9.00\">&#45;1</text>\n",
       "</g>\n",
       "<!-- 0 -->\n",
       "<g id=\"node14\" class=\"node\">\n",
       "<title>0</title>\n",
       "<ellipse fill=\"lightblue\" stroke=\"black\" cx=\"217.55\" cy=\"-14.5\" rx=\"14.49\" ry=\"14.49\"/>\n",
       "<text text-anchor=\"middle\" x=\"217.55\" y=\"-11.8\" font-family=\"Times,serif\" font-size=\"9.00\">0</text>\n",
       "</g>\n",
       "<!-- &#45;1&#45;&gt;0 -->\n",
       "<g id=\"edge1\" class=\"edge\">\n",
       "<title>&#45;1&#45;&gt;0</title>\n",
       "<path fill=\"none\" stroke=\"green\" stroke-width=\"0.96\" d=\"M373.19,-77.02C369.55,-72.97 364.7,-68.21 359.55,-64.99 321.69,-41.33 271.05,-27.19 241.6,-20.42\"/>\n",
       "<polygon fill=\"green\" stroke=\"green\" stroke-width=\"0.96\" points=\"242.29,-16.98 231.77,-18.25 240.78,-23.82 242.29,-16.98\"/>\n",
       "</g>\n",
       "<!-- 1 -->\n",
       "<g id=\"node15\" class=\"node\">\n",
       "<title>1</title>\n",
       "<ellipse fill=\"lightblue\" stroke=\"black\" cx=\"491.55\" cy=\"-14.5\" rx=\"14.49\" ry=\"14.49\"/>\n",
       "<text text-anchor=\"middle\" x=\"491.55\" y=\"-11.8\" font-family=\"Times,serif\" font-size=\"9.00\">1</text>\n",
       "</g>\n",
       "<!-- &#45;1&#45;&gt;1 -->\n",
       "<g id=\"edge2\" class=\"edge\">\n",
       "<title>&#45;1&#45;&gt;1</title>\n",
       "<path fill=\"none\" stroke=\"red\" stroke-width=\"0.48\" d=\"M386.91,-76.99C390.76,-73.11 395.68,-68.53 400.55,-64.99 422.61,-48.98 450.45,-34.58 469.49,-25.49\"/>\n",
       "<polygon fill=\"red\" stroke=\"red\" stroke-width=\"0.48\" points=\"471,-28.65 478.57,-21.24 468.03,-22.31 471,-28.65\"/>\n",
       "</g>\n",
       "<!-- 2 -->\n",
       "<g id=\"node16\" class=\"node\">\n",
       "<title>2</title>\n",
       "<ellipse fill=\"lightblue\" stroke=\"black\" cx=\"298.55\" cy=\"-14.5\" rx=\"14.49\" ry=\"14.49\"/>\n",
       "<text text-anchor=\"middle\" x=\"298.55\" y=\"-11.8\" font-family=\"Times,serif\" font-size=\"9.00\">2</text>\n",
       "</g>\n",
       "<!-- &#45;1&#45;&gt;2 -->\n",
       "<g id=\"edge3\" class=\"edge\">\n",
       "<title>&#45;1&#45;&gt;2</title>\n",
       "<path fill=\"none\" stroke=\"red\" stroke-width=\"0.23\" d=\"M372.31,-77.31C368.59,-73.52 363.92,-68.91 359.55,-64.99 346,-52.82 329.98,-39.87 317.76,-30.28\"/>\n",
       "<polygon fill=\"red\" stroke=\"red\" stroke-width=\"0.23\" points=\"319.66,-27.32 309.62,-23.94 315.36,-32.84 319.66,-27.32\"/>\n",
       "</g>\n",
       "<!-- &#45;2 -->\n",
       "<g id=\"node2\" class=\"node\">\n",
       "<title>&#45;2</title>\n",
       "<polygon fill=\"lightgray\" stroke=\"black\" points=\"180.55,-159.71 156.55,-159.71 156.55,-142.71 180.55,-142.71 180.55,-159.71\"/>\n",
       "<text text-anchor=\"middle\" x=\"168.55\" y=\"-148.51\" font-family=\"Times,serif\" font-size=\"9.00\">&#45;2</text>\n",
       "</g>\n",
       "<!-- &#45;2&#45;&gt;0 -->\n",
       "<g id=\"edge4\" class=\"edge\">\n",
       "<title>&#45;2&#45;&gt;0</title>\n",
       "<path fill=\"none\" stroke=\"red\" stroke-width=\"0.43\" stroke-dasharray=\"1,5\" d=\"M156.69,-148.83C122.81,-144.61 26.91,-130.72 8.55,-106.71 -2.71,-91.98 -2.95,-79.53 8.55,-64.99 31.34,-36.18 142.87,-22.4 193.03,-17.58\"/>\n",
       "<polygon fill=\"red\" stroke=\"red\" stroke-width=\"0.43\" points=\"193.38,-21.06 203.02,-16.66 192.74,-14.09 193.38,-21.06\"/>\n",
       "</g>\n",
       "<!-- &#45;2&#45;&gt;1 -->\n",
       "<g id=\"edge5\" class=\"edge\">\n",
       "<title>&#45;2&#45;&gt;1</title>\n",
       "<path fill=\"none\" stroke=\"red\" stroke-width=\"0.15\" d=\"M180.41,-149.88C245.06,-147.97 553.01,-137.32 580.55,-106.71 592.95,-92.93 589.95,-80.97 580.55,-64.99 566.53,-41.16 536.42,-27.97 515.12,-21.32\"/>\n",
       "<polygon fill=\"red\" stroke=\"red\" stroke-width=\"0.15\" points=\"516.05,-17.94 505.47,-18.56 514.12,-24.67 516.05,-17.94\"/>\n",
       "</g>\n",
       "<!-- &#45;2&#45;&gt;2 -->\n",
       "<g id=\"edge6\" class=\"edge\">\n",
       "<title>&#45;2&#45;&gt;2</title>\n",
       "<path fill=\"none\" stroke=\"green\" stroke-width=\"0.15\" stroke-dasharray=\"1,5\" d=\"M180.37,-149.19C203.26,-146.55 253.64,-137.39 279.55,-106.71 295.31,-88.05 299.09,-59.66 299.54,-39.51\"/>\n",
       "<polygon fill=\"green\" stroke=\"green\" stroke-width=\"0.15\" points=\"303.04,-39.27 299.5,-29.28 296.04,-39.3 303.04,-39.27\"/>\n",
       "</g>\n",
       "<!-- 841 -->\n",
       "<g id=\"node17\" class=\"node\">\n",
       "<title>841</title>\n",
       "<ellipse fill=\"white\" stroke=\"black\" cx=\"38.55\" cy=\"-85.85\" rx=\"20.72\" ry=\"20.72\"/>\n",
       "<text text-anchor=\"middle\" x=\"38.55\" y=\"-83.15\" font-family=\"Times,serif\" font-size=\"9.00\">841</text>\n",
       "</g>\n",
       "<!-- &#45;2&#45;&gt;841 -->\n",
       "<g id=\"edge30\" class=\"edge\">\n",
       "<title>&#45;2&#45;&gt;841</title>\n",
       "<path fill=\"none\" stroke=\"green\" stroke-width=\"0.42\" d=\"M156.53,-145.77C137.43,-138.53 99.16,-123.34 68.55,-106.71 67.04,-105.89 65.51,-105.02 63.98,-104.11\"/>\n",
       "<polygon fill=\"green\" stroke=\"green\" stroke-width=\"0.42\" points=\"65.7,-101.06 55.37,-98.72 61.99,-106.99 65.7,-101.06\"/>\n",
       "</g>\n",
       "<!-- &#45;3 -->\n",
       "<g id=\"node3\" class=\"node\">\n",
       "<title>&#45;3</title>\n",
       "<polygon fill=\"lightgray\" stroke=\"black\" points=\"651.55,-94.35 627.55,-94.35 627.55,-77.35 651.55,-77.35 651.55,-94.35\"/>\n",
       "<text text-anchor=\"middle\" x=\"639.55\" y=\"-83.15\" font-family=\"Times,serif\" font-size=\"9.00\">&#45;3</text>\n",
       "</g>\n",
       "<!-- &#45;3&#45;&gt;1 -->\n",
       "<g id=\"edge7\" class=\"edge\">\n",
       "<title>&#45;3&#45;&gt;1</title>\n",
       "<path fill=\"none\" stroke=\"red\" stroke-width=\"0.57\" d=\"M630.82,-77.24C625.96,-73.25 619.67,-68.48 613.55,-64.99 581.07,-46.45 540.27,-31.39 515.06,-22.93\"/>\n",
       "<polygon fill=\"red\" stroke=\"red\" stroke-width=\"0.57\" points=\"515.87,-19.52 505.27,-19.73 513.68,-26.17 515.87,-19.52\"/>\n",
       "</g>\n",
       "<!-- &#45;4 -->\n",
       "<g id=\"node4\" class=\"node\">\n",
       "<title>&#45;4</title>\n",
       "<polygon fill=\"lightgray\" stroke=\"black\" points=\"350.55,-94.35 326.55,-94.35 326.55,-77.35 350.55,-77.35 350.55,-94.35\"/>\n",
       "<text text-anchor=\"middle\" x=\"338.55\" y=\"-83.15\" font-family=\"Times,serif\" font-size=\"9.00\">&#45;4</text>\n",
       "</g>\n",
       "<!-- &#45;4&#45;&gt;0 -->\n",
       "<g id=\"edge8\" class=\"edge\">\n",
       "<title>&#45;4&#45;&gt;0</title>\n",
       "<path fill=\"none\" stroke=\"red\" stroke-width=\"0.8\" d=\"M326.51,-77.95C306.05,-66.22 264.25,-42.26 238.79,-27.67\"/>\n",
       "<polygon fill=\"red\" stroke=\"red\" stroke-width=\"0.8\" points=\"240.32,-24.51 229.91,-22.58 236.84,-30.59 240.32,-24.51\"/>\n",
       "</g>\n",
       "<!-- &#45;4&#45;&gt;1 -->\n",
       "<g id=\"edge9\" class=\"edge\">\n",
       "<title>&#45;4&#45;&gt;1</title>\n",
       "<path fill=\"none\" stroke=\"green\" stroke-width=\"0.39\" d=\"M344.94,-77.06C348.59,-73.02 353.44,-68.26 358.55,-64.99 393.36,-42.72 439.65,-28.39 467.44,-21.15\"/>\n",
       "<polygon fill=\"green\" stroke=\"green\" stroke-width=\"0.39\" points=\"468.6,-24.46 477.45,-18.64 466.9,-17.67 468.6,-24.46\"/>\n",
       "</g>\n",
       "<!-- &#45;5 -->\n",
       "<g id=\"node5\" class=\"node\">\n",
       "<title>&#45;5</title>\n",
       "<polygon fill=\"lightgray\" stroke=\"black\" points=\"147.55,-94.35 123.55,-94.35 123.55,-77.35 147.55,-77.35 147.55,-94.35\"/>\n",
       "<text text-anchor=\"middle\" x=\"135.55\" y=\"-83.15\" font-family=\"Times,serif\" font-size=\"9.00\">&#45;5</text>\n",
       "</g>\n",
       "<!-- &#45;5&#45;&gt;0 -->\n",
       "<g id=\"edge29\" class=\"edge\">\n",
       "<title>&#45;5&#45;&gt;0</title>\n",
       "<path fill=\"none\" stroke=\"red\" stroke-width=\"0.47\" d=\"M142.78,-77.3C146.5,-73.51 151.17,-68.9 155.55,-64.99 169.29,-52.75 185.57,-39.81 198,-30.23\"/>\n",
       "<polygon fill=\"red\" stroke=\"red\" stroke-width=\"0.47\" points=\"200.46,-32.76 206.28,-23.91 196.21,-27.2 200.46,-32.76\"/>\n",
       "</g>\n",
       "<!-- &#45;5&#45;&gt;2 -->\n",
       "<g id=\"edge10\" class=\"edge\">\n",
       "<title>&#45;5&#45;&gt;2</title>\n",
       "<path fill=\"none\" stroke=\"green\" stroke-width=\"0.49\" stroke-dasharray=\"1,5\" d=\"M141.91,-77.02C145.55,-72.96 150.4,-68.2 155.55,-64.99 193.67,-41.22 244.67,-27.12 274.33,-20.38\"/>\n",
       "<polygon fill=\"green\" stroke=\"green\" stroke-width=\"0.49\" points=\"275.21,-23.77 284.23,-18.23 273.72,-16.93 275.21,-23.77\"/>\n",
       "</g>\n",
       "<!-- &#45;6 -->\n",
       "<g id=\"node6\" class=\"node\">\n",
       "<title>&#45;6</title>\n",
       "<polygon fill=\"lightgray\" stroke=\"black\" points=\"188.55,-94.35 164.55,-94.35 164.55,-77.35 188.55,-77.35 188.55,-94.35\"/>\n",
       "<text text-anchor=\"middle\" x=\"176.55\" y=\"-83.15\" font-family=\"Times,serif\" font-size=\"9.00\">&#45;6</text>\n",
       "</g>\n",
       "<!-- &#45;6&#45;&gt;0 -->\n",
       "<g id=\"edge11\" class=\"edge\">\n",
       "<title>&#45;6&#45;&gt;0</title>\n",
       "<path fill=\"none\" stroke=\"green\" stroke-width=\"0.84\" d=\"M181.1,-77.16C186.89,-67.36 197.13,-50.04 205.29,-36.24\"/>\n",
       "<polygon fill=\"green\" stroke=\"green\" stroke-width=\"0.84\" points=\"208.44,-37.78 210.52,-27.39 202.42,-34.21 208.44,-37.78\"/>\n",
       "</g>\n",
       "<!-- &#45;6&#45;&gt;2 -->\n",
       "<g id=\"edge12\" class=\"edge\">\n",
       "<title>&#45;6&#45;&gt;2</title>\n",
       "<path fill=\"none\" stroke=\"green\" stroke-width=\"0.11\" d=\"M183.07,-77.26C186.75,-73.27 191.6,-68.5 196.55,-64.99 221.66,-47.18 254.16,-32.66 275.65,-24.05\"/>\n",
       "<polygon fill=\"green\" stroke=\"green\" stroke-width=\"0.11\" points=\"277.19,-27.21 285.23,-20.32 274.65,-20.69 277.19,-27.21\"/>\n",
       "</g>\n",
       "<!-- &#45;7 -->\n",
       "<g id=\"node7\" class=\"node\">\n",
       "<title>&#45;7</title>\n",
       "<polygon fill=\"lightgray\" stroke=\"black\" points=\"229.55,-94.35 205.55,-94.35 205.55,-77.35 229.55,-77.35 229.55,-94.35\"/>\n",
       "<text text-anchor=\"middle\" x=\"217.55\" y=\"-83.15\" font-family=\"Times,serif\" font-size=\"9.00\">&#45;7</text>\n",
       "</g>\n",
       "<!-- &#45;7&#45;&gt;0 -->\n",
       "<g id=\"edge13\" class=\"edge\">\n",
       "<title>&#45;7&#45;&gt;0</title>\n",
       "<path fill=\"none\" stroke=\"green\" stroke-width=\"1.03\" d=\"M217.55,-77.16C217.55,-68.13 217.55,-52.69 217.55,-39.52\"/>\n",
       "<polygon fill=\"green\" stroke=\"green\" stroke-width=\"1.03\" points=\"221.05,-39.18 217.55,-29.18 214.05,-39.18 221.05,-39.18\"/>\n",
       "</g>\n",
       "<!-- &#45;7&#45;&gt;2 -->\n",
       "<g id=\"edge14\" class=\"edge\">\n",
       "<title>&#45;7&#45;&gt;2</title>\n",
       "<path fill=\"none\" stroke=\"red\" stroke-width=\"0.56\" d=\"M224.79,-77.31C228.51,-73.52 233.18,-68.91 237.55,-64.99 251.1,-52.82 267.12,-39.87 279.34,-30.28\"/>\n",
       "<polygon fill=\"red\" stroke=\"red\" stroke-width=\"0.56\" points=\"281.74,-32.84 287.48,-23.94 277.44,-27.32 281.74,-32.84\"/>\n",
       "</g>\n",
       "<!-- &#45;8 -->\n",
       "<g id=\"node8\" class=\"node\">\n",
       "<title>&#45;8</title>\n",
       "<polygon fill=\"lightgray\" stroke=\"black\" points=\"525.55,-94.35 501.55,-94.35 501.55,-77.35 525.55,-77.35 525.55,-94.35\"/>\n",
       "<text text-anchor=\"middle\" x=\"513.55\" y=\"-83.15\" font-family=\"Times,serif\" font-size=\"9.00\">&#45;8</text>\n",
       "</g>\n",
       "<!-- &#45;8&#45;&gt;1 -->\n",
       "<g id=\"edge15\" class=\"edge\">\n",
       "<title>&#45;8&#45;&gt;1</title>\n",
       "<path fill=\"none\" stroke=\"green\" stroke-width=\"0.25\" d=\"M511.11,-77.16C508.13,-67.78 502.97,-51.48 498.69,-38\"/>\n",
       "<polygon fill=\"green\" stroke=\"green\" stroke-width=\"0.25\" points=\"502,-36.88 495.65,-28.4 495.33,-38.99 502,-36.88\"/>\n",
       "</g>\n",
       "<!-- &#45;8&#45;&gt;2 -->\n",
       "<g id=\"edge16\" class=\"edge\">\n",
       "<title>&#45;8&#45;&gt;2</title>\n",
       "<path fill=\"none\" stroke=\"red\" stroke-width=\"0.22\" d=\"M507.27,-77.25C503.43,-73.06 498.18,-68.09 492.55,-64.99 436.86,-34.3 361.69,-22.2 323.33,-17.79\"/>\n",
       "<polygon fill=\"red\" stroke=\"red\" stroke-width=\"0.22\" points=\"323.41,-14.28 313.09,-16.7 322.67,-21.24 323.41,-14.28\"/>\n",
       "</g>\n",
       "<!-- &#45;9 -->\n",
       "<g id=\"node9\" class=\"node\">\n",
       "<title>&#45;9</title>\n",
       "<polygon fill=\"lightgray\" stroke=\"black\" points=\"270.55,-94.35 246.55,-94.35 246.55,-77.35 270.55,-77.35 270.55,-94.35\"/>\n",
       "<text text-anchor=\"middle\" x=\"258.55\" y=\"-83.15\" font-family=\"Times,serif\" font-size=\"9.00\">&#45;9</text>\n",
       "</g>\n",
       "<!-- &#45;9&#45;&gt;0 -->\n",
       "<g id=\"edge17\" class=\"edge\">\n",
       "<title>&#45;9&#45;&gt;0</title>\n",
       "<path fill=\"none\" stroke=\"green\" stroke-width=\"0.17\" d=\"M254.01,-77.16C248.21,-67.36 237.97,-50.04 229.81,-36.24\"/>\n",
       "<polygon fill=\"green\" stroke=\"green\" stroke-width=\"0.17\" points=\"232.68,-34.21 224.58,-27.39 226.66,-37.78 232.68,-34.21\"/>\n",
       "</g>\n",
       "<!-- &#45;9&#45;&gt;2 -->\n",
       "<g id=\"edge18\" class=\"edge\">\n",
       "<title>&#45;9&#45;&gt;2</title>\n",
       "<path fill=\"none\" stroke=\"red\" stroke-width=\"0.14\" d=\"M262.98,-77.16C268.64,-67.36 278.63,-50.04 286.59,-36.24\"/>\n",
       "<polygon fill=\"red\" stroke=\"red\" stroke-width=\"0.14\" points=\"289.73,-37.8 291.69,-27.39 283.66,-34.3 289.73,-37.8\"/>\n",
       "</g>\n",
       "<!-- &#45;10 -->\n",
       "<g id=\"node10\" class=\"node\">\n",
       "<title>&#45;10</title>\n",
       "<polygon fill=\"lightgray\" stroke=\"black\" points=\"571.55,-94.35 543.55,-94.35 543.55,-77.35 571.55,-77.35 571.55,-94.35\"/>\n",
       "<text text-anchor=\"middle\" x=\"557.55\" y=\"-83.15\" font-family=\"Times,serif\" font-size=\"9.00\">&#45;10</text>\n",
       "</g>\n",
       "<!-- &#45;10&#45;&gt;1 -->\n",
       "<g id=\"edge19\" class=\"edge\">\n",
       "<title>&#45;10&#45;&gt;1</title>\n",
       "<path fill=\"none\" stroke=\"red\" stroke-width=\"1.59\" d=\"M550.24,-77.16C540.15,-66.57 521.7,-47.18 508.17,-32.96\"/>\n",
       "<polygon fill=\"red\" stroke=\"red\" stroke-width=\"1.59\" points=\"510.68,-30.52 501.25,-25.69 505.61,-35.34 510.68,-30.52\"/>\n",
       "</g>\n",
       "<!-- &#45;10&#45;&gt;2 -->\n",
       "<g id=\"edge20\" class=\"edge\">\n",
       "<title>&#45;10&#45;&gt;2</title>\n",
       "<path fill=\"none\" stroke=\"green\" stroke-width=\"0.2\" d=\"M550.59,-77.17C546.35,-72.95 540.6,-67.99 534.55,-64.99 463.3,-29.73 367.89,-19.55 323.37,-16.64\"/>\n",
       "<polygon fill=\"green\" stroke=\"green\" stroke-width=\"0.2\" points=\"323.38,-13.13 313.2,-16.05 322.98,-20.12 323.38,-13.13\"/>\n",
       "</g>\n",
       "<!-- &#45;11 -->\n",
       "<g id=\"node11\" class=\"node\">\n",
       "<title>&#45;11</title>\n",
       "<polygon fill=\"lightgray\" stroke=\"black\" points=\"437.22,-94.35 409.88,-94.35 409.88,-77.35 437.22,-77.35 437.22,-94.35\"/>\n",
       "<text text-anchor=\"middle\" x=\"423.55\" y=\"-83.15\" font-family=\"Times,serif\" font-size=\"9.00\">&#45;11</text>\n",
       "</g>\n",
       "<!-- &#45;11&#45;&gt;0 -->\n",
       "<g id=\"edge21\" class=\"edge\">\n",
       "<title>&#45;11&#45;&gt;0</title>\n",
       "<path fill=\"none\" stroke=\"green\" stroke-width=\"0.15\" d=\"M416.52,-77.3C412.26,-73.12 406.51,-68.16 400.55,-64.99 386.36,-57.45 287.33,-32.61 241.15,-21.25\"/>\n",
       "<polygon fill=\"green\" stroke=\"green\" stroke-width=\"0.15\" points=\"241.93,-17.84 231.39,-18.86 240.27,-24.64 241.93,-17.84\"/>\n",
       "</g>\n",
       "<!-- &#45;11&#45;&gt;1 -->\n",
       "<g id=\"edge22\" class=\"edge\">\n",
       "<title>&#45;11&#45;&gt;1</title>\n",
       "<path fill=\"none\" stroke=\"green\" stroke-width=\"1.13\" d=\"M431.09,-77.16C441.47,-66.57 460.48,-47.18 474.42,-32.96\"/>\n",
       "<polygon fill=\"green\" stroke=\"green\" stroke-width=\"1.13\" points=\"477.06,-35.28 481.56,-25.69 472.06,-30.38 477.06,-35.28\"/>\n",
       "</g>\n",
       "<!-- &#45;11&#45;&gt;2 -->\n",
       "<g id=\"edge23\" class=\"edge\">\n",
       "<title>&#45;11&#45;&gt;2</title>\n",
       "<path fill=\"none\" stroke=\"red\" stroke-width=\"0.62\" d=\"M415.87,-77.32C411.58,-73.36 406.02,-68.59 400.55,-64.99 374.98,-48.16 342.82,-33.51 321.53,-24.6\"/>\n",
       "<polygon fill=\"red\" stroke=\"red\" stroke-width=\"0.62\" points=\"322.6,-21.26 312.02,-20.71 319.95,-27.74 322.6,-21.26\"/>\n",
       "</g>\n",
       "<!-- &#45;12 -->\n",
       "<g id=\"node12\" class=\"node\">\n",
       "<title>&#45;12</title>\n",
       "<polygon fill=\"lightgray\" stroke=\"black\" points=\"105.55,-94.35 77.55,-94.35 77.55,-77.35 105.55,-77.35 105.55,-94.35\"/>\n",
       "<text text-anchor=\"middle\" x=\"91.55\" y=\"-83.15\" font-family=\"Times,serif\" font-size=\"9.00\">&#45;12</text>\n",
       "</g>\n",
       "<!-- &#45;12&#45;&gt;0 -->\n",
       "<g id=\"edge24\" class=\"edge\">\n",
       "<title>&#45;12&#45;&gt;0</title>\n",
       "<path fill=\"none\" stroke=\"green\" stroke-width=\"0.21\" d=\"M99.23,-77.32C103.51,-73.35 109.08,-68.58 114.55,-64.99 140.62,-47.91 173.49,-33.15 194.99,-24.3\"/>\n",
       "<polygon fill=\"green\" stroke=\"green\" stroke-width=\"0.21\" points=\"196.31,-27.54 204.28,-20.55 193.69,-21.05 196.31,-27.54\"/>\n",
       "</g>\n",
       "<!-- &#45;12&#45;&gt;2 -->\n",
       "<g id=\"edge25\" class=\"edge\">\n",
       "<title>&#45;12&#45;&gt;2</title>\n",
       "<path fill=\"none\" stroke=\"red\" stroke-width=\"0.27\" d=\"M98.58,-77.29C102.83,-73.12 108.58,-68.15 114.55,-64.99 128.82,-57.43 228.39,-32.6 274.82,-21.25\"/>\n",
       "<polygon fill=\"red\" stroke=\"red\" stroke-width=\"0.27\" points=\"275.75,-24.63 284.64,-18.86 274.09,-17.83 275.75,-24.63\"/>\n",
       "</g>\n",
       "<!-- &#45;13 -->\n",
       "<g id=\"node13\" class=\"node\">\n",
       "<title>&#45;13</title>\n",
       "<polygon fill=\"lightgray\" stroke=\"black\" points=\"483.55,-94.35 455.55,-94.35 455.55,-77.35 483.55,-77.35 483.55,-94.35\"/>\n",
       "<text text-anchor=\"middle\" x=\"469.55\" y=\"-83.15\" font-family=\"Times,serif\" font-size=\"9.00\">&#45;13</text>\n",
       "</g>\n",
       "<!-- &#45;13&#45;&gt;0 -->\n",
       "<g id=\"edge26\" class=\"edge\">\n",
       "<title>&#45;13&#45;&gt;0</title>\n",
       "<path fill=\"none\" stroke=\"green\" stroke-width=\"1.63\" d=\"M462.59,-77.17C458.35,-72.95 452.6,-67.99 446.55,-64.99 376.95,-30.52 351.38,-45.79 275.55,-28.99 264.46,-26.53 252.21,-23.7 241.84,-21.27\"/>\n",
       "<polygon fill=\"green\" stroke=\"green\" stroke-width=\"1.63\" points=\"242.37,-17.8 231.83,-18.91 240.76,-24.61 242.37,-17.8\"/>\n",
       "</g>\n",
       "<!-- &#45;13&#45;&gt;1 -->\n",
       "<g id=\"edge27\" class=\"edge\">\n",
       "<title>&#45;13&#45;&gt;1</title>\n",
       "<path fill=\"none\" stroke=\"red\" stroke-width=\"0.64\" d=\"M471.99,-77.16C474.97,-67.78 480.13,-51.48 484.41,-38\"/>\n",
       "<polygon fill=\"red\" stroke=\"red\" stroke-width=\"0.64\" points=\"487.77,-38.99 487.46,-28.4 481.1,-36.88 487.77,-38.99\"/>\n",
       "</g>\n",
       "<!-- &#45;13&#45;&gt;2 -->\n",
       "<g id=\"edge28\" class=\"edge\">\n",
       "<title>&#45;13&#45;&gt;2</title>\n",
       "<path fill=\"none\" stroke=\"green\" stroke-width=\"0.48\" d=\"M462.05,-77.04C457.81,-72.99 452.24,-68.23 446.55,-64.99 406.08,-41.95 353.23,-27.54 322.87,-20.55\"/>\n",
       "<polygon fill=\"green\" stroke=\"green\" stroke-width=\"0.48\" points=\"323.29,-17.06 312.77,-18.31 321.78,-23.89 323.29,-17.06\"/>\n",
       "</g>\n",
       "<!-- 841&#45;&gt;0 -->\n",
       "<g id=\"edge31\" class=\"edge\">\n",
       "<title>841&#45;&gt;0</title>\n",
       "<path fill=\"none\" stroke=\"green\" stroke-width=\"0.2\" d=\"M55.22,-72.7C59.44,-69.94 64.06,-67.18 68.55,-64.99 110.68,-44.5 163.41,-29.21 193.51,-21.38\"/>\n",
       "<polygon fill=\"green\" stroke=\"green\" stroke-width=\"0.2\" points=\"194.69,-24.69 203.52,-18.83 192.96,-17.9 194.69,-24.69\"/>\n",
       "</g>\n",
       "</g>\n",
       "</svg>\n"
      ],
      "text/plain": [
       "<graphviz.dot.Digraph at 0x7f87e0771590>"
      ]
     },
     "execution_count": 181,
     "metadata": {},
     "output_type": "execute_result"
    }
   ],
   "source": [
    "visualization.plot_stats(neat_clf_wine.stats_, ylog=False, view=True, xlabel='Generation', ylabel='Accuracy')\n",
    "visualization.draw_net(neat_clf_wine.config_, neat_clf_wine.winner_genome_, True)"
   ]
  },
  {
   "cell_type": "code",
   "execution_count": 182,
   "metadata": {},
   "outputs": [
    {
     "name": "stdout",
     "output_type": "stream",
     "text": [
      "              precision    recall  f1-score   support\n",
      "\n",
      "           1       0.90      1.00      0.95        19\n",
      "           2       1.00      0.91      0.95        22\n",
      "           3       1.00      1.00      1.00        13\n",
      "\n",
      "    accuracy                           0.96        54\n",
      "   macro avg       0.97      0.97      0.97        54\n",
      "weighted avg       0.97      0.96      0.96        54\n",
      "\n"
     ]
    }
   ],
   "source": [
    "# Evaluate the model\n",
    "print(classification_report(y_test_wine, neat_result_wine))"
   ]
  },
  {
   "cell_type": "markdown",
   "metadata": {},
   "source": [
    "# Training the scikit-learn WANN classifier\n",
    "In these experiments we used a fixed series of weight values (-2, -1, -0.5, +0.5, +1, +2) which are passed to the WANN constructor."
   ]
  },
  {
   "cell_type": "code",
   "execution_count": 72,
   "metadata": {},
   "outputs": [],
   "source": [
    "single_shared_weights = [ -2.0, -1.0, -0.5, 0.5, 1.0, 2.0 ]"
   ]
  },
  {
   "cell_type": "markdown",
   "metadata": {},
   "source": [
    "### Iris dataset"
   ]
  },
  {
   "cell_type": "code",
   "execution_count": 73,
   "metadata": {
    "pycharm": {
     "is_executing": true
    }
   },
   "outputs": [
    {
     "name": "stdout",
     "output_type": "stream",
     "text": [
      "Key: 11415\n",
      "Fitness: 0.9079365079365079\n",
      "Nodes:\n",
      "\t0 DefaultNodeGene(key=0, bias=0.3472960649370353, response=1.0, activation=abs, aggregation=sum)\n",
      "\t1 DefaultNodeGene(key=1, bias=1.1463040791975798, response=1.0, activation=tanh, aggregation=sum)\n",
      "\t2 DefaultNodeGene(key=2, bias=0.6305143449161321, response=1.0, activation=relu, aggregation=sum)\n",
      "\t485 DefaultNodeGene(key=485, bias=0.2556792724372083, response=1.0, activation=tanh, aggregation=sum)\n",
      "\t1194 DefaultNodeGene(key=1194, bias=-0.042988286733011236, response=1.0, activation=clamped, aggregation=sum)\n",
      "\t1241 DefaultNodeGene(key=1241, bias=-0.29750217290834663, response=1.0, activation=inv, aggregation=sum)\n",
      "\t1827 DefaultNodeGene(key=1827, bias=0.7155921211450372, response=1.0, activation=relu, aggregation=sum)\n",
      "Connections:\n",
      "\tDefaultConnectionGene(key=(-4, 0), weight=2.0, enabled=True)\n",
      "\tDefaultConnectionGene(key=(-4, 1), weight=2.0, enabled=True)\n",
      "\tDefaultConnectionGene(key=(-4, 485), weight=2.0, enabled=True)\n",
      "\tDefaultConnectionGene(key=(-4, 1194), weight=2.0, enabled=True)\n",
      "\tDefaultConnectionGene(key=(-4, 1241), weight=2.0, enabled=True)\n",
      "\tDefaultConnectionGene(key=(-4, 1827), weight=2.0, enabled=True)\n",
      "\tDefaultConnectionGene(key=(-3, 1), weight=2.0, enabled=True)\n",
      "\tDefaultConnectionGene(key=(485, 2), weight=2.0, enabled=True)\n",
      "\tDefaultConnectionGene(key=(1194, 2), weight=2.0, enabled=True)\n",
      "\tDefaultConnectionGene(key=(1241, 1194), weight=2.0, enabled=True)\n",
      "\tDefaultConnectionGene(key=(1827, 1194), weight=2.0, enabled=True)\n"
     ]
    },
    {
     "data": {
      "text/plain": [
       "WANNClassifier(activation_default='relu', compatibility_threshold=2.0,\n",
       "               fitness_threshold=0.9, number_of_generations=500,\n",
       "               single_shared_weights=[-2.0, -1.0, -0.5, 0.5, 1.0, 2.0],\n",
       "               statistic_reporter=0)"
      ]
     },
     "execution_count": 73,
     "metadata": {},
     "output_type": "execute_result"
    }
   ],
   "source": [
    "# Create a WANN model for Iris dataset\n",
    "wann_clf_iris = WANNClassifier(single_shared_weights=single_shared_weights,\n",
    "                     fitness_threshold=0.90,\n",
    "                     number_of_generations=500,\n",
    "                     pop_size=150,\n",
    "                     compatibility_threshold=2.0,\n",
    "                     activation_default='relu',\n",
    "                     statistic_reporter = 0)\n",
    "\n",
    "# Train the algorithm\n",
    "wann_clf_iris.fit(x_train_iris, y_train_iris)"
   ]
  },
  {
   "cell_type": "markdown",
   "metadata": {},
   "source": [
    "##### Visualize evolution\n",
    "Visualize the fitness (accuracy) progress over generations.\n",
    "* max - best accuracy achieved by with a single shared weight from a set (-2, -1, -0.5, +0.5, +1, +2)\n",
    "* mean - mean accuracy over all weights in a set\n",
    "* average - average accuracy of the population"
   ]
  },
  {
   "cell_type": "code",
   "execution_count": 184,
   "metadata": {},
   "outputs": [
    {
     "data": {
      "image/png": "[encoded data removed]",
      "text/plain": [
       "<Figure size 432x288 with 1 Axes>"
      ]
     },
     "metadata": {
      "needs_background": "light"
     },
     "output_type": "display_data"
    }
   ],
   "source": [
    "visualization.plot_stats(wann_clf_iris.stats_, ylog=False, view=True, xlabel='Generation', ylabel='Accuracy')"
   ]
  },
  {
   "cell_type": "markdown",
   "metadata": {},
   "source": [
    "##### Visualize the evolved neural network"
   ]
  },
  {
   "cell_type": "markdown",
   "metadata": {},
   "source": [
    "The WANN algorithm strives to achieve a minimal network that will work with a single shared weight. Here we can see that the algorithm performed feature selection since two inputs are not connected."
   ]
  },
  {
   "cell_type": "code",
   "execution_count": 185,
   "metadata": {},
   "outputs": [
    {
     "data": {
      "image/svg+xml": [
       "<?xml version=\"1.0\" encoding=\"UTF-8\" standalone=\"no\"?>\n",
       "<!DOCTYPE svg PUBLIC \"-//W3C//DTD SVG 1.1//EN\"\n",
       " \"http://www.w3.org/Graphics/SVG/1.1/DTD/svg11.dtd\">\n",
       "<!-- Generated by graphviz version 2.43.0 (0)\n",
       " -->\n",
       "<!-- Title: %3 Pages: 1 -->\n",
       "<svg width=\"372pt\" height=\"258pt\"\n",
       " viewBox=\"0.00 0.00 371.61 257.69\" xmlns=\"http://www.w3.org/2000/svg\" xmlns:xlink=\"http://www.w3.org/1999/xlink\">\n",
       "<g id=\"graph0\" class=\"graph\" transform=\"scale(1 1) rotate(0) translate(4 253.69)\">\n",
       "<title>%3</title>\n",
       "<polygon fill=\"white\" stroke=\"transparent\" points=\"-4,4 -4,-253.69 367.61,-253.69 367.61,4 -4,4\"/>\n",
       "<!-- &#45;1 -->\n",
       "<g id=\"node1\" class=\"node\">\n",
       "<title>&#45;1</title>\n",
       "<polygon fill=\"lightgray\" stroke=\"black\" points=\"23.75,-249.69 -0.25,-249.69 -0.25,-232.69 23.75,-232.69 23.75,-249.69\"/>\n",
       "<text text-anchor=\"middle\" x=\"11.75\" y=\"-238.49\" font-family=\"Times,serif\" font-size=\"9.00\">&#45;1</text>\n",
       "</g>\n",
       "<!-- &#45;2 -->\n",
       "<g id=\"node2\" class=\"node\">\n",
       "<title>&#45;2</title>\n",
       "<polygon fill=\"lightgray\" stroke=\"black\" points=\"64.75,-249.69 40.75,-249.69 40.75,-232.69 64.75,-232.69 64.75,-249.69\"/>\n",
       "<text text-anchor=\"middle\" x=\"52.75\" y=\"-238.49\" font-family=\"Times,serif\" font-size=\"9.00\">&#45;2</text>\n",
       "</g>\n",
       "<!-- &#45;3 -->\n",
       "<g id=\"node3\" class=\"node\">\n",
       "<title>&#45;3</title>\n",
       "<polygon fill=\"lightgray\" stroke=\"black\" points=\"105.75,-249.69 81.75,-249.69 81.75,-232.69 105.75,-232.69 105.75,-249.69\"/>\n",
       "<text text-anchor=\"middle\" x=\"93.75\" y=\"-238.49\" font-family=\"Times,serif\" font-size=\"9.00\">&#45;3</text>\n",
       "</g>\n",
       "<!-- 1 -->\n",
       "<g id=\"node6\" class=\"node\">\n",
       "<title>1</title>\n",
       "<ellipse fill=\"lightblue\" stroke=\"black\" cx=\"93.75\" cy=\"-172.65\" rx=\"14.49\" ry=\"14.49\"/>\n",
       "<text text-anchor=\"middle\" x=\"93.75\" y=\"-169.95\" font-family=\"Times,serif\" font-size=\"9.00\">1</text>\n",
       "</g>\n",
       "<!-- &#45;3&#45;&gt;1 -->\n",
       "<g id=\"edge5\" class=\"edge\">\n",
       "<title>&#45;3&#45;&gt;1</title>\n",
       "<path fill=\"none\" stroke=\"green\" stroke-width=\"0.5\" d=\"M93.75,-232.56C93.75,-224 93.75,-209.71 93.75,-197.35\"/>\n",
       "<polygon fill=\"green\" stroke=\"green\" stroke-width=\"0.5\" points=\"97.25,-197.17 93.75,-187.17 90.25,-197.17 97.25,-197.17\"/>\n",
       "</g>\n",
       "<!-- &#45;4 -->\n",
       "<g id=\"node4\" class=\"node\">\n",
       "<title>&#45;4</title>\n",
       "<polygon fill=\"lightgray\" stroke=\"black\" points=\"235.75,-249.69 211.75,-249.69 211.75,-232.69 235.75,-232.69 235.75,-249.69\"/>\n",
       "<text text-anchor=\"middle\" x=\"223.75\" y=\"-238.49\" font-family=\"Times,serif\" font-size=\"9.00\">&#45;4</text>\n",
       "</g>\n",
       "<!-- 0 -->\n",
       "<g id=\"node5\" class=\"node\">\n",
       "<title>0</title>\n",
       "<ellipse fill=\"lightblue\" stroke=\"black\" cx=\"140.75\" cy=\"-172.65\" rx=\"14.49\" ry=\"14.49\"/>\n",
       "<text text-anchor=\"middle\" x=\"140.75\" y=\"-169.95\" font-family=\"Times,serif\" font-size=\"9.00\">0</text>\n",
       "</g>\n",
       "<!-- &#45;4&#45;&gt;0 -->\n",
       "<g id=\"edge1\" class=\"edge\">\n",
       "<title>&#45;4&#45;&gt;0</title>\n",
       "<path fill=\"none\" stroke=\"green\" stroke-width=\"0.5\" d=\"M212.55,-232.59C200.43,-224.21 180.71,-210.14 164.75,-196.69 162.66,-194.93 160.53,-193.04 158.43,-191.12\"/>\n",
       "<polygon fill=\"green\" stroke=\"green\" stroke-width=\"0.5\" points=\"160.41,-188.17 150.75,-183.82 155.59,-193.25 160.41,-188.17\"/>\n",
       "</g>\n",
       "<!-- &#45;4&#45;&gt;1 -->\n",
       "<g id=\"edge2\" class=\"edge\">\n",
       "<title>&#45;4&#45;&gt;1</title>\n",
       "<path fill=\"none\" stroke=\"green\" stroke-width=\"0.5\" d=\"M211.92,-236.93C191.56,-230.99 149.09,-217.1 117.75,-196.69 115.21,-195.04 112.7,-193.09 110.32,-191.05\"/>\n",
       "<polygon fill=\"green\" stroke=\"green\" stroke-width=\"0.5\" points=\"112.51,-188.3 102.84,-183.97 107.7,-193.38 112.51,-188.3\"/>\n",
       "</g>\n",
       "<!-- 1827 -->\n",
       "<g id=\"node8\" class=\"node\">\n",
       "<title>1827</title>\n",
       "<ellipse fill=\"white\" stroke=\"black\" cx=\"197.75\" cy=\"-172.65\" rx=\"24.08\" ry=\"24.08\"/>\n",
       "<text text-anchor=\"middle\" x=\"197.75\" y=\"-169.95\" font-family=\"Times,serif\" font-size=\"9.00\">1827</text>\n",
       "</g>\n",
       "<!-- &#45;4&#45;&gt;1827 -->\n",
       "<g id=\"edge10\" class=\"edge\">\n",
       "<title>&#45;4&#45;&gt;1827</title>\n",
       "<path fill=\"none\" stroke=\"green\" stroke-width=\"0.5\" d=\"M220.77,-232.56C218.1,-225.73 214,-215.24 210,-205\"/>\n",
       "<polygon fill=\"green\" stroke=\"green\" stroke-width=\"0.5\" points=\"213.14,-203.42 206.24,-195.38 206.62,-205.97 213.14,-203.42\"/>\n",
       "</g>\n",
       "<!-- 485 -->\n",
       "<g id=\"node9\" class=\"node\">\n",
       "<title>485</title>\n",
       "<ellipse fill=\"white\" stroke=\"black\" cx=\"342.75\" cy=\"-88.8\" rx=\"20.72\" ry=\"20.72\"/>\n",
       "<text text-anchor=\"middle\" x=\"342.75\" y=\"-86.1\" font-family=\"Times,serif\" font-size=\"9.00\">485</text>\n",
       "</g>\n",
       "<!-- &#45;4&#45;&gt;485 -->\n",
       "<g id=\"edge3\" class=\"edge\">\n",
       "<title>&#45;4&#45;&gt;485</title>\n",
       "<path fill=\"none\" stroke=\"green\" stroke-width=\"0.5\" d=\"M235.57,-239.49C258.92,-237.4 310.77,-229.16 334.75,-196.69 351.04,-174.62 351.22,-142.52 348.45,-119.26\"/>\n",
       "<polygon fill=\"green\" stroke=\"green\" stroke-width=\"0.5\" points=\"351.9,-118.67 347.01,-109.27 344.97,-119.66 351.9,-118.67\"/>\n",
       "</g>\n",
       "<!-- 1194 -->\n",
       "<g id=\"node10\" class=\"node\">\n",
       "<title>1194</title>\n",
       "<ellipse fill=\"white\" stroke=\"black\" cx=\"269.75\" cy=\"-88.8\" rx=\"23.62\" ry=\"23.62\"/>\n",
       "<text text-anchor=\"middle\" x=\"269.75\" y=\"-86.1\" font-family=\"Times,serif\" font-size=\"9.00\">1194</text>\n",
       "</g>\n",
       "<!-- &#45;4&#45;&gt;1194 -->\n",
       "<g id=\"edge6\" class=\"edge\">\n",
       "<title>&#45;4&#45;&gt;1194</title>\n",
       "<path fill=\"none\" stroke=\"green\" stroke-width=\"0.5\" d=\"M226.09,-232.53C232.24,-212.42 249.11,-157.28 259.99,-121.72\"/>\n",
       "<polygon fill=\"green\" stroke=\"green\" stroke-width=\"0.5\" points=\"263.44,-122.4 263.02,-111.81 256.74,-120.35 263.44,-122.4\"/>\n",
       "</g>\n",
       "<!-- 1241 -->\n",
       "<g id=\"node11\" class=\"node\">\n",
       "<title>1241</title>\n",
       "<ellipse fill=\"white\" stroke=\"black\" cx=\"301.75\" cy=\"-172.65\" rx=\"24.08\" ry=\"24.08\"/>\n",
       "<text text-anchor=\"middle\" x=\"301.75\" y=\"-169.95\" font-family=\"Times,serif\" font-size=\"9.00\">1241</text>\n",
       "</g>\n",
       "<!-- &#45;4&#45;&gt;1241 -->\n",
       "<g id=\"edge8\" class=\"edge\">\n",
       "<title>&#45;4&#45;&gt;1241</title>\n",
       "<path fill=\"none\" stroke=\"green\" stroke-width=\"0.5\" d=\"M232.7,-232.56C243.16,-223.63 260.96,-208.45 275.86,-195.74\"/>\n",
       "<polygon fill=\"green\" stroke=\"green\" stroke-width=\"0.5\" points=\"278.44,-198.13 283.78,-188.98 273.9,-192.81 278.44,-198.13\"/>\n",
       "</g>\n",
       "<!-- 2 -->\n",
       "<g id=\"node7\" class=\"node\">\n",
       "<title>2</title>\n",
       "<ellipse fill=\"lightblue\" stroke=\"black\" cx=\"300.75\" cy=\"-14.5\" rx=\"14.49\" ry=\"14.49\"/>\n",
       "<text text-anchor=\"middle\" x=\"300.75\" y=\"-11.8\" font-family=\"Times,serif\" font-size=\"9.00\">2</text>\n",
       "</g>\n",
       "<!-- 1827&#45;&gt;1194 -->\n",
       "<g id=\"edge11\" class=\"edge\">\n",
       "<title>1827&#45;&gt;1194</title>\n",
       "<path fill=\"none\" stroke=\"green\" stroke-width=\"0.5\" d=\"M213.37,-153.89C223.35,-142.55 236.43,-127.67 247.49,-115.11\"/>\n",
       "<polygon fill=\"green\" stroke=\"green\" stroke-width=\"0.5\" points=\"250.43,-117.06 254.4,-107.24 245.17,-112.44 250.43,-117.06\"/>\n",
       "</g>\n",
       "<!-- 485&#45;&gt;2 -->\n",
       "<g id=\"edge4\" class=\"edge\">\n",
       "<title>485&#45;&gt;2</title>\n",
       "<path fill=\"none\" stroke=\"green\" stroke-width=\"0.5\" d=\"M332.58,-70.3C326.65,-60.08 319.13,-47.13 312.88,-36.39\"/>\n",
       "<polygon fill=\"green\" stroke=\"green\" stroke-width=\"0.5\" points=\"315.85,-34.52 307.8,-27.63 309.8,-38.04 315.85,-34.52\"/>\n",
       "</g>\n",
       "<!-- 1194&#45;&gt;2 -->\n",
       "<g id=\"edge7\" class=\"edge\">\n",
       "<title>1194&#45;&gt;2</title>\n",
       "<path fill=\"none\" stroke=\"green\" stroke-width=\"0.5\" d=\"M278.88,-66.5C282.82,-57.32 287.41,-46.6 291.37,-37.36\"/>\n",
       "<polygon fill=\"green\" stroke=\"green\" stroke-width=\"0.5\" points=\"294.64,-38.63 295.36,-28.06 288.2,-35.87 294.64,-38.63\"/>\n",
       "</g>\n",
       "<!-- 1241&#45;&gt;1194 -->\n",
       "<g id=\"edge9\" class=\"edge\">\n",
       "<title>1241&#45;&gt;1194</title>\n",
       "<path fill=\"none\" stroke=\"green\" stroke-width=\"0.5\" d=\"M293.17,-149.72C289.67,-140.77 285.57,-130.26 281.78,-120.56\"/>\n",
       "<polygon fill=\"green\" stroke=\"green\" stroke-width=\"0.5\" points=\"285.03,-119.27 278.13,-111.23 278.51,-121.82 285.03,-119.27\"/>\n",
       "</g>\n",
       "</g>\n",
       "</svg>\n"
      ],
      "text/plain": [
       "<graphviz.dot.Digraph at 0x7f87e1786090>"
      ]
     },
     "execution_count": 185,
     "metadata": {},
     "output_type": "execute_result"
    }
   ],
   "source": [
    "visualization.draw_net(wann_clf_iris.config_, wann_clf_iris.winner_genome_, True)"
   ]
  },
  {
   "cell_type": "code",
   "execution_count": 448,
   "metadata": {},
   "outputs": [
    {
     "data": {
      "text/plain": [
       "NEATClassifier(activation_mutate_rate=0.25,\n",
       "               activation_options='sigmoid relu tanh gauss',\n",
       "               fitness_threshold=0.99, statistic_reporter=0)"
      ]
     },
     "execution_count": 448,
     "metadata": {},
     "output_type": "execute_result"
    }
   ],
   "source": [
    "neat_clf_iris"
   ]
  },
  {
   "cell_type": "markdown",
   "metadata": {},
   "source": [
    "Evaluate the model on wider range of weights that were not used in training. This is to show that created neural networks can perform well even outside the training weights."
   ]
  },
  {
   "cell_type": "code",
   "execution_count": 197,
   "metadata": {
    "pycharm": {
     "is_executing": true
    }
   },
   "outputs": [],
   "source": [
    "shared_weights = [-3.0, -2.0, -1.5, -1.0, -0.5, 0.0, 0.5, 1.0, 1.5, 2.0, 3.0]\n",
    "# Create a dictionary for storing accuracy values per single shared weight\n",
    "fitness_per_weight_iris = {}\n",
    "for weight in shared_weights:\n",
    "    wann_result = wann_clf_iris.predict(x_test_iris, weight)\n",
    "    fitness_per_weight_iris.update({str(weight): accuracy_score(y_test_iris, wann_result)})"
   ]
  },
  {
   "cell_type": "markdown",
   "metadata": {},
   "source": [
    "### Breast cancer dataset \n"
   ]
  },
  {
   "cell_type": "code",
   "execution_count": 76,
   "metadata": {},
   "outputs": [
    {
     "name": "stdout",
     "output_type": "stream",
     "text": [
      "Key: 2851\n",
      "Fitness: 0.9113837764144512\n",
      "Nodes:\n",
      "\t0 DefaultNodeGene(key=0, bias=0.40944322647942194, response=1.0, activation=abs, aggregation=sum)\n",
      "\t1 DefaultNodeGene(key=1, bias=-0.1121817085701089, response=1.0, activation=abs, aggregation=sum)\n",
      "\t327 DefaultNodeGene(key=327, bias=2.361672528918568, response=1.0, activation=relu, aggregation=sum)\n",
      "Connections:\n",
      "\tDefaultConnectionGene(key=(-20, 1), weight=2.0, enabled=True)\n",
      "\tDefaultConnectionGene(key=(-19, 0), weight=2.0, enabled=True)\n",
      "\tDefaultConnectionGene(key=(-19, 1), weight=2.0, enabled=True)\n",
      "\tDefaultConnectionGene(key=(-17, 0), weight=2.0, enabled=True)\n",
      "\tDefaultConnectionGene(key=(-17, 1), weight=2.0, enabled=True)\n",
      "\tDefaultConnectionGene(key=(-16, 0), weight=2.0, enabled=True)\n",
      "\tDefaultConnectionGene(key=(-16, 1), weight=2.0, enabled=True)\n",
      "\tDefaultConnectionGene(key=(-14, 0), weight=2.0, enabled=True)\n",
      "\tDefaultConnectionGene(key=(-14, 1), weight=2.0, enabled=True)\n",
      "\tDefaultConnectionGene(key=(-13, 1), weight=2.0, enabled=False)\n",
      "\tDefaultConnectionGene(key=(-12, 1), weight=2.0, enabled=True)\n",
      "\tDefaultConnectionGene(key=(-10, 0), weight=2.0, enabled=True)\n",
      "\tDefaultConnectionGene(key=(-9, 0), weight=2.0, enabled=True)\n",
      "\tDefaultConnectionGene(key=(-9, 1), weight=2.0, enabled=True)\n",
      "\tDefaultConnectionGene(key=(-8, 0), weight=2.0, enabled=True)\n",
      "\tDefaultConnectionGene(key=(-7, 0), weight=2.0, enabled=True)\n",
      "\tDefaultConnectionGene(key=(-7, 1), weight=2.0, enabled=True)\n",
      "\tDefaultConnectionGene(key=(-6, 0), weight=2.0, enabled=True)\n",
      "\tDefaultConnectionGene(key=(-6, 1), weight=2.0, enabled=True)\n",
      "\tDefaultConnectionGene(key=(-5, 0), weight=2.0, enabled=True)\n",
      "\tDefaultConnectionGene(key=(-5, 1), weight=2.0, enabled=True)\n",
      "\tDefaultConnectionGene(key=(-4, 0), weight=2.0, enabled=True)\n",
      "\tDefaultConnectionGene(key=(-4, 1), weight=2.0, enabled=True)\n",
      "\tDefaultConnectionGene(key=(-3, 0), weight=2.0, enabled=True)\n",
      "\tDefaultConnectionGene(key=(-3, 1), weight=2.0, enabled=True)\n",
      "\tDefaultConnectionGene(key=(-1, 0), weight=2.0, enabled=True)\n",
      "\tDefaultConnectionGene(key=(-1, 1), weight=2.0, enabled=False)\n",
      "\tDefaultConnectionGene(key=(-1, 327), weight=2.0, enabled=True)\n",
      "\tDefaultConnectionGene(key=(327, 1), weight=2.0, enabled=True)\n"
     ]
    },
    {
     "data": {
      "text/plain": [
       "WANNClassifier(activation_default='relu', compatibility_threshold=1.5,\n",
       "               fitness_threshold=0.9, number_of_generations=500,\n",
       "               single_shared_weights=[-2.0, -1.0, -0.5, 0.5, 1.0, 2.0],\n",
       "               statistic_reporter=0)"
      ]
     },
     "execution_count": 76,
     "metadata": {},
     "output_type": "execute_result"
    }
   ],
   "source": [
    "wann_clf_cancer = WANNClassifier(single_shared_weights=single_shared_weights,\n",
    "                         fitness_threshold=0.90,\n",
    "                         number_of_generations=500,\n",
    "                         pop_size=150,\n",
    "                         compatibility_threshold=1.5,\n",
    "                         activation_default='relu',\n",
    "                          statistic_reporter = 0)\n",
    "wann_clf_cancer.fit(x_train_cancer, y_train_cancer)"
   ]
  },
  {
   "cell_type": "code",
   "execution_count": 77,
   "metadata": {
    "scrolled": true
   },
   "outputs": [
    {
     "data": {
      "image/png": "[encoded data removed]",
      "text/plain": [
       "<Figure size 432x288 with 1 Axes>"
      ]
     },
     "metadata": {
      "needs_background": "light"
     },
     "output_type": "display_data"
    },
    {
     "data": {
      "image/svg+xml": [
       "<?xml version=\"1.0\" encoding=\"UTF-8\" standalone=\"no\"?>\n",
       "<!DOCTYPE svg PUBLIC \"-//W3C//DTD SVG 1.1//EN\"\n",
       " \"http://www.w3.org/Graphics/SVG/1.1/DTD/svg11.dtd\">\n",
       "<!-- Generated by graphviz version 2.43.0 (0)\n",
       " -->\n",
       "<!-- Title: %3 Pages: 1 -->\n",
       "<svg width=\"766pt\" height=\"168pt\"\n",
       " viewBox=\"0.00 0.00 766.01 167.71\" xmlns=\"http://www.w3.org/2000/svg\" xmlns:xlink=\"http://www.w3.org/1999/xlink\">\n",
       "<g id=\"graph0\" class=\"graph\" transform=\"scale(1 1) rotate(0) translate(4 163.71)\">\n",
       "<title>%3</title>\n",
       "<polygon fill=\"white\" stroke=\"transparent\" points=\"-4,4 -4,-163.71 762.01,-163.71 762.01,4 -4,4\"/>\n",
       "<!-- &#45;1 -->\n",
       "<g id=\"node1\" class=\"node\">\n",
       "<title>&#45;1</title>\n",
       "<polygon fill=\"lightgray\" stroke=\"black\" points=\"573.01,-159.71 549.01,-159.71 549.01,-142.71 573.01,-142.71 573.01,-159.71\"/>\n",
       "<text text-anchor=\"middle\" x=\"561.01\" y=\"-148.51\" font-family=\"Times,serif\" font-size=\"9.00\">&#45;1</text>\n",
       "</g>\n",
       "<!-- 0 -->\n",
       "<g id=\"node21\" class=\"node\">\n",
       "<title>0</title>\n",
       "<ellipse fill=\"lightblue\" stroke=\"black\" cx=\"244.01\" cy=\"-14.5\" rx=\"14.49\" ry=\"14.49\"/>\n",
       "<text text-anchor=\"middle\" x=\"244.01\" y=\"-11.8\" font-family=\"Times,serif\" font-size=\"9.00\">0</text>\n",
       "</g>\n",
       "<!-- &#45;1&#45;&gt;0 -->\n",
       "<g id=\"edge1\" class=\"edge\">\n",
       "<title>&#45;1&#45;&gt;0</title>\n",
       "<path fill=\"none\" stroke=\"green\" stroke-width=\"0.5\" d=\"M548.93,-150.21C471.77,-150.09 49.72,-147.53 12.01,-106.71 -49.88,-39.72 147.32,-21.21 219,-16.76\"/>\n",
       "<polygon fill=\"green\" stroke=\"green\" stroke-width=\"0.5\" points=\"219.59,-20.23 229.37,-16.16 219.19,-13.24 219.59,-20.23\"/>\n",
       "</g>\n",
       "<!-- 1 -->\n",
       "<g id=\"node22\" class=\"node\">\n",
       "<title>1</title>\n",
       "<ellipse fill=\"lightblue\" stroke=\"black\" cx=\"416.01\" cy=\"-14.5\" rx=\"14.49\" ry=\"14.49\"/>\n",
       "<text text-anchor=\"middle\" x=\"416.01\" y=\"-11.8\" font-family=\"Times,serif\" font-size=\"9.00\">1</text>\n",
       "</g>\n",
       "<!-- &#45;1&#45;&gt;1 -->\n",
       "<g id=\"edge2\" class=\"edge\">\n",
       "<title>&#45;1&#45;&gt;1</title>\n",
       "<path fill=\"none\" stroke=\"green\" stroke-width=\"0.5\" stroke-dasharray=\"1,5\" d=\"M568.24,-142.4C582.12,-126.44 609.56,-89.51 591.01,-64.99 572.79,-40.91 484.09,-25.18 440.41,-18.77\"/>\n",
       "<polygon fill=\"green\" stroke=\"green\" stroke-width=\"0.5\" points=\"440.74,-15.28 430.35,-17.34 439.75,-22.21 440.74,-15.28\"/>\n",
       "</g>\n",
       "<!-- 327 -->\n",
       "<g id=\"node23\" class=\"node\">\n",
       "<title>327</title>\n",
       "<ellipse fill=\"white\" stroke=\"black\" cx=\"561.01\" cy=\"-85.85\" rx=\"20.72\" ry=\"20.72\"/>\n",
       "<text text-anchor=\"middle\" x=\"561.01\" y=\"-83.15\" font-family=\"Times,serif\" font-size=\"9.00\">327</text>\n",
       "</g>\n",
       "<!-- &#45;1&#45;&gt;327 -->\n",
       "<g id=\"edge28\" class=\"edge\">\n",
       "<title>&#45;1&#45;&gt;327</title>\n",
       "<path fill=\"none\" stroke=\"green\" stroke-width=\"0.5\" d=\"M561.01,-142.44C561.01,-135.99 561.01,-126.36 561.01,-116.93\"/>\n",
       "<polygon fill=\"green\" stroke=\"green\" stroke-width=\"0.5\" points=\"564.51,-116.93 561.01,-106.93 557.51,-116.93 564.51,-116.93\"/>\n",
       "</g>\n",
       "<!-- &#45;2 -->\n",
       "<g id=\"node2\" class=\"node\">\n",
       "<title>&#45;2</title>\n",
       "<polygon fill=\"lightgray\" stroke=\"black\" points=\"614.01,-159.71 590.01,-159.71 590.01,-142.71 614.01,-142.71 614.01,-159.71\"/>\n",
       "<text text-anchor=\"middle\" x=\"602.01\" y=\"-148.51\" font-family=\"Times,serif\" font-size=\"9.00\">&#45;2</text>\n",
       "</g>\n",
       "<!-- &#45;3 -->\n",
       "<g id=\"node3\" class=\"node\">\n",
       "<title>&#45;3</title>\n",
       "<polygon fill=\"lightgray\" stroke=\"black\" points=\"133.01,-94.35 109.01,-94.35 109.01,-77.35 133.01,-77.35 133.01,-94.35\"/>\n",
       "<text text-anchor=\"middle\" x=\"121.01\" y=\"-83.15\" font-family=\"Times,serif\" font-size=\"9.00\">&#45;3</text>\n",
       "</g>\n",
       "<!-- &#45;3&#45;&gt;0 -->\n",
       "<g id=\"edge3\" class=\"edge\">\n",
       "<title>&#45;3&#45;&gt;0</title>\n",
       "<path fill=\"none\" stroke=\"green\" stroke-width=\"0.5\" d=\"M127.53,-77.25C131.21,-73.26 136.05,-68.49 141.01,-64.99 166.47,-47.01 199.48,-32.46 221.18,-23.9\"/>\n",
       "<polygon fill=\"green\" stroke=\"green\" stroke-width=\"0.5\" points=\"222.48,-27.14 230.56,-20.29 219.97,-20.61 222.48,-27.14\"/>\n",
       "</g>\n",
       "<!-- &#45;3&#45;&gt;1 -->\n",
       "<g id=\"edge4\" class=\"edge\">\n",
       "<title>&#45;3&#45;&gt;1</title>\n",
       "<path fill=\"none\" stroke=\"green\" stroke-width=\"0.5\" d=\"M126.84,-77.09C130.45,-72.85 135.45,-67.88 141.01,-64.99 184.77,-42.21 332.58,-24.39 391.49,-18.02\"/>\n",
       "<polygon fill=\"green\" stroke=\"green\" stroke-width=\"0.5\" points=\"392.14,-21.47 401.72,-16.94 391.4,-14.51 392.14,-21.47\"/>\n",
       "</g>\n",
       "<!-- &#45;4 -->\n",
       "<g id=\"node4\" class=\"node\">\n",
       "<title>&#45;4</title>\n",
       "<polygon fill=\"lightgray\" stroke=\"black\" points=\"174.01,-94.35 150.01,-94.35 150.01,-77.35 174.01,-77.35 174.01,-94.35\"/>\n",
       "<text text-anchor=\"middle\" x=\"162.01\" y=\"-83.15\" font-family=\"Times,serif\" font-size=\"9.00\">&#45;4</text>\n",
       "</g>\n",
       "<!-- &#45;4&#45;&gt;0 -->\n",
       "<g id=\"edge5\" class=\"edge\">\n",
       "<title>&#45;4&#45;&gt;0</title>\n",
       "<path fill=\"none\" stroke=\"green\" stroke-width=\"0.5\" d=\"M169.23,-77.3C172.96,-73.51 177.63,-68.9 182.01,-64.99 195.75,-52.75 212.03,-39.81 224.46,-30.23\"/>\n",
       "<polygon fill=\"green\" stroke=\"green\" stroke-width=\"0.5\" points=\"226.92,-32.76 232.74,-23.91 222.67,-27.2 226.92,-32.76\"/>\n",
       "</g>\n",
       "<!-- &#45;4&#45;&gt;1 -->\n",
       "<g id=\"edge6\" class=\"edge\">\n",
       "<title>&#45;4&#45;&gt;1</title>\n",
       "<path fill=\"none\" stroke=\"green\" stroke-width=\"0.5\" d=\"M167.88,-77.15C171.5,-72.93 176.5,-67.97 182.01,-64.99 251.4,-27.52 346.61,-18.41 391.15,-16.2\"/>\n",
       "<polygon fill=\"green\" stroke=\"green\" stroke-width=\"0.5\" points=\"391.49,-19.69 401.33,-15.77 391.19,-12.69 391.49,-19.69\"/>\n",
       "</g>\n",
       "<!-- &#45;5 -->\n",
       "<g id=\"node5\" class=\"node\">\n",
       "<title>&#45;5</title>\n",
       "<polygon fill=\"lightgray\" stroke=\"black\" points=\"215.01,-94.35 191.01,-94.35 191.01,-77.35 215.01,-77.35 215.01,-94.35\"/>\n",
       "<text text-anchor=\"middle\" x=\"203.01\" y=\"-83.15\" font-family=\"Times,serif\" font-size=\"9.00\">&#45;5</text>\n",
       "</g>\n",
       "<!-- &#45;5&#45;&gt;0 -->\n",
       "<g id=\"edge7\" class=\"edge\">\n",
       "<title>&#45;5&#45;&gt;0</title>\n",
       "<path fill=\"none\" stroke=\"green\" stroke-width=\"0.5\" d=\"M207.55,-77.16C213.35,-67.36 223.59,-50.04 231.75,-36.24\"/>\n",
       "<polygon fill=\"green\" stroke=\"green\" stroke-width=\"0.5\" points=\"234.9,-37.78 236.98,-27.39 228.88,-34.21 234.9,-37.78\"/>\n",
       "</g>\n",
       "<!-- &#45;5&#45;&gt;1 -->\n",
       "<g id=\"edge8\" class=\"edge\">\n",
       "<title>&#45;5&#45;&gt;1</title>\n",
       "<path fill=\"none\" stroke=\"green\" stroke-width=\"0.5\" d=\"M208.93,-77.24C212.56,-73.05 217.56,-68.08 223.01,-64.99 278.04,-33.74 352.98,-21.88 391.27,-17.65\"/>\n",
       "<polygon fill=\"green\" stroke=\"green\" stroke-width=\"0.5\" points=\"391.89,-21.11 401.48,-16.61 391.18,-14.14 391.89,-21.11\"/>\n",
       "</g>\n",
       "<!-- &#45;6 -->\n",
       "<g id=\"node6\" class=\"node\">\n",
       "<title>&#45;6</title>\n",
       "<polygon fill=\"lightgray\" stroke=\"black\" points=\"256.01,-94.35 232.01,-94.35 232.01,-77.35 256.01,-77.35 256.01,-94.35\"/>\n",
       "<text text-anchor=\"middle\" x=\"244.01\" y=\"-83.15\" font-family=\"Times,serif\" font-size=\"9.00\">&#45;6</text>\n",
       "</g>\n",
       "<!-- &#45;6&#45;&gt;0 -->\n",
       "<g id=\"edge9\" class=\"edge\">\n",
       "<title>&#45;6&#45;&gt;0</title>\n",
       "<path fill=\"none\" stroke=\"green\" stroke-width=\"0.5\" d=\"M244.01,-77.16C244.01,-68.13 244.01,-52.69 244.01,-39.52\"/>\n",
       "<polygon fill=\"green\" stroke=\"green\" stroke-width=\"0.5\" points=\"247.51,-39.18 244.01,-29.18 240.51,-39.18 247.51,-39.18\"/>\n",
       "</g>\n",
       "<!-- &#45;6&#45;&gt;1 -->\n",
       "<g id=\"edge10\" class=\"edge\">\n",
       "<title>&#45;6&#45;&gt;1</title>\n",
       "<path fill=\"none\" stroke=\"green\" stroke-width=\"0.5\" d=\"M250.35,-76.98C253.98,-72.91 258.83,-68.15 264.01,-64.99 305.11,-39.89 360.34,-26.07 391.65,-19.78\"/>\n",
       "<polygon fill=\"green\" stroke=\"green\" stroke-width=\"0.5\" points=\"392.5,-23.18 401.67,-17.86 391.19,-16.3 392.5,-23.18\"/>\n",
       "</g>\n",
       "<!-- &#45;7 -->\n",
       "<g id=\"node7\" class=\"node\">\n",
       "<title>&#45;7</title>\n",
       "<polygon fill=\"lightgray\" stroke=\"black\" points=\"297.01,-94.35 273.01,-94.35 273.01,-77.35 297.01,-77.35 297.01,-94.35\"/>\n",
       "<text text-anchor=\"middle\" x=\"285.01\" y=\"-83.15\" font-family=\"Times,serif\" font-size=\"9.00\">&#45;7</text>\n",
       "</g>\n",
       "<!-- &#45;7&#45;&gt;0 -->\n",
       "<g id=\"edge11\" class=\"edge\">\n",
       "<title>&#45;7&#45;&gt;0</title>\n",
       "<path fill=\"none\" stroke=\"green\" stroke-width=\"0.5\" d=\"M280.47,-77.16C274.67,-67.36 264.43,-50.04 256.27,-36.24\"/>\n",
       "<polygon fill=\"green\" stroke=\"green\" stroke-width=\"0.5\" points=\"259.14,-34.21 251.04,-27.39 253.12,-37.78 259.14,-34.21\"/>\n",
       "</g>\n",
       "<!-- &#45;7&#45;&gt;1 -->\n",
       "<g id=\"edge12\" class=\"edge\">\n",
       "<title>&#45;7&#45;&gt;1</title>\n",
       "<path fill=\"none\" stroke=\"green\" stroke-width=\"0.5\" d=\"M291.49,-77.19C295.16,-73.19 300,-68.42 305.01,-64.99 332.78,-45.96 369.06,-31.43 392.45,-23.17\"/>\n",
       "<polygon fill=\"green\" stroke=\"green\" stroke-width=\"0.5\" points=\"393.88,-26.38 402.21,-19.83 391.61,-19.76 393.88,-26.38\"/>\n",
       "</g>\n",
       "<!-- &#45;8 -->\n",
       "<g id=\"node8\" class=\"node\">\n",
       "<title>&#45;8</title>\n",
       "<polygon fill=\"lightgray\" stroke=\"black\" points=\"45.01,-94.35 21.01,-94.35 21.01,-77.35 45.01,-77.35 45.01,-94.35\"/>\n",
       "<text text-anchor=\"middle\" x=\"33.01\" y=\"-83.15\" font-family=\"Times,serif\" font-size=\"9.00\">&#45;8</text>\n",
       "</g>\n",
       "<!-- &#45;8&#45;&gt;0 -->\n",
       "<g id=\"edge13\" class=\"edge\">\n",
       "<title>&#45;8&#45;&gt;0</title>\n",
       "<path fill=\"none\" stroke=\"green\" stroke-width=\"0.5\" d=\"M39.3,-77.26C43.14,-73.07 48.39,-68.11 54.01,-64.99 108.28,-34.91 181.44,-22.58 219.18,-17.97\"/>\n",
       "<polygon fill=\"green\" stroke=\"green\" stroke-width=\"0.5\" points=\"219.73,-21.43 229.27,-16.82 218.94,-14.47 219.73,-21.43\"/>\n",
       "</g>\n",
       "<!-- &#45;9 -->\n",
       "<g id=\"node9\" class=\"node\">\n",
       "<title>&#45;9</title>\n",
       "<polygon fill=\"lightgray\" stroke=\"black\" points=\"338.01,-94.35 314.01,-94.35 314.01,-77.35 338.01,-77.35 338.01,-94.35\"/>\n",
       "<text text-anchor=\"middle\" x=\"326.01\" y=\"-83.15\" font-family=\"Times,serif\" font-size=\"9.00\">&#45;9</text>\n",
       "</g>\n",
       "<!-- &#45;9&#45;&gt;0 -->\n",
       "<g id=\"edge14\" class=\"edge\">\n",
       "<title>&#45;9&#45;&gt;0</title>\n",
       "<path fill=\"none\" stroke=\"green\" stroke-width=\"0.5\" d=\"M318.79,-77.3C315.06,-73.51 310.39,-68.9 306.01,-64.99 292.27,-52.75 275.99,-39.81 263.56,-30.23\"/>\n",
       "<polygon fill=\"green\" stroke=\"green\" stroke-width=\"0.5\" points=\"265.35,-27.2 255.28,-23.91 261.1,-32.76 265.35,-27.2\"/>\n",
       "</g>\n",
       "<!-- &#45;9&#45;&gt;1 -->\n",
       "<g id=\"edge15\" class=\"edge\">\n",
       "<title>&#45;9&#45;&gt;1</title>\n",
       "<path fill=\"none\" stroke=\"green\" stroke-width=\"0.5\" d=\"M333.56,-77.24C337.46,-73.43 342.37,-68.82 347.01,-64.99 362.68,-52.06 381.48,-38.71 395.49,-29.14\"/>\n",
       "<polygon fill=\"green\" stroke=\"green\" stroke-width=\"0.5\" points=\"397.6,-31.93 403.93,-23.43 393.68,-26.13 397.6,-31.93\"/>\n",
       "</g>\n",
       "<!-- &#45;10 -->\n",
       "<g id=\"node10\" class=\"node\">\n",
       "<title>&#45;10</title>\n",
       "<polygon fill=\"lightgray\" stroke=\"black\" points=\"91.01,-94.35 63.01,-94.35 63.01,-77.35 91.01,-77.35 91.01,-94.35\"/>\n",
       "<text text-anchor=\"middle\" x=\"77.01\" y=\"-83.15\" font-family=\"Times,serif\" font-size=\"9.00\">&#45;10</text>\n",
       "</g>\n",
       "<!-- &#45;10&#45;&gt;0 -->\n",
       "<g id=\"edge16\" class=\"edge\">\n",
       "<title>&#45;10&#45;&gt;0</title>\n",
       "<path fill=\"none\" stroke=\"green\" stroke-width=\"0.5\" d=\"M84.53,-77.06C88.77,-73.01 94.34,-68.25 100.01,-64.99 139.2,-42.46 190.29,-27.95 219.89,-20.79\"/>\n",
       "<polygon fill=\"green\" stroke=\"green\" stroke-width=\"0.5\" points=\"220.82,-24.17 229.76,-18.49 219.23,-17.35 220.82,-24.17\"/>\n",
       "</g>\n",
       "<!-- &#45;11 -->\n",
       "<g id=\"node11\" class=\"node\">\n",
       "<title>&#45;11</title>\n",
       "<polygon fill=\"lightgray\" stroke=\"black\" points=\"659.68,-159.71 632.34,-159.71 632.34,-142.71 659.68,-142.71 659.68,-159.71\"/>\n",
       "<text text-anchor=\"middle\" x=\"646.01\" y=\"-148.51\" font-family=\"Times,serif\" font-size=\"9.00\">&#45;11</text>\n",
       "</g>\n",
       "<!-- &#45;12 -->\n",
       "<g id=\"node12\" class=\"node\">\n",
       "<title>&#45;12</title>\n",
       "<polygon fill=\"lightgray\" stroke=\"black\" points=\"666.01,-94.35 638.01,-94.35 638.01,-77.35 666.01,-77.35 666.01,-94.35\"/>\n",
       "<text text-anchor=\"middle\" x=\"652.01\" y=\"-83.15\" font-family=\"Times,serif\" font-size=\"9.00\">&#45;12</text>\n",
       "</g>\n",
       "<!-- &#45;12&#45;&gt;1 -->\n",
       "<g id=\"edge17\" class=\"edge\">\n",
       "<title>&#45;12&#45;&gt;1</title>\n",
       "<path fill=\"none\" stroke=\"green\" stroke-width=\"0.5\" d=\"M643.22,-77.28C637.96,-73.1 630.96,-68.14 624.01,-64.99 561.42,-36.65 480.6,-23.41 440.64,-18.26\"/>\n",
       "<polygon fill=\"green\" stroke=\"green\" stroke-width=\"0.5\" points=\"440.85,-14.76 430.49,-17.01 439.99,-21.71 440.85,-14.76\"/>\n",
       "</g>\n",
       "<!-- &#45;13 -->\n",
       "<g id=\"node13\" class=\"node\">\n",
       "<title>&#45;13</title>\n",
       "<polygon fill=\"lightgray\" stroke=\"black\" points=\"712.01,-94.35 684.01,-94.35 684.01,-77.35 712.01,-77.35 712.01,-94.35\"/>\n",
       "<text text-anchor=\"middle\" x=\"698.01\" y=\"-83.15\" font-family=\"Times,serif\" font-size=\"9.00\">&#45;13</text>\n",
       "</g>\n",
       "<!-- &#45;13&#45;&gt;1 -->\n",
       "<g id=\"edge18\" class=\"edge\">\n",
       "<title>&#45;13&#45;&gt;1</title>\n",
       "<path fill=\"none\" stroke=\"green\" stroke-width=\"0.5\" stroke-dasharray=\"1,5\" d=\"M691.07,-77.13C686.84,-72.9 681.09,-67.93 675.01,-64.99 595.3,-26.43 488.18,-17.88 440.58,-16.01\"/>\n",
       "<polygon fill=\"green\" stroke=\"green\" stroke-width=\"0.5\" points=\"440.69,-12.51 430.58,-15.68 440.46,-19.51 440.69,-12.51\"/>\n",
       "</g>\n",
       "<!-- &#45;14 -->\n",
       "<g id=\"node14\" class=\"node\">\n",
       "<title>&#45;14</title>\n",
       "<polygon fill=\"lightgray\" stroke=\"black\" points=\"384.01,-94.35 356.01,-94.35 356.01,-77.35 384.01,-77.35 384.01,-94.35\"/>\n",
       "<text text-anchor=\"middle\" x=\"370.01\" y=\"-83.15\" font-family=\"Times,serif\" font-size=\"9.00\">&#45;14</text>\n",
       "</g>\n",
       "<!-- &#45;14&#45;&gt;0 -->\n",
       "<g id=\"edge19\" class=\"edge\">\n",
       "<title>&#45;14&#45;&gt;0</title>\n",
       "<path fill=\"none\" stroke=\"green\" stroke-width=\"0.5\" d=\"M362.34,-77.32C358.05,-73.35 352.48,-68.58 347.01,-64.99 320.94,-47.91 288.07,-33.15 266.57,-24.3\"/>\n",
       "<polygon fill=\"green\" stroke=\"green\" stroke-width=\"0.5\" points=\"267.87,-21.05 257.28,-20.55 265.25,-27.54 267.87,-21.05\"/>\n",
       "</g>\n",
       "<!-- &#45;14&#45;&gt;1 -->\n",
       "<g id=\"edge20\" class=\"edge\">\n",
       "<title>&#45;14&#45;&gt;1</title>\n",
       "<path fill=\"none\" stroke=\"green\" stroke-width=\"0.5\" d=\"M375.11,-77.16C381.71,-67.21 393.46,-49.5 402.68,-35.6\"/>\n",
       "<polygon fill=\"green\" stroke=\"green\" stroke-width=\"0.5\" points=\"405.68,-37.41 408.29,-27.14 399.84,-33.54 405.68,-37.41\"/>\n",
       "</g>\n",
       "<!-- &#45;15 -->\n",
       "<g id=\"node15\" class=\"node\">\n",
       "<title>&#45;15</title>\n",
       "<polygon fill=\"lightgray\" stroke=\"black\" points=\"706.01,-159.71 678.01,-159.71 678.01,-142.71 706.01,-142.71 706.01,-159.71\"/>\n",
       "<text text-anchor=\"middle\" x=\"692.01\" y=\"-148.51\" font-family=\"Times,serif\" font-size=\"9.00\">&#45;15</text>\n",
       "</g>\n",
       "<!-- &#45;16 -->\n",
       "<g id=\"node16\" class=\"node\">\n",
       "<title>&#45;16</title>\n",
       "<polygon fill=\"lightgray\" stroke=\"black\" points=\"430.01,-94.35 402.01,-94.35 402.01,-77.35 430.01,-77.35 430.01,-94.35\"/>\n",
       "<text text-anchor=\"middle\" x=\"416.01\" y=\"-83.15\" font-family=\"Times,serif\" font-size=\"9.00\">&#45;16</text>\n",
       "</g>\n",
       "<!-- &#45;16&#45;&gt;0 -->\n",
       "<g id=\"edge21\" class=\"edge\">\n",
       "<title>&#45;16&#45;&gt;0</title>\n",
       "<path fill=\"none\" stroke=\"green\" stroke-width=\"0.5\" d=\"M408.51,-77.03C404.27,-72.98 398.7,-68.22 393.01,-64.99 352.09,-41.75 298.6,-27.35 268.1,-20.43\"/>\n",
       "<polygon fill=\"green\" stroke=\"green\" stroke-width=\"0.5\" points=\"268.85,-17.01 258.33,-18.29 267.35,-23.85 268.85,-17.01\"/>\n",
       "</g>\n",
       "<!-- &#45;16&#45;&gt;1 -->\n",
       "<g id=\"edge22\" class=\"edge\">\n",
       "<title>&#45;16&#45;&gt;1</title>\n",
       "<path fill=\"none\" stroke=\"green\" stroke-width=\"0.5\" d=\"M416.01,-77.16C416.01,-68.13 416.01,-52.69 416.01,-39.52\"/>\n",
       "<polygon fill=\"green\" stroke=\"green\" stroke-width=\"0.5\" points=\"419.51,-39.18 416.01,-29.18 412.51,-39.18 419.51,-39.18\"/>\n",
       "</g>\n",
       "<!-- &#45;17 -->\n",
       "<g id=\"node17\" class=\"node\">\n",
       "<title>&#45;17</title>\n",
       "<polygon fill=\"lightgray\" stroke=\"black\" points=\"476.01,-94.35 448.01,-94.35 448.01,-77.35 476.01,-77.35 476.01,-94.35\"/>\n",
       "<text text-anchor=\"middle\" x=\"462.01\" y=\"-83.15\" font-family=\"Times,serif\" font-size=\"9.00\">&#45;17</text>\n",
       "</g>\n",
       "<!-- &#45;17&#45;&gt;0 -->\n",
       "<g id=\"edge23\" class=\"edge\">\n",
       "<title>&#45;17&#45;&gt;0</title>\n",
       "<path fill=\"none\" stroke=\"green\" stroke-width=\"0.5\" d=\"M455,-77.26C450.75,-73.08 445,-68.11 439.01,-64.99 382.35,-35.46 307.09,-22.86 268.75,-18.07\"/>\n",
       "<polygon fill=\"green\" stroke=\"green\" stroke-width=\"0.5\" points=\"268.86,-14.56 258.52,-16.88 268.05,-21.52 268.86,-14.56\"/>\n",
       "</g>\n",
       "<!-- &#45;17&#45;&gt;1 -->\n",
       "<g id=\"edge24\" class=\"edge\">\n",
       "<title>&#45;17&#45;&gt;1</title>\n",
       "<path fill=\"none\" stroke=\"green\" stroke-width=\"0.5\" d=\"M456.91,-77.16C450.31,-67.21 438.56,-49.5 429.34,-35.6\"/>\n",
       "<polygon fill=\"green\" stroke=\"green\" stroke-width=\"0.5\" points=\"432.18,-33.54 423.73,-27.14 426.34,-37.41 432.18,-33.54\"/>\n",
       "</g>\n",
       "<!-- &#45;18 -->\n",
       "<g id=\"node18\" class=\"node\">\n",
       "<title>&#45;18</title>\n",
       "<polygon fill=\"lightgray\" stroke=\"black\" points=\"752.01,-159.71 724.01,-159.71 724.01,-142.71 752.01,-142.71 752.01,-159.71\"/>\n",
       "<text text-anchor=\"middle\" x=\"738.01\" y=\"-148.51\" font-family=\"Times,serif\" font-size=\"9.00\">&#45;18</text>\n",
       "</g>\n",
       "<!-- &#45;19 -->\n",
       "<g id=\"node19\" class=\"node\">\n",
       "<title>&#45;19</title>\n",
       "<polygon fill=\"lightgray\" stroke=\"black\" points=\"522.01,-94.35 494.01,-94.35 494.01,-77.35 522.01,-77.35 522.01,-94.35\"/>\n",
       "<text text-anchor=\"middle\" x=\"508.01\" y=\"-83.15\" font-family=\"Times,serif\" font-size=\"9.00\">&#45;19</text>\n",
       "</g>\n",
       "<!-- &#45;19&#45;&gt;0 -->\n",
       "<g id=\"edge25\" class=\"edge\">\n",
       "<title>&#45;19&#45;&gt;0</title>\n",
       "<path fill=\"none\" stroke=\"green\" stroke-width=\"0.5\" d=\"M501.05,-77.16C496.82,-72.94 491.07,-67.97 485.01,-64.99 411.9,-29.01 313.92,-19.17 268.74,-16.49\"/>\n",
       "<polygon fill=\"green\" stroke=\"green\" stroke-width=\"0.5\" points=\"268.85,-12.99 258.68,-15.96 268.48,-19.98 268.85,-12.99\"/>\n",
       "</g>\n",
       "<!-- &#45;19&#45;&gt;1 -->\n",
       "<g id=\"edge26\" class=\"edge\">\n",
       "<title>&#45;19&#45;&gt;1</title>\n",
       "<path fill=\"none\" stroke=\"green\" stroke-width=\"0.5\" d=\"M499.64,-77.31C495.35,-73.52 489.98,-68.91 485.01,-64.99 469.05,-52.42 450.28,-39.04 436.35,-29.36\"/>\n",
       "<polygon fill=\"green\" stroke=\"green\" stroke-width=\"0.5\" points=\"438.19,-26.38 427.97,-23.59 434.21,-32.15 438.19,-26.38\"/>\n",
       "</g>\n",
       "<!-- &#45;20 -->\n",
       "<g id=\"node20\" class=\"node\">\n",
       "<title>&#45;20</title>\n",
       "<polygon fill=\"lightgray\" stroke=\"black\" points=\"758.01,-94.35 730.01,-94.35 730.01,-77.35 758.01,-77.35 758.01,-94.35\"/>\n",
       "<text text-anchor=\"middle\" x=\"744.01\" y=\"-83.15\" font-family=\"Times,serif\" font-size=\"9.00\">&#45;20</text>\n",
       "</g>\n",
       "<!-- &#45;20&#45;&gt;1 -->\n",
       "<g id=\"edge27\" class=\"edge\">\n",
       "<title>&#45;20&#45;&gt;1</title>\n",
       "<path fill=\"none\" stroke=\"green\" stroke-width=\"0.5\" d=\"M737.1,-77.06C732.88,-72.81 727.13,-67.85 721.01,-64.99 624.8,-20.1 495.05,-15.04 441.13,-15.05\"/>\n",
       "<polygon fill=\"green\" stroke=\"green\" stroke-width=\"0.5\" points=\"440.79,-11.55 430.81,-15.12 440.83,-18.55 440.79,-11.55\"/>\n",
       "</g>\n",
       "<!-- 327&#45;&gt;1 -->\n",
       "<g id=\"edge29\" class=\"edge\">\n",
       "<title>327&#45;&gt;1</title>\n",
       "<path fill=\"none\" stroke=\"green\" stroke-width=\"0.5\" d=\"M544.2,-72.97C539.98,-70.2 535.41,-67.37 531.01,-64.99 500.2,-48.33 462.61,-33.03 438.98,-23.98\"/>\n",
       "<polygon fill=\"green\" stroke=\"green\" stroke-width=\"0.5\" points=\"440.07,-20.65 429.48,-20.39 437.6,-27.2 440.07,-20.65\"/>\n",
       "</g>\n",
       "</g>\n",
       "</svg>\n"
      ],
      "text/plain": [
       "<graphviz.dot.Digraph at 0x7f87f84e8750>"
      ]
     },
     "execution_count": 77,
     "metadata": {},
     "output_type": "execute_result"
    }
   ],
   "source": [
    "visualization.plot_stats(wann_clf_cancer.stats_, ylog=False, view=True, xlabel='Generation', ylabel='Accuracy')\n",
    "visualization.draw_net(wann_clf_cancer.config_, wann_clf_cancer.winner_genome_, True)"
   ]
  },
  {
   "cell_type": "code",
   "execution_count": 196,
   "metadata": {},
   "outputs": [],
   "source": [
    "shared_weights = [-3.0, -2.0, -1.5, -1.0, -0.5, 0.0, 0.5, 1.0, 1.5, 2.0, 3.0]\n",
    "fitness_per_weight_cancer = {}\n",
    "for weight in shared_weights:\n",
    "    wann_result = wann_clf_cancer.predict(x_test_cancer, weight)\n",
    "    fitness_per_weight_cancer.update({str(weight): accuracy_score(y_test_cancer, wann_result)})"
   ]
  },
  {
   "cell_type": "markdown",
   "metadata": {},
   "source": [
    "### Wine dataset"
   ]
  },
  {
   "cell_type": "code",
   "execution_count": 100,
   "metadata": {},
   "outputs": [
    {
     "name": "stdout",
     "output_type": "stream",
     "text": [
      "Key: 30593\n",
      "Fitness: 0.9139784946236559\n",
      "Nodes:\n",
      "\t0 DefaultNodeGene(key=0, bias=-0.37619525847367397, response=1.0, activation=abs, aggregation=sum)\n",
      "\t1 DefaultNodeGene(key=1, bias=-0.12515546345199013, response=1.0, activation=abs, aggregation=sum)\n",
      "\t2 DefaultNodeGene(key=2, bias=-0.3960777224999118, response=1.0, activation=abs, aggregation=sum)\n",
      "\t3176 DefaultNodeGene(key=3176, bias=-1.2323429153583014, response=1.0, activation=clamped, aggregation=sum)\n",
      "\t4085 DefaultNodeGene(key=4085, bias=1.4114458386545001, response=1.0, activation=abs, aggregation=sum)\n",
      "\t4923 DefaultNodeGene(key=4923, bias=-0.7602459485805022, response=1.0, activation=sigmoid, aggregation=sum)\n",
      "\t5108 DefaultNodeGene(key=5108, bias=-1.451468244370118, response=1.0, activation=gauss, aggregation=sum)\n",
      "\t5228 DefaultNodeGene(key=5228, bias=-0.9771292902126164, response=1.0, activation=relu, aggregation=sum)\n",
      "Connections:\n",
      "\tDefaultConnectionGene(key=(-13, 0), weight=2.0, enabled=True)\n",
      "\tDefaultConnectionGene(key=(-13, 1), weight=2.0, enabled=True)\n",
      "\tDefaultConnectionGene(key=(-12, 2), weight=2.0, enabled=True)\n",
      "\tDefaultConnectionGene(key=(-12, 4085), weight=2.0, enabled=False)\n",
      "\tDefaultConnectionGene(key=(-12, 5108), weight=2.0, enabled=True)\n",
      "\tDefaultConnectionGene(key=(-11, 2), weight=2.0, enabled=True)\n",
      "\tDefaultConnectionGene(key=(-11, 3176), weight=2.0, enabled=False)\n",
      "\tDefaultConnectionGene(key=(-10, 1), weight=2.0, enabled=True)\n",
      "\tDefaultConnectionGene(key=(-7, 0), weight=2.0, enabled=True)\n",
      "\tDefaultConnectionGene(key=(-5, 1), weight=2.0, enabled=True)\n",
      "\tDefaultConnectionGene(key=(-5, 4923), weight=2.0, enabled=False)\n",
      "\tDefaultConnectionGene(key=(-5, 5228), weight=2.0, enabled=True)\n",
      "\tDefaultConnectionGene(key=(3176, 1), weight=2.0, enabled=True)\n",
      "\tDefaultConnectionGene(key=(3176, 2), weight=2.0, enabled=True)\n",
      "\tDefaultConnectionGene(key=(4085, 0), weight=2.0, enabled=True)\n",
      "\tDefaultConnectionGene(key=(4923, 3176), weight=2.0, enabled=True)\n",
      "\tDefaultConnectionGene(key=(5108, 4085), weight=2.0, enabled=True)\n",
      "\tDefaultConnectionGene(key=(5228, 4923), weight=2.0, enabled=True)\n"
     ]
    },
    {
     "data": {
      "text/plain": [
       "WANNClassifier(activation_default='relu', compatibility_threshold=1.0,\n",
       "               fitness_threshold=0.91, number_of_generations=500,\n",
       "               single_shared_weights=[-2.0, -1.0, -0.5, 0.5, 1.0, 2.0],\n",
       "               statistic_reporter=0)"
      ]
     },
     "execution_count": 100,
     "metadata": {},
     "output_type": "execute_result"
    }
   ],
   "source": [
    "wann_clf_wine = WANNClassifier(single_shared_weights=single_shared_weights,\n",
    "                         fitness_threshold=0.91,\n",
    "                         number_of_generations=500,\n",
    "                         pop_size=150,\n",
    "                         compatibility_threshold=1.0,\n",
    "                         activation_default='relu',\n",
    "                         statistic_reporter = 0)\n",
    "wann_clf_wine.fit(x_train_wine, y_train_wine)"
   ]
  },
  {
   "cell_type": "code",
   "execution_count": 101,
   "metadata": {},
   "outputs": [
    {
     "data": {
      "image/png": "[encoded data removed]",
      "text/plain": [
       "<Figure size 432x288 with 1 Axes>"
      ]
     },
     "metadata": {
      "needs_background": "light"
     },
     "output_type": "display_data"
    },
    {
     "data": {
      "image/svg+xml": [
       "<?xml version=\"1.0\" encoding=\"UTF-8\" standalone=\"no\"?>\n",
       "<!DOCTYPE svg PUBLIC \"-//W3C//DTD SVG 1.1//EN\"\n",
       " \"http://www.w3.org/Graphics/SVG/1.1/DTD/svg11.dtd\">\n",
       "<!-- Generated by graphviz version 2.43.0 (0)\n",
       " -->\n",
       "<!-- Title: %3 Pages: 1 -->\n",
       "<svg width=\"369pt\" height=\"510pt\"\n",
       " viewBox=\"0.00 0.00 369.03 510.41\" xmlns=\"http://www.w3.org/2000/svg\" xmlns:xlink=\"http://www.w3.org/1999/xlink\">\n",
       "<g id=\"graph0\" class=\"graph\" transform=\"scale(1 1) rotate(0) translate(4 506.41)\">\n",
       "<title>%3</title>\n",
       "<polygon fill=\"white\" stroke=\"transparent\" points=\"-4,4 -4,-506.41 365.03,-506.41 365.03,4 -4,4\"/>\n",
       "<!-- &#45;1 -->\n",
       "<g id=\"node1\" class=\"node\">\n",
       "<title>&#45;1</title>\n",
       "<polygon fill=\"lightgray\" stroke=\"black\" points=\"23.75,-502.41 -0.25,-502.41 -0.25,-485.41 23.75,-485.41 23.75,-502.41\"/>\n",
       "<text text-anchor=\"middle\" x=\"11.75\" y=\"-491.21\" font-family=\"Times,serif\" font-size=\"9.00\">&#45;1</text>\n",
       "</g>\n",
       "<!-- &#45;2 -->\n",
       "<g id=\"node2\" class=\"node\">\n",
       "<title>&#45;2</title>\n",
       "<polygon fill=\"lightgray\" stroke=\"black\" points=\"64.75,-502.41 40.75,-502.41 40.75,-485.41 64.75,-485.41 64.75,-502.41\"/>\n",
       "<text text-anchor=\"middle\" x=\"52.75\" y=\"-491.21\" font-family=\"Times,serif\" font-size=\"9.00\">&#45;2</text>\n",
       "</g>\n",
       "<!-- &#45;3 -->\n",
       "<g id=\"node3\" class=\"node\">\n",
       "<title>&#45;3</title>\n",
       "<polygon fill=\"lightgray\" stroke=\"black\" points=\"105.75,-502.41 81.75,-502.41 81.75,-485.41 105.75,-485.41 105.75,-502.41\"/>\n",
       "<text text-anchor=\"middle\" x=\"93.75\" y=\"-491.21\" font-family=\"Times,serif\" font-size=\"9.00\">&#45;3</text>\n",
       "</g>\n",
       "<!-- &#45;4 -->\n",
       "<g id=\"node4\" class=\"node\">\n",
       "<title>&#45;4</title>\n",
       "<polygon fill=\"lightgray\" stroke=\"black\" points=\"146.75,-502.41 122.75,-502.41 122.75,-485.41 146.75,-485.41 146.75,-502.41\"/>\n",
       "<text text-anchor=\"middle\" x=\"134.75\" y=\"-491.21\" font-family=\"Times,serif\" font-size=\"9.00\">&#45;4</text>\n",
       "</g>\n",
       "<!-- &#45;5 -->\n",
       "<g id=\"node5\" class=\"node\">\n",
       "<title>&#45;5</title>\n",
       "<polygon fill=\"lightgray\" stroke=\"black\" points=\"187.75,-502.41 163.75,-502.41 163.75,-485.41 187.75,-485.41 187.75,-502.41\"/>\n",
       "<text text-anchor=\"middle\" x=\"175.75\" y=\"-491.21\" font-family=\"Times,serif\" font-size=\"9.00\">&#45;5</text>\n",
       "</g>\n",
       "<!-- 1 -->\n",
       "<g id=\"node15\" class=\"node\">\n",
       "<title>1</title>\n",
       "<ellipse fill=\"lightblue\" stroke=\"black\" cx=\"170.75\" cy=\"-173.12\" rx=\"14.49\" ry=\"14.49\"/>\n",
       "<text text-anchor=\"middle\" x=\"170.75\" y=\"-170.42\" font-family=\"Times,serif\" font-size=\"9.00\">1</text>\n",
       "</g>\n",
       "<!-- &#45;5&#45;&gt;1 -->\n",
       "<g id=\"edge13\" class=\"edge\">\n",
       "<title>&#45;5&#45;&gt;1</title>\n",
       "<path fill=\"none\" stroke=\"green\" stroke-width=\"0.5\" d=\"M167.96,-485.39C160.12,-477.31 148.41,-463.68 142.75,-449.41 107.17,-359.77 93.41,-324.37 124.75,-233.16 130.39,-216.74 142.67,-201.38 153.12,-190.45\"/>\n",
       "<polygon fill=\"green\" stroke=\"green\" stroke-width=\"0.5\" points=\"155.67,-192.85 160.29,-183.31 150.73,-187.89 155.67,-192.85\"/>\n",
       "</g>\n",
       "<!-- 4923 -->\n",
       "<g id=\"node17\" class=\"node\">\n",
       "<title>4923</title>\n",
       "<ellipse fill=\"white\" stroke=\"black\" cx=\"227.75\" cy=\"-341.28\" rx=\"24.08\" ry=\"24.08\"/>\n",
       "<text text-anchor=\"middle\" x=\"227.75\" y=\"-338.58\" font-family=\"Times,serif\" font-size=\"9.00\">4923</text>\n",
       "</g>\n",
       "<!-- &#45;5&#45;&gt;4923 -->\n",
       "<g id=\"edge11\" class=\"edge\">\n",
       "<title>&#45;5&#45;&gt;4923</title>\n",
       "<path fill=\"none\" stroke=\"green\" stroke-width=\"0.5\" stroke-dasharray=\"1,5\" d=\"M183.34,-485.31C191.01,-477.16 202.6,-463.48 208.75,-449.41 219.02,-425.91 223.75,-397.2 225.91,-375.42\"/>\n",
       "<polygon fill=\"green\" stroke=\"green\" stroke-width=\"0.5\" points=\"229.41,-375.6 226.78,-365.34 222.44,-375 229.41,-375.6\"/>\n",
       "</g>\n",
       "<!-- 5228 -->\n",
       "<g id=\"node19\" class=\"node\">\n",
       "<title>5228</title>\n",
       "<ellipse fill=\"white\" stroke=\"black\" cx=\"175.75\" cy=\"-425.37\" rx=\"24.08\" ry=\"24.08\"/>\n",
       "<text text-anchor=\"middle\" x=\"175.75\" y=\"-422.67\" font-family=\"Times,serif\" font-size=\"9.00\">5228</text>\n",
       "</g>\n",
       "<!-- &#45;5&#45;&gt;5228 -->\n",
       "<g id=\"edge17\" class=\"edge\">\n",
       "<title>&#45;5&#45;&gt;5228</title>\n",
       "<path fill=\"none\" stroke=\"green\" stroke-width=\"0.5\" d=\"M175.75,-485.27C175.75,-478.91 175.75,-469.36 175.75,-459.8\"/>\n",
       "<polygon fill=\"green\" stroke=\"green\" stroke-width=\"0.5\" points=\"179.25,-459.56 175.75,-449.56 172.25,-459.56 179.25,-459.56\"/>\n",
       "</g>\n",
       "<!-- &#45;6 -->\n",
       "<g id=\"node6\" class=\"node\">\n",
       "<title>&#45;6</title>\n",
       "<polygon fill=\"lightgray\" stroke=\"black\" points=\"228.75,-502.41 204.75,-502.41 204.75,-485.41 228.75,-485.41 228.75,-502.41\"/>\n",
       "<text text-anchor=\"middle\" x=\"216.75\" y=\"-491.21\" font-family=\"Times,serif\" font-size=\"9.00\">&#45;6</text>\n",
       "</g>\n",
       "<!-- &#45;7 -->\n",
       "<g id=\"node7\" class=\"node\">\n",
       "<title>&#45;7</title>\n",
       "<polygon fill=\"lightgray\" stroke=\"black\" points=\"193.75,-97.53 169.75,-97.53 169.75,-80.53 193.75,-80.53 193.75,-97.53\"/>\n",
       "<text text-anchor=\"middle\" x=\"181.75\" y=\"-86.33\" font-family=\"Times,serif\" font-size=\"9.00\">&#45;7</text>\n",
       "</g>\n",
       "<!-- 0 -->\n",
       "<g id=\"node14\" class=\"node\">\n",
       "<title>0</title>\n",
       "<ellipse fill=\"lightblue\" stroke=\"black\" cx=\"221.75\" cy=\"-14.5\" rx=\"14.49\" ry=\"14.49\"/>\n",
       "<text text-anchor=\"middle\" x=\"221.75\" y=\"-11.8\" font-family=\"Times,serif\" font-size=\"9.00\">0</text>\n",
       "</g>\n",
       "<!-- &#45;7&#45;&gt;0 -->\n",
       "<g id=\"edge6\" class=\"edge\">\n",
       "<title>&#45;7&#45;&gt;0</title>\n",
       "<path fill=\"none\" stroke=\"green\" stroke-width=\"0.5\" d=\"M186.03,-80.27C191.75,-69.9 202.1,-51.12 210.2,-36.44\"/>\n",
       "<polygon fill=\"green\" stroke=\"green\" stroke-width=\"0.5\" points=\"213.35,-37.97 215.12,-27.52 207.22,-34.59 213.35,-37.97\"/>\n",
       "</g>\n",
       "<!-- &#45;8 -->\n",
       "<g id=\"node8\" class=\"node\">\n",
       "<title>&#45;8</title>\n",
       "<polygon fill=\"lightgray\" stroke=\"black\" points=\"269.75,-502.41 245.75,-502.41 245.75,-485.41 269.75,-485.41 269.75,-502.41\"/>\n",
       "<text text-anchor=\"middle\" x=\"257.75\" y=\"-491.21\" font-family=\"Times,serif\" font-size=\"9.00\">&#45;8</text>\n",
       "</g>\n",
       "<!-- &#45;9 -->\n",
       "<g id=\"node9\" class=\"node\">\n",
       "<title>&#45;9</title>\n",
       "<polygon fill=\"lightgray\" stroke=\"black\" points=\"310.75,-502.41 286.75,-502.41 286.75,-485.41 310.75,-485.41 310.75,-502.41\"/>\n",
       "<text text-anchor=\"middle\" x=\"298.75\" y=\"-491.21\" font-family=\"Times,serif\" font-size=\"9.00\">&#45;9</text>\n",
       "</g>\n",
       "<!-- &#45;10 -->\n",
       "<g id=\"node10\" class=\"node\">\n",
       "<title>&#45;10</title>\n",
       "<polygon fill=\"lightgray\" stroke=\"black\" points=\"161.75,-265.7 133.75,-265.7 133.75,-248.7 161.75,-248.7 161.75,-265.7\"/>\n",
       "<text text-anchor=\"middle\" x=\"147.75\" y=\"-254.5\" font-family=\"Times,serif\" font-size=\"9.00\">&#45;10</text>\n",
       "</g>\n",
       "<!-- &#45;10&#45;&gt;1 -->\n",
       "<g id=\"edge1\" class=\"edge\">\n",
       "<title>&#45;10&#45;&gt;1</title>\n",
       "<path fill=\"none\" stroke=\"green\" stroke-width=\"0.5\" d=\"M149.87,-248.62C153.11,-237.06 159.43,-214.51 164.27,-197.23\"/>\n",
       "<polygon fill=\"green\" stroke=\"green\" stroke-width=\"0.5\" points=\"167.73,-197.88 167.05,-187.3 160.98,-195.99 167.73,-197.88\"/>\n",
       "</g>\n",
       "<!-- &#45;11 -->\n",
       "<g id=\"node11\" class=\"node\">\n",
       "<title>&#45;11</title>\n",
       "<polygon fill=\"lightgray\" stroke=\"black\" points=\"306.42,-349.78 279.08,-349.78 279.08,-332.78 306.42,-332.78 306.42,-349.78\"/>\n",
       "<text text-anchor=\"middle\" x=\"292.75\" y=\"-338.58\" font-family=\"Times,serif\" font-size=\"9.00\">&#45;11</text>\n",
       "</g>\n",
       "<!-- 2 -->\n",
       "<g id=\"node16\" class=\"node\">\n",
       "<title>2</title>\n",
       "<ellipse fill=\"lightblue\" stroke=\"black\" cx=\"267.75\" cy=\"-173.12\" rx=\"14.49\" ry=\"14.49\"/>\n",
       "<text text-anchor=\"middle\" x=\"267.75\" y=\"-170.42\" font-family=\"Times,serif\" font-size=\"9.00\">2</text>\n",
       "</g>\n",
       "<!-- &#45;11&#45;&gt;2 -->\n",
       "<g id=\"edge2\" class=\"edge\">\n",
       "<title>&#45;11&#45;&gt;2</title>\n",
       "<path fill=\"none\" stroke=\"green\" stroke-width=\"0.5\" d=\"M292.45,-332.7C291.66,-315.09 289.14,-270.16 282.75,-233.16 280.67,-221.12 277.41,-207.93 274.47,-197.07\"/>\n",
       "<polygon fill=\"green\" stroke=\"green\" stroke-width=\"0.5\" points=\"277.75,-195.81 271.68,-187.12 271.01,-197.7 277.75,-195.81\"/>\n",
       "</g>\n",
       "<!-- 3176 -->\n",
       "<g id=\"node18\" class=\"node\">\n",
       "<title>3176</title>\n",
       "<ellipse fill=\"white\" stroke=\"black\" cx=\"249.75\" cy=\"-257.2\" rx=\"24.08\" ry=\"24.08\"/>\n",
       "<text text-anchor=\"middle\" x=\"249.75\" y=\"-254.5\" font-family=\"Times,serif\" font-size=\"9.00\">3176</text>\n",
       "</g>\n",
       "<!-- &#45;11&#45;&gt;3176 -->\n",
       "<g id=\"edge7\" class=\"edge\">\n",
       "<title>&#45;11&#45;&gt;3176</title>\n",
       "<path fill=\"none\" stroke=\"green\" stroke-width=\"0.5\" stroke-dasharray=\"1,5\" d=\"M288.78,-332.71C283.46,-322.56 273.72,-303.95 265.29,-287.87\"/>\n",
       "<polygon fill=\"green\" stroke=\"green\" stroke-width=\"0.5\" points=\"268.27,-286.01 260.53,-278.78 262.07,-289.26 268.27,-286.01\"/>\n",
       "</g>\n",
       "<!-- &#45;12 -->\n",
       "<g id=\"node12\" class=\"node\">\n",
       "<title>&#45;12</title>\n",
       "<polygon fill=\"lightgray\" stroke=\"black\" points=\"357.75,-265.7 329.75,-265.7 329.75,-248.7 357.75,-248.7 357.75,-265.7\"/>\n",
       "<text text-anchor=\"middle\" x=\"343.75\" y=\"-254.5\" font-family=\"Times,serif\" font-size=\"9.00\">&#45;12</text>\n",
       "</g>\n",
       "<!-- &#45;12&#45;&gt;2 -->\n",
       "<g id=\"edge3\" class=\"edge\">\n",
       "<title>&#45;12&#45;&gt;2</title>\n",
       "<path fill=\"none\" stroke=\"green\" stroke-width=\"0.5\" d=\"M336.73,-248.62C324.88,-235.82 300.58,-209.57 284.22,-191.91\"/>\n",
       "<polygon fill=\"green\" stroke=\"green\" stroke-width=\"0.5\" points=\"286.7,-189.43 277.34,-184.47 281.56,-194.19 286.7,-189.43\"/>\n",
       "</g>\n",
       "<!-- 4085 -->\n",
       "<g id=\"node20\" class=\"node\">\n",
       "<title>4085</title>\n",
       "<ellipse fill=\"white\" stroke=\"black\" cx=\"324.75\" cy=\"-89.03\" rx=\"24.08\" ry=\"24.08\"/>\n",
       "<text text-anchor=\"middle\" x=\"324.75\" y=\"-86.33\" font-family=\"Times,serif\" font-size=\"9.00\">4085</text>\n",
       "</g>\n",
       "<!-- &#45;12&#45;&gt;4085 -->\n",
       "<g id=\"edge9\" class=\"edge\">\n",
       "<title>&#45;12&#45;&gt;4085</title>\n",
       "<path fill=\"none\" stroke=\"green\" stroke-width=\"0.5\" stroke-dasharray=\"1,5\" d=\"M346.73,-248.54C353.2,-230.79 367.25,-185.56 357.75,-149.07 354.9,-138.14 349.53,-127.08 343.93,-117.54\"/>\n",
       "<polygon fill=\"green\" stroke=\"green\" stroke-width=\"0.5\" points=\"346.83,-115.56 338.58,-108.91 340.88,-119.25 346.83,-115.56\"/>\n",
       "</g>\n",
       "<!-- 5108 -->\n",
       "<g id=\"node21\" class=\"node\">\n",
       "<title>5108</title>\n",
       "<ellipse fill=\"white\" stroke=\"black\" cx=\"324.75\" cy=\"-173.12\" rx=\"24.08\" ry=\"24.08\"/>\n",
       "<text text-anchor=\"middle\" x=\"324.75\" y=\"-170.42\" font-family=\"Times,serif\" font-size=\"9.00\">5108</text>\n",
       "</g>\n",
       "<!-- &#45;12&#45;&gt;5108 -->\n",
       "<g id=\"edge14\" class=\"edge\">\n",
       "<title>&#45;12&#45;&gt;5108</title>\n",
       "<path fill=\"none\" stroke=\"green\" stroke-width=\"0.5\" d=\"M342,-248.62C339.78,-239.05 335.82,-221.97 332.26,-206.57\"/>\n",
       "<polygon fill=\"green\" stroke=\"green\" stroke-width=\"0.5\" points=\"335.66,-205.74 330,-196.79 328.84,-207.32 335.66,-205.74\"/>\n",
       "</g>\n",
       "<!-- &#45;13 -->\n",
       "<g id=\"node13\" class=\"node\">\n",
       "<title>&#45;13</title>\n",
       "<polygon fill=\"lightgray\" stroke=\"black\" points=\"207.75,-265.7 179.75,-265.7 179.75,-248.7 207.75,-248.7 207.75,-265.7\"/>\n",
       "<text text-anchor=\"middle\" x=\"193.75\" y=\"-254.5\" font-family=\"Times,serif\" font-size=\"9.00\">&#45;13</text>\n",
       "</g>\n",
       "<!-- &#45;13&#45;&gt;0 -->\n",
       "<g id=\"edge4\" class=\"edge\">\n",
       "<title>&#45;13&#45;&gt;0</title>\n",
       "<path fill=\"none\" stroke=\"green\" stroke-width=\"0.5\" d=\"M194.65,-248.46C198.4,-216.23 212.86,-91.87 218.99,-39.24\"/>\n",
       "<polygon fill=\"green\" stroke=\"green\" stroke-width=\"0.5\" points=\"222.48,-39.49 220.16,-29.16 215.53,-38.68 222.48,-39.49\"/>\n",
       "</g>\n",
       "<!-- &#45;13&#45;&gt;1 -->\n",
       "<g id=\"edge5\" class=\"edge\">\n",
       "<title>&#45;13&#45;&gt;1</title>\n",
       "<path fill=\"none\" stroke=\"green\" stroke-width=\"0.5\" d=\"M191.63,-248.62C188.38,-237.06 182.07,-214.51 177.23,-197.23\"/>\n",
       "<polygon fill=\"green\" stroke=\"green\" stroke-width=\"0.5\" points=\"180.51,-195.99 174.44,-187.3 173.77,-197.88 180.51,-195.99\"/>\n",
       "</g>\n",
       "<!-- 4923&#45;&gt;3176 -->\n",
       "<g id=\"edge12\" class=\"edge\">\n",
       "<title>4923&#45;&gt;3176</title>\n",
       "<path fill=\"none\" stroke=\"green\" stroke-width=\"0.5\" d=\"M233.76,-317.85C236.04,-309.35 238.68,-299.49 241.15,-290.27\"/>\n",
       "<polygon fill=\"green\" stroke=\"green\" stroke-width=\"0.5\" points=\"244.54,-291.17 243.74,-280.6 237.77,-289.35 244.54,-291.17\"/>\n",
       "</g>\n",
       "<!-- 3176&#45;&gt;1 -->\n",
       "<g id=\"edge16\" class=\"edge\">\n",
       "<title>3176&#45;&gt;1</title>\n",
       "<path fill=\"none\" stroke=\"green\" stroke-width=\"0.5\" d=\"M233.38,-239.19C220.08,-225.37 201.38,-205.95 187.88,-191.92\"/>\n",
       "<polygon fill=\"green\" stroke=\"green\" stroke-width=\"0.5\" points=\"190.07,-189.14 180.61,-184.37 185.03,-194 190.07,-189.14\"/>\n",
       "</g>\n",
       "<!-- 3176&#45;&gt;2 -->\n",
       "<g id=\"edge8\" class=\"edge\">\n",
       "<title>3176&#45;&gt;2</title>\n",
       "<path fill=\"none\" stroke=\"green\" stroke-width=\"0.5\" d=\"M254.76,-233.33C257.22,-222.12 260.18,-208.63 262.65,-197.37\"/>\n",
       "<polygon fill=\"green\" stroke=\"green\" stroke-width=\"0.5\" points=\"266.11,-197.91 264.84,-187.39 259.28,-196.41 266.11,-197.91\"/>\n",
       "</g>\n",
       "<!-- 5228&#45;&gt;4923 -->\n",
       "<g id=\"edge18\" class=\"edge\">\n",
       "<title>5228&#45;&gt;4923</title>\n",
       "<path fill=\"none\" stroke=\"green\" stroke-width=\"0.5\" d=\"M188.34,-404.5C194.79,-394.31 202.76,-381.73 209.84,-370.56\"/>\n",
       "<polygon fill=\"green\" stroke=\"green\" stroke-width=\"0.5\" points=\"212.88,-372.29 215.28,-361.97 206.97,-368.54 212.88,-372.29\"/>\n",
       "</g>\n",
       "<!-- 4085&#45;&gt;0 -->\n",
       "<g id=\"edge10\" class=\"edge\">\n",
       "<title>4085&#45;&gt;0</title>\n",
       "<path fill=\"none\" stroke=\"green\" stroke-width=\"0.5\" d=\"M305.38,-74.39C287.15,-61.55 259.98,-42.42 241.59,-29.47\"/>\n",
       "<polygon fill=\"green\" stroke=\"green\" stroke-width=\"0.5\" points=\"243.55,-26.57 233.35,-23.67 239.52,-32.29 243.55,-26.57\"/>\n",
       "</g>\n",
       "<!-- 5108&#45;&gt;4085 -->\n",
       "<g id=\"edge15\" class=\"edge\">\n",
       "<title>5108&#45;&gt;4085</title>\n",
       "<path fill=\"none\" stroke=\"green\" stroke-width=\"0.5\" d=\"M324.75,-148.81C324.75,-140.86 324.75,-131.81 324.75,-123.23\"/>\n",
       "<polygon fill=\"green\" stroke=\"green\" stroke-width=\"0.5\" points=\"328.25,-123.11 324.75,-113.11 321.25,-123.11 328.25,-123.11\"/>\n",
       "</g>\n",
       "</g>\n",
       "</svg>\n"
      ],
      "text/plain": [
       "<graphviz.dot.Digraph at 0x7f87fc1230d0>"
      ]
     },
     "execution_count": 101,
     "metadata": {},
     "output_type": "execute_result"
    }
   ],
   "source": [
    "visualization.plot_stats(wann_clf_wine.stats_, ylog=False, view=True, xlabel='Generation', ylabel='Accuracy')\n",
    "visualization.draw_net(wann_clf_wine.config_, wann_clf_wine.winner_genome_, True)"
   ]
  },
  {
   "cell_type": "code",
   "execution_count": 194,
   "metadata": {},
   "outputs": [],
   "source": [
    "shared_weights = [-3.0, -2.0, -1.5, -1.0, -0.5, 0.0, 0.5, 1.0, 1.5, 2.0, 3.0]\n",
    "fitness_per_weight_wine = {}\n",
    "for weight in shared_weights:\n",
    "    wann_result = wann_clf_wine.predict(x_test_wine, weight)\n",
    "    fitness_per_weight_wine.update({str(weight): accuracy_score(y_test_wine, wann_result)})"
   ]
  },
  {
   "cell_type": "markdown",
   "metadata": {},
   "source": [
    "### Display fitness (accuracy) by single shared weights for all datasets "
   ]
  },
  {
   "cell_type": "code",
   "execution_count": 198,
   "metadata": {},
   "outputs": [
    {
     "data": {
      "image/png": "[encoded data removed]",
      "text/plain": [
       "<Figure size 720x720 with 3 Axes>"
      ]
     },
     "metadata": {
      "needs_background": "light"
     },
     "output_type": "display_data"
    }
   ],
   "source": [
    "fig, (ax1, ax2, ax3) = plt.subplots(3, figsize=(10,10))\n",
    "ax1.plot(list(fitness_per_weight_iris.keys()), list(fitness_per_weight_iris.values()))\n",
    "ax2.plot(list(fitness_per_weight_cancer.keys()), list(fitness_per_weight_cancer.values()))\n",
    "ax3.plot(list(fitness_per_weight_wine.keys()), list(fitness_per_weight_wine.values()))\n",
    "ax1.set_title('Iris dataset', size =16)\n",
    "ax2.set_title('Breast cancer dataset', size =16)\n",
    "ax3.set_title('Wine dataset', size =16)\n",
    "ax1.set_ylabel('Accuracy')\n",
    "ax2.set_ylabel('Accuracy')\n",
    "ax3.set_ylabel('Accuracy')\n",
    "ax1.set_xlabel('Single shared weight')\n",
    "ax2.set_xlabel('Single shared weight')\n",
    "ax3.set_xlabel('Single shared weight')\n",
    "plt.subplots_adjust(hspace=1)\n",
    "plt.show()"
   ]
  },
  {
   "cell_type": "markdown",
   "metadata": {},
   "source": [
    "We can see that not all weights work well for different tasks. We can also see that the 1.5 and 3.0 weight values were not present in training and the neural networks still performs well with those values."
   ]
  },
  {
   "cell_type": "markdown",
   "metadata": {},
   "source": [
    "# Evaluation of NEAT and WANNs\n",
    "All models were evaulated with accuracy classification score."
   ]
  },
  {
   "cell_type": "code",
   "execution_count": 310,
   "metadata": {},
   "outputs": [],
   "source": [
    "# IRIS\n",
    "iris_accuracy = {'NEAT': [accuracy_score(y_test_iris, neat_result_iris)],\n",
    "                 'WANN':  [accuracy_score(y_test_iris, wann_clf_iris.predict(x_test_iris, 0.5))]\n",
    "                }\n",
    "iris_accuracy_frame = pd.DataFrame(data = iris_accuracy)\n",
    "\n",
    "# Breast cancer\n",
    "cancer_accuracy = {'NEAT': [accuracy_score(y_test_cancer, neat_result_cancer)],\n",
    "                 'WANN':  [accuracy_score(y_test_cancer, wann_clf_cancer.predict(x_test_cancer, -2.0))]\n",
    "                }\n",
    "cancer_accuracy_frame = pd.DataFrame(data = cancer_accuracy)\n",
    "\n",
    "# Wine\n",
    "wine_accuracy = {'NEAT': [accuracy_score(y_test_wine, neat_result_wine)],\n",
    "                 'WANN':  [accuracy_score(y_test_wine, wann_clf_wine.predict(x_test_wine, -2.0))]\n",
    "                }\n",
    "wine_accuracy_frame = pd.DataFrame(data = wine_accuracy)"
   ]
  },
  {
   "cell_type": "markdown",
   "metadata": {},
   "source": [
    "##### Iris dataset "
   ]
  },
  {
   "cell_type": "code",
   "execution_count": 311,
   "metadata": {},
   "outputs": [
    {
     "data": {
      "text/plain": [
       "(0.8, 1.0)"
      ]
     },
     "execution_count": 311,
     "metadata": {},
     "output_type": "execute_result"
    },
    {
     "data": {
      "image/png": "[encoded data removed]",
      "text/plain": [
       "<Figure size 432x288 with 1 Axes>"
      ]
     },
     "metadata": {},
     "output_type": "display_data"
    }
   ],
   "source": [
    "sns.set(style=\"whitegrid\")\n",
    "sns.barplot(data=iris_accuracy_frame)\n",
    "plt.title('Iris dataset', size =16)\n",
    "plt.ylabel('Accuracy')\n",
    "plt.xlabel('Algorithm')\n",
    "plt.ylim(0.80, 1.0)"
   ]
  },
  {
   "cell_type": "code",
   "execution_count": 312,
   "metadata": {},
   "outputs": [
    {
     "name": "stdout",
     "output_type": "stream",
     "text": [
      "                 precision    recall  f1-score   support\n",
      "\n",
      "    Iris-setosa       1.00      1.00      1.00        16\n",
      "Iris-versicolor       1.00      0.89      0.94        18\n",
      " Iris-virginica       0.85      1.00      0.92        11\n",
      "\n",
      "       accuracy                           0.96        45\n",
      "      macro avg       0.95      0.96      0.95        45\n",
      "   weighted avg       0.96      0.96      0.96        45\n",
      "\n"
     ]
    }
   ],
   "source": [
    "# NEAT\n",
    "print(classification_report(y_test_iris, neat_result_iris))"
   ]
  },
  {
   "cell_type": "code",
   "execution_count": 313,
   "metadata": {},
   "outputs": [
    {
     "name": "stdout",
     "output_type": "stream",
     "text": [
      "                 precision    recall  f1-score   support\n",
      "\n",
      "    Iris-setosa       1.00      0.88      0.93        16\n",
      "Iris-versicolor       0.85      0.94      0.89        18\n",
      " Iris-virginica       0.91      0.91      0.91        11\n",
      "\n",
      "       accuracy                           0.91        45\n",
      "      macro avg       0.92      0.91      0.91        45\n",
      "   weighted avg       0.92      0.91      0.91        45\n",
      "\n"
     ]
    }
   ],
   "source": [
    "# WANN\n",
    "print(classification_report(y_test_iris, wann_clf_iris.predict(x_test_iris, 0.5)))"
   ]
  },
  {
   "cell_type": "markdown",
   "metadata": {},
   "source": [
    "##### Breast cancer dataset "
   ]
  },
  {
   "cell_type": "code",
   "execution_count": 314,
   "metadata": {},
   "outputs": [
    {
     "data": {
      "text/plain": [
       "(0.8, 1.0)"
      ]
     },
     "execution_count": 314,
     "metadata": {},
     "output_type": "execute_result"
    },
    {
     "data": {
      "image/png": "[encoded data removed]",
      "text/plain": [
       "<Figure size 432x288 with 1 Axes>"
      ]
     },
     "metadata": {},
     "output_type": "display_data"
    }
   ],
   "source": [
    "sns.set(style=\"whitegrid\")\n",
    "sns.barplot(data=cancer_accuracy_frame)\n",
    "plt.title('Breast cancer dataset', size =16)\n",
    "plt.ylabel('Accuracy')\n",
    "plt.xlabel('Algorithm')\n",
    "plt.ylim(0.80, 1.0)"
   ]
  },
  {
   "cell_type": "code",
   "execution_count": 315,
   "metadata": {},
   "outputs": [
    {
     "name": "stdout",
     "output_type": "stream",
     "text": [
      "              precision    recall  f1-score   support\n",
      "\n",
      "           2       0.98      0.95      0.97       135\n",
      "           4       0.91      0.97      0.94        75\n",
      "\n",
      "    accuracy                           0.96       210\n",
      "   macro avg       0.95      0.96      0.95       210\n",
      "weighted avg       0.96      0.96      0.96       210\n",
      "\n"
     ]
    }
   ],
   "source": [
    "# NEAT\n",
    "print(classification_report(y_test_cancer, neat_result_cancer))"
   ]
  },
  {
   "cell_type": "code",
   "execution_count": 316,
   "metadata": {},
   "outputs": [
    {
     "name": "stdout",
     "output_type": "stream",
     "text": [
      "              precision    recall  f1-score   support\n",
      "\n",
      "           2       0.98      0.90      0.94       135\n",
      "           4       0.85      0.96      0.90        75\n",
      "\n",
      "    accuracy                           0.92       210\n",
      "   macro avg       0.91      0.93      0.92       210\n",
      "weighted avg       0.93      0.92      0.92       210\n",
      "\n"
     ]
    }
   ],
   "source": [
    "# WANN\n",
    "print(classification_report(y_test_cancer, wann_clf_cancer.predict(x_test_cancer, -2.0)))"
   ]
  },
  {
   "cell_type": "markdown",
   "metadata": {},
   "source": [
    "##### Wine dataset "
   ]
  },
  {
   "cell_type": "code",
   "execution_count": 317,
   "metadata": {},
   "outputs": [
    {
     "data": {
      "text/plain": [
       "(0.8, 1.0)"
      ]
     },
     "execution_count": 317,
     "metadata": {},
     "output_type": "execute_result"
    },
    {
     "data": {
      "image/png": "[encoded data removed]",
      "text/plain": [
       "<Figure size 432x288 with 1 Axes>"
      ]
     },
     "metadata": {},
     "output_type": "display_data"
    }
   ],
   "source": [
    "sns.set(style=\"whitegrid\")\n",
    "sns.barplot(data=iris_accuracy_frame)\n",
    "plt.title('Wine dataset', size =16)\n",
    "plt.ylabel('Accuracy')\n",
    "plt.xlabel('Algorithm')\n",
    "plt.ylim(0.80, 1.0)"
   ]
  },
  {
   "cell_type": "code",
   "execution_count": 318,
   "metadata": {},
   "outputs": [
    {
     "name": "stdout",
     "output_type": "stream",
     "text": [
      "              precision    recall  f1-score   support\n",
      "\n",
      "           1       0.90      1.00      0.95        19\n",
      "           2       1.00      0.91      0.95        22\n",
      "           3       1.00      1.00      1.00        13\n",
      "\n",
      "    accuracy                           0.96        54\n",
      "   macro avg       0.97      0.97      0.97        54\n",
      "weighted avg       0.97      0.96      0.96        54\n",
      "\n"
     ]
    }
   ],
   "source": [
    "# NEAT\n",
    "print(classification_report(y_test_wine, neat_result_wine))"
   ]
  },
  {
   "cell_type": "code",
   "execution_count": 319,
   "metadata": {},
   "outputs": [
    {
     "name": "stdout",
     "output_type": "stream",
     "text": [
      "              precision    recall  f1-score   support\n",
      "\n",
      "           1       0.86      1.00      0.93        19\n",
      "           2       1.00      0.82      0.90        22\n",
      "           3       0.93      1.00      0.96        13\n",
      "\n",
      "    accuracy                           0.93        54\n",
      "   macro avg       0.93      0.94      0.93        54\n",
      "weighted avg       0.93      0.93      0.92        54\n",
      "\n"
     ]
    }
   ],
   "source": [
    "# WANN\n",
    "print(classification_report(y_test_wine, wann_clf_wine.predict(x_test_wine, -2.0)))"
   ]
  },
  {
   "cell_type": "markdown",
   "metadata": {},
   "source": [
    "# Summary"
   ]
  },
  {
   "cell_type": "markdown",
   "metadata": {},
   "source": [
    "The implementation of NEAT and WANNs is quite similar since WANNs are based on NEAT with the addition of multi-objective optimization of maximum fitness value, mean fitness value, and the number of connections over single shared weight values. Looking at the results we can see that NEAT can evolve an optimal solution in fewer generations and it can achieve higher accuracy than WANNs since it optimizes the weights and structure of networks simultaneously whereas WANNs optimize only the structure. WANNs can achieve higher than chance accuracy and also in a sense optimize the number of features. This is due to initial populations being sparsely connected networks (Note: this can also be achieved in NEAT by setting the initial_connection parameter to fs_neat_nohidden).\n",
    "The original paper on WANNs conducted experiments on MNIST classification but here we made it compatible with scikit-learn and tried it on more 'data science' type of experiments. "
   ]
  },
  {
   "cell_type": "code",
   "execution_count": null,
   "metadata": {},
   "outputs": [],
   "source": []
  }
 ],
 "metadata": {
  "kernelspec": {
   "display_name": "Python 3",
   "language": "python",
   "name": "python3"
  },
  "language_info": {
   "codemirror_mode": {
    "name": "ipython",
    "version": 3
   },
   "file_extension": ".py",
   "mimetype": "text/x-python",
   "name": "python",
   "nbconvert_exporter": "python",
   "pygments_lexer": "ipython3",
   "version": "3.7.4"
  }
 },
 "nbformat": 4,
 "nbformat_minor": 1
}